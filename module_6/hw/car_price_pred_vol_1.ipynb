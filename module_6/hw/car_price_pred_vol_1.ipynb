{
 "cells": [
  {
   "cell_type": "markdown",
   "metadata": {},
   "source": [
    "# Прогнозирование стоимости автомобиля по характеристикам"
   ]
  },
  {
   "cell_type": "markdown",
   "metadata": {},
   "source": [
    "## Задача - создать модель, которая будет предсказывать стоимость автомобиля по его характеристикам. \n",
    "\n",
    "### Описание признаков\n",
    "ляллялялял"
   ]
  },
  {
   "cell_type": "markdown",
   "metadata": {},
   "source": [
    "## Import"
   ]
  },
  {
   "cell_type": "code",
   "execution_count": 1,
   "metadata": {},
   "outputs": [],
   "source": [
    "from IPython.core.display import display, HTML\n",
    "\n",
    "import pandas as pd\n",
    "import pandas_profiling\n",
    "from pandas_profiling import ProfileReport\n",
    "from pandas import Series\n",
    "import numpy as np\n",
    "from numpy import mean\n",
    "import json\n",
    "\n",
    "from datetime import datetime\n",
    "\n",
    "import matplotlib.pyplot as plt\n",
    "import seaborn as sns \n",
    "%matplotlib inline\n",
    "\n",
    "from sklearn.feature_selection import f_classif, mutual_info_classif, VarianceThreshold, SelectKBest, chi2\n",
    "from sklearn.preprocessing import LabelEncoder, OneHotEncoder, StandardScaler, RobustScaler, MinMaxScaler\n",
    "from sklearn.preprocessing import PolynomialFeatures\n",
    "from sklearn.model_selection import train_test_split, GridSearchCV\n",
    "from sklearn.model_selection import cross_validate\n",
    "from sklearn.model_selection import RandomizedSearchCV\n",
    "from sklearn.model_selection import cross_val_score\n",
    "from sklearn.model_selection import RepeatedStratifiedKFold\n",
    "from sklearn.model_selection import StratifiedShuffleSplit\n",
    "from sklearn.model_selection import KFold\n",
    "from sklearn.linear_model import LinearRegression\n",
    "from sklearn.ensemble import RandomForestRegressor, AdaBoostRegressor, GradientBoostingRegressor, ExtraTreesRegressor\n",
    "from sklearn.tree import DecisionTreeRegressor\n",
    "from sklearn.neighbors import KNeighborsRegressor\n",
    "from catboost import CatBoostRegressor\n",
    "\n",
    "from sklearn.cluster import KMeans, AgglomerativeClustering, DBSCAN, MiniBatchKMeans\n",
    "from sklearn.mixture import GaussianMixture\n",
    "from sklearn.neighbors import kneighbors_graph\n",
    "from scipy.cluster.hierarchy import dendrogram, linkage, fcluster\n",
    "from sklearn.metrics.cluster import completeness_score, v_measure_score\n",
    "\n",
    "from sklearn.metrics import silhouette_score\n",
    "from sklearn.metrics import mean_absolute_error, mean_squared_error, r2_score, mean_absolute_percentage_error\n",
    "\n",
    "from scipy.stats import randint\n",
    "import statsmodels.api as sm\n",
    "\n",
    "from imblearn.pipeline import Pipeline\n",
    "\n",
    "from math import log as log\n",
    "import os\n",
    "\n",
    "from itertools import combinations\n",
    "from scipy.stats import ttest_ind\n",
    "\n",
    "import re"
   ]
  },
  {
   "cell_type": "code",
   "execution_count": 2,
   "metadata": {},
   "outputs": [],
   "source": [
    "import warnings; warnings.simplefilter('ignore')"
   ]
  },
  {
   "cell_type": "code",
   "execution_count": 3,
   "metadata": {},
   "outputs": [],
   "source": [
    "pd.set_option('display.max_columns', None)\n",
    "pd.set_option('display.max_rows', None)"
   ]
  },
  {
   "cell_type": "code",
   "execution_count": 4,
   "metadata": {},
   "outputs": [],
   "source": [
    "RANDOM_SEED = 42"
   ]
  },
  {
   "cell_type": "markdown",
   "metadata": {},
   "source": [
    "## Helpers"
   ]
  },
  {
   "cell_type": "code",
   "execution_count": 5,
   "metadata": {},
   "outputs": [],
   "source": [
    "class OwnershipPeriod():\n",
    "    def __init__(self):\n",
    "        self.pattern = re.compile('((\\d+) (года|год|лет)){0,1}( и ){0,1}((\\d+) (месяц)){0,1}')\n",
    "        \n",
    "    def get_months_from_ownership_period(self, x):\n",
    "        '''Функция для подсчета кол-ва месяцев владения автомобилем, осуществляется через \n",
    "        преобразование кол-ва лет и месяцев в кол-во месяцев.'''\n",
    "        search_res = self.pattern.search(str(x))\n",
    "\n",
    "        years = 0\n",
    "        months = 0\n",
    "\n",
    "        if search_res.group(2):\n",
    "            years = int(search_res.group(2))\n",
    "        if search_res.group(6):\n",
    "            months = int(search_res.group(6))\n",
    "\n",
    "        return years*12 + months"
   ]
  },
  {
   "cell_type": "code",
   "execution_count": 6,
   "metadata": {},
   "outputs": [],
   "source": [
    "def profile_report(df):\n",
    "    '''Функция для вызова профайл-отчета о датафрейме'''\n",
    "    \n",
    "    if df is None:\n",
    "        raise TypeError(nameof(df))\n",
    "\n",
    "    profile = df.profile_report(\n",
    "        title='Car Price prediction',\n",
    "        progress_bar=False,\n",
    "        correlations={\n",
    "            'pearson': {'calculate': True},\n",
    "            'spearman': {'calculate': True},\n",
    "            'kendall': {'calculate': True},\n",
    "            'phi_k': {'calculate': True},\n",
    "            'cramers': {'calculate': True},\n",
    "        },\n",
    "        interactions={\n",
    "            'continuous': True,\n",
    "            'targets': []\n",
    "        },\n",
    "        missing_diagrams={\n",
    "            'heatmap': True,\n",
    "            'dendrogram': True,\n",
    "            'matrix': True\n",
    "        },\n",
    "        vars={\n",
    "            'cat': {'n_obs': 10}\n",
    "        }\n",
    "    )\n",
    "\n",
    "    return profile"
   ]
  },
  {
   "cell_type": "code",
   "execution_count": 7,
   "metadata": {},
   "outputs": [],
   "source": [
    "def asfloat(x, zero_if_none=False):\n",
    "    if x is None or x == '':\n",
    "        if zero_if_none:\n",
    "            return 0\n",
    "        else:\n",
    "            return None\n",
    "    else:\n",
    "        return float(x)    "
   ]
  },
  {
   "cell_type": "code",
   "execution_count": 34,
   "metadata": {},
   "outputs": [],
   "source": [
    "def asdict(x):\n",
    "    if type(x) != str:\n",
    "        return None\n",
    "    \n",
    "    return eval(x.replace('true', 'True').replace('false', 'False'))"
   ]
  },
  {
   "cell_type": "markdown",
   "metadata": {},
   "source": [
    "## Data"
   ]
  },
  {
   "cell_type": "markdown",
   "metadata": {},
   "source": [
    "В рамках задания были предоставлены тестовые данные. Для получения обучающей выборки был произведен парсинг данных с сайта auto.ru. В версии ноутбука на github представлен код для парсинга. В рамках ноутбука на Kaggle загружается готовый датасет без указания кода для парсинга."
   ]
  },
  {
   "cell_type": "code",
   "execution_count": 8,
   "metadata": {},
   "outputs": [],
   "source": [
    "train = pd.read_csv('parsed_data.csv')\n",
    "test = pd.read_csv('test.csv')"
   ]
  },
  {
   "cell_type": "code",
   "execution_count": 9,
   "metadata": {},
   "outputs": [
    {
     "name": "stdout",
     "output_type": "stream",
     "text": [
      "<class 'pandas.core.frame.DataFrame'>\n",
      "RangeIndex: 52055 entries, 0 to 52054\n",
      "Data columns (total 33 columns):\n",
      " #   Column                Non-Null Count  Dtype  \n",
      "---  ------                --------------  -----  \n",
      " 0   bodyType              52055 non-null  object \n",
      " 1   brand                 52055 non-null  object \n",
      " 2   car_url               52055 non-null  object \n",
      " 3   color                 52055 non-null  object \n",
      " 4   complectation_dict    10058 non-null  object \n",
      " 5   description           50321 non-null  object \n",
      " 6   engineDisplacement    52055 non-null  object \n",
      " 7   enginePower           52055 non-null  object \n",
      " 8   equipment_dict        52055 non-null  object \n",
      " 9   fuelType              52055 non-null  object \n",
      " 10  image                 0 non-null      float64\n",
      " 11  mileage               52055 non-null  int64  \n",
      " 12  modelDate             52055 non-null  int64  \n",
      " 13  model_info            52055 non-null  object \n",
      " 14  model_name            52055 non-null  object \n",
      " 15  name                  52055 non-null  object \n",
      " 16  numberOfDoors         52055 non-null  int64  \n",
      " 17  parsing_unixtime      52055 non-null  int64  \n",
      " 18  priceCurrency         52055 non-null  object \n",
      " 19  productionDate        52055 non-null  int64  \n",
      " 20  sell_id               52055 non-null  int64  \n",
      " 21  super_gen             52055 non-null  object \n",
      " 22  vehicleConfiguration  52055 non-null  object \n",
      " 23  vehicleTransmission   52055 non-null  object \n",
      " 24  vendor                52055 non-null  object \n",
      " 25  Владельцы             52055 non-null  object \n",
      " 26  Владение              16619 non-null  object \n",
      " 27  ПТС                   52053 non-null  object \n",
      " 28  Привод                52055 non-null  object \n",
      " 29  Руль                  52055 non-null  object \n",
      " 30  Состояние             52055 non-null  object \n",
      " 31  Таможня               52055 non-null  object \n",
      " 32  price                 52055 non-null  float64\n",
      "dtypes: float64(2), int64(6), object(25)\n",
      "memory usage: 13.1+ MB\n"
     ]
    }
   ],
   "source": [
    "train.info()"
   ]
  },
  {
   "cell_type": "code",
   "execution_count": 10,
   "metadata": {},
   "outputs": [
    {
     "data": {
      "text/plain": [
       "bodyType                    0\n",
       "brand                       0\n",
       "car_url                     0\n",
       "color                       0\n",
       "complectation_dict      41997\n",
       "description              1734\n",
       "engineDisplacement          0\n",
       "enginePower                 0\n",
       "equipment_dict              0\n",
       "fuelType                    0\n",
       "image                   52055\n",
       "mileage                     0\n",
       "modelDate                   0\n",
       "model_info                  0\n",
       "model_name                  0\n",
       "name                        0\n",
       "numberOfDoors               0\n",
       "parsing_unixtime            0\n",
       "priceCurrency               0\n",
       "productionDate              0\n",
       "sell_id                     0\n",
       "super_gen                   0\n",
       "vehicleConfiguration        0\n",
       "vehicleTransmission         0\n",
       "vendor                      0\n",
       "Владельцы                   0\n",
       "Владение                35436\n",
       "ПТС                         2\n",
       "Привод                      0\n",
       "Руль                        0\n",
       "Состояние                   0\n",
       "Таможня                     0\n",
       "price                       0\n",
       "dtype: int64"
      ]
     },
     "execution_count": 10,
     "metadata": {},
     "output_type": "execute_result"
    }
   ],
   "source": [
    "train.isna().sum()"
   ]
  },
  {
   "cell_type": "code",
   "execution_count": 11,
   "metadata": {},
   "outputs": [
    {
     "name": "stdout",
     "output_type": "stream",
     "text": [
      "<class 'pandas.core.frame.DataFrame'>\n",
      "RangeIndex: 34686 entries, 0 to 34685\n",
      "Data columns (total 32 columns):\n",
      " #   Column                Non-Null Count  Dtype \n",
      "---  ------                --------------  ----- \n",
      " 0   bodyType              34686 non-null  object\n",
      " 1   brand                 34686 non-null  object\n",
      " 2   car_url               34686 non-null  object\n",
      " 3   color                 34686 non-null  object\n",
      " 4   complectation_dict    6418 non-null   object\n",
      " 5   description           34686 non-null  object\n",
      " 6   engineDisplacement    34686 non-null  object\n",
      " 7   enginePower           34686 non-null  object\n",
      " 8   equipment_dict        24690 non-null  object\n",
      " 9   fuelType              34686 non-null  object\n",
      " 10  image                 34686 non-null  object\n",
      " 11  mileage               34686 non-null  int64 \n",
      " 12  modelDate             34686 non-null  int64 \n",
      " 13  model_info            34686 non-null  object\n",
      " 14  model_name            34686 non-null  object\n",
      " 15  name                  34686 non-null  object\n",
      " 16  numberOfDoors         34686 non-null  int64 \n",
      " 17  parsing_unixtime      34686 non-null  int64 \n",
      " 18  priceCurrency         34686 non-null  object\n",
      " 19  productionDate        34686 non-null  int64 \n",
      " 20  sell_id               34686 non-null  int64 \n",
      " 21  super_gen             34686 non-null  object\n",
      " 22  vehicleConfiguration  34686 non-null  object\n",
      " 23  vehicleTransmission   34686 non-null  object\n",
      " 24  vendor                34686 non-null  object\n",
      " 25  Владельцы             34686 non-null  object\n",
      " 26  Владение              11995 non-null  object\n",
      " 27  ПТС                   34685 non-null  object\n",
      " 28  Привод                34686 non-null  object\n",
      " 29  Руль                  34686 non-null  object\n",
      " 30  Состояние             34686 non-null  object\n",
      " 31  Таможня               34686 non-null  object\n",
      "dtypes: int64(6), object(26)\n",
      "memory usage: 8.5+ MB\n"
     ]
    }
   ],
   "source": [
    "test.info()"
   ]
  },
  {
   "cell_type": "code",
   "execution_count": 12,
   "metadata": {},
   "outputs": [
    {
     "data": {
      "text/plain": [
       "bodyType                    0\n",
       "brand                       0\n",
       "car_url                     0\n",
       "color                       0\n",
       "complectation_dict      28268\n",
       "description                 0\n",
       "engineDisplacement          0\n",
       "enginePower                 0\n",
       "equipment_dict           9996\n",
       "fuelType                    0\n",
       "image                       0\n",
       "mileage                     0\n",
       "modelDate                   0\n",
       "model_info                  0\n",
       "model_name                  0\n",
       "name                        0\n",
       "numberOfDoors               0\n",
       "parsing_unixtime            0\n",
       "priceCurrency               0\n",
       "productionDate              0\n",
       "sell_id                     0\n",
       "super_gen                   0\n",
       "vehicleConfiguration        0\n",
       "vehicleTransmission         0\n",
       "vendor                      0\n",
       "Владельцы                   0\n",
       "Владение                22691\n",
       "ПТС                         1\n",
       "Привод                      0\n",
       "Руль                        0\n",
       "Состояние                   0\n",
       "Таможня                     0\n",
       "dtype: int64"
      ]
     },
     "execution_count": 12,
     "metadata": {},
     "output_type": "execute_result"
    }
   ],
   "source": [
    "test.isna().sum()"
   ]
  },
  {
   "cell_type": "markdown",
   "metadata": {},
   "source": [
    "## Prepping data"
   ]
  },
  {
   "cell_type": "markdown",
   "metadata": {},
   "source": [
    "Для корректной работы над данными и построения модели, необходимо провести первоначальную обработку имеющихся данных, чтобы наблюдения в тестовой и обучающей выборке были отражены одинаковым образом."
   ]
  },
  {
   "cell_type": "markdown",
   "metadata": {},
   "source": [
    "Посмотрим, есть ли у нас дубликаты в датасетах."
   ]
  },
  {
   "cell_type": "code",
   "execution_count": 13,
   "metadata": {},
   "outputs": [
    {
     "data": {
      "text/plain": [
       "0"
      ]
     },
     "execution_count": 13,
     "metadata": {},
     "output_type": "execute_result"
    }
   ],
   "source": [
    "train['sell_id'].duplicated().sum()"
   ]
  },
  {
   "cell_type": "code",
   "execution_count": 14,
   "metadata": {},
   "outputs": [
    {
     "data": {
      "text/plain": [
       "0"
      ]
     },
     "execution_count": 14,
     "metadata": {},
     "output_type": "execute_result"
    }
   ],
   "source": [
    "test['sell_id'].duplicated().sum()"
   ]
  },
  {
   "cell_type": "markdown",
   "metadata": {},
   "source": [
    "Объединим датасеты для дальнейшей обработки."
   ]
  },
  {
   "cell_type": "code",
   "execution_count": 15,
   "metadata": {},
   "outputs": [],
   "source": [
    "train['sample'] = 1 # помечаем где у нас трейн\n",
    "test['sample'] = 0 # помечаем где у нас тест\n",
    "\n",
    "data = test.append(train, sort=False).reset_index(drop=True) # объединяем"
   ]
  },
  {
   "cell_type": "markdown",
   "metadata": {},
   "source": [
    "Проверим на дубликаты. Нет ли у нас в обучающей выборке наблюдений из тестовой, - иначе модель может работать не корректно."
   ]
  },
  {
   "cell_type": "code",
   "execution_count": 16,
   "metadata": {},
   "outputs": [
    {
     "data": {
      "text/plain": [
       "3544"
      ]
     },
     "execution_count": 16,
     "metadata": {},
     "output_type": "execute_result"
    }
   ],
   "source": [
    "data['sell_id'].duplicated(keep=False).sum()"
   ]
  },
  {
   "cell_type": "code",
   "execution_count": 17,
   "metadata": {},
   "outputs": [
    {
     "data": {
      "text/html": [
       "<div>\n",
       "<style scoped>\n",
       "    .dataframe tbody tr th:only-of-type {\n",
       "        vertical-align: middle;\n",
       "    }\n",
       "\n",
       "    .dataframe tbody tr th {\n",
       "        vertical-align: top;\n",
       "    }\n",
       "\n",
       "    .dataframe thead th {\n",
       "        text-align: right;\n",
       "    }\n",
       "</style>\n",
       "<table border=\"1\" class=\"dataframe\">\n",
       "  <thead>\n",
       "    <tr style=\"text-align: right;\">\n",
       "      <th></th>\n",
       "      <th>bodyType</th>\n",
       "      <th>brand</th>\n",
       "      <th>car_url</th>\n",
       "      <th>color</th>\n",
       "      <th>complectation_dict</th>\n",
       "      <th>description</th>\n",
       "      <th>engineDisplacement</th>\n",
       "      <th>enginePower</th>\n",
       "      <th>equipment_dict</th>\n",
       "      <th>fuelType</th>\n",
       "      <th>image</th>\n",
       "      <th>mileage</th>\n",
       "      <th>modelDate</th>\n",
       "      <th>model_info</th>\n",
       "      <th>model_name</th>\n",
       "      <th>name</th>\n",
       "      <th>numberOfDoors</th>\n",
       "      <th>parsing_unixtime</th>\n",
       "      <th>priceCurrency</th>\n",
       "      <th>productionDate</th>\n",
       "      <th>sell_id</th>\n",
       "      <th>super_gen</th>\n",
       "      <th>vehicleConfiguration</th>\n",
       "      <th>vehicleTransmission</th>\n",
       "      <th>vendor</th>\n",
       "      <th>Владельцы</th>\n",
       "      <th>Владение</th>\n",
       "      <th>ПТС</th>\n",
       "      <th>Привод</th>\n",
       "      <th>Руль</th>\n",
       "      <th>Состояние</th>\n",
       "      <th>Таможня</th>\n",
       "      <th>sample</th>\n",
       "      <th>price</th>\n",
       "    </tr>\n",
       "  </thead>\n",
       "  <tbody>\n",
       "    <tr>\n",
       "      <th>60936</th>\n",
       "      <td>седан</td>\n",
       "      <td>MERCEDES</td>\n",
       "      <td>https://auto.ru/cars/used/sale/mercedes/s_klas...</td>\n",
       "      <td>чёрный</td>\n",
       "      <td>NaN</td>\n",
       "      <td>Mercedes-benz 560 sel произведен известной фир...</td>\n",
       "      <td>5.5 LTR</td>\n",
       "      <td>279 N12</td>\n",
       "      <td>{'cruise-control': True, 'tinted-glass': True,...</td>\n",
       "      <td>бензин</td>\n",
       "      <td>NaN</td>\n",
       "      <td>92000</td>\n",
       "      <td>1985</td>\n",
       "      <td>{'code': 'S_KLASSE', 'name': 'S-Класс', 'ru_na...</td>\n",
       "      <td>S_KLASSE</td>\n",
       "      <td>560 5.6 AT (279 л.с.)</td>\n",
       "      <td>4</td>\n",
       "      <td>1620552949</td>\n",
       "      <td>RUB</td>\n",
       "      <td>1986</td>\n",
       "      <td>2665</td>\n",
       "      <td>{'id': '20470810', 'name': '560', 'nameplate':...</td>\n",
       "      <td>SEDAN AUTOMATIC 5.5 LTR</td>\n",
       "      <td>автоматическая</td>\n",
       "      <td>EUROPEAN</td>\n",
       "      <td>1 владелец</td>\n",
       "      <td>15 лет и 2 месяца</td>\n",
       "      <td>Оригинал</td>\n",
       "      <td>задний</td>\n",
       "      <td>Левый</td>\n",
       "      <td>Не требует ремонта</td>\n",
       "      <td>Растаможен</td>\n",
       "      <td>1</td>\n",
       "      <td>3500000.0</td>\n",
       "    </tr>\n",
       "    <tr>\n",
       "      <th>17153</th>\n",
       "      <td>седан</td>\n",
       "      <td>MERCEDES</td>\n",
       "      <td>https://auto.ru/cars/used/sale/mercedes/s_klas...</td>\n",
       "      <td>чёрный</td>\n",
       "      <td>NaN</td>\n",
       "      <td>Mercedes-benz 560 sel произведен известной фир...</td>\n",
       "      <td>5.6 LTR</td>\n",
       "      <td>279 N12</td>\n",
       "      <td>{\"cruise-control\":true,\"tinted-glass\":true,\"ro...</td>\n",
       "      <td>бензин</td>\n",
       "      <td>https://avatars.mds.yandex.net/get-autoru-vos/...</td>\n",
       "      <td>92000</td>\n",
       "      <td>1985</td>\n",
       "      <td>{\"code\":\"S_KLASSE\",\"name\":\"S-Класс\",\"ru_name\":...</td>\n",
       "      <td>S_KLASSE</td>\n",
       "      <td>560 5.6 AT (279 л.с.)</td>\n",
       "      <td>4</td>\n",
       "      <td>1603246796</td>\n",
       "      <td>RUB</td>\n",
       "      <td>1986</td>\n",
       "      <td>2665</td>\n",
       "      <td>{\"id\":\"20470810\",\"name\":\"560\",\"nameplate\":\"560...</td>\n",
       "      <td>SEDAN AUTOMATIC 5.6</td>\n",
       "      <td>автоматическая</td>\n",
       "      <td>EUROPEAN</td>\n",
       "      <td>1 владелец</td>\n",
       "      <td>14 лет и 7 месяцев</td>\n",
       "      <td>Оригинал</td>\n",
       "      <td>задний</td>\n",
       "      <td>Левый</td>\n",
       "      <td>Не требует ремонта</td>\n",
       "      <td>Растаможен</td>\n",
       "      <td>0</td>\n",
       "      <td>NaN</td>\n",
       "    </tr>\n",
       "    <tr>\n",
       "      <th>36751</th>\n",
       "      <td>универсал 5 дв.</td>\n",
       "      <td>AUDI</td>\n",
       "      <td>https://auto.ru/cars/used/sale/audi/a4/4894588...</td>\n",
       "      <td>серебристый</td>\n",
       "      <td>NaN</td>\n",
       "      <td>Автомобиль в идеальном состоянии. Ездит мало, ...</td>\n",
       "      <td>1.8 LTR</td>\n",
       "      <td>170 N12</td>\n",
       "      <td>{}</td>\n",
       "      <td>бензин</td>\n",
       "      <td>NaN</td>\n",
       "      <td>77000</td>\n",
       "      <td>2011</td>\n",
       "      <td>{'code': 'A4', 'name': 'A4', 'ru_name': 'А4', ...</td>\n",
       "      <td>A4</td>\n",
       "      <td>1.8 CVT (170 л.с.)</td>\n",
       "      <td>5</td>\n",
       "      <td>1620552938</td>\n",
       "      <td>RUB</td>\n",
       "      <td>2013</td>\n",
       "      <td>48945886</td>\n",
       "      <td>{'id': '7765817', 'displacement': 1798, 'engin...</td>\n",
       "      <td>WAGON_5_DOORS VARIATOR 1.8 LTR</td>\n",
       "      <td>вариатор</td>\n",
       "      <td>EUROPEAN</td>\n",
       "      <td>1 владелец</td>\n",
       "      <td>7 лет и 8 месяцев</td>\n",
       "      <td>Оригинал</td>\n",
       "      <td>передний</td>\n",
       "      <td>Левый</td>\n",
       "      <td>Не требует ремонта</td>\n",
       "      <td>Растаможен</td>\n",
       "      <td>1</td>\n",
       "      <td>1290000.0</td>\n",
       "    </tr>\n",
       "    <tr>\n",
       "      <th>3594</th>\n",
       "      <td>универсал 5 дв.</td>\n",
       "      <td>AUDI</td>\n",
       "      <td>https://auto.ru/cars/used/sale/audi/a4/4894588...</td>\n",
       "      <td>серый</td>\n",
       "      <td>NaN</td>\n",
       "      <td>Автомобиль в идеальном состоянии. Продаю потом...</td>\n",
       "      <td>1.8 LTR</td>\n",
       "      <td>170 N12</td>\n",
       "      <td>NaN</td>\n",
       "      <td>бензин</td>\n",
       "      <td>https://avatars.mds.yandex.net/get-autoru-vos/...</td>\n",
       "      <td>77000</td>\n",
       "      <td>2011</td>\n",
       "      <td>{\"code\":\"A4\",\"name\":\"A4\",\"ru_name\":\"А4\",\"morph...</td>\n",
       "      <td>A4</td>\n",
       "      <td>1.8 CVT (170 л.с.)</td>\n",
       "      <td>5</td>\n",
       "      <td>1603126369</td>\n",
       "      <td>RUB</td>\n",
       "      <td>2013</td>\n",
       "      <td>48945886</td>\n",
       "      <td>{\"id\":\"7765817\",\"displacement\":1798,\"engine_ty...</td>\n",
       "      <td>WAGON_5_DOORS VARIATOR 1.8</td>\n",
       "      <td>вариатор</td>\n",
       "      <td>EUROPEAN</td>\n",
       "      <td>1 владелец</td>\n",
       "      <td>7 лет</td>\n",
       "      <td>Оригинал</td>\n",
       "      <td>передний</td>\n",
       "      <td>Левый</td>\n",
       "      <td>Не требует ремонта</td>\n",
       "      <td>Растаможен</td>\n",
       "      <td>0</td>\n",
       "      <td>NaN</td>\n",
       "    </tr>\n",
       "    <tr>\n",
       "      <th>28035</th>\n",
       "      <td>внедорожник 5 дв.</td>\n",
       "      <td>MITSUBISHI</td>\n",
       "      <td>https://auto.ru/cars/used/sale/mitsubishi/outl...</td>\n",
       "      <td>серебристый</td>\n",
       "      <td>NaN</td>\n",
       "      <td>Не битый, не крашенный (ни одна деталь), с по...</td>\n",
       "      <td>2.0 LTR</td>\n",
       "      <td>146 N12</td>\n",
       "      <td>{\"asr\":true,\"tinted-glass\":true,\"esp\":true,\"is...</td>\n",
       "      <td>бензин</td>\n",
       "      <td>https://autoru.naydex.net/mcQh17801/f1b5751dCi...</td>\n",
       "      <td>270000</td>\n",
       "      <td>2012</td>\n",
       "      <td>{\"code\":\"OUTLANDER\",\"name\":\"Outlander\",\"ru_nam...</td>\n",
       "      <td>OUTLANDER</td>\n",
       "      <td>2.0 CVT (146 л.с.) 4WD</td>\n",
       "      <td>5</td>\n",
       "      <td>1603264934</td>\n",
       "      <td>RUB</td>\n",
       "      <td>2012</td>\n",
       "      <td>1003205882</td>\n",
       "      <td>{\"id\":\"8352278\",\"displacement\":1998,\"engine_ty...</td>\n",
       "      <td>ALLROAD_5_DOORS VARIATOR 2.0</td>\n",
       "      <td>вариатор</td>\n",
       "      <td>JAPANESE</td>\n",
       "      <td>1 владелец</td>\n",
       "      <td>7 лет и 7 месяцев</td>\n",
       "      <td>Оригинал</td>\n",
       "      <td>полный</td>\n",
       "      <td>Левый</td>\n",
       "      <td>Не требует ремонта</td>\n",
       "      <td>Растаможен</td>\n",
       "      <td>0</td>\n",
       "      <td>NaN</td>\n",
       "    </tr>\n",
       "    <tr>\n",
       "      <th>65437</th>\n",
       "      <td>внедорожник 5 дв.</td>\n",
       "      <td>MITSUBISHI</td>\n",
       "      <td>https://auto.ru/cars/used/sale/mitsubishi/outl...</td>\n",
       "      <td>серый</td>\n",
       "      <td>NaN</td>\n",
       "      <td>Не битый, не крашенный (ни одна деталь), с по...</td>\n",
       "      <td>2.0 LTR</td>\n",
       "      <td>146 N12</td>\n",
       "      <td>{'asr': True, 'tinted-glass': True, 'esp': Tru...</td>\n",
       "      <td>бензин</td>\n",
       "      <td>NaN</td>\n",
       "      <td>270000</td>\n",
       "      <td>2012</td>\n",
       "      <td>{'code': 'OUTLANDER', 'name': 'Outlander', 'ru...</td>\n",
       "      <td>OUTLANDER</td>\n",
       "      <td>2.0 CVT (146 л.с.) 4WD</td>\n",
       "      <td>5</td>\n",
       "      <td>1620552951</td>\n",
       "      <td>RUB</td>\n",
       "      <td>2012</td>\n",
       "      <td>1003205882</td>\n",
       "      <td>{'id': '8352278', 'displacement': 1998, 'engin...</td>\n",
       "      <td>ALLROAD_5_DOORS VARIATOR 2.0 LTR</td>\n",
       "      <td>вариатор</td>\n",
       "      <td>JAPANESE</td>\n",
       "      <td>1 владелец</td>\n",
       "      <td>8 лет и 3 месяца</td>\n",
       "      <td>Оригинал</td>\n",
       "      <td>полный</td>\n",
       "      <td>Левый</td>\n",
       "      <td>Не требует ремонта</td>\n",
       "      <td>Растаможен</td>\n",
       "      <td>1</td>\n",
       "      <td>980000.0</td>\n",
       "    </tr>\n",
       "  </tbody>\n",
       "</table>\n",
       "</div>"
      ],
      "text/plain": [
       "                bodyType       brand  \\\n",
       "60936              седан    MERCEDES   \n",
       "17153              седан    MERCEDES   \n",
       "36751    универсал 5 дв.        AUDI   \n",
       "3594     универсал 5 дв.        AUDI   \n",
       "28035  внедорожник 5 дв.  MITSUBISHI   \n",
       "65437  внедорожник 5 дв.  MITSUBISHI   \n",
       "\n",
       "                                                 car_url        color  \\\n",
       "60936  https://auto.ru/cars/used/sale/mercedes/s_klas...       чёрный   \n",
       "17153  https://auto.ru/cars/used/sale/mercedes/s_klas...       чёрный   \n",
       "36751  https://auto.ru/cars/used/sale/audi/a4/4894588...  серебристый   \n",
       "3594   https://auto.ru/cars/used/sale/audi/a4/4894588...        серый   \n",
       "28035  https://auto.ru/cars/used/sale/mitsubishi/outl...  серебристый   \n",
       "65437  https://auto.ru/cars/used/sale/mitsubishi/outl...        серый   \n",
       "\n",
       "      complectation_dict                                        description  \\\n",
       "60936                NaN  Mercedes-benz 560 sel произведен известной фир...   \n",
       "17153                NaN  Mercedes-benz 560 sel произведен известной фир...   \n",
       "36751                NaN  Автомобиль в идеальном состоянии. Ездит мало, ...   \n",
       "3594                 NaN  Автомобиль в идеальном состоянии. Продаю потом...   \n",
       "28035                NaN   Не битый, не крашенный (ни одна деталь), с по...   \n",
       "65437                NaN   Не битый, не крашенный (ни одна деталь), с по...   \n",
       "\n",
       "      engineDisplacement enginePower  \\\n",
       "60936            5.5 LTR     279 N12   \n",
       "17153            5.6 LTR     279 N12   \n",
       "36751            1.8 LTR     170 N12   \n",
       "3594             1.8 LTR     170 N12   \n",
       "28035            2.0 LTR     146 N12   \n",
       "65437            2.0 LTR     146 N12   \n",
       "\n",
       "                                          equipment_dict fuelType  \\\n",
       "60936  {'cruise-control': True, 'tinted-glass': True,...   бензин   \n",
       "17153  {\"cruise-control\":true,\"tinted-glass\":true,\"ro...   бензин   \n",
       "36751                                                 {}   бензин   \n",
       "3594                                                 NaN   бензин   \n",
       "28035  {\"asr\":true,\"tinted-glass\":true,\"esp\":true,\"is...   бензин   \n",
       "65437  {'asr': True, 'tinted-glass': True, 'esp': Tru...   бензин   \n",
       "\n",
       "                                                   image  mileage  modelDate  \\\n",
       "60936                                                NaN    92000       1985   \n",
       "17153  https://avatars.mds.yandex.net/get-autoru-vos/...    92000       1985   \n",
       "36751                                                NaN    77000       2011   \n",
       "3594   https://avatars.mds.yandex.net/get-autoru-vos/...    77000       2011   \n",
       "28035  https://autoru.naydex.net/mcQh17801/f1b5751dCi...   270000       2012   \n",
       "65437                                                NaN   270000       2012   \n",
       "\n",
       "                                              model_info model_name  \\\n",
       "60936  {'code': 'S_KLASSE', 'name': 'S-Класс', 'ru_na...   S_KLASSE   \n",
       "17153  {\"code\":\"S_KLASSE\",\"name\":\"S-Класс\",\"ru_name\":...   S_KLASSE   \n",
       "36751  {'code': 'A4', 'name': 'A4', 'ru_name': 'А4', ...         A4   \n",
       "3594   {\"code\":\"A4\",\"name\":\"A4\",\"ru_name\":\"А4\",\"morph...         A4   \n",
       "28035  {\"code\":\"OUTLANDER\",\"name\":\"Outlander\",\"ru_nam...  OUTLANDER   \n",
       "65437  {'code': 'OUTLANDER', 'name': 'Outlander', 'ru...  OUTLANDER   \n",
       "\n",
       "                         name  numberOfDoors  parsing_unixtime priceCurrency  \\\n",
       "60936   560 5.6 AT (279 л.с.)              4        1620552949           RUB   \n",
       "17153   560 5.6 AT (279 л.с.)              4        1603246796           RUB   \n",
       "36751      1.8 CVT (170 л.с.)              5        1620552938           RUB   \n",
       "3594       1.8 CVT (170 л.с.)              5        1603126369           RUB   \n",
       "28035  2.0 CVT (146 л.с.) 4WD              5        1603264934           RUB   \n",
       "65437  2.0 CVT (146 л.с.) 4WD              5        1620552951           RUB   \n",
       "\n",
       "       productionDate     sell_id  \\\n",
       "60936            1986        2665   \n",
       "17153            1986        2665   \n",
       "36751            2013    48945886   \n",
       "3594             2013    48945886   \n",
       "28035            2012  1003205882   \n",
       "65437            2012  1003205882   \n",
       "\n",
       "                                               super_gen  \\\n",
       "60936  {'id': '20470810', 'name': '560', 'nameplate':...   \n",
       "17153  {\"id\":\"20470810\",\"name\":\"560\",\"nameplate\":\"560...   \n",
       "36751  {'id': '7765817', 'displacement': 1798, 'engin...   \n",
       "3594   {\"id\":\"7765817\",\"displacement\":1798,\"engine_ty...   \n",
       "28035  {\"id\":\"8352278\",\"displacement\":1998,\"engine_ty...   \n",
       "65437  {'id': '8352278', 'displacement': 1998, 'engin...   \n",
       "\n",
       "                   vehicleConfiguration vehicleTransmission    vendor  \\\n",
       "60936           SEDAN AUTOMATIC 5.5 LTR      автоматическая  EUROPEAN   \n",
       "17153               SEDAN AUTOMATIC 5.6      автоматическая  EUROPEAN   \n",
       "36751    WAGON_5_DOORS VARIATOR 1.8 LTR            вариатор  EUROPEAN   \n",
       "3594         WAGON_5_DOORS VARIATOR 1.8            вариатор  EUROPEAN   \n",
       "28035      ALLROAD_5_DOORS VARIATOR 2.0            вариатор  JAPANESE   \n",
       "65437  ALLROAD_5_DOORS VARIATOR 2.0 LTR            вариатор  JAPANESE   \n",
       "\n",
       "        Владельцы            Владение       ПТС    Привод   Руль  \\\n",
       "60936  1 владелец   15 лет и 2 месяца  Оригинал    задний  Левый   \n",
       "17153  1 владелец  14 лет и 7 месяцев  Оригинал    задний  Левый   \n",
       "36751  1 владелец   7 лет и 8 месяцев  Оригинал  передний  Левый   \n",
       "3594   1 владелец               7 лет  Оригинал  передний  Левый   \n",
       "28035  1 владелец   7 лет и 7 месяцев  Оригинал    полный  Левый   \n",
       "65437  1 владелец    8 лет и 3 месяца  Оригинал    полный  Левый   \n",
       "\n",
       "                Состояние     Таможня  sample      price  \n",
       "60936  Не требует ремонта  Растаможен       1  3500000.0  \n",
       "17153  Не требует ремонта  Растаможен       0        NaN  \n",
       "36751  Не требует ремонта  Растаможен       1  1290000.0  \n",
       "3594   Не требует ремонта  Растаможен       0        NaN  \n",
       "28035  Не требует ремонта  Растаможен       0        NaN  \n",
       "65437  Не требует ремонта  Растаможен       1   980000.0  "
      ]
     },
     "execution_count": 17,
     "metadata": {},
     "output_type": "execute_result"
    }
   ],
   "source": [
    "data[data.sell_id.duplicated(keep=False)].sort_values(['sell_id']).head(6)"
   ]
  },
  {
   "cell_type": "markdown",
   "metadata": {},
   "source": [
    "Такие наблюдения у нас есть. Удалим дубликаты пришедшие из обучающей выборки."
   ]
  },
  {
   "cell_type": "code",
   "execution_count": 18,
   "metadata": {},
   "outputs": [],
   "source": [
    "data = data.drop_duplicates(subset=['sell_id'], keep='first')"
   ]
  },
  {
   "cell_type": "code",
   "execution_count": 19,
   "metadata": {},
   "outputs": [],
   "source": [
    "# Переимунуем колонки\n",
    "data.rename(columns={\n",
    "    'Владельцы': 'owners_number', \n",
    "    'Владение': 'ownership_period',\n",
    "    'ПТС': 'pts', \n",
    "    'Привод': 'gear_type',\n",
    "    'Руль': 'steering_wheel', \n",
    "    'Состояние': 'state', \n",
    "    'Таможня': 'custom_cleared'\n",
    "}, inplace=True)"
   ]
  },
  {
   "cell_type": "code",
   "execution_count": 20,
   "metadata": {},
   "outputs": [],
   "source": [
    "# Преобразуем значения в колонке steering_wheel\n",
    "data['steering_wheel'] = data['steering_wheel'].apply(lambda x: 1 if x == 'Левый' else 0).astype('int8')"
   ]
  },
  {
   "cell_type": "code",
   "execution_count": 21,
   "metadata": {},
   "outputs": [],
   "source": [
    "# Преобразуем значения в колонке pts\n",
    "data['pts'] = data['pts'].apply(lambda x: 1 if x == 'Оригинал' else 0).astype('int8')"
   ]
  },
  {
   "cell_type": "code",
   "execution_count": 22,
   "metadata": {},
   "outputs": [],
   "source": [
    "# Преобразуем значения в колонке bodyType\n",
    "data['bodyType'] = data['bodyType'].apply(lambda x: x.split(' ')[0])"
   ]
  },
  {
   "cell_type": "code",
   "execution_count": 23,
   "metadata": {},
   "outputs": [],
   "source": [
    "# Преобразуем значения в колонке engineDisplacement\n",
    "# заменим пустые значения на 0, так как, судя по данным, они все относятся к электрокарам\n",
    "data['engineDisplacement'] = data['engineDisplacement'].apply(lambda x: asfloat(x[:-4], zero_if_none=True)).astype('float32')"
   ]
  },
  {
   "cell_type": "code",
   "execution_count": 24,
   "metadata": {},
   "outputs": [],
   "source": [
    "# Преобразуем значения в колонке enginePower\n",
    "data['enginePower'] = data['enginePower'].apply(lambda x: int(x[:-4])).astype('int32')"
   ]
  },
  {
   "cell_type": "code",
   "execution_count": 25,
   "metadata": {},
   "outputs": [],
   "source": [
    "# Преобразуем значения в колонке owners_number\n",
    "data['owners_number'] = data['owners_number'].apply(lambda x: int(x[0])).astype('int32')"
   ]
  },
  {
   "cell_type": "code",
   "execution_count": 26,
   "metadata": {},
   "outputs": [],
   "source": [
    "# Преобразуем значения в колонке ownership_period - переведем все в кол-во месяцев\n",
    "ownership_processor = OwnershipPeriod()\n",
    "\n",
    "data['ownership_period'] = data['ownership_period'].apply(ownership_processor.get_months_from_ownership_period).astype('int32')"
   ]
  },
  {
   "cell_type": "markdown",
   "metadata": {},
   "source": [
    "Далее преобразуем строковые величины в виде словарей в словари. Далее, возможно, возьмем оттуда информацию для улучшения точности модели. Из признака super_gen сразу возьмем значения расхода топлива и разгона."
   ]
  },
  {
   "cell_type": "code",
   "execution_count": 27,
   "metadata": {},
   "outputs": [],
   "source": [
    "# super_gen\n",
    "data['super_gen'] = data['super_gen'].apply(lambda x: eval(x))\n",
    "\n",
    "data['fuel_rate'] = data['super_gen'].apply(lambda x: x['fuel_rate'] if 'fuel_rate' in x.keys() else 0)\n",
    "data['acceleration'] = data['super_gen'].apply(lambda x: x['acceleration'] if 'acceleration' in x.keys() else 0)"
   ]
  },
  {
   "cell_type": "code",
   "execution_count": 31,
   "metadata": {},
   "outputs": [],
   "source": [
    "# equipment_dict\n",
    "data['equipment_dict'] = data['equipment_dict'].apply(asdict)"
   ]
  },
  {
   "cell_type": "code",
   "execution_count": 35,
   "metadata": {},
   "outputs": [],
   "source": [
    "# complectation_dict\n",
    "data['complectation_dict'] = data['complectation_dict'].apply(asdict)"
   ]
  },
  {
   "cell_type": "markdown",
   "metadata": {},
   "source": [
    "Удалим признаки, которые не несут для нас необходимой информации или дублируют то, что у нас уже представлено в других признаках."
   ]
  },
  {
   "cell_type": "code",
   "execution_count": 37,
   "metadata": {},
   "outputs": [],
   "source": [
    "data.drop(columns=[\n",
    "    'name', \n",
    "    'model_info', \n",
    "    'image', \n",
    "    'vehicleConfiguration', \n",
    "    'car_url', \n",
    "    'parsing_unixtime',\n",
    "    'priceCurrency', \n",
    "    'super_gen', \n",
    "    'state', \n",
    "    'custom_cleared'\n",
    "], inplace=True)"
   ]
  },
  {
   "cell_type": "code",
   "execution_count": 38,
   "metadata": {},
   "outputs": [],
   "source": [
    "# Подготовим данные для осмотра в HTML формате, ссылка на данные будет ниже\n",
    "\n",
    "data_profile = profile_report(data)\n",
    "data_profile.to_file('output.html')"
   ]
  },
  {
   "cell_type": "markdown",
   "metadata": {},
   "source": [
    "# !!! Я дошел до эотго места !!!"
   ]
  },
  {
   "cell_type": "markdown",
   "metadata": {},
   "source": [
    "## Data Inspection"
   ]
  },
  {
   "cell_type": "code",
   "execution_count": null,
   "metadata": {},
   "outputs": [],
   "source": [
    "# По желанию, профайл можно посмотреть внутри ноутбука.\n",
    "\n",
    "# pandas_profiling.ProfileReport(data)"
   ]
  },
  {
   "cell_type": "markdown",
   "metadata": {},
   "source": [
    "#### Ссылка на профайл **[the dataset profile report](./output.html)**."
   ]
  },
  {
   "cell_type": "markdown",
   "metadata": {},
   "source": [
    "### На основании профайлинга можем видеть следующее:\n",
    "\n",
    "1. "
   ]
  },
  {
   "cell_type": "markdown",
   "metadata": {},
   "source": [
    "Маленький эксперимент"
   ]
  },
  {
   "cell_type": "code",
   "execution_count": null,
   "metadata": {},
   "outputs": [],
   "source": [
    "le = LabelEncoder()\n",
    "\n",
    "data['bodyType'] = le.fit_transform(data['bodyType'])\n",
    "data['brand'] = le.fit_transform(data['brand'])\n",
    "data['color'] = le.fit_transform(data['color'])\n",
    "data['fuelType'] = le.fit_transform(data['fuelType'])\n",
    "data['model_name'] = le.fit_transform(data['model_name'])\n",
    "data['vehicleTransmission'] = le.fit_transform(data['vehicleTransmission'])\n",
    "data['vendor'] = le.fit_transform(data['vendor'])\n",
    "data['gear_type'] = le.fit_transform(data['gear_type'])"
   ]
  },
  {
   "cell_type": "code",
   "execution_count": null,
   "metadata": {},
   "outputs": [],
   "source": [
    "data.info()"
   ]
  },
  {
   "cell_type": "code",
   "execution_count": null,
   "metadata": {},
   "outputs": [],
   "source": [
    "train_data = data.query('sample == 1').drop(['sample', 'complectation_dict', 'description', 'equipment_dict'], axis=1)"
   ]
  },
  {
   "cell_type": "code",
   "execution_count": null,
   "metadata": {},
   "outputs": [],
   "source": [
    "train_data = train_data.dropna()"
   ]
  },
  {
   "cell_type": "code",
   "execution_count": null,
   "metadata": {},
   "outputs": [],
   "source": [
    "X = train_data.drop(['price'], axis=1)\n",
    "y = train_data['price']"
   ]
  },
  {
   "cell_type": "code",
   "execution_count": null,
   "metadata": {},
   "outputs": [],
   "source": [
    "scaler = StandardScaler()\n",
    "X = scaler.fit_transform(X)"
   ]
  },
  {
   "cell_type": "code",
   "execution_count": null,
   "metadata": {},
   "outputs": [],
   "source": [
    "X_train, X_test, y_train, y_test = train_test_split(X, y, test_size=0.3, shuffle=True, random_state=RANDOM_SEED)"
   ]
  },
  {
   "cell_type": "code",
   "execution_count": null,
   "metadata": {},
   "outputs": [],
   "source": [
    "model = CatBoostRegressor(iterations = 5000,\n",
    "                          random_seed = RANDOM_SEED,\n",
    "                          eval_metric='MAPE',\n",
    "                          custom_metric=['R2', 'MAE'],\n",
    "                          silent=True,\n",
    "                         )\n",
    "model.fit(X_train, y_train,\n",
    "         #cat_features=cat_features_ids,\n",
    "         eval_set=(X_test, y_test),\n",
    "         verbose_eval=0,\n",
    "         use_best_model=True,\n",
    "         #plot=True\n",
    "         )\n",
    "\n",
    "model.save_model('catboost_single_model_baseline.model')"
   ]
  },
  {
   "cell_type": "code",
   "execution_count": null,
   "metadata": {},
   "outputs": [],
   "source": [
    "# оцениваем точность\n",
    "predict = model.predict(X_test)\n",
    "print(f\"Точность модели по метрике MAPE: {(mean_absolute_percentage_error(y_test, predict))*100:0.2f}%\")"
   ]
  },
  {
   "cell_type": "code",
   "execution_count": null,
   "metadata": {},
   "outputs": [],
   "source": []
  }
 ],
 "metadata": {
  "kernelspec": {
   "display_name": "Python 3",
   "language": "python",
   "name": "python3"
  },
  "language_info": {
   "codemirror_mode": {
    "name": "ipython",
    "version": 3
   },
   "file_extension": ".py",
   "mimetype": "text/x-python",
   "name": "python",
   "nbconvert_exporter": "python",
   "pygments_lexer": "ipython3",
   "version": "3.8.5"
  }
 },
 "nbformat": 4,
 "nbformat_minor": 4
}
