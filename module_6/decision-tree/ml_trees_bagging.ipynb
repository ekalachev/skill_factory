{
 "cells": [
  {
   "cell_type": "markdown",
   "id": "c4ea2fc7",
   "metadata": {},
   "source": [
    "# БЭГГИНГ (BAGGING, BOOTSTRAP AGGREGATING)\n",
    "\n",
    "<span style=\"font-family:Papyrus; font-size:1.5em;\">АНСАМБЛЬ МОДЕЛЕЙ (БЭГГИНГ)</span>\n",
    "\n",
    "Bagging — это параллельный способ построения ансамбля. Коротко о способе построения:\n",
    "\n",
    "- Обучающая выборка сэмплируется  раз с помощью bootstrap (выбор с возвращением).\n",
    "- На каждом сэмпле обучается отдельная базовая модель.\n",
    "- Ответы моделей усредняются (возможно, с весами).\n",
    "\n",
    "Необходимость бэггинга может возникнуть тогда, когда вы уже нашли хорошую модель, и никак больше не можете повысить ее качество. В этом случае можно перейти к более продвинутой истории: использовать не одну модель (пусть и очень хорошую!), а ансамбли моделей. Под термином ансамбли понимается ряд продвинутых техник машинного обучения, о которых мы поговорим далее.\n",
    "\n",
    "> ## ПРИМЕР: ТЕОРЕМА КОНДОРСА\n",
    "Проиллюстрируем идею ансамблей на известном примере — теореме Кондорса о жюри присяжных, которая датируется аж 1784 годом!\n",
    ">\n",
    "> Представим, что у нас есть несколько членов жюри, мнение каждого из них независимо от мнения других. Мы не знаем, какая вероятность принятия верного решения у каждого члена жюри. Однако мы понимаем, что если вероятность принять правильное решение у какого-то члена жюри больше, чем , то и общая вероятность принять верное решение возрастает. И наоборот, если вероятность принять правильное решение у какого-то члена жюри меньше, чем , то общая вероятность принять верное решение падает.\n",
    "\n",
    "## БЭГГИНГ (BAGGING, BOOTSTRAP AGGREGATING)\n",
    "\n",
    "Цель бэггинга заключается в том, чтобы создать ансамбль из нескольких моделей. Такая ансамблевая модель будет надежнее, чем составляющие ее части.\n",
    "\n",
    "В основе бэггинга лежит статистический метод, который называется бутстрэпом (bootstrap). Идея бутстрэпа заключается в генерации выборок размера **B** (так называемых бутстрэп-выборок) из исходного датасета размера **N** путем случайного выбора элементов с повторениями в каждом из наблюдений **B**.\n",
    "\n",
    "Рассмотрим идею бутстрэпа на элементарном примере.\n",
    "\n",
    "Пусть у нас есть выборка из **12** элементов. Тогда мы можем из нее выбирать различные выборки из нового количества элементов (в данном случае из 5). При этом, если мы использовали какой-то объект, то мы можем использовать его снова. Таким образом, мы можем из одной выборки получить множество новых.\n",
    "\n",
    "![bagging](./../img/bagging1.png)\n",
    "\n",
    "При некотором приближении можно считать, что получающиеся выборки являются независимыми и репрезентативными.\n",
    "\n",
    "Такие бутстрэп-выборки часто используются для оценки различных статистических показателей (например, разброса или доверительного интервала). Если вычислять статистические оценки на нескольких независимых выборках, то мы можем оценить их разброс. Поиск большого количества независимых выборок сложен в силу того, что для этого требуется слишком много данных. Поэтому мы используем бутстрэп, чтобы создать несколько выборок, которые являются независимыми и репрезентативными (но, опять же, стоит отметить, что такими их можно считать только при нескольких допущениях).\n",
    "\n",
    "Перейдем к понятию бэггинга. При построении моделей всегда присутствует вероятность, что при обучении на других данных мы получили бы другие результаты. Для того, чтобы нивелировать такую вероятность, можно использовать бэггинг. \n",
    "\n",
    "Его идея состоит в том, что мы берем несколько независимых моделей и усредняем полученные по ним результаты. Таким образом, мы получаем модель, имеющую меньший разброс, так как при ее построении мы учли несколько моделей. Как уже было сказано, в реальности получить много независимых выборок слишком сложно в силу того, что найти столько данных обычно не представляется возможным. Поэтому мы используем бутстрэп-выборки. \n",
    "\n",
    "> Важно отметить, что при бэггинге размер каждой бутстрэп-выборки должен совпадать с размером исходной выборки.\n",
    "\n",
    "## RANDOM SUBSPACES (RSS)\n",
    "\n",
    "Для построения набора различных моделей используется также метод выбора случайных подвыборок признаков Random Subspaces. Метод обеспечивает устойчивость алгоритма к набору доступных признаков."
   ]
  },
  {
   "cell_type": "markdown",
   "id": "ad367317",
   "metadata": {},
   "source": [
    "## ЗАДАЧА О ВИНАХ\n",
    "Реализуем бэггинг для деревьев решений. Для тренировки будем использовать датасет о винах. \n",
    "\n",
    "<div style=\"text-align: center;\">\n",
    "    <img src=\"./../img/wine.png\" style=\"width: 300px;\"/>\n",
    "</div>\n",
    "\n",
    "Датасет можно скачать [здесь winequality-red.csv](./../data).\n",
    "\n",
    "Для начала подготовим данные к классификации. Условно разделим вино на хорошее и нет. Хорошим вином будем называть вино, параметр quality которого не менее 6.\n",
    "\n",
    "Теперь сравним несколько методов классификации: логистическую регрессию, решающее дерево и бэггинг.\n",
    "\n",
    "Разбейте выборку на обучающую и тренировочную с параметрами `test_size=0.30, random_state=42`.\n",
    "\n",
    "Обучите два классификатора: логистическую регрессию (с дефолтными параметрами) и решающее дерево (`random_state=42`, максимальная глубина равна `10`)."
   ]
  },
  {
   "cell_type": "code",
   "execution_count": 1,
   "id": "7e731ac0",
   "metadata": {},
   "outputs": [],
   "source": [
    "import pandas as pd\n",
    "import numpy as np\n",
    "\n",
    "from sklearn import model_selection, datasets, metrics, tree, ensemble, linear_model"
   ]
  },
  {
   "cell_type": "code",
   "execution_count": 2,
   "id": "b759432a",
   "metadata": {},
   "outputs": [],
   "source": [
    "%run ./../model_inspector.ipynb"
   ]
  },
  {
   "cell_type": "code",
   "execution_count": 3,
   "id": "7601f24e",
   "metadata": {},
   "outputs": [],
   "source": [
    "import warnings; warnings.simplefilter('ignore')"
   ]
  },
  {
   "cell_type": "code",
   "execution_count": 4,
   "id": "46f19cae",
   "metadata": {},
   "outputs": [],
   "source": [
    "wine_df = pd.read_csv('./../data/winequality-red.csv', sep=';')"
   ]
  },
  {
   "cell_type": "code",
   "execution_count": 5,
   "id": "a199bde1",
   "metadata": {},
   "outputs": [
    {
     "data": {
      "text/html": [
       "<div>\n",
       "<style scoped>\n",
       "    .dataframe tbody tr th:only-of-type {\n",
       "        vertical-align: middle;\n",
       "    }\n",
       "\n",
       "    .dataframe tbody tr th {\n",
       "        vertical-align: top;\n",
       "    }\n",
       "\n",
       "    .dataframe thead th {\n",
       "        text-align: right;\n",
       "    }\n",
       "</style>\n",
       "<table border=\"1\" class=\"dataframe\">\n",
       "  <thead>\n",
       "    <tr style=\"text-align: right;\">\n",
       "      <th></th>\n",
       "      <th>fixed acidity</th>\n",
       "      <th>volatile acidity</th>\n",
       "      <th>citric acid</th>\n",
       "      <th>residual sugar</th>\n",
       "      <th>chlorides</th>\n",
       "      <th>free sulfur dioxide</th>\n",
       "      <th>total sulfur dioxide</th>\n",
       "      <th>density</th>\n",
       "      <th>pH</th>\n",
       "      <th>sulphates</th>\n",
       "      <th>alcohol</th>\n",
       "      <th>quality</th>\n",
       "    </tr>\n",
       "  </thead>\n",
       "  <tbody>\n",
       "    <tr>\n",
       "      <th>1103</th>\n",
       "      <td>7.4</td>\n",
       "      <td>0.49</td>\n",
       "      <td>0.27</td>\n",
       "      <td>2.1</td>\n",
       "      <td>0.071</td>\n",
       "      <td>14.0</td>\n",
       "      <td>25.0</td>\n",
       "      <td>0.99388</td>\n",
       "      <td>3.35</td>\n",
       "      <td>0.63</td>\n",
       "      <td>12.0</td>\n",
       "      <td>6</td>\n",
       "    </tr>\n",
       "    <tr>\n",
       "      <th>480</th>\n",
       "      <td>10.6</td>\n",
       "      <td>0.28</td>\n",
       "      <td>0.39</td>\n",
       "      <td>15.5</td>\n",
       "      <td>0.069</td>\n",
       "      <td>6.0</td>\n",
       "      <td>23.0</td>\n",
       "      <td>1.00260</td>\n",
       "      <td>3.12</td>\n",
       "      <td>0.66</td>\n",
       "      <td>9.2</td>\n",
       "      <td>5</td>\n",
       "    </tr>\n",
       "    <tr>\n",
       "      <th>1343</th>\n",
       "      <td>7.5</td>\n",
       "      <td>0.51</td>\n",
       "      <td>0.02</td>\n",
       "      <td>1.7</td>\n",
       "      <td>0.084</td>\n",
       "      <td>13.0</td>\n",
       "      <td>31.0</td>\n",
       "      <td>0.99538</td>\n",
       "      <td>3.36</td>\n",
       "      <td>0.54</td>\n",
       "      <td>10.5</td>\n",
       "      <td>6</td>\n",
       "    </tr>\n",
       "    <tr>\n",
       "      <th>1104</th>\n",
       "      <td>8.0</td>\n",
       "      <td>0.48</td>\n",
       "      <td>0.34</td>\n",
       "      <td>2.2</td>\n",
       "      <td>0.073</td>\n",
       "      <td>16.0</td>\n",
       "      <td>25.0</td>\n",
       "      <td>0.99360</td>\n",
       "      <td>3.28</td>\n",
       "      <td>0.66</td>\n",
       "      <td>12.4</td>\n",
       "      <td>6</td>\n",
       "    </tr>\n",
       "    <tr>\n",
       "      <th>793</th>\n",
       "      <td>7.7</td>\n",
       "      <td>0.60</td>\n",
       "      <td>0.00</td>\n",
       "      <td>2.6</td>\n",
       "      <td>0.055</td>\n",
       "      <td>7.0</td>\n",
       "      <td>13.0</td>\n",
       "      <td>0.99639</td>\n",
       "      <td>3.38</td>\n",
       "      <td>0.56</td>\n",
       "      <td>10.8</td>\n",
       "      <td>5</td>\n",
       "    </tr>\n",
       "  </tbody>\n",
       "</table>\n",
       "</div>"
      ],
      "text/plain": [
       "      fixed acidity  volatile acidity  citric acid  residual sugar  chlorides  \\\n",
       "1103            7.4              0.49         0.27             2.1      0.071   \n",
       "480            10.6              0.28         0.39            15.5      0.069   \n",
       "1343            7.5              0.51         0.02             1.7      0.084   \n",
       "1104            8.0              0.48         0.34             2.2      0.073   \n",
       "793             7.7              0.60         0.00             2.6      0.055   \n",
       "\n",
       "      free sulfur dioxide  total sulfur dioxide  density    pH  sulphates  \\\n",
       "1103                 14.0                  25.0  0.99388  3.35       0.63   \n",
       "480                   6.0                  23.0  1.00260  3.12       0.66   \n",
       "1343                 13.0                  31.0  0.99538  3.36       0.54   \n",
       "1104                 16.0                  25.0  0.99360  3.28       0.66   \n",
       "793                   7.0                  13.0  0.99639  3.38       0.56   \n",
       "\n",
       "      alcohol  quality  \n",
       "1103     12.0        6  \n",
       "480       9.2        5  \n",
       "1343     10.5        6  \n",
       "1104     12.4        6  \n",
       "793      10.8        5  "
      ]
     },
     "execution_count": 5,
     "metadata": {},
     "output_type": "execute_result"
    }
   ],
   "source": [
    "wine_df.sample(5)"
   ]
  },
  {
   "cell_type": "code",
   "execution_count": 6,
   "id": "2a2184c2",
   "metadata": {},
   "outputs": [],
   "source": [
    "wine_df['quality'] = wine_df['quality'].apply(lambda x: 0 if x < 6 else 1)"
   ]
  },
  {
   "cell_type": "code",
   "execution_count": 7,
   "id": "ec088556",
   "metadata": {},
   "outputs": [
    {
     "data": {
      "text/html": [
       "<div>\n",
       "<style scoped>\n",
       "    .dataframe tbody tr th:only-of-type {\n",
       "        vertical-align: middle;\n",
       "    }\n",
       "\n",
       "    .dataframe tbody tr th {\n",
       "        vertical-align: top;\n",
       "    }\n",
       "\n",
       "    .dataframe thead th {\n",
       "        text-align: right;\n",
       "    }\n",
       "</style>\n",
       "<table border=\"1\" class=\"dataframe\">\n",
       "  <thead>\n",
       "    <tr style=\"text-align: right;\">\n",
       "      <th></th>\n",
       "      <th>fixed acidity</th>\n",
       "      <th>volatile acidity</th>\n",
       "      <th>citric acid</th>\n",
       "      <th>residual sugar</th>\n",
       "      <th>chlorides</th>\n",
       "      <th>free sulfur dioxide</th>\n",
       "      <th>total sulfur dioxide</th>\n",
       "      <th>density</th>\n",
       "      <th>pH</th>\n",
       "      <th>sulphates</th>\n",
       "      <th>alcohol</th>\n",
       "      <th>quality</th>\n",
       "    </tr>\n",
       "  </thead>\n",
       "  <tbody>\n",
       "    <tr>\n",
       "      <th>1439</th>\n",
       "      <td>7.3</td>\n",
       "      <td>0.670</td>\n",
       "      <td>0.02</td>\n",
       "      <td>2.2</td>\n",
       "      <td>0.072</td>\n",
       "      <td>31.0</td>\n",
       "      <td>92.0</td>\n",
       "      <td>0.99566</td>\n",
       "      <td>3.32</td>\n",
       "      <td>0.68</td>\n",
       "      <td>11.066667</td>\n",
       "      <td>1</td>\n",
       "    </tr>\n",
       "    <tr>\n",
       "      <th>1490</th>\n",
       "      <td>7.1</td>\n",
       "      <td>0.220</td>\n",
       "      <td>0.49</td>\n",
       "      <td>1.8</td>\n",
       "      <td>0.039</td>\n",
       "      <td>8.0</td>\n",
       "      <td>18.0</td>\n",
       "      <td>0.99344</td>\n",
       "      <td>3.39</td>\n",
       "      <td>0.56</td>\n",
       "      <td>12.400000</td>\n",
       "      <td>1</td>\n",
       "    </tr>\n",
       "    <tr>\n",
       "      <th>211</th>\n",
       "      <td>8.0</td>\n",
       "      <td>0.725</td>\n",
       "      <td>0.24</td>\n",
       "      <td>2.8</td>\n",
       "      <td>0.083</td>\n",
       "      <td>10.0</td>\n",
       "      <td>62.0</td>\n",
       "      <td>0.99685</td>\n",
       "      <td>3.35</td>\n",
       "      <td>0.56</td>\n",
       "      <td>10.000000</td>\n",
       "      <td>1</td>\n",
       "    </tr>\n",
       "    <tr>\n",
       "      <th>946</th>\n",
       "      <td>10.2</td>\n",
       "      <td>0.440</td>\n",
       "      <td>0.58</td>\n",
       "      <td>4.1</td>\n",
       "      <td>0.092</td>\n",
       "      <td>11.0</td>\n",
       "      <td>24.0</td>\n",
       "      <td>0.99745</td>\n",
       "      <td>3.29</td>\n",
       "      <td>0.99</td>\n",
       "      <td>12.000000</td>\n",
       "      <td>1</td>\n",
       "    </tr>\n",
       "    <tr>\n",
       "      <th>511</th>\n",
       "      <td>10.0</td>\n",
       "      <td>0.590</td>\n",
       "      <td>0.31</td>\n",
       "      <td>2.2</td>\n",
       "      <td>0.090</td>\n",
       "      <td>26.0</td>\n",
       "      <td>62.0</td>\n",
       "      <td>0.99940</td>\n",
       "      <td>3.18</td>\n",
       "      <td>0.63</td>\n",
       "      <td>10.200000</td>\n",
       "      <td>1</td>\n",
       "    </tr>\n",
       "  </tbody>\n",
       "</table>\n",
       "</div>"
      ],
      "text/plain": [
       "      fixed acidity  volatile acidity  citric acid  residual sugar  chlorides  \\\n",
       "1439            7.3             0.670         0.02             2.2      0.072   \n",
       "1490            7.1             0.220         0.49             1.8      0.039   \n",
       "211             8.0             0.725         0.24             2.8      0.083   \n",
       "946            10.2             0.440         0.58             4.1      0.092   \n",
       "511            10.0             0.590         0.31             2.2      0.090   \n",
       "\n",
       "      free sulfur dioxide  total sulfur dioxide  density    pH  sulphates  \\\n",
       "1439                 31.0                  92.0  0.99566  3.32       0.68   \n",
       "1490                  8.0                  18.0  0.99344  3.39       0.56   \n",
       "211                  10.0                  62.0  0.99685  3.35       0.56   \n",
       "946                  11.0                  24.0  0.99745  3.29       0.99   \n",
       "511                  26.0                  62.0  0.99940  3.18       0.63   \n",
       "\n",
       "        alcohol  quality  \n",
       "1439  11.066667        1  \n",
       "1490  12.400000        1  \n",
       "211   10.000000        1  \n",
       "946   12.000000        1  \n",
       "511   10.200000        1  "
      ]
     },
     "execution_count": 7,
     "metadata": {},
     "output_type": "execute_result"
    }
   ],
   "source": [
    "wine_df.sample(5)"
   ]
  },
  {
   "cell_type": "code",
   "execution_count": 8,
   "id": "02e6fef9",
   "metadata": {},
   "outputs": [],
   "source": [
    "RANDOM_STATE = 42"
   ]
  },
  {
   "cell_type": "code",
   "execution_count": 9,
   "id": "db0ec10d",
   "metadata": {},
   "outputs": [],
   "source": [
    "# train test data\n",
    "X_train, X_test, y_train, y_test = model_selection.train_test_split(\n",
    "    wine_df.drop(columns=['quality']), \n",
    "    wine_df['quality'], \n",
    "    test_size=0.3, \n",
    "    random_state=RANDOM_STATE\n",
    ")"
   ]
  },
  {
   "cell_type": "code",
   "execution_count": 10,
   "id": "881b9559",
   "metadata": {},
   "outputs": [
    {
     "data": {
      "text/plain": [
       "LogisticRegression()"
      ]
     },
     "execution_count": 10,
     "metadata": {},
     "output_type": "execute_result"
    }
   ],
   "source": [
    "log_reg_clf = linear_model.LogisticRegression()\n",
    "log_reg_clf.fit(X_train, y_train)"
   ]
  },
  {
   "cell_type": "code",
   "execution_count": 11,
   "id": "3fd82764",
   "metadata": {},
   "outputs": [
    {
     "data": {
      "text/plain": [
       "DecisionTreeClassifier(max_depth=10, random_state=42)"
      ]
     },
     "execution_count": 11,
     "metadata": {},
     "output_type": "execute_result"
    }
   ],
   "source": [
    "dec_tree_clf = tree.DecisionTreeClassifier(random_state=RANDOM_STATE, max_depth=10)\n",
    "dec_tree_clf.fit(X_train, y_train)"
   ]
  },
  {
   "cell_type": "markdown",
   "id": "32953b3f",
   "metadata": {},
   "source": [
    "### Задача 1\n",
    "\n",
    "Введите значение f1 score для классификатора, который показал наилучшее значение."
   ]
  },
  {
   "cell_type": "code",
   "execution_count": 12,
   "id": "08c9ed29",
   "metadata": {},
   "outputs": [
    {
     "data": {
      "text/plain": [
       "0.75"
      ]
     },
     "execution_count": 12,
     "metadata": {},
     "output_type": "execute_result"
    }
   ],
   "source": [
    "log_reg_predictions = log_reg_clf.predict(X_test)\n",
    "np.round(metrics.f1_score(y_test, log_reg_predictions), 3)"
   ]
  },
  {
   "cell_type": "code",
   "execution_count": 13,
   "id": "33309153",
   "metadata": {},
   "outputs": [
    {
     "data": {
      "text/plain": [
       "0.793"
      ]
     },
     "execution_count": 13,
     "metadata": {},
     "output_type": "execute_result"
    }
   ],
   "source": [
    "dec_tree_clf_predictions = dec_tree_clf.predict(X_test)\n",
    "np.round(metrics.f1_score(y_test, dec_tree_clf_predictions), 3)"
   ]
  },
  {
   "cell_type": "markdown",
   "id": "cb902fb3",
   "metadata": {},
   "source": [
    "### Задача 2\n",
    "\n",
    "Обучите модель с использование бэггинга (функция BaggingClassifier с `random_state=42`, разделение выборки на обучающую и тренировочную с параметрами `test_size=0.30, random_state=42`) для алгоритма, показавшего лучшее качество, определите количество моделей `1500`. Вычислите новое значение `f1-score`."
   ]
  },
  {
   "cell_type": "code",
   "execution_count": 14,
   "id": "bd734ed0",
   "metadata": {},
   "outputs": [
    {
     "data": {
      "text/plain": [
       "BaggingClassifier(base_estimator=DecisionTreeClassifier(max_depth=10,\n",
       "                                                        random_state=42),\n",
       "                  n_estimators=1500, random_state=42)"
      ]
     },
     "execution_count": 14,
     "metadata": {},
     "output_type": "execute_result"
    }
   ],
   "source": [
    "tree_bagging_clf = ensemble.BaggingClassifier(dec_tree_clf, random_state=RANDOM_STATE, n_estimators=1500)\n",
    "tree_bagging_clf.fit(X_train, y_train)"
   ]
  },
  {
   "cell_type": "code",
   "execution_count": 15,
   "id": "177315f1",
   "metadata": {},
   "outputs": [
    {
     "data": {
      "text/plain": [
       "0.818"
      ]
     },
     "execution_count": 15,
     "metadata": {},
     "output_type": "execute_result"
    }
   ],
   "source": [
    "tree_bagging_clf_predictions = tree_bagging_clf.predict(X_test)\n",
    "np.round(metrics.f1_score(y_test, tree_bagging_clf_predictions), 3)"
   ]
  },
  {
   "cell_type": "code",
   "execution_count": null,
   "id": "419851c9",
   "metadata": {},
   "outputs": [],
   "source": []
  }
 ],
 "metadata": {
  "kernelspec": {
   "display_name": "Python 3",
   "language": "python",
   "name": "python3"
  },
  "language_info": {
   "codemirror_mode": {
    "name": "ipython",
    "version": 3
   },
   "file_extension": ".py",
   "mimetype": "text/x-python",
   "name": "python",
   "nbconvert_exporter": "python",
   "pygments_lexer": "ipython3",
   "version": "3.8.5"
  }
 },
 "nbformat": 4,
 "nbformat_minor": 5
}
