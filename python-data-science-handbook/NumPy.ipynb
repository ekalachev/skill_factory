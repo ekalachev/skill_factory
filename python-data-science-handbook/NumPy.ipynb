{
  "nbformat": 4,
  "nbformat_minor": 0,
  "metadata": {
    "kernelspec": {
      "display_name": "Python 3",
      "language": "python",
      "name": "python3"
    },
    "language_info": {
      "codemirror_mode": {
        "name": "ipython",
        "version": 3
      },
      "file_extension": ".py",
      "mimetype": "text/x-python",
      "name": "python",
      "nbconvert_exporter": "python",
      "pygments_lexer": "ipython3",
      "version": "3.7.7"
    },
    "colab": {
      "name": "NumPy.ipynb",
      "provenance": []
    }
  },
  "cells": [
    {
      "cell_type": "code",
      "metadata": {
        "id": "oGJgHgVeMQU2"
      },
      "source": [
        "import numpy as np\n",
        "import array"
      ],
      "execution_count": 1,
      "outputs": []
    },
    {
      "cell_type": "code",
      "metadata": {
        "id": "4IOQTdtBMQU7",
        "outputId": "d8f91cd4-c019-4447-d215-72609945b580"
      },
      "source": [
        "np.__version__"
      ],
      "execution_count": null,
      "outputs": [
        {
          "output_type": "execute_result",
          "data": {
            "text/plain": [
              "'1.19.1'"
            ]
          },
          "metadata": {
            "tags": []
          },
          "execution_count": 2
        }
      ]
    },
    {
      "cell_type": "code",
      "metadata": {
        "id": "qLIglZfLMQVD"
      },
      "source": [
        "np?"
      ],
      "execution_count": null,
      "outputs": []
    },
    {
      "cell_type": "code",
      "metadata": {
        "id": "1GsAMHs9MQVH",
        "outputId": "144517eb-aa4d-4c48-cdc5-f932658e3825"
      },
      "source": [
        "%%timeit\n",
        "[i for i in range(100000)]"
      ],
      "execution_count": null,
      "outputs": [
        {
          "output_type": "stream",
          "text": [
            "3.8 ms ± 264 µs per loop (mean ± std. dev. of 7 runs, 100 loops each)\n"
          ],
          "name": "stdout"
        }
      ]
    },
    {
      "cell_type": "code",
      "metadata": {
        "id": "jYYLTJDHMQVM",
        "outputId": "78e6ce45-6c2e-4315-f578-4de2eb3263a3"
      },
      "source": [
        "%%timeit\n",
        "np_arr = np.arange(100000)"
      ],
      "execution_count": null,
      "outputs": [
        {
          "output_type": "stream",
          "text": [
            "36.3 µs ± 851 ns per loop (mean ± std. dev. of 7 runs, 10000 loops each)\n"
          ],
          "name": "stdout"
        }
      ]
    },
    {
      "cell_type": "code",
      "metadata": {
        "id": "B5ZNPeUcMQVR",
        "outputId": "9b8f0d5f-9614-4d1c-8322-f7b48c5a5787"
      },
      "source": [
        "np_arr = np.array([1, 2, 3, 4, 5])\n",
        "type(np_arr[0])"
      ],
      "execution_count": null,
      "outputs": [
        {
          "output_type": "execute_result",
          "data": {
            "text/plain": [
              "numpy.int64"
            ]
          },
          "metadata": {
            "tags": []
          },
          "execution_count": 6
        }
      ]
    },
    {
      "cell_type": "markdown",
      "metadata": {
        "id": "qVtDCS3sMQVV"
      },
      "source": [
        "Если же необходимо явным образом задать тип данных для итогового массива, можно воспользоваться ключевым словом dtype:"
      ]
    },
    {
      "cell_type": "code",
      "metadata": {
        "id": "4qpSjdIHMQVX",
        "outputId": "110628a9-1876-4f3e-a5b8-6661e63722fa"
      },
      "source": [
        "np_arr_float = np.array([1, 2, 3, 4, 5], dtype='float32')\n",
        "type(np_arr_float[0])"
      ],
      "execution_count": null,
      "outputs": [
        {
          "output_type": "execute_result",
          "data": {
            "text/plain": [
              "numpy.float32"
            ]
          },
          "metadata": {
            "tags": []
          },
          "execution_count": 7
        }
      ]
    },
    {
      "cell_type": "code",
      "metadata": {
        "id": "G6ayLRbUMQVe",
        "outputId": "4e9ca6cd-acdd-445c-b326-875ac5dd7b68"
      },
      "source": [
        "%%timeit\n",
        "np.array([range(i, i + 3) for i in range(1000)])"
      ],
      "execution_count": null,
      "outputs": [
        {
          "output_type": "stream",
          "text": [
            "4.39 ms ± 96.3 µs per loop (mean ± std. dev. of 7 runs, 100 loops each)\n"
          ],
          "name": "stdout"
        }
      ]
    },
    {
      "cell_type": "markdown",
      "metadata": {
        "id": "vF4KyhgBMQVk"
      },
      "source": [
        "## Создание массивов с нуля"
      ]
    },
    {
      "cell_type": "code",
      "metadata": {
        "id": "_cVm_JPCMQVk",
        "outputId": "15da12e1-ffed-4542-925a-fc4b2ead2ccb"
      },
      "source": [
        "np.zeros(10, dtype=int)"
      ],
      "execution_count": null,
      "outputs": [
        {
          "output_type": "execute_result",
          "data": {
            "text/plain": [
              "array([0, 0, 0, 0, 0, 0, 0, 0, 0, 0])"
            ]
          },
          "metadata": {
            "tags": []
          },
          "execution_count": 9
        }
      ]
    },
    {
      "cell_type": "code",
      "metadata": {
        "id": "-W_PfcNRMQVn",
        "outputId": "231d4af8-6d46-45f8-9aa3-40f1d5d2a80c"
      },
      "source": [
        "np.ones((3, 5), float)"
      ],
      "execution_count": null,
      "outputs": [
        {
          "output_type": "execute_result",
          "data": {
            "text/plain": [
              "array([[1., 1., 1., 1., 1.],\n",
              "       [1., 1., 1., 1., 1.],\n",
              "       [1., 1., 1., 1., 1.]])"
            ]
          },
          "metadata": {
            "tags": []
          },
          "execution_count": 10
        }
      ]
    },
    {
      "cell_type": "code",
      "metadata": {
        "id": "FITMyt3JMQVs",
        "outputId": "c4b7c4ca-0c9b-4e9c-8dc8-25467099cf6b"
      },
      "source": [
        "# Создаем массив размером 3 x 5, заполненный значением 3.14\n",
        "\n",
        "np.full((3, 5), 3.14)"
      ],
      "execution_count": null,
      "outputs": [
        {
          "output_type": "execute_result",
          "data": {
            "text/plain": [
              "array([[3.14, 3.14, 3.14, 3.14, 3.14],\n",
              "       [3.14, 3.14, 3.14, 3.14, 3.14],\n",
              "       [3.14, 3.14, 3.14, 3.14, 3.14]])"
            ]
          },
          "metadata": {
            "tags": []
          },
          "execution_count": 11
        }
      ]
    },
    {
      "cell_type": "code",
      "metadata": {
        "id": "UPFlqAlFMQVy",
        "outputId": "c6e0aa71-06a2-48ac-d9a0-0168b69cb63f"
      },
      "source": [
        "# Создаем массив, заполненный линейной последовательностью,\n",
        "# начинающейся с 0 и заканчивающейся 20, с шагом 2\n",
        "# (аналогично встроенной функции range())\n",
        "\n",
        "np.arange(0, 20, 2)"
      ],
      "execution_count": null,
      "outputs": [
        {
          "output_type": "execute_result",
          "data": {
            "text/plain": [
              "array([ 0,  2,  4,  6,  8, 10, 12, 14, 16, 18])"
            ]
          },
          "metadata": {
            "tags": []
          },
          "execution_count": 12
        }
      ]
    },
    {
      "cell_type": "code",
      "metadata": {
        "id": "v-F_WWOkMQV4",
        "outputId": "78efa4bd-a700-4387-96ed-97ccc0df5af1"
      },
      "source": [
        "# Создаем массив из пяти значений,\n",
        "# равномерно располагающихся между 0 и 1\n",
        "\n",
        "np.linspace(0, 1, 5)"
      ],
      "execution_count": null,
      "outputs": [
        {
          "output_type": "execute_result",
          "data": {
            "text/plain": [
              "array([0.  , 0.25, 0.5 , 0.75, 1.  ])"
            ]
          },
          "metadata": {
            "tags": []
          },
          "execution_count": 13
        }
      ]
    },
    {
      "cell_type": "code",
      "metadata": {
        "id": "cW7_i-_fMQV8",
        "outputId": "1a334f41-77b7-4279-9e35-1d886c648643"
      },
      "source": [
        "# Создаем массив размером 3 x 3 равномерно распределенных\n",
        "# случайных значения от 0 до 1\n",
        "\n",
        "np.random.random((3, 3))"
      ],
      "execution_count": null,
      "outputs": [
        {
          "output_type": "execute_result",
          "data": {
            "text/plain": [
              "array([[0.46224035, 0.51711498, 0.82943559],\n",
              "       [0.80813738, 0.32363495, 0.4596438 ],\n",
              "       [0.80136877, 0.00504567, 0.94318308]])"
            ]
          },
          "metadata": {
            "tags": []
          },
          "execution_count": 14
        }
      ]
    },
    {
      "cell_type": "code",
      "metadata": {
        "id": "GSDxdeO7MQV-",
        "outputId": "5e984d53-c7e7-4e6f-8ab2-fd9df7a4b337"
      },
      "source": [
        "# Создаем массив размером 3 x 3 нормально распределенных\n",
        "# случайных значения с медианой 0 и стандартным отклонением 1\n",
        "\n",
        "np.random.normal(0, 1, (3, 3))"
      ],
      "execution_count": null,
      "outputs": [
        {
          "output_type": "execute_result",
          "data": {
            "text/plain": [
              "array([[ 1.06705685, -0.60818644,  0.22082018],\n",
              "       [-1.33880811, -0.09728705, -1.33642103],\n",
              "       [-0.3468755 , -0.02725384,  0.10616118]])"
            ]
          },
          "metadata": {
            "tags": []
          },
          "execution_count": 15
        }
      ]
    },
    {
      "cell_type": "code",
      "metadata": {
        "id": "QScMvb2dMQWB",
        "outputId": "05be70c4-ec3c-4a89-d7e2-544a82df6b73"
      },
      "source": [
        "# Создаем массив размером 3 x 3 случайных целых числа\n",
        "# в промежутке [0, 10)\n",
        "\n",
        "np.random.randint(0, 10, (3, 3))"
      ],
      "execution_count": null,
      "outputs": [
        {
          "output_type": "execute_result",
          "data": {
            "text/plain": [
              "array([[3, 7, 6],\n",
              "       [9, 1, 8],\n",
              "       [4, 2, 6]])"
            ]
          },
          "metadata": {
            "tags": []
          },
          "execution_count": 16
        }
      ]
    },
    {
      "cell_type": "code",
      "metadata": {
        "id": "rXKAKkvQMQWF",
        "outputId": "97e840ae-e8ce-4280-c047-6840c7a93276"
      },
      "source": [
        "# Создаем единичную матрицу размером 3 x 3\n",
        "\n",
        "np.eye(3)"
      ],
      "execution_count": null,
      "outputs": [
        {
          "output_type": "execute_result",
          "data": {
            "text/plain": [
              "array([[1., 0., 0.],\n",
              "       [0., 1., 0.],\n",
              "       [0., 0., 1.]])"
            ]
          },
          "metadata": {
            "tags": []
          },
          "execution_count": 17
        }
      ]
    },
    {
      "cell_type": "code",
      "metadata": {
        "id": "xozZ2dt0MQWL",
        "outputId": "4bb2737c-b60d-4ac9-f0e6-a80c90682304"
      },
      "source": [
        "# Создаем неинициализированный массив из трех целочисленных\n",
        "# значений. Значениями будут произвольные, случайно оказавшиеся\n",
        "# в соответствующих ячейках памяти данные\n",
        "\n",
        "np.empty(3)"
      ],
      "execution_count": null,
      "outputs": [
        {
          "output_type": "execute_result",
          "data": {
            "text/plain": [
              "array([1., 1., 1.])"
            ]
          },
          "metadata": {
            "tags": []
          },
          "execution_count": 18
        }
      ]
    },
    {
      "cell_type": "markdown",
      "metadata": {
        "id": "zRIXNrmiMQWQ"
      },
      "source": [
        "## Атрибуты массивов библиотеки NumPy"
      ]
    },
    {
      "cell_type": "code",
      "metadata": {
        "id": "Ihzy59aHMQWR"
      },
      "source": [
        "np.random.seed(0) # начальное значение для целей воспроизводимости"
      ],
      "execution_count": null,
      "outputs": []
    },
    {
      "cell_type": "code",
      "metadata": {
        "id": "8XYdZX_kMQWX"
      },
      "source": [
        "x1 = np.random.randint(10, size=6) # одномерный массив\n",
        "x2 = np.random.randint(10, size=(3, 4)) # двумерный массив\n",
        "x3 = np.random.randint(10, size=(3, 4, 5)) # трехмерный массив"
      ],
      "execution_count": null,
      "outputs": []
    },
    {
      "cell_type": "markdown",
      "metadata": {
        "id": "b2dEqn5NMQWb"
      },
      "source": [
        "У каждого из массивов есть атрибуты ndim (размерность), shape (размер каждого измерения) и size (общий размер массива):"
      ]
    },
    {
      "cell_type": "code",
      "metadata": {
        "id": "lcbpe0S_MQWc",
        "outputId": "16f2e91c-eb76-47ac-a49f-86faa7ce168e"
      },
      "source": [
        "print(x3)"
      ],
      "execution_count": null,
      "outputs": [
        {
          "output_type": "stream",
          "text": [
            "[[[8 1 5 9 8]\n",
            "  [9 4 3 0 3]\n",
            "  [5 0 2 3 8]\n",
            "  [1 3 3 3 7]]\n",
            "\n",
            " [[0 1 9 9 0]\n",
            "  [4 7 3 2 7]\n",
            "  [2 0 0 4 5]\n",
            "  [5 6 8 4 1]]\n",
            "\n",
            " [[4 9 8 1 1]\n",
            "  [7 9 9 3 6]\n",
            "  [7 2 0 3 5]\n",
            "  [9 4 4 6 4]]]\n"
          ],
          "name": "stdout"
        }
      ]
    },
    {
      "cell_type": "code",
      "metadata": {
        "id": "bo_Dwm5EMQWg",
        "outputId": "3039672a-d83e-48d9-b138-c6c042ca1864"
      },
      "source": [
        "print(\"x3 ndim: \", x3.ndim)\n",
        "print(\"x3 shape:\", x3.shape)\n",
        "print(\"x3 size: \", x3.size)\n",
        "print(\"dtype:\", x3.dtype) #тип данных массива\n",
        "print(\"itemsize:\", x3.itemsize, \"bytes\") # itemsize, выводящий размер (в байтах) каждого эле- мента массива\n",
        "print(\"nbytes:\", x3.nbytes, \"bytes\") # nbytes, выводящий полный размер массива (в байтах)"
      ],
      "execution_count": null,
      "outputs": [
        {
          "output_type": "stream",
          "text": [
            "x3 ndim:  3\n",
            "x3 shape: (3, 4, 5)\n",
            "x3 size:  60\n",
            "dtype: int64\n",
            "itemsize: 8 bytes\n",
            "nbytes: 480 bytes\n"
          ],
          "name": "stdout"
        }
      ]
    },
    {
      "cell_type": "markdown",
      "metadata": {
        "id": "K1fikk3sMQWk"
      },
      "source": [
        "*В отличие от списков языка Python, у массивов NumPy фикси- рованный тип данных. При попытке вставить в массив целых чисел значение с пла- вающей точкой это значение будет незаметно усечено.*"
      ]
    },
    {
      "cell_type": "markdown",
      "metadata": {
        "id": "TR_AjwjaMQWk"
      },
      "source": [
        "## Срезы массивов: доступ к подмассивам\n",
        "\n",
        "Аналогично доступу к отдельным элементам массива можно использовать квадрат- ные скобки для доступа к подмассивам с помощью срезов (slicing), обозначаемых знаком двоеточия (:). Синтаксис срезов библиотеки NumPy соответствует анало- гичному синтаксису для стандартных списков языка Python. Для доступа к срезу массива x используйте синтаксис:\n",
        "\n",
        "\n",
        "#### x[начало : конец : шаг]\n",
        "\n",
        "Если какие-либо из этих значений не указаны, значения применяются по умолча- нию: начало = 0, конец = размер соответствующего измерения, шаг = 1. Мы рас- смотрим доступ к массивам в одном и нескольких измерениях.\n",
        "\n",
        "### Одномерные подмассивы"
      ]
    },
    {
      "cell_type": "code",
      "metadata": {
        "id": "eTXX_Yo0MQWl"
      },
      "source": [
        "x = np.arange(10)"
      ],
      "execution_count": null,
      "outputs": []
    },
    {
      "cell_type": "code",
      "metadata": {
        "id": "SrZ8tMijMQWq",
        "outputId": "0834bdee-08f4-4321-9907-8bcc8db64bc5"
      },
      "source": [
        "x"
      ],
      "execution_count": null,
      "outputs": [
        {
          "output_type": "execute_result",
          "data": {
            "text/plain": [
              "array([0, 1, 2, 3, 4, 5, 6, 7, 8, 9])"
            ]
          },
          "metadata": {
            "tags": []
          },
          "execution_count": 24
        }
      ]
    },
    {
      "cell_type": "code",
      "metadata": {
        "id": "13aEg6aTMQWt",
        "outputId": "4eff3dc2-e404-478a-a7b1-fd1c3f7606cd"
      },
      "source": [
        "x[:5]"
      ],
      "execution_count": null,
      "outputs": [
        {
          "output_type": "execute_result",
          "data": {
            "text/plain": [
              "array([0, 1, 2, 3, 4])"
            ]
          },
          "metadata": {
            "tags": []
          },
          "execution_count": 25
        }
      ]
    },
    {
      "cell_type": "code",
      "metadata": {
        "id": "YgI0MXZoMQWx",
        "outputId": "a30dff43-8777-40f1-bc3e-15c17f11c7e7"
      },
      "source": [
        "x[5:]"
      ],
      "execution_count": null,
      "outputs": [
        {
          "output_type": "execute_result",
          "data": {
            "text/plain": [
              "array([5, 6, 7, 8, 9])"
            ]
          },
          "metadata": {
            "tags": []
          },
          "execution_count": 26
        }
      ]
    },
    {
      "cell_type": "code",
      "metadata": {
        "id": "GbH6sK5qMQW1",
        "outputId": "5ff6dd13-f452-4bb2-eeb4-a53d830c9d9f"
      },
      "source": [
        "x[4:7]"
      ],
      "execution_count": null,
      "outputs": [
        {
          "output_type": "execute_result",
          "data": {
            "text/plain": [
              "array([4, 5, 6])"
            ]
          },
          "metadata": {
            "tags": []
          },
          "execution_count": 27
        }
      ]
    },
    {
      "cell_type": "code",
      "metadata": {
        "id": "5QDTgJtZMQW4",
        "outputId": "9de3c857-957e-4260-d930-0060557cc15a"
      },
      "source": [
        "# каждый второй элемент\n",
        "x[::2]"
      ],
      "execution_count": null,
      "outputs": [
        {
          "output_type": "execute_result",
          "data": {
            "text/plain": [
              "array([0, 2, 4, 6, 8])"
            ]
          },
          "metadata": {
            "tags": []
          },
          "execution_count": 28
        }
      ]
    },
    {
      "cell_type": "code",
      "metadata": {
        "id": "ZdqHL1JGMQW6",
        "outputId": "5db557f1-4e26-40b9-e154-b935fc4bb236"
      },
      "source": [
        "# каждый второй элемент, начиная с индекса 1\n",
        "x[1::2]"
      ],
      "execution_count": null,
      "outputs": [
        {
          "output_type": "execute_result",
          "data": {
            "text/plain": [
              "array([1, 3, 5, 7, 9])"
            ]
          },
          "metadata": {
            "tags": []
          },
          "execution_count": 29
        }
      ]
    },
    {
      "cell_type": "code",
      "metadata": {
        "id": "dzzkzg7oMQW-",
        "outputId": "42fb4b76-28d7-4da5-d948-f9d0c96e3ff6"
      },
      "source": [
        "# все элементы в обратном порядке\n",
        "x[::-1]"
      ],
      "execution_count": null,
      "outputs": [
        {
          "output_type": "execute_result",
          "data": {
            "text/plain": [
              "array([9, 8, 7, 6, 5, 4, 3, 2, 1, 0])"
            ]
          },
          "metadata": {
            "tags": []
          },
          "execution_count": 30
        }
      ]
    },
    {
      "cell_type": "code",
      "metadata": {
        "id": "FbPnVtMoMQXE",
        "outputId": "5377d0c9-bdaa-4f8f-84ea-9027eb85ce4f"
      },
      "source": [
        "# каждый второй элемент в обратном порядке,\n",
        "# начиная с индекса 5\n",
        "\n",
        "x[5::-2]"
      ],
      "execution_count": null,
      "outputs": [
        {
          "output_type": "execute_result",
          "data": {
            "text/plain": [
              "array([5, 3, 1])"
            ]
          },
          "metadata": {
            "tags": []
          },
          "execution_count": 31
        }
      ]
    },
    {
      "cell_type": "markdown",
      "metadata": {
        "id": "Vy8O7V8HMQXJ"
      },
      "source": [
        "### Многомерные подмассивы\n",
        "\n",
        "Многомерные срезы задаются схожим образом, с разделением срезов запятыми. Например:"
      ]
    },
    {
      "cell_type": "code",
      "metadata": {
        "id": "Y3DBB0dzMQXK"
      },
      "source": [
        "x2 = np.random.randint(15, size=(3, 4))"
      ],
      "execution_count": null,
      "outputs": []
    },
    {
      "cell_type": "code",
      "metadata": {
        "id": "t798dOq6MQXO",
        "outputId": "90f6e040-cdd9-4c48-d0de-7d882cb440ab"
      },
      "source": [
        "x2"
      ],
      "execution_count": null,
      "outputs": [
        {
          "output_type": "execute_result",
          "data": {
            "text/plain": [
              "array([[ 4,  3, 12,  4],\n",
              "       [ 4,  8, 14,  4],\n",
              "       [ 3, 10,  7, 13]])"
            ]
          },
          "metadata": {
            "tags": []
          },
          "execution_count": 33
        }
      ]
    },
    {
      "cell_type": "code",
      "metadata": {
        "id": "VD28cfbzMQXR",
        "outputId": "401e19b4-d661-4a1a-f0ad-a3a023627f0d"
      },
      "source": [
        "# две строки, три столбца\n",
        "x2[:2, :3]"
      ],
      "execution_count": null,
      "outputs": [
        {
          "output_type": "execute_result",
          "data": {
            "text/plain": [
              "array([[ 4,  3, 12],\n",
              "       [ 4,  8, 14]])"
            ]
          },
          "metadata": {
            "tags": []
          },
          "execution_count": 34
        }
      ]
    },
    {
      "cell_type": "code",
      "metadata": {
        "id": "j0yuSS6iMQXU",
        "outputId": "1eab693a-1779-4111-aafb-45f1f1abe46e"
      },
      "source": [
        "# все строки, каждый второй столбец\n",
        "x2[:3, ::2]"
      ],
      "execution_count": null,
      "outputs": [
        {
          "output_type": "execute_result",
          "data": {
            "text/plain": [
              "array([[ 4, 12],\n",
              "       [ 4, 14],\n",
              "       [ 3,  7]])"
            ]
          },
          "metadata": {
            "tags": []
          },
          "execution_count": 35
        }
      ]
    },
    {
      "cell_type": "code",
      "metadata": {
        "id": "2QONUp7wMQXX",
        "outputId": "94090e95-8ad9-4872-e035-38de7661cb11"
      },
      "source": [
        "# Измерения подмассивов также можно «переворачивать»:\n",
        "x2[::-1, ::-1]"
      ],
      "execution_count": null,
      "outputs": [
        {
          "output_type": "execute_result",
          "data": {
            "text/plain": [
              "array([[13,  7, 10,  3],\n",
              "       [ 4, 14,  8,  4],\n",
              "       [ 4, 12,  3,  4]])"
            ]
          },
          "metadata": {
            "tags": []
          },
          "execution_count": 36
        }
      ]
    },
    {
      "cell_type": "markdown",
      "metadata": {
        "id": "xcMcy-8_MQXb"
      },
      "source": [
        "#### Доступ к строкам и столбцам массива\n",
        "\n",
        "Часто возникает необходимость в доступе к отдельным строкам или столбцам массива. Предоставить доступ можно путем комбинации индексации и среза, с по- мощью пустого среза, задаваемого двоеточием (:):"
      ]
    },
    {
      "cell_type": "code",
      "metadata": {
        "id": "nYY2mhbpMQXc",
        "outputId": "218d789f-47c2-4b5e-e571-4bbbdd86f4b5"
      },
      "source": [
        "#  первый столбец массива x2\n",
        "x2[:, 0]"
      ],
      "execution_count": null,
      "outputs": [
        {
          "output_type": "execute_result",
          "data": {
            "text/plain": [
              "array([4, 4, 3])"
            ]
          },
          "metadata": {
            "tags": []
          },
          "execution_count": 37
        }
      ]
    },
    {
      "cell_type": "code",
      "metadata": {
        "id": "o1MdAK-GMQXf",
        "outputId": "f89e7123-05dd-49dc-fa45-7ac8958e183f"
      },
      "source": [
        "# первая строка массива x2\n",
        "x2[0, :]"
      ],
      "execution_count": null,
      "outputs": [
        {
          "output_type": "execute_result",
          "data": {
            "text/plain": [
              "array([ 4,  3, 12,  4])"
            ]
          },
          "metadata": {
            "tags": []
          },
          "execution_count": 38
        }
      ]
    },
    {
      "cell_type": "markdown",
      "metadata": {
        "id": "xIVje5UaMQXi"
      },
      "source": [
        "В случае предоставления доступа к строке пустой срез можно опустить ради более лаконичного синтаксиса:"
      ]
    },
    {
      "cell_type": "code",
      "metadata": {
        "id": "2arUOcHCMQXi",
        "outputId": "a318aefa-b0b8-4970-e5c7-d70501a85957"
      },
      "source": [
        "x2[0]"
      ],
      "execution_count": null,
      "outputs": [
        {
          "output_type": "execute_result",
          "data": {
            "text/plain": [
              "array([ 4,  3, 12,  4])"
            ]
          },
          "metadata": {
            "tags": []
          },
          "execution_count": 39
        }
      ]
    },
    {
      "cell_type": "markdown",
      "metadata": {
        "id": "1cEOanrqMQXm"
      },
      "source": [
        "Срезы массивов возвращают представления (views), а не копии (copies) данных массива. Этим срезы массивов библиотеки NumPy отличаются от срезов списков языка Python (в списках срезы являются копиями). Извлечем из нашего массива двумерный подмассив 2 × 2:"
      ]
    },
    {
      "cell_type": "code",
      "metadata": {
        "id": "vy3s5vZXMQXo"
      },
      "source": [
        "x2_sub = x2[:2, :2]"
      ],
      "execution_count": null,
      "outputs": []
    },
    {
      "cell_type": "code",
      "metadata": {
        "id": "VLiCUZPNMQXt",
        "outputId": "c0ebd9e2-9ab0-4715-eb80-13d4f24b5e7f"
      },
      "source": [
        "x2_sub"
      ],
      "execution_count": null,
      "outputs": [
        {
          "output_type": "execute_result",
          "data": {
            "text/plain": [
              "array([[4, 3],\n",
              "       [4, 8]])"
            ]
          },
          "metadata": {
            "tags": []
          },
          "execution_count": 41
        }
      ]
    },
    {
      "cell_type": "markdown",
      "metadata": {
        "id": "wpY7DqyQMQXx"
      },
      "source": [
        "Теперь, если мы изменим этот подмассив, увидим, что исходный массив также поменялся"
      ]
    },
    {
      "cell_type": "code",
      "metadata": {
        "id": "Vg_4Fms0MQXx"
      },
      "source": [
        "x2_sub[0, 0] = 99"
      ],
      "execution_count": null,
      "outputs": []
    },
    {
      "cell_type": "code",
      "metadata": {
        "id": "Po_nDfbdMQX1",
        "outputId": "94d03728-af91-413c-94c3-740d99a4974f"
      },
      "source": [
        "print(x2_sub)"
      ],
      "execution_count": null,
      "outputs": [
        {
          "output_type": "stream",
          "text": [
            "[[99  3]\n",
            " [ 4  8]]\n"
          ],
          "name": "stdout"
        }
      ]
    },
    {
      "cell_type": "code",
      "metadata": {
        "id": "mGoY84lMMQX7",
        "outputId": "f0a7811b-694b-405a-aafd-9dfc92c5aa4a"
      },
      "source": [
        "print(x2)"
      ],
      "execution_count": null,
      "outputs": [
        {
          "output_type": "stream",
          "text": [
            "[[99  3 12  4]\n",
            " [ 4  8 14  4]\n",
            " [ 3 10  7 13]]\n"
          ],
          "name": "stdout"
        }
      ]
    },
    {
      "cell_type": "markdown",
      "metadata": {
        "id": "JojIewhxMQX_"
      },
      "source": [
        "Такое поведение по умолчанию действительно очень удобно: при работе с боль- шими наборами данных не требуется копировать базовый буфер данных для об- ращения к их частям и обработки этих частей."
      ]
    },
    {
      "cell_type": "markdown",
      "metadata": {
        "id": "wIbuECslMQYA"
      },
      "source": [
        "#### Создание копий массивов"
      ]
    },
    {
      "cell_type": "code",
      "metadata": {
        "id": "UUldHGm0MQYB"
      },
      "source": [
        "x2_sub_copy = x2[:2, :2].copy()"
      ],
      "execution_count": null,
      "outputs": []
    },
    {
      "cell_type": "code",
      "metadata": {
        "id": "40VCyCyFMQYE"
      },
      "source": [
        "x2_sub_copy[0, 0] = 100"
      ],
      "execution_count": null,
      "outputs": []
    },
    {
      "cell_type": "code",
      "metadata": {
        "id": "adPaLsULMQYG",
        "outputId": "801c34fb-9a98-438e-dc8f-d19190f6e599"
      },
      "source": [
        "print(x2_sub_copy)"
      ],
      "execution_count": null,
      "outputs": [
        {
          "output_type": "stream",
          "text": [
            "[[100   3]\n",
            " [  4   8]]\n"
          ],
          "name": "stdout"
        }
      ]
    },
    {
      "cell_type": "code",
      "metadata": {
        "id": "5n4GxTyaMQYK",
        "outputId": "ca30bd09-8676-4980-e03c-ddfcd355b60e"
      },
      "source": [
        "print(x2)"
      ],
      "execution_count": null,
      "outputs": [
        {
          "output_type": "stream",
          "text": [
            "[[99  3 12  4]\n",
            " [ 4  8 14  4]\n",
            " [ 3 10  7 13]]\n"
          ],
          "name": "stdout"
        }
      ]
    },
    {
      "cell_type": "markdown",
      "metadata": {
        "id": "OR1zdORSMQYO"
      },
      "source": [
        "#### Изменение формы массивов\n",
        "\n",
        "Еще одна удобная операция — изменение формы массивов методом reshape(). На- пример, если вам требуется поместить числа от 1 до 9 в таблицу 3 × 3, сделать это можно следующим образом:"
      ]
    },
    {
      "cell_type": "code",
      "metadata": {
        "id": "KIWWPK2wMQYP",
        "outputId": "15d4cc5e-ac3c-4e9d-ac79-c9843ec6e665"
      },
      "source": [
        "np.arange(1, 10).reshape((3,3))"
      ],
      "execution_count": null,
      "outputs": [
        {
          "output_type": "execute_result",
          "data": {
            "text/plain": [
              "array([[1, 2, 3],\n",
              "       [4, 5, 6],\n",
              "       [7, 8, 9]])"
            ]
          },
          "metadata": {
            "tags": []
          },
          "execution_count": 49
        }
      ]
    },
    {
      "cell_type": "code",
      "metadata": {
        "id": "INbrvutSMQYS"
      },
      "source": [
        "x = np.array([1, 2, 3])"
      ],
      "execution_count": null,
      "outputs": []
    },
    {
      "cell_type": "code",
      "metadata": {
        "id": "ZXvovOAUMQYX",
        "outputId": "9febb025-9dce-462d-b6c1-08b473298352"
      },
      "source": [
        "# Преобразование в вектор-строку с помощью reshape\n",
        "x.reshape((1, 3))"
      ],
      "execution_count": null,
      "outputs": [
        {
          "output_type": "execute_result",
          "data": {
            "text/plain": [
              "array([[1, 2, 3]])"
            ]
          },
          "metadata": {
            "tags": []
          },
          "execution_count": 51
        }
      ]
    },
    {
      "cell_type": "code",
      "metadata": {
        "id": "Lttlz9JIMQYb",
        "outputId": "484f1592-e11a-42bd-c2de-8480887db749"
      },
      "source": [
        "# Преобразование в вектор-строку посредством newaxis\n",
        "x[np.newaxis, :]"
      ],
      "execution_count": null,
      "outputs": [
        {
          "output_type": "execute_result",
          "data": {
            "text/plain": [
              "array([[1, 2, 3]])"
            ]
          },
          "metadata": {
            "tags": []
          },
          "execution_count": 52
        }
      ]
    },
    {
      "cell_type": "code",
      "metadata": {
        "id": "yMp1ff4JMQYe",
        "outputId": "07d6587e-839c-4e28-b13f-4e992b2978dd"
      },
      "source": [
        "# Преобразование в вектор-столбец с помощью reshape\n",
        "x.reshape((3, 1))"
      ],
      "execution_count": null,
      "outputs": [
        {
          "output_type": "execute_result",
          "data": {
            "text/plain": [
              "array([[1],\n",
              "       [2],\n",
              "       [3]])"
            ]
          },
          "metadata": {
            "tags": []
          },
          "execution_count": 53
        }
      ]
    },
    {
      "cell_type": "code",
      "metadata": {
        "id": "j-qGjH71MQYh",
        "outputId": "907efbf8-27fe-43cc-c033-de4d1cd34fd2"
      },
      "source": [
        "# Преобразование в вектор-столбец посредством newaxis\n",
        "x[:, np.newaxis]"
      ],
      "execution_count": null,
      "outputs": [
        {
          "output_type": "execute_result",
          "data": {
            "text/plain": [
              "array([[1],\n",
              "       [2],\n",
              "       [3]])"
            ]
          },
          "metadata": {
            "tags": []
          },
          "execution_count": 54
        }
      ]
    },
    {
      "cell_type": "markdown",
      "metadata": {
        "id": "dEFrGV1cMQYp"
      },
      "source": [
        "### Слияние массивов\n",
        "\n",
        "Слияние, или объединение, двух массивов в библиотеке NumPy выполняется в основном с помощью методов **np.concatenate**, **np.vstack** и **np.hstack**. Метод np.concatenate принимает на входе кортеж или список массивов в качестве перво- го аргумента:"
      ]
    },
    {
      "cell_type": "code",
      "metadata": {
        "id": "duGWEqkAMQYq",
        "outputId": "39c9ad8c-b835-406e-930a-e6e0e231822b"
      },
      "source": [
        "x = np.array([1, 2, 3])\n",
        "y = np.array([3, 2, 1])\n",
        "\n",
        "np.concatenate([x, y])"
      ],
      "execution_count": null,
      "outputs": [
        {
          "output_type": "execute_result",
          "data": {
            "text/plain": [
              "array([1, 2, 3, 3, 2, 1])"
            ]
          },
          "metadata": {
            "tags": []
          },
          "execution_count": 55
        }
      ]
    },
    {
      "cell_type": "markdown",
      "metadata": {
        "id": "xODDR682MQYu"
      },
      "source": [
        "Для объединения двумерных массивов можно также использовать np.concatenate:"
      ]
    },
    {
      "cell_type": "code",
      "metadata": {
        "id": "ABkbPP2HMQYv",
        "outputId": "605caef0-8c96-49a0-ad17-95328e721eb7"
      },
      "source": [
        "grid = np.array([[1, 2, 3], [4, 5, 6]])\n",
        "print(grid)"
      ],
      "execution_count": null,
      "outputs": [
        {
          "output_type": "stream",
          "text": [
            "[[1 2 3]\n",
            " [4 5 6]]\n"
          ],
          "name": "stdout"
        }
      ]
    },
    {
      "cell_type": "code",
      "metadata": {
        "id": "4SwyHta2MQYz",
        "outputId": "0c31adde-4a03-415f-985d-6d10ea3192d4"
      },
      "source": [
        "# слияние по первой оси координат\n",
        "np.concatenate([grid, grid])"
      ],
      "execution_count": null,
      "outputs": [
        {
          "output_type": "execute_result",
          "data": {
            "text/plain": [
              "array([[1, 2, 3],\n",
              "       [4, 5, 6],\n",
              "       [1, 2, 3],\n",
              "       [4, 5, 6]])"
            ]
          },
          "metadata": {
            "tags": []
          },
          "execution_count": 59
        }
      ]
    },
    {
      "cell_type": "code",
      "metadata": {
        "id": "407sJw8fMQY3",
        "outputId": "179e240d-b62c-47b0-93c0-99ba8896c0e4"
      },
      "source": [
        "# слияние по второй оси координат (с индексом 0)\n",
        "np.concatenate([grid, grid], axis=1)"
      ],
      "execution_count": null,
      "outputs": [
        {
          "output_type": "execute_result",
          "data": {
            "text/plain": [
              "array([[1, 2, 3, 1, 2, 3],\n",
              "       [4, 5, 6, 4, 5, 6]])"
            ]
          },
          "metadata": {
            "tags": []
          },
          "execution_count": 60
        }
      ]
    },
    {
      "cell_type": "markdown",
      "metadata": {
        "id": "k2VL0QiTMQY7"
      },
      "source": [
        "Для работы с массивами с различающимися измерениями удобнее и понятнее использовать функции **np.vstack** (вертикальное объединение) и **np.hstack** (гори- зонтальное объединение):"
      ]
    },
    {
      "cell_type": "code",
      "metadata": {
        "id": "5ej26dgFMQY7",
        "outputId": "8c5d7840-96a3-44b8-8c58-11c45b797ba2"
      },
      "source": [
        "x = np.array([1, 2, 3])\n",
        "grid = np.array([[9, 8, 7], [6, 5, 4]])\n",
        "\n",
        "# Объединяет массивы по вертикали\n",
        "np.vstack([x, grid])"
      ],
      "execution_count": null,
      "outputs": [
        {
          "output_type": "execute_result",
          "data": {
            "text/plain": [
              "array([[1, 2, 3],\n",
              "       [9, 8, 7],\n",
              "       [6, 5, 4]])"
            ]
          },
          "metadata": {
            "tags": []
          },
          "execution_count": 61
        }
      ]
    },
    {
      "cell_type": "code",
      "metadata": {
        "id": "Opb_PMVeMQY_",
        "outputId": "02221c24-3e26-4444-aa05-e103905befda"
      },
      "source": [
        "# Объединяет массивы по горизонтали\n",
        "y = np.array([[99], [99]])\n",
        "\n",
        "np.hstack([grid, y])"
      ],
      "execution_count": null,
      "outputs": [
        {
          "output_type": "execute_result",
          "data": {
            "text/plain": [
              "array([[ 9,  8,  7, 99],\n",
              "       [ 6,  5,  4, 99]])"
            ]
          },
          "metadata": {
            "tags": []
          },
          "execution_count": 62
        }
      ]
    },
    {
      "cell_type": "markdown",
      "metadata": {
        "id": "L3iipXmvMQZB"
      },
      "source": [
        "Функция **np.dstack** аналогично объединяет массивы по третьей оси."
      ]
    },
    {
      "cell_type": "markdown",
      "metadata": {
        "id": "ZbFl37TGMQZB"
      },
      "source": [
        "## Разбиение массивов\n",
        "\n",
        "Противоположностью слияния является разбиение, выполняемое с помощью функций **np.split, np.hsplit и np.vsplit**. Каждой из них необходимо передавать список индексов, задающих точки раздела:"
      ]
    },
    {
      "cell_type": "code",
      "metadata": {
        "id": "Pbog5FGRMQZB",
        "outputId": "f5aa380f-6273-48ef-baa9-5c6e0a27c62b"
      },
      "source": [
        "x = [1, 2, 3, 99, 99, 3, 2, 1]\n",
        "\n",
        "x1, x2, x3 = np.split(x, [3, 5])\n",
        "\n",
        "print(x1, x2, x3)"
      ],
      "execution_count": null,
      "outputs": [
        {
          "output_type": "stream",
          "text": [
            "[1 2 3] [99 99] [3 2 1]\n"
          ],
          "name": "stdout"
        }
      ]
    },
    {
      "cell_type": "markdown",
      "metadata": {
        "id": "qqb9sLj_MQZE"
      },
      "source": [
        "Обратите внимание, что N точек раздела означают N + 1 подмассив. Соответству- ющие функции np.hsplit и np.vsplit действуют аналогично:"
      ]
    },
    {
      "cell_type": "code",
      "metadata": {
        "id": "lJk9oNVjMQZE",
        "outputId": "9b6451a1-316c-483c-c45f-1b1e42e1814b"
      },
      "source": [
        "grid = np.arange(16).reshape((4, 4))\n",
        "grid"
      ],
      "execution_count": null,
      "outputs": [
        {
          "output_type": "execute_result",
          "data": {
            "text/plain": [
              "array([[ 0,  1,  2,  3],\n",
              "       [ 4,  5,  6,  7],\n",
              "       [ 8,  9, 10, 11],\n",
              "       [12, 13, 14, 15]])"
            ]
          },
          "metadata": {
            "tags": []
          },
          "execution_count": 64
        }
      ]
    },
    {
      "cell_type": "code",
      "metadata": {
        "id": "GwIj3K57MQZG",
        "outputId": "2d325909-65be-48bf-9f84-6b15efea956e"
      },
      "source": [
        "upper, lower = np.vsplit(grid, [2])\n",
        "print(upper)\n",
        "print(lower)"
      ],
      "execution_count": null,
      "outputs": [
        {
          "output_type": "stream",
          "text": [
            "[[0 1 2 3]\n",
            " [4 5 6 7]]\n",
            "[[ 8  9 10 11]\n",
            " [12 13 14 15]]\n"
          ],
          "name": "stdout"
        }
      ]
    },
    {
      "cell_type": "code",
      "metadata": {
        "id": "nlqkQm5wMQZI",
        "outputId": "f365cb2c-5425-496a-938e-acc23bfd8656"
      },
      "source": [
        "left, right = np.hsplit(grid, [2])\n",
        "print(left)\n",
        "print(right)"
      ],
      "execution_count": null,
      "outputs": [
        {
          "output_type": "stream",
          "text": [
            "[[ 0  1]\n",
            " [ 4  5]\n",
            " [ 8  9]\n",
            " [12 13]]\n",
            "[[ 2  3]\n",
            " [ 6  7]\n",
            " [10 11]\n",
            " [14 15]]\n"
          ],
          "name": "stdout"
        }
      ]
    },
    {
      "cell_type": "markdown",
      "metadata": {
        "id": "r4fcCqhhMQZK"
      },
      "source": [
        "Функция np.dsplit аналогично разделяет массивы по третьей оси."
      ]
    },
    {
      "cell_type": "markdown",
      "metadata": {
        "id": "BfQPYVzUMQZK"
      },
      "source": [
        "## Тригонометрические функции\n",
        "\n",
        "Библиотека NumPy предоставляет множество универсальных функций, одни из наиболее важных — тригонометрические функции. Начнем с описания массива углов:"
      ]
    },
    {
      "cell_type": "code",
      "metadata": {
        "id": "xsQBYGMRMQZL"
      },
      "source": [
        "theta = np.linspace(0, np.pi, 3)"
      ],
      "execution_count": null,
      "outputs": []
    },
    {
      "cell_type": "markdown",
      "metadata": {
        "id": "RksK4afBMQZP"
      },
      "source": [
        "Теперь мы можем вычислить некоторые тригонометрические функции от этих значений:"
      ]
    },
    {
      "cell_type": "code",
      "metadata": {
        "id": "y1opZfBYMQZQ",
        "outputId": "0291344e-ccda-4a83-8e9e-0233f99669fd"
      },
      "source": [
        "print(\"theta = \", theta)\n",
        "print(\"sin(theta) = \", np.sin(theta))\n",
        "print(\"cos(theta) = \", np.cos(theta))\n",
        "print(\"tan(theta) = \", np.tan(theta))"
      ],
      "execution_count": null,
      "outputs": [
        {
          "output_type": "stream",
          "text": [
            "theta =  [0.         1.57079633 3.14159265]\n",
            "sin(theta) =  [0.0000000e+00 1.0000000e+00 1.2246468e-16]\n",
            "cos(theta) =  [ 1.000000e+00  6.123234e-17 -1.000000e+00]\n",
            "tan(theta) =  [ 0.00000000e+00  1.63312394e+16 -1.22464680e-16]\n"
          ],
          "name": "stdout"
        }
      ]
    },
    {
      "cell_type": "markdown",
      "metadata": {
        "id": "Nh_g8AeTMQZZ"
      },
      "source": [
        "## Показательные функции и логарифмы"
      ]
    },
    {
      "cell_type": "code",
      "metadata": {
        "id": "Xr6nLjrWMQZa",
        "outputId": "a3fa1dfb-ae82-4e66-ae1d-e45bb4802455"
      },
      "source": [
        "x = [1, 2, 3]\n",
        "\n",
        "print(\"x =\", x)\n",
        "print(\"e^x =\", np.exp(x))\n",
        "print(\"2^x =\", np.exp2(x))\n",
        "print(\"3^x =\", np.power(3, x))"
      ],
      "execution_count": null,
      "outputs": [
        {
          "output_type": "stream",
          "text": [
            "x = [1, 2, 3]\n",
            "e^x = [ 2.71828183  7.3890561  20.08553692]\n",
            "2^x = [2. 4. 8.]\n",
            "3^x = [ 3  9 27]\n"
          ],
          "name": "stdout"
        }
      ]
    },
    {
      "cell_type": "markdown",
      "metadata": {
        "id": "bfWJVe3nMQZd"
      },
      "source": [
        "Функции, обратные к показательным, и логарифмы также имеются в библиотеке. Простейшая функция np.log возвращает натуральный логарифм числа. Если вам требуется логарифм по основанию 2 или 10, они также доступны:"
      ]
    },
    {
      "cell_type": "code",
      "metadata": {
        "id": "WUQWv0zTMQZe",
        "outputId": "6bbb6b3b-60af-496a-c42b-524cbc75e673"
      },
      "source": [
        "x = [1, 2, 4, 10]\n",
        "\n",
        "print(\"x =\", x)\n",
        "print(\"ln(x) =\", np.log(x))\n",
        "print(\"log2(x) =\", np.log2(x))\n",
        "print(\"log10(x) =\", np.log10(x))"
      ],
      "execution_count": null,
      "outputs": [
        {
          "output_type": "stream",
          "text": [
            "x = [1, 2, 4, 10]\n",
            "ln(x) = [0.         0.69314718 1.38629436 2.30258509]\n",
            "log2(x) = [0.         1.         2.         3.32192809]\n",
            "log10(x) = [0.         0.30103    0.60205999 1.        ]\n"
          ],
          "name": "stdout"
        }
      ]
    },
    {
      "cell_type": "markdown",
      "metadata": {
        "id": "Aul7JRvPMQZj"
      },
      "source": [
        "## Специализированные универсальные функции\n",
        "\n",
        "В библиотеке NumPy имеется немало других универсальных функций, включая гиперболические тригонометрические функции, поразрядную арифметику, опера- торы сравнения, преобразования из радианов в градусы, округление и остатки от деления, а также многое другое. Если вы заглянете в документацию по библиотеке NumPy, то откроете для себя немало интересной функциональности.\n",
        "Если один замечательный источник специализированных и сложных универ- сальных функций — подмодуль scipy.special. Если вам необходимо вычислить значение какой-то хитрой математической функции на ваших данных, очень воз- можно, что эта функциональность уже реализована в scipy.special. Следующий фрагмент кода демонстрирует несколько функций, которые могут пригодиться для статистических вычислений:"
      ]
    },
    {
      "cell_type": "code",
      "metadata": {
        "id": "mWlN0vPVMQZk"
      },
      "source": [
        "from scipy import special"
      ],
      "execution_count": null,
      "outputs": []
    },
    {
      "cell_type": "code",
      "metadata": {
        "id": "OIbpMLBfMQZo",
        "outputId": "6af4cce8-dd2e-4fbb-de32-db5a1c1c21ce"
      },
      "source": [
        "x = [1, 5, 10]\n",
        "\n",
        "print(\"gamma(x) =\", special.gamma(x))\n",
        "print(\"ln|gamma(x)| =\", special.gammaln(x))\n",
        "print(\"beta(x, 2) =\", special.beta(x, 2))"
      ],
      "execution_count": null,
      "outputs": [
        {
          "output_type": "stream",
          "text": [
            "gamma(x) = [1.0000e+00 2.4000e+01 3.6288e+05]\n",
            "ln|gamma(x)| = [ 0.          3.17805383 12.80182748]\n",
            "beta(x, 2) = [0.5        0.03333333 0.00909091]\n"
          ],
          "name": "stdout"
        }
      ]
    },
    {
      "cell_type": "markdown",
      "metadata": {
        "id": "gQlg4qkIMQZs"
      },
      "source": [
        "## Указание массива для вывода результата\n",
        "\n",
        "При больших вычислениях удобно задать массив, в котором будет сохранен резуль- тат вычисления. Вместо того чтобы создавать временный массив, можно восполь- зоваться этой возможностью для записи результатов вычислений непосредственно в нужное вам место памяти. Сделать это для любой универсальной функции можно с помощью аргумента out:"
      ]
    },
    {
      "cell_type": "code",
      "metadata": {
        "id": "so9VZqIEMQZs",
        "outputId": "9ed6aae1-60ff-4721-c85e-68d67bf15d90"
      },
      "source": [
        "x = np.arange(5)\n",
        "y = np.empty(5)\n",
        "np.multiply(x, 10, out=y)\n",
        "\n",
        "print(y)"
      ],
      "execution_count": null,
      "outputs": [
        {
          "output_type": "stream",
          "text": [
            "[ 0. 10. 20. 30. 40.]\n"
          ],
          "name": "stdout"
        }
      ]
    },
    {
      "cell_type": "markdown",
      "metadata": {
        "id": "5JZ8C1OYMQZw"
      },
      "source": [
        "Эту возможность можно использовать даже вместе с представлениями массивов. Например, можно записать результаты вычислений в каждый второй элемент за- данного массива:"
      ]
    },
    {
      "cell_type": "code",
      "metadata": {
        "id": "AKJZ5sZEMQZx",
        "outputId": "50f74192-a3d8-4ba6-c679-35240554323f"
      },
      "source": [
        "y = np.zeros(10)\n",
        "np.power(2, x, out=y[::2])\n",
        "\n",
        "print(y)"
      ],
      "execution_count": null,
      "outputs": [
        {
          "output_type": "stream",
          "text": [
            "[ 1.  0.  2.  0.  4.  0.  8.  0. 16.  0.]\n"
          ],
          "name": "stdout"
        }
      ]
    },
    {
      "cell_type": "markdown",
      "metadata": {
        "id": "XfVIb7JYMQZ1"
      },
      "source": [
        "Если бы мы вместо этого написали y[::2] = 2 ** x, был бы создан временный массив для хранения результатов операции 2 ** x с последующим копированием этих значений в массив y. Для столь незначительных объемов вычислений особой разницы нет, но для очень больших массивов экономия памяти за счет аккуратного использования аргумента out может оказаться значительной."
      ]
    },
    {
      "cell_type": "markdown",
      "metadata": {
        "id": "f4ZFMLnjMQZ2"
      },
      "source": [
        "## Сводные показатели\n",
        "\n",
        "вызов метода reduce для универсальной функции add возвращает сумму всех элементов массива:"
      ]
    },
    {
      "cell_type": "code",
      "metadata": {
        "id": "mwTc5jpbMQZ3",
        "outputId": "e3a6b67b-e68f-427e-fe30-ce944a1f5874"
      },
      "source": [
        "x = np.arange(1, 6)\n",
        "np.add.reduce(x)"
      ],
      "execution_count": null,
      "outputs": [
        {
          "output_type": "execute_result",
          "data": {
            "text/plain": [
              "15"
            ]
          },
          "metadata": {
            "tags": []
          },
          "execution_count": 77
        }
      ]
    },
    {
      "cell_type": "code",
      "metadata": {
        "id": "6vGC3XNBMQZ6",
        "outputId": "79052be4-73e8-4d40-cde3-dc75ce19e462"
      },
      "source": [
        "np.multiply.reduce(x)"
      ],
      "execution_count": null,
      "outputs": [
        {
          "output_type": "execute_result",
          "data": {
            "text/plain": [
              "120"
            ]
          },
          "metadata": {
            "tags": []
          },
          "execution_count": 78
        }
      ]
    },
    {
      "cell_type": "markdown",
      "metadata": {
        "id": "BLjSSsuFMQZ9"
      },
      "source": [
        "Если же мы хотим сохранить все промежуточные результаты вычислений, можно вместо reduce воспользоваться функцией accumulate:"
      ]
    },
    {
      "cell_type": "code",
      "metadata": {
        "id": "_dvPx1t8MQZ-",
        "outputId": "1cb92d5a-8da8-48af-a9dd-6260c7320fe7"
      },
      "source": [
        "np.add.accumulate(x)"
      ],
      "execution_count": null,
      "outputs": [
        {
          "output_type": "execute_result",
          "data": {
            "text/plain": [
              "array([ 1,  3,  6, 10, 15])"
            ]
          },
          "metadata": {
            "tags": []
          },
          "execution_count": 79
        }
      ]
    },
    {
      "cell_type": "markdown",
      "metadata": {
        "id": "SBZxd4WwMQaC"
      },
      "source": [
        "## Суммирование значений из массива"
      ]
    },
    {
      "cell_type": "code",
      "metadata": {
        "id": "QmEJKnE4MQaD",
        "outputId": "c52895a4-1c22-4c68-f4c1-b9d48120551b"
      },
      "source": [
        "L = np.random.random(100)\n",
        "\n",
        "sum(L)"
      ],
      "execution_count": null,
      "outputs": [
        {
          "output_type": "execute_result",
          "data": {
            "text/plain": [
              "51.163886927509324"
            ]
          },
          "metadata": {
            "tags": []
          },
          "execution_count": 80
        }
      ]
    },
    {
      "cell_type": "code",
      "metadata": {
        "id": "oF4k_zhdMQaH",
        "outputId": "95ab9496-deb8-40f9-f144-14c8272fbbc9"
      },
      "source": [
        "np.sum(L)"
      ],
      "execution_count": null,
      "outputs": [
        {
          "output_type": "execute_result",
          "data": {
            "text/plain": [
              "51.16388692750932"
            ]
          },
          "metadata": {
            "tags": []
          },
          "execution_count": 81
        }
      ]
    },
    {
      "cell_type": "markdown",
      "metadata": {
        "id": "uZkxlfL0MQaN"
      },
      "source": [
        "поскольку функция sum выполняет операцию в скомпилированном коде, версия библиотеки NumPy данной операции работает намного быстрее:"
      ]
    },
    {
      "cell_type": "code",
      "metadata": {
        "id": "RKM6YqbyMQaO",
        "outputId": "a10fd65c-08cc-47ee-f641-90e7a24eca1e"
      },
      "source": [
        "big_array = np.random.rand(1000000)\n",
        "\n",
        "%timeit sum(big_array)\n",
        "%timeit np.sum(big_array)"
      ],
      "execution_count": null,
      "outputs": [
        {
          "output_type": "stream",
          "text": [
            "138 ms ± 5.53 ms per loop (mean ± std. dev. of 7 runs, 10 loops each)\n",
            "386 µs ± 22.4 µs per loop (mean ± std. dev. of 7 runs, 1000 loops each)\n"
          ],
          "name": "stdout"
        }
      ]
    },
    {
      "cell_type": "code",
      "metadata": {
        "id": "qUjry2cnMQaR",
        "outputId": "93a31a00-f967-4948-e4a6-afa92369362b"
      },
      "source": [
        "%timeit min(big_array)\n",
        "%timeit np.min(big_array)"
      ],
      "execution_count": null,
      "outputs": [
        {
          "output_type": "stream",
          "text": [
            "89.7 ms ± 3.28 ms per loop (mean ± std. dev. of 7 runs, 10 loops each)\n",
            "534 µs ± 58 µs per loop (mean ± std. dev. of 7 runs, 1000 loops each)\n"
          ],
          "name": "stdout"
        }
      ]
    },
    {
      "cell_type": "code",
      "metadata": {
        "id": "jU01cIhRMQaU",
        "outputId": "d51d24b7-22f5-4174-973f-b3b7eb2b1f7e"
      },
      "source": [
        "%timeit max(big_array)\n",
        "%timeit np.max(big_array)"
      ],
      "execution_count": null,
      "outputs": [
        {
          "output_type": "stream",
          "text": [
            "83.2 ms ± 2.94 ms per loop (mean ± std. dev. of 7 runs, 10 loops each)\n",
            "449 µs ± 8.97 µs per loop (mean ± std. dev. of 7 runs, 1000 loops each)\n"
          ],
          "name": "stdout"
        }
      ]
    },
    {
      "cell_type": "markdown",
      "metadata": {
        "id": "1a_iu6pjMQaW"
      },
      "source": [
        "## Многомерные сводные показатели\n",
        "\n",
        "Агрегирование по столбцу или строке — один из часто применяемых видов операций агрегирования. Пусть имеются какие-либо данные, находящиеся в двумерном массиве:"
      ]
    },
    {
      "cell_type": "code",
      "metadata": {
        "id": "ZVPnFvEJMQaW",
        "outputId": "3eab9a3f-aa9a-4e2d-cb5f-565cfbeddc7b"
      },
      "source": [
        "M = np.random.random((3, 4))\n",
        "print(M)"
      ],
      "execution_count": null,
      "outputs": [
        {
          "output_type": "stream",
          "text": [
            "[[0.53509    0.88518089 0.25518136 0.13130483]\n",
            " [0.95884927 0.17809462 0.61130112 0.7044003 ]\n",
            " [0.89172417 0.51511729 0.73705298 0.17818634]]\n"
          ],
          "name": "stdout"
        }
      ]
    },
    {
      "cell_type": "markdown",
      "metadata": {
        "id": "pJzrt2WxMQaY"
      },
      "source": [
        "По умолчанию все функции агрегирования библиотеки NumPy возвращают свод- ный показатель по всему массиву:"
      ]
    },
    {
      "cell_type": "code",
      "metadata": {
        "id": "88c7ndmqMQaZ",
        "outputId": "f7b7c343-4449-450a-d98b-edd888baa26a"
      },
      "source": [
        "M.sum()"
      ],
      "execution_count": null,
      "outputs": [
        {
          "output_type": "execute_result",
          "data": {
            "text/plain": [
              "6.581483155011551"
            ]
          },
          "metadata": {
            "tags": []
          },
          "execution_count": 86
        }
      ]
    },
    {
      "cell_type": "markdown",
      "metadata": {
        "id": "hY0iW6ttMQaa"
      },
      "source": [
        "Но функции агрегирования принимают на входе дополнительный аргумент, по- зволяющий указать ось, по которой вычисляется сводный показатель. Например, можно найти минимальное значение каждого из столбцов, указав axis=0:"
      ]
    },
    {
      "cell_type": "code",
      "metadata": {
        "id": "4N5jdfFgMQab",
        "outputId": "fbcbabaf-615c-44b9-e552-3550b1d1b6ea"
      },
      "source": [
        "M.min(axis=0)"
      ],
      "execution_count": null,
      "outputs": [
        {
          "output_type": "execute_result",
          "data": {
            "text/plain": [
              "array([0.53509   , 0.17809462, 0.25518136, 0.13130483])"
            ]
          },
          "metadata": {
            "tags": []
          },
          "execution_count": 87
        }
      ]
    },
    {
      "cell_type": "markdown",
      "metadata": {
        "id": "wwfNctu3MQad"
      },
      "source": [
        "Аналогично можно вычислить максимальное значение в каждой из строк:"
      ]
    },
    {
      "cell_type": "code",
      "metadata": {
        "id": "F8ex-Id1MQad",
        "outputId": "1a825c4a-8206-4ab2-be26-de0a5b66697f"
      },
      "source": [
        "M.max(axis=1)"
      ],
      "execution_count": null,
      "outputs": [
        {
          "output_type": "execute_result",
          "data": {
            "text/plain": [
              "array([0.88518089, 0.95884927, 0.89172417])"
            ]
          },
          "metadata": {
            "tags": []
          },
          "execution_count": 89
        }
      ]
    },
    {
      "cell_type": "markdown",
      "metadata": {
        "id": "s3plZYydMQah"
      },
      "source": [
        "![agg-functions.png](attachment:agg-functions.png)"
      ]
    },
    {
      "cell_type": "markdown",
      "metadata": {
        "id": "SorUKi8ZMQai"
      },
      "source": [
        "### Пример: чему равен средний рост президентов США"
      ]
    },
    {
      "cell_type": "code",
      "metadata": {
        "id": "ywwihmMiMQai",
        "outputId": "7c19e827-c36c-4598-d97c-a9d753c3d561"
      },
      "source": [
        "import pandas as pd\n",
        "data = pd.read_csv('./../data/president_heights.csv')\n",
        "heights = np.array(data['height(cm)'])\n",
        "print(heights)"
      ],
      "execution_count": null,
      "outputs": [
        {
          "output_type": "stream",
          "text": [
            "[189 170 189 163 183 171 185 168 173 183 173 173 175 178 183 193 178 173\n",
            " 174 183 183 168 170 178 182 180 183 178 182 188 175 179 183 193 182 183\n",
            " 177 185 188 188 182 185]\n"
          ],
          "name": "stdout"
        }
      ]
    },
    {
      "cell_type": "markdown",
      "metadata": {
        "id": "S2rQEvRSMQak"
      },
      "source": [
        "Теперь, получив такой массив данных, мы можем вычислить множество сводных статистических показателей:"
      ]
    },
    {
      "cell_type": "code",
      "metadata": {
        "id": "u5Tw-8TxMQak",
        "outputId": "9c090ee5-f84e-4088-bea5-8047459b12ab"
      },
      "source": [
        "print(\"Mean height: \", heights.mean())\n",
        "print(\"Standard deviation:\", heights.std())\n",
        "print(\"Minimum height: \", heights.min())\n",
        "print(\"Maximum height: \", heights.max())"
      ],
      "execution_count": null,
      "outputs": [
        {
          "output_type": "stream",
          "text": [
            "Mean height:  179.73809523809524\n",
            "Standard deviation: 6.931843442745892\n",
            "Minimum height:  163\n",
            "Maximum height:  193\n"
          ],
          "name": "stdout"
        }
      ]
    },
    {
      "cell_type": "code",
      "metadata": {
        "id": "I_YoUEZIMQam",
        "outputId": "3e705c1f-cb1c-4e72-c84b-bc579b3008d2"
      },
      "source": [
        "%matplotlib inline\n",
        "import matplotlib.pyplot as plt\n",
        "import seaborn; seaborn.set() # задает стиль графика\n",
        "\n",
        "plt.hist(heights)\n",
        "plt.title('Height Distribution of US Presidents') # Распределение роста\n",
        "\n",
        "# президентов США\n",
        "plt.xlabel('height (cm)') # Рост, см\n",
        "plt.ylabel('number'); # Количество"
      ],
      "execution_count": null,
      "outputs": [
        {
          "output_type": "display_data",
          "data": {
            "image/png": "[encoded data removed]",
            "text/plain": [
              "<Figure size 432x288 with 1 Axes>"
            ]
          },
          "metadata": {
            "tags": []
          }
        }
      ]
    },
    {
      "cell_type": "markdown",
      "metadata": {
        "id": "JNcYjMWcMQao"
      },
      "source": [
        "## Операторы сравнения как универсальные функции"
      ]
    },
    {
      "cell_type": "code",
      "metadata": {
        "id": "3rdcKzoQMQao"
      },
      "source": [
        "x = np.array([1, 2, 3, 4, 5])"
      ],
      "execution_count": null,
      "outputs": []
    },
    {
      "cell_type": "code",
      "metadata": {
        "id": "tWPCydBhMQap",
        "outputId": "c8d82eda-a926-4a57-f598-e8feae38d31a"
      },
      "source": [
        "x < 3"
      ],
      "execution_count": null,
      "outputs": [
        {
          "output_type": "execute_result",
          "data": {
            "text/plain": [
              "array([ True,  True, False, False, False])"
            ]
          },
          "metadata": {
            "tags": []
          },
          "execution_count": 95
        }
      ]
    },
    {
      "cell_type": "code",
      "metadata": {
        "id": "6gp05R5AMQat",
        "outputId": "bf1d249e-bf7c-4dac-bbbc-7fdcaaddefe5"
      },
      "source": [
        "x[x <= 3]"
      ],
      "execution_count": null,
      "outputs": [
        {
          "output_type": "execute_result",
          "data": {
            "text/plain": [
              "array([1, 2, 3])"
            ]
          },
          "metadata": {
            "tags": []
          },
          "execution_count": 98
        }
      ]
    },
    {
      "cell_type": "code",
      "metadata": {
        "id": "XNtpZayrMQav",
        "outputId": "a963bc36-6918-47ce-fc2d-5ec3f1e0be7d"
      },
      "source": [
        "x[x > 3]"
      ],
      "execution_count": null,
      "outputs": [
        {
          "output_type": "execute_result",
          "data": {
            "text/plain": [
              "array([4, 5])"
            ]
          },
          "metadata": {
            "tags": []
          },
          "execution_count": 97
        }
      ]
    },
    {
      "cell_type": "code",
      "metadata": {
        "id": "jdhbOUMMMQaz",
        "outputId": "c29b384d-60d5-46fd-f02c-6cc02945dc0e"
      },
      "source": [
        "np.count_nonzero(x < 3)"
      ],
      "execution_count": null,
      "outputs": [
        {
          "output_type": "execute_result",
          "data": {
            "text/plain": [
              "2"
            ]
          },
          "metadata": {
            "tags": []
          },
          "execution_count": 100
        }
      ]
    },
    {
      "cell_type": "code",
      "metadata": {
        "id": "E55CCCiSMQa2",
        "outputId": "eb952a0a-3db3-401c-9663-8d919ece3d70"
      },
      "source": [
        "np.sum(x < 3)"
      ],
      "execution_count": null,
      "outputs": [
        {
          "output_type": "execute_result",
          "data": {
            "text/plain": [
              "2"
            ]
          },
          "metadata": {
            "tags": []
          },
          "execution_count": 101
        }
      ]
    },
    {
      "cell_type": "code",
      "metadata": {
        "id": "e0tQeoQuMQa4",
        "outputId": "a05e5bda-5fb1-4df6-825b-4806d6c52c27"
      },
      "source": [
        "np.any(x < 3)"
      ],
      "execution_count": null,
      "outputs": [
        {
          "output_type": "execute_result",
          "data": {
            "text/plain": [
              "True"
            ]
          },
          "metadata": {
            "tags": []
          },
          "execution_count": 102
        }
      ]
    },
    {
      "cell_type": "code",
      "metadata": {
        "id": "Y7SthaHsMQa6",
        "outputId": "b57596dd-b267-4bcd-896e-e6e4d38c6eca"
      },
      "source": [
        "np.any(x > 6)"
      ],
      "execution_count": null,
      "outputs": [
        {
          "output_type": "execute_result",
          "data": {
            "text/plain": [
              "False"
            ]
          },
          "metadata": {
            "tags": []
          },
          "execution_count": 104
        }
      ]
    },
    {
      "cell_type": "code",
      "metadata": {
        "id": "9RQCqD8OMQa7",
        "outputId": "726e9efe-ce2f-4cfb-ae38-8f045c27da22"
      },
      "source": [
        "# Все ли значения меньше 3?\n",
        "np.all(x > 3)"
      ],
      "execution_count": null,
      "outputs": [
        {
          "output_type": "execute_result",
          "data": {
            "text/plain": [
              "False"
            ]
          },
          "metadata": {
            "tags": []
          },
          "execution_count": 107
        }
      ]
    },
    {
      "cell_type": "code",
      "metadata": {
        "id": "wlZXTCauMQbB",
        "outputId": "53cc91a3-8867-487b-c83d-4049609568c7"
      },
      "source": [
        "rng = np.random.RandomState(0)\n",
        "x = rng.randint(10, size=(3, 4))\n",
        "x"
      ],
      "execution_count": null,
      "outputs": [
        {
          "output_type": "execute_result",
          "data": {
            "text/plain": [
              "array([[5, 0, 3, 3],\n",
              "       [7, 9, 3, 5],\n",
              "       [2, 4, 7, 6]])"
            ]
          },
          "metadata": {
            "tags": []
          },
          "execution_count": 113
        }
      ]
    },
    {
      "cell_type": "code",
      "metadata": {
        "id": "zRQIZbQhMQbD",
        "outputId": "f037fe8b-d9fd-4b5c-b393-91305584e03e"
      },
      "source": [
        "np.all(x < 8, axis=1)"
      ],
      "execution_count": null,
      "outputs": [
        {
          "output_type": "execute_result",
          "data": {
            "text/plain": [
              "array([ True, False,  True])"
            ]
          },
          "metadata": {
            "tags": []
          },
          "execution_count": 114
        }
      ]
    },
    {
      "cell_type": "code",
      "metadata": {
        "id": "q385J1ypMQbF",
        "outputId": "ef259d58-af47-4e39-bee3-0137152acb99"
      },
      "source": [
        "np.all((x>0)&(x<6))"
      ],
      "execution_count": null,
      "outputs": [
        {
          "output_type": "execute_result",
          "data": {
            "text/plain": [
              "False"
            ]
          },
          "metadata": {
            "tags": []
          },
          "execution_count": 115
        }
      ]
    },
    {
      "cell_type": "code",
      "metadata": {
        "id": "BUNYuHhFMQbG",
        "outputId": "c8321602-4b13-471d-f1ad-8e58ecd0fcc8"
      },
      "source": [
        "np.any((x>2)&(x<5))"
      ],
      "execution_count": null,
      "outputs": [
        {
          "output_type": "execute_result",
          "data": {
            "text/plain": [
              "True"
            ]
          },
          "metadata": {
            "tags": []
          },
          "execution_count": 116
        }
      ]
    },
    {
      "cell_type": "markdown",
      "metadata": {
        "id": "tPzcGtnHMQbI"
      },
      "source": [
        "![bitwise.png](attachment:bitwise.png)"
      ]
    },
    {
      "cell_type": "code",
      "metadata": {
        "id": "9_oDEwsZMQbI"
      },
      "source": [
        ""
      ],
      "execution_count": null,
      "outputs": []
    },
    {
      "cell_type": "markdown",
      "metadata": {
        "id": "MZqHKbNhMfXN"
      },
      "source": [
        "## «Прихотливая» индексация\n",
        "\n",
        "Суть «прихотливой» индексации проста: она заключается в передаче массива\n",
        "индексов с целью одновременного доступа к нескольким элементам массива. Например, рассмотрим следующий массив:"
      ]
    },
    {
      "cell_type": "code",
      "metadata": {
        "id": "eCAENy6FMjjN"
      },
      "source": [
        "rand = np.random.RandomState(42)"
      ],
      "execution_count": 2,
      "outputs": []
    },
    {
      "cell_type": "code",
      "metadata": {
        "id": "Ly8VVGAcMrPT",
        "outputId": "ae78a223-4d91-4fc9-bca8-7bd1d0751127",
        "colab": {
          "base_uri": "https://localhost:8080/",
          "height": 34
        }
      },
      "source": [
        "x = rand.randint(100, size=10)\n",
        "print(x)"
      ],
      "execution_count": 3,
      "outputs": [
        {
          "output_type": "stream",
          "text": [
            "[51 92 14 71 60 20 82 86 74 74]\n"
          ],
          "name": "stdout"
        }
      ]
    },
    {
      "cell_type": "code",
      "metadata": {
        "id": "UOtV6OA0Mz2I",
        "outputId": "ec608487-be4e-462d-8a4d-28ffb1017ec3",
        "colab": {
          "base_uri": "https://localhost:8080/",
          "height": 34
        }
      },
      "source": [
        "indexes = [3, 7, 4]\n",
        "x[indexes]"
      ],
      "execution_count": 4,
      "outputs": [
        {
          "output_type": "execute_result",
          "data": {
            "text/plain": [
              "array([71, 86, 60])"
            ]
          },
          "metadata": {
            "tags": []
          },
          "execution_count": 4
        }
      ]
    },
    {
      "cell_type": "markdown",
      "metadata": {
        "id": "E9-afmkEM_T0"
      },
      "source": [
        "В случае «прихотливой» индексации форма результата отражает форму массивов\n",
        "индексов (index arrays), а не форму индексируемого массива:"
      ]
    },
    {
      "cell_type": "code",
      "metadata": {
        "id": "ehHZT7sMM5TY",
        "outputId": "80a03347-b9dd-40b4-c109-dba2ed44c1ab",
        "colab": {
          "base_uri": "https://localhost:8080/",
          "height": 50
        }
      },
      "source": [
        "indexes = np.array([[3, 7], [4, 5]])\n",
        "x[indexes]"
      ],
      "execution_count": 5,
      "outputs": [
        {
          "output_type": "execute_result",
          "data": {
            "text/plain": [
              "array([[71, 86],\n",
              "       [60, 20]])"
            ]
          },
          "metadata": {
            "tags": []
          },
          "execution_count": 5
        }
      ]
    },
    {
      "cell_type": "markdown",
      "metadata": {
        "id": "2pLikRbsNMEz"
      },
      "source": [
        "«Прихотливая» индексация работает и в случае многомерных массивов. Рассмотрим следующий массив:"
      ]
    },
    {
      "cell_type": "code",
      "metadata": {
        "id": "prHkxz9tNIai",
        "outputId": "9dc9ac9b-4918-4132-c7d0-c4737b077e35",
        "colab": {
          "base_uri": "https://localhost:8080/",
          "height": 67
        }
      },
      "source": [
        " X = np.arange(12).reshape((3, 4))\n",
        " X"
      ],
      "execution_count": 6,
      "outputs": [
        {
          "output_type": "execute_result",
          "data": {
            "text/plain": [
              "array([[ 0,  1,  2,  3],\n",
              "       [ 4,  5,  6,  7],\n",
              "       [ 8,  9, 10, 11]])"
            ]
          },
          "metadata": {
            "tags": []
          },
          "execution_count": 6
        }
      ]
    },
    {
      "cell_type": "code",
      "metadata": {
        "id": "vZ2QOmYrNPWA",
        "outputId": "91bd2a2e-d36f-4796-bd2c-a868d19f0a71",
        "colab": {
          "base_uri": "https://localhost:8080/",
          "height": 34
        }
      },
      "source": [
        "row = np.array([0, 1, 2])\n",
        "col = np.array([2, 1, 3])\n",
        "\n",
        "X[row, col]"
      ],
      "execution_count": 7,
      "outputs": [
        {
          "output_type": "execute_result",
          "data": {
            "text/plain": [
              "array([ 2,  5, 11])"
            ]
          },
          "metadata": {
            "tags": []
          },
          "execution_count": 7
        }
      ]
    },
    {
      "cell_type": "markdown",
      "metadata": {
        "id": "n0Cn7MnSNxbW"
      },
      "source": [
        "если мы скомбинируем вектор-столбец и вектор-строку в индексах, то получим двумерный результат:"
      ]
    },
    {
      "cell_type": "code",
      "metadata": {
        "id": "lnffStLMNVZU",
        "outputId": "ae29fe61-be1d-4ff6-f355-6c63514ee4cf",
        "colab": {
          "base_uri": "https://localhost:8080/",
          "height": 67
        }
      },
      "source": [
        "X[row[:, np.newaxis], col]"
      ],
      "execution_count": 8,
      "outputs": [
        {
          "output_type": "execute_result",
          "data": {
            "text/plain": [
              "array([[ 2,  1,  3],\n",
              "       [ 6,  5,  7],\n",
              "       [10,  9, 11]])"
            ]
          },
          "metadata": {
            "tags": []
          },
          "execution_count": 8
        }
      ]
    },
    {
      "cell_type": "markdown",
      "metadata": {
        "id": "MGLrog4nOCXb"
      },
      "source": [
        "При работе с «прихотливой» индексацией важно никогда не забывать, что возвращаемое значение отражает транслируемую форму индексов, а не форму индексируемого массива."
      ]
    },
    {
      "cell_type": "code",
      "metadata": {
        "id": "b4TM7Bq9N3J0"
      },
      "source": [
        ""
      ],
      "execution_count": null,
      "outputs": []
    }
  ]
}