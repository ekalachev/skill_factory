{
 "cells": [
  {
   "cell_type": "code",
   "execution_count": 1,
   "metadata": {},
   "outputs": [],
   "source": [
    "import numpy as np"
   ]
  },
  {
   "cell_type": "code",
   "execution_count": 2,
   "metadata": {},
   "outputs": [],
   "source": [
    "def search(left: int, right: int, number: int, counter: int) -> int:\n",
    "    '''\n",
    "    The function works as a recursive binary search. Returns number of steps (counter).\n",
    "    \n",
    "    Parameters:\n",
    "    left (int): Minimum value for range\n",
    "    right (int): Maximum value for range\n",
    "    number (int): The number we are looking for\n",
    "    counter (int): How quickly we found the required number\n",
    "    \n",
    "    \n",
    "    Returns:\n",
    "    int: Returns number of steps (counter)\n",
    "    '''\n",
    "    \n",
    "    counter += 1\n",
    "    \n",
    "    if right >= left:\n",
    "        mid = (right + left) // 2\n",
    "        \n",
    "        if mid == number:\n",
    "            return counter\n",
    "        elif mid > number:\n",
    "            return search(left, mid - 1, number, counter)\n",
    "        else:\n",
    "            return search(mid + 1, right, number, counter)\n",
    "    else:\n",
    "        # If the function has not found a number\n",
    "        return 0\n",
    "        \n",
    "        "
   ]
  },
  {
   "cell_type": "code",
   "execution_count": 3,
   "metadata": {},
   "outputs": [],
   "source": [
    "def score_game() -> int:\n",
    "    '''\n",
    "    Runs the game 1000 times to see how quickly the game guesses the number.\n",
    "    \n",
    "    \n",
    "    Returns:\n",
    "    int: Returns game score\n",
    "    '''\n",
    "    \n",
    "    count_ls = []\n",
    "    np.random.seed(1)\n",
    "    random_array = np.random.randint(1, 101, size=(1000))\n",
    "\n",
    "    for random_number in random_array:   \n",
    "        count = search(1, 100, random_number, 0)    \n",
    "        count_ls.append(count)\n",
    "    \n",
    "    score = int(np.mean(count_ls))\n",
    "    \n",
    "    return score"
   ]
  },
  {
   "cell_type": "code",
   "execution_count": 4,
   "metadata": {},
   "outputs": [
    {
     "name": "stdout",
     "output_type": "stream",
     "text": [
      "Average speed: 5 steps\n"
     ]
    }
   ],
   "source": [
    "score = score_game()\n",
    "print(f'Average speed: {score} steps')"
   ]
  },
  {
   "cell_type": "code",
   "execution_count": null,
   "metadata": {},
   "outputs": [],
   "source": []
  }
 ],
 "metadata": {
  "kernelspec": {
   "display_name": "Python 3",
   "language": "python",
   "name": "python3"
  },
  "language_info": {
   "codemirror_mode": {
    "name": "ipython",
    "version": 3
   },
   "file_extension": ".py",
   "mimetype": "text/x-python",
   "name": "python",
   "nbconvert_exporter": "python",
   "pygments_lexer": "ipython3",
   "version": "3.8.3"
  }
 },
 "nbformat": 4,
 "nbformat_minor": 4
}
