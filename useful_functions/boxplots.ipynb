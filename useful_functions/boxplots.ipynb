{
 "cells": [
  {
   "cell_type": "code",
   "execution_count": 1,
   "id": "forty-liberia",
   "metadata": {},
   "outputs": [],
   "source": [
    "import pandas as pd\n",
    "import numpy as np\n",
    "\n",
    "import matplotlib.pyplot as plt\n",
    "import seaborn as sns\n",
    "\n",
    "%matplotlib inline"
   ]
  },
  {
   "cell_type": "code",
   "execution_count": 2,
   "id": "consecutive-bachelor",
   "metadata": {},
   "outputs": [],
   "source": [
    "def get_boxplot(df, x_column, y_column):\n",
    "    '''\n",
    "    The method draws the box plot for a particular columns.\n",
    "\n",
    "    Parameters:\n",
    "    df (Pandas DataFrame): Dataset.\n",
    "    x_column (str): A name of a x_column.\n",
    "    y_column (str): A name of a y_column.\n",
    "    '''\n",
    "\n",
    "    fig, ax = plt.subplots(figsize=(14, 8))\n",
    "\n",
    "    sns.boxplot(\n",
    "        x=x_column,\n",
    "        y=y_column,\n",
    "        ax=ax,\n",
    "        data=df.loc[\n",
    "            df.loc[:, x_column].isin(\n",
    "                df.loc[:, x_column].value_counts().index[:10]\n",
    "            )\n",
    "        ]\n",
    "    )\n",
    "\n",
    "    plt.xticks(rotation=45)\n",
    "    ax.set_title('Boxplot for ' + x_column)\n",
    "    plt.show()"
   ]
  },
  {
   "attachments": {},
   "cell_type": "markdown",
   "id": "coated-shame",
   "metadata": {},
   "source": [
    "Using:\n",
    "\n",
    "![boxplot.png](img/boxplot.png)"
   ]
  },
  {
   "cell_type": "code",
   "execution_count": 3,
   "id": "convinced-theater",
   "metadata": {},
   "outputs": [],
   "source": [
    "def boxplot_x(series):\n",
    "    fig, ax = plt.subplots(figsize=(16, 8))\n",
    "    sns.boxplot(x=series, color='yellow', ax=ax)\n",
    "    plt.xticks(rotation=45)\n",
    "    plt.show()"
   ]
  },
  {
   "cell_type": "markdown",
   "id": "sublime-monitor",
   "metadata": {},
   "source": [
    "Using:\n",
    "\n",
    "![boxplot_x](./img/boxplot_x.png)"
   ]
  },
  {
   "cell_type": "code",
   "execution_count": null,
   "id": "textile-grounds",
   "metadata": {},
   "outputs": [],
   "source": []
  }
 ],
 "metadata": {
  "kernelspec": {
   "display_name": "Python 3",
   "language": "python",
   "name": "python3"
  },
  "language_info": {
   "codemirror_mode": {
    "name": "ipython",
    "version": 3
   },
   "file_extension": ".py",
   "mimetype": "text/x-python",
   "name": "python",
   "nbconvert_exporter": "python",
   "pygments_lexer": "ipython3",
   "version": "3.7.7"
  }
 },
 "nbformat": 4,
 "nbformat_minor": 5
}
