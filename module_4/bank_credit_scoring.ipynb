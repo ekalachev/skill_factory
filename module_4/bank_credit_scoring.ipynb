{
 "cells": [
  {
   "cell_type": "markdown",
   "metadata": {},
   "source": [
    "# Bank credit scoring\n",
    "\n",
    "You have been provided with information from the borrowers' personal data and the fact that there is a default.\n",
    "\n",
    "## Field descriptions:\n",
    "\n",
    "- `client_id` - client identifier\n",
    "- `education` - level of education\n",
    "- `sex` - borrower's gender\n",
    "- `age` - borrower's age\n",
    "- `car` - flag of the presence of a car\n",
    "- `car_type` - flag of a foreign car\n",
    "- `decline_app_cnt` - number of declined past bids\n",
    "- `good_work` - flag of having \"good\" work\n",
    "- `bki_request_cnt` - number of requests to the bki\n",
    "- `home_address` - home address categorizer\n",
    "- `work_address` - work address categorizer\n",
    "- `income` - borrower's income\n",
    "- `foreign_passport` - availability of a foreign passport\n",
    "- `sna` - communication between the borrower and the bank's clients\n",
    "- `first_time` - how old the information about the borrower was\n",
    "- `score_bki` - scoring score according to data from the BCI\n",
    "- `region_rating` - region rating\n",
    "- `app_date` - date of application submission\n",
    "- `default` - credit default flag"
   ]
  },
  {
   "cell_type": "code",
   "execution_count": 1,
   "metadata": {},
   "outputs": [],
   "source": [
    "def import_extra_package(package):\n",
    "    try:\n",
    "        return __import__(package)\n",
    "    except ImportError:\n",
    "        !pip install package\n",
    "        return __import__(package)"
   ]
  },
  {
   "cell_type": "code",
   "execution_count": 2,
   "metadata": {},
   "outputs": [],
   "source": [
    "import pandas as pd\n",
    "import_extra_package('pandas_profiling')\n",
    "from pandas_profiling import ProfileReport\n",
    "import numpy as np\n",
    "\n",
    "import datetime\n",
    "\n",
    "import matplotlib.pyplot as plt\n",
    "import seaborn as sns \n",
    "%matplotlib inline\n",
    "\n",
    "from sklearn.feature_selection import f_classif, mutual_info_classif\n",
    "from sklearn.preprocessing import LabelEncoder, OneHotEncoder, StandardScaler\n",
    "from sklearn.metrics import plot_confusion_matrix\n",
    "from sklearn.preprocessing import PolynomialFeatures\n",
    "from sklearn.model_selection import train_test_split,GridSearchCV\n",
    "from sklearn.metrics import auc, roc_auc_score, roc_curve\n",
    "from sklearn.linear_model import LogisticRegression\n",
    "from sklearn.metrics import accuracy_score, precision_score, recall_score, f1_score\n",
    "from sklearn.model_selection import cross_validate\n",
    "from sklearn.metrics import confusion_matrix, ConfusionMatrixDisplay\n",
    "from scipy.stats import randint\n",
    "from sklearn.tree import DecisionTreeClassifier\n",
    "from sklearn.model_selection import RandomizedSearchCV\n",
    "\n",
    "import_extra_package('mlxtend')\n",
    "from mlxtend.feature_selection import ExhaustiveFeatureSelector as EFS\n",
    "from math import log as log\n",
    "import os"
   ]
  },
  {
   "cell_type": "markdown",
   "metadata": {},
   "source": [
    "## Helpers\n",
    "\n",
    "Functions to combine all operations."
   ]
  },
  {
   "cell_type": "code",
   "execution_count": null,
   "metadata": {},
   "outputs": [],
   "source": []
  },
  {
   "cell_type": "markdown",
   "metadata": {},
   "source": [
    "## Load the train and test datasets:"
   ]
  },
  {
   "cell_type": "code",
   "execution_count": 3,
   "metadata": {},
   "outputs": [],
   "source": [
    "path = ''"
   ]
  },
  {
   "cell_type": "code",
   "execution_count": 4,
   "metadata": {},
   "outputs": [
    {
     "name": "stdout",
     "output_type": "stream",
     "text": [
      "kaggle\\input\\sf-dst-scoring\\sample_submission.csv\n",
      "kaggle\\input\\sf-dst-scoring\\test.csv.zip\n",
      "kaggle\\input\\sf-dst-scoring\\train.csv.zip\n"
     ]
    }
   ],
   "source": [
    "for dirname, _, filenames in os.walk('kaggle'):\n",
    "    for filename in filenames:\n",
    "        print(os.path.join(dirname, filename))\n",
    "        path = dirname"
   ]
  },
  {
   "cell_type": "code",
   "execution_count": 5,
   "metadata": {},
   "outputs": [
    {
     "name": "stdout",
     "output_type": "stream",
     "text": [
      "kaggle\\input\\sf-dst-scoring\n"
     ]
    }
   ],
   "source": [
    "if path == '':\n",
    "    raise Exception('The input path is empty!')\n",
    "else:\n",
    "    print(path)"
   ]
  },
  {
   "cell_type": "code",
   "execution_count": 6,
   "metadata": {},
   "outputs": [],
   "source": [
    "train_df = pd.read_csv(os.path.join(path, 'train.csv.zip'))\n",
    "test_df = pd.read_csv(os.path.join(path, 'test.csv.zip'))"
   ]
  },
  {
   "cell_type": "markdown",
   "metadata": {},
   "source": [
    "## General data inspection: "
   ]
  },
  {
   "cell_type": "code",
   "execution_count": 7,
   "metadata": {},
   "outputs": [],
   "source": [
    "profile = train_df.profile_report(\n",
    "    title='Bank credit scoring',\n",
    "    dark_mode=True,\n",
    "    progress_bar=False,\n",
    "    correlations={\n",
    "        'pearson': {'calculate': True},\n",
    "        'spearman': {'calculate': False},\n",
    "        'kendall': {'calculate': False},\n",
    "        'phi_k': {'calculate': False},\n",
    "        'cramers': {'calculate': False},\n",
    "    },\n",
    "    interactions={\n",
    "        'continuous': False,\n",
    "        'targets': []\n",
    "    },\n",
    "    missing_diagrams={\n",
    "        'heatmap': True,\n",
    "        'dendrogram': False,\n",
    "        'matrix': False\n",
    "    },\n",
    "    vars={\n",
    "        'cat': {\n",
    "            'characters': False,\n",
    "            'words': False,\n",
    "            'n_obs': 10\n",
    "        }\n",
    "    }\n",
    ")"
   ]
  },
  {
   "cell_type": "code",
   "execution_count": 8,
   "metadata": {},
   "outputs": [
    {
     "data": {
      "application/vnd.jupyter.widget-view+json": {
       "model_id": "13cfce2c0189414da685892169c8527a",
       "version_major": 2,
       "version_minor": 0
      },
      "text/plain": [
       "VBox(children=(Tab(children=(Tab(children=(GridBox(children=(VBox(children=(GridspecLayout(children=(HTML(valu…"
      ]
     },
     "metadata": {},
     "output_type": "display_data"
    }
   ],
   "source": [
    "profile.to_widgets()"
   ]
  },
  {
   "cell_type": "code",
   "execution_count": null,
   "metadata": {},
   "outputs": [],
   "source": []
  }
 ],
 "metadata": {
  "kernelspec": {
   "display_name": "Python 3",
   "language": "python",
   "name": "python3"
  },
  "language_info": {
   "codemirror_mode": {
    "name": "ipython",
    "version": 3
   },
   "file_extension": ".py",
   "mimetype": "text/x-python",
   "name": "python",
   "nbconvert_exporter": "python",
   "pygments_lexer": "ipython3",
   "version": "3.8.3"
  }
 },
 "nbformat": 4,
 "nbformat_minor": 4
}
