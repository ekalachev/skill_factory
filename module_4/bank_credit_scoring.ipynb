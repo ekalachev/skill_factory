{
 "cells": [
  {
   "cell_type": "markdown",
   "metadata": {},
   "source": [
    "# Bank credit scoring\n",
    "\n",
    "You have been provided with information from the borrowers' personal data and the fact that there is a default.\n",
    "\n",
    "## Field descriptions:\n",
    "\n",
    "- `client_id` - client identifier\n",
    "- `education` - level of education\n",
    "- `sex` - borrower's gender\n",
    "- `age` - borrower's age\n",
    "- `car` - flag of the presence of a car\n",
    "- `car_type` - flag of a foreign car\n",
    "- `decline_app_cnt` - number of declined past bids\n",
    "- `good_work` - flag of having \"good\" work\n",
    "- `bki_request_cnt` - number of requests to the bki\n",
    "- `home_address` - home address categorizer\n",
    "- `work_address` - work address categorizer\n",
    "- `income` - borrower's income\n",
    "- `foreign_passport` - availability of a foreign passport\n",
    "- `sna` - relationship between the borrower and the bank's clients\n",
    "- `first_time` - how old the information about the borrower was\n",
    "- `score_bki` - scoring according to data from the BKI\n",
    "- `region_rating` - region rating\n",
    "- `app_date` - date of application submission\n",
    "- `default` - credit default flag"
   ]
  },
  {
   "cell_type": "code",
   "execution_count": 1,
   "metadata": {},
   "outputs": [],
   "source": [
    "import os\n",
    "\n",
    "\n",
    "def import_extra_package(package):\n",
    "    try:\n",
    "        __import__(package)\n",
    "    except ImportError:\n",
    "        os.system(\"pip install \" + package)\n",
    "        __import__(package)"
   ]
  },
  {
   "cell_type": "code",
   "execution_count": 2,
   "metadata": {},
   "outputs": [],
   "source": [
    "import pandas as pd\n",
    "import_extra_package('pandas_profiling')\n",
    "from pandas_profiling import ProfileReport\n",
    "import numpy as np\n",
    "\n",
    "import datetime\n",
    "\n",
    "import matplotlib.pyplot as plt\n",
    "import seaborn as sns \n",
    "%matplotlib inline\n",
    "\n",
    "from sklearn.feature_selection import f_classif, mutual_info_classif\n",
    "from sklearn.preprocessing import LabelEncoder, OneHotEncoder, StandardScaler\n",
    "from sklearn.metrics import plot_confusion_matrix\n",
    "from sklearn.preprocessing import PolynomialFeatures\n",
    "from sklearn.model_selection import train_test_split,GridSearchCV\n",
    "from sklearn.metrics import auc, roc_auc_score, roc_curve\n",
    "from sklearn.linear_model import LogisticRegression\n",
    "from sklearn.metrics import accuracy_score, precision_score, recall_score, f1_score\n",
    "from sklearn.model_selection import cross_validate\n",
    "from sklearn.metrics import confusion_matrix, ConfusionMatrixDisplay\n",
    "from scipy.stats import randint\n",
    "from sklearn.tree import DecisionTreeClassifier\n",
    "from sklearn.model_selection import RandomizedSearchCV\n",
    "\n",
    "import_extra_package('mlxtend')\n",
    "from mlxtend.feature_selection import ExhaustiveFeatureSelector as EFS\n",
    "from math import log as log\n",
    "import_extra_package('nameof')"
   ]
  },
  {
   "cell_type": "markdown",
   "metadata": {},
   "source": [
    "## Helpers\n",
    "\n",
    "Functions to combine all operations."
   ]
  },
  {
   "cell_type": "code",
   "execution_count": 3,
   "metadata": {},
   "outputs": [],
   "source": [
    "def profile_report(df):\n",
    "    if df is None:\n",
    "        raise TypeError(nameof(df))\n",
    "\n",
    "    profile = df.profile_report(\n",
    "        title='Bank credit scoring',\n",
    "        dark_mode=True,\n",
    "        progress_bar=False,\n",
    "        correlations={\n",
    "            'pearson': {'calculate': True},\n",
    "            'spearman': {'calculate': False},\n",
    "            'kendall': {'calculate': False},\n",
    "            'phi_k': {'calculate': False},\n",
    "            'cramers': {'calculate': False},\n",
    "        },\n",
    "        interactions={\n",
    "            'continuous': False,\n",
    "            'targets': []\n",
    "        },\n",
    "        missing_diagrams={\n",
    "            'heatmap': True,\n",
    "            'dendrogram': False,\n",
    "            'matrix': False\n",
    "        },\n",
    "        vars={\n",
    "            'cat': {\n",
    "                'characters': False,\n",
    "                'words': False,\n",
    "                'n_obs': 10\n",
    "            }\n",
    "        }\n",
    "    )\n",
    "\n",
    "    return profile\n",
    "\n",
    "\n",
    "class ProcessingService():\n",
    "    def __init__(self):\n",
    "        self.label_encoder = LabelEncoder()\n",
    "        self.standard_scaler = StandardScaler()\n",
    "\n",
    "    def binary_categories_to_numbers(self, df, column):\n",
    "        df[column] = self.label_encoder.fit_transform(df[column])\n",
    "\n",
    "    def get_dummies(self, df, column):\n",
    "        return pd.get_dummies(df, columns=[column])\n",
    "    \n",
    "    def standardizing_numeric_variables(self, df, column):\n",
    "        df[column] = self.standard_scaler.fit_transform(df[column].values)"
   ]
  },
  {
   "cell_type": "markdown",
   "metadata": {},
   "source": [
    "## Load the train and test datasets:"
   ]
  },
  {
   "cell_type": "code",
   "execution_count": 4,
   "metadata": {},
   "outputs": [],
   "source": [
    "path = ''"
   ]
  },
  {
   "cell_type": "code",
   "execution_count": 5,
   "metadata": {},
   "outputs": [
    {
     "name": "stdout",
     "output_type": "stream",
     "text": [
      "kaggle\\input\\sf-dst-scoring\\sample_submission.csv\n",
      "kaggle\\input\\sf-dst-scoring\\test.csv.zip\n",
      "kaggle\\input\\sf-dst-scoring\\train.csv.zip\n"
     ]
    }
   ],
   "source": [
    "for dirname, _, filenames in os.walk('kaggle'):\n",
    "    for filename in filenames:\n",
    "        print(os.path.join(dirname, filename))\n",
    "        path = dirname"
   ]
  },
  {
   "cell_type": "code",
   "execution_count": 6,
   "metadata": {},
   "outputs": [
    {
     "name": "stdout",
     "output_type": "stream",
     "text": [
      "kaggle\\input\\sf-dst-scoring\n"
     ]
    }
   ],
   "source": [
    "if path == '':\n",
    "    raise Exception('The input path is empty!')\n",
    "else:\n",
    "    print(path)"
   ]
  },
  {
   "cell_type": "code",
   "execution_count": 7,
   "metadata": {},
   "outputs": [],
   "source": [
    "train_df = pd.read_csv(os.path.join(path, 'train.csv.zip'))\n",
    "test_df = pd.read_csv(os.path.join(path, 'test.csv.zip'))"
   ]
  },
  {
   "cell_type": "markdown",
   "metadata": {},
   "source": [
    "## General data inspection:"
   ]
  },
  {
   "cell_type": "code",
   "execution_count": 8,
   "metadata": {},
   "outputs": [],
   "source": [
    "train_df_profile = profile_report(train_df)\n",
    "test_df_profile = profile_report(test_df)"
   ]
  },
  {
   "cell_type": "code",
   "execution_count": 9,
   "metadata": {},
   "outputs": [],
   "source": [
    "# profile.to_widgets()\n",
    "train_df_profile.to_file('train_df_output.html')\n",
    "test_df_profile.to_file('test_df_output.html')"
   ]
  },
  {
   "cell_type": "markdown",
   "metadata": {},
   "source": [
    "Here are the links on: **[the training dataset profile report](./train_df_output.html)** and **[the test dataset profile report](./test_df_output.html)**."
   ]
  },
  {
   "cell_type": "markdown",
   "metadata": {},
   "source": [
    "## Cleaning and Preparing the Data\n",
    "\n",
    "Let's create the processing service object:"
   ]
  },
  {
   "cell_type": "code",
   "execution_count": 10,
   "metadata": {},
   "outputs": [],
   "source": [
    "processing_service = ProcessingService()"
   ]
  },
  {
   "cell_type": "markdown",
   "metadata": {},
   "source": [
    "Prepare lists for binary, categorical and numeric variables:"
   ]
  },
  {
   "cell_type": "code",
   "execution_count": 11,
   "metadata": {},
   "outputs": [],
   "source": [
    "# binary columns\n",
    "bin_cols = []\n",
    "\n",
    "# categorical columns\n",
    "cat_cols = []\n",
    "\n",
    "# numeric columns\n",
    "num_cols = []"
   ]
  },
  {
   "cell_type": "markdown",
   "metadata": {},
   "source": [
    "### Client identifier: [client_id]\n",
    "\n",
    "The `client_id` feature is a unique number of a user. The similar features are garbage. Let's remove it from the training dataset."
   ]
  },
  {
   "cell_type": "code",
   "execution_count": 12,
   "metadata": {},
   "outputs": [],
   "source": [
    "train_df.drop(columns=['client_id'], inplace=True)"
   ]
  },
  {
   "cell_type": "markdown",
   "metadata": {},
   "source": [
    "### Level of education: [education]\n",
    "\n",
    "The `education` feature is a categorical feature. It stores the level of education of a client. This feature has some missing values. The training dataset has approximately 0.4% of missing values. The test dataset has about 0.5% of missing values. The possible values are: SCH, GRD, UGR, PGR, ACD. The most popular is the SCH. There is more than 50% of SCH values. Let's fill the missing values with SCH value."
   ]
  },
  {
   "cell_type": "code",
   "execution_count": 13,
   "metadata": {},
   "outputs": [],
   "source": [
    "train_df['education'].fillna('SCH', inplace=True)\n",
    "test_df['education'].fillna('SCH', inplace=True)"
   ]
  },
  {
   "cell_type": "markdown",
   "metadata": {},
   "source": [
    "The feature can be modified as a dummy variable. Let's do it later with all categorical features."
   ]
  },
  {
   "cell_type": "code",
   "execution_count": 14,
   "metadata": {},
   "outputs": [],
   "source": [
    "# add column to categorical list\n",
    "cat_cols.append('education')"
   ]
  },
  {
   "cell_type": "markdown",
   "metadata": {},
   "source": [
    "## Borrower's gender: [sex]\n",
    "\n",
    "The `sex` feature can have only two values M and F. It can be modified as a binary variable. Male = 1, Female = 0. Let's do it later with all binary features."
   ]
  },
  {
   "cell_type": "code",
   "execution_count": 15,
   "metadata": {},
   "outputs": [],
   "source": [
    "# add column to binary list\n",
    "bin_cols.append('sex')"
   ]
  },
  {
   "cell_type": "markdown",
   "metadata": {},
   "source": [
    "## Borrower's age: [age]\n",
    "\n",
    "The `age` feature is a numeric variable. The histogram shows us the Distribution has a big right tail. We can try to work with the logarithm of this variable. Let's do it later with all numeric features."
   ]
  },
  {
   "cell_type": "code",
   "execution_count": 16,
   "metadata": {},
   "outputs": [],
   "source": [
    "# add column to numeric list\n",
    "num_cols.append('age')"
   ]
  },
  {
   "cell_type": "markdown",
   "metadata": {},
   "source": [
    "## Flag of the presence of a car: [car]\n",
    "\n",
    "The `car` feature has only two values True and False. It can be modified as a binary variable. True = 1, False = 0. Let's do it later with all binary features."
   ]
  },
  {
   "cell_type": "code",
   "execution_count": 17,
   "metadata": {},
   "outputs": [],
   "source": [
    "# add column to binary list\n",
    "bin_cols.append('car')"
   ]
  },
  {
   "cell_type": "markdown",
   "metadata": {},
   "source": [
    "## Flag of a foreign car: [car_type]\n",
    "\n",
    "The `car_type` feature has only two values True and False. It can be modified as a binary variable. True = 1, False = 0. Let's do it later with all binary features."
   ]
  },
  {
   "cell_type": "code",
   "execution_count": 18,
   "metadata": {},
   "outputs": [],
   "source": [
    "# add column to binary list\n",
    "bin_cols.append('car_type')"
   ]
  },
  {
   "cell_type": "markdown",
   "metadata": {},
   "source": [
    "## Number of declined past bids: [decline_app_cnt]\n",
    "\n",
    "The `decline_app_cnt` feature is a numeric variable. The histogram shows us the Distribution has a big right tail. We can try to work with the logarithm of this variable. Let's do it later with all numeric features."
   ]
  },
  {
   "cell_type": "code",
   "execution_count": 19,
   "metadata": {},
   "outputs": [],
   "source": [
    "# add column to numeric list\n",
    "num_cols.append('decline_app_cnt')"
   ]
  },
  {
   "cell_type": "markdown",
   "metadata": {},
   "source": [
    "## Flag of having \"good\" work: [good_work]\n",
    "\n",
    "The `good_work` feature has only two values 1 and 0. Let's leave it as it is."
   ]
  },
  {
   "cell_type": "code",
   "execution_count": 20,
   "metadata": {},
   "outputs": [],
   "source": [
    "# add column to binary list\n",
    "bin_cols.append('good_work')"
   ]
  },
  {
   "cell_type": "markdown",
   "metadata": {},
   "source": [
    "## Number of requests to the bki: [bki_request_cnt]\n",
    "\n",
    "The `bki_request_cnt` feature is a numeric variable. The histogram shows us the Distribution has a big right tail. We can try to work with the logarithm of this variable. Let's do it later with all numeric features."
   ]
  },
  {
   "cell_type": "code",
   "execution_count": 21,
   "metadata": {},
   "outputs": [],
   "source": [
    "# add column to numeric list\n",
    "num_cols.append('bki_request_cnt')"
   ]
  },
  {
   "cell_type": "markdown",
   "metadata": {},
   "source": [
    "## Home address categorizer: [home_address]\n",
    "\n",
    "The `home_address` is a categorical feature. The feature has three possible values: 1, 2, 3. The feature can be modified as a dummy variable. Let's do it later with all categorical features."
   ]
  },
  {
   "cell_type": "code",
   "execution_count": 22,
   "metadata": {},
   "outputs": [],
   "source": [
    "# add column to categorical list\n",
    "cat_cols.append('home_address')"
   ]
  },
  {
   "cell_type": "markdown",
   "metadata": {},
   "source": [
    "## Work address categorizer: [work_address]\n",
    "\n",
    "The `work_address` is a categorical feature. The feature has three possible values: 1, 2, 3. The feature can be modified as a dummy variable. Let's do it later with all categorical features."
   ]
  },
  {
   "cell_type": "code",
   "execution_count": 23,
   "metadata": {},
   "outputs": [],
   "source": [
    "# add column to categorical list\n",
    "cat_cols.append('work_address')"
   ]
  },
  {
   "cell_type": "markdown",
   "metadata": {},
   "source": [
    "## Borrower's income: [income]\n",
    "\n",
    "The `income` feature is a numeric variable. The histogram shows us the Distribution has a big right tail. We can try to work with the logarithm of this variable. Let's do it later with all numeric features."
   ]
  },
  {
   "cell_type": "code",
   "execution_count": null,
   "metadata": {},
   "outputs": [],
   "source": [
    "# add column to numeric list\n",
    "num_cols.append('income')"
   ]
  },
  {
   "cell_type": "markdown",
   "metadata": {},
   "source": [
    "## Availability of a foreign passport: [foreign_passport]\n",
    "\n",
    "The `foreign_passport` feature has only two values True and False. It can be modified as a binary variable. True = 1, False = 0. Let's do it later with all binary features."
   ]
  },
  {
   "cell_type": "code",
   "execution_count": 24,
   "metadata": {},
   "outputs": [],
   "source": [
    "# add column to binary list\n",
    "bin_cols.append('foreign_passport')"
   ]
  },
  {
   "cell_type": "markdown",
   "metadata": {},
   "source": [
    "## Relationship between the borrower and the bank's clients: [sna]\n",
    "\n",
    "The `sna` is a numerical feature. We can try to work with the logarithm of this variable. Let's do it later with all numeric features."
   ]
  },
  {
   "cell_type": "code",
   "execution_count": 25,
   "metadata": {},
   "outputs": [],
   "source": [
    "# add column to categorical list\n",
    "num_cols.append('sna')"
   ]
  },
  {
   "cell_type": "markdown",
   "metadata": {},
   "source": [
    "## How old the information about the borrower was: [first_time]\n",
    "\n",
    "The `first_time` is a numerical feature. We can try to work with the logarithm of this variable. Let's do it later with all numeric features."
   ]
  },
  {
   "cell_type": "code",
   "execution_count": 27,
   "metadata": {},
   "outputs": [],
   "source": [
    "# add column to categorical list\n",
    "num_cols.append('first_time')"
   ]
  },
  {
   "cell_type": "markdown",
   "metadata": {},
   "source": [
    "## Scoring according to data from the BKI: [score_bki]\n",
    "\n",
    "The `score_bki` is a numeric variable. "
   ]
  },
  {
   "cell_type": "code",
   "execution_count": null,
   "metadata": {},
   "outputs": [],
   "source": []
  },
  {
   "cell_type": "markdown",
   "metadata": {},
   "source": [
    "region_rating - region rating\n",
    "app_date - date of application submission\n",
    "default - credit default flag"
   ]
  },
  {
   "cell_type": "code",
   "execution_count": null,
   "metadata": {},
   "outputs": [],
   "source": []
  },
  {
   "cell_type": "code",
   "execution_count": null,
   "metadata": {},
   "outputs": [],
   "source": []
  },
  {
   "cell_type": "code",
   "execution_count": null,
   "metadata": {},
   "outputs": [],
   "source": []
  },
  {
   "cell_type": "code",
   "execution_count": null,
   "metadata": {},
   "outputs": [],
   "source": []
  },
  {
   "cell_type": "code",
   "execution_count": 26,
   "metadata": {},
   "outputs": [
    {
     "data": {
      "text/html": [
       "<div>\n",
       "<style scoped>\n",
       "    .dataframe tbody tr th:only-of-type {\n",
       "        vertical-align: middle;\n",
       "    }\n",
       "\n",
       "    .dataframe tbody tr th {\n",
       "        vertical-align: top;\n",
       "    }\n",
       "\n",
       "    .dataframe thead th {\n",
       "        text-align: right;\n",
       "    }\n",
       "</style>\n",
       "<table border=\"1\" class=\"dataframe\">\n",
       "  <thead>\n",
       "    <tr style=\"text-align: right;\">\n",
       "      <th></th>\n",
       "      <th>app_date</th>\n",
       "      <th>education</th>\n",
       "      <th>sex</th>\n",
       "      <th>age</th>\n",
       "      <th>car</th>\n",
       "      <th>car_type</th>\n",
       "      <th>decline_app_cnt</th>\n",
       "      <th>good_work</th>\n",
       "      <th>score_bki</th>\n",
       "      <th>bki_request_cnt</th>\n",
       "      <th>region_rating</th>\n",
       "      <th>home_address</th>\n",
       "      <th>work_address</th>\n",
       "      <th>income</th>\n",
       "      <th>sna</th>\n",
       "      <th>first_time</th>\n",
       "      <th>foreign_passport</th>\n",
       "      <th>default</th>\n",
       "    </tr>\n",
       "  </thead>\n",
       "  <tbody>\n",
       "    <tr>\n",
       "      <th>0</th>\n",
       "      <td>01FEB2014</td>\n",
       "      <td>SCH</td>\n",
       "      <td>M</td>\n",
       "      <td>62</td>\n",
       "      <td>Y</td>\n",
       "      <td>Y</td>\n",
       "      <td>0</td>\n",
       "      <td>0</td>\n",
       "      <td>-2.008753</td>\n",
       "      <td>1</td>\n",
       "      <td>50</td>\n",
       "      <td>1</td>\n",
       "      <td>2</td>\n",
       "      <td>18000</td>\n",
       "      <td>4</td>\n",
       "      <td>1</td>\n",
       "      <td>N</td>\n",
       "      <td>0</td>\n",
       "    </tr>\n",
       "    <tr>\n",
       "      <th>1</th>\n",
       "      <td>12MAR2014</td>\n",
       "      <td>SCH</td>\n",
       "      <td>F</td>\n",
       "      <td>59</td>\n",
       "      <td>N</td>\n",
       "      <td>N</td>\n",
       "      <td>0</td>\n",
       "      <td>0</td>\n",
       "      <td>-1.532276</td>\n",
       "      <td>3</td>\n",
       "      <td>50</td>\n",
       "      <td>2</td>\n",
       "      <td>3</td>\n",
       "      <td>19000</td>\n",
       "      <td>4</td>\n",
       "      <td>1</td>\n",
       "      <td>N</td>\n",
       "      <td>0</td>\n",
       "    </tr>\n",
       "    <tr>\n",
       "      <th>2</th>\n",
       "      <td>01FEB2014</td>\n",
       "      <td>SCH</td>\n",
       "      <td>M</td>\n",
       "      <td>25</td>\n",
       "      <td>Y</td>\n",
       "      <td>N</td>\n",
       "      <td>2</td>\n",
       "      <td>0</td>\n",
       "      <td>-1.408142</td>\n",
       "      <td>1</td>\n",
       "      <td>80</td>\n",
       "      <td>1</td>\n",
       "      <td>2</td>\n",
       "      <td>30000</td>\n",
       "      <td>1</td>\n",
       "      <td>4</td>\n",
       "      <td>Y</td>\n",
       "      <td>0</td>\n",
       "    </tr>\n",
       "    <tr>\n",
       "      <th>3</th>\n",
       "      <td>23JAN2014</td>\n",
       "      <td>SCH</td>\n",
       "      <td>F</td>\n",
       "      <td>53</td>\n",
       "      <td>N</td>\n",
       "      <td>N</td>\n",
       "      <td>0</td>\n",
       "      <td>0</td>\n",
       "      <td>-2.057471</td>\n",
       "      <td>2</td>\n",
       "      <td>50</td>\n",
       "      <td>2</td>\n",
       "      <td>3</td>\n",
       "      <td>10000</td>\n",
       "      <td>1</td>\n",
       "      <td>3</td>\n",
       "      <td>N</td>\n",
       "      <td>0</td>\n",
       "    </tr>\n",
       "    <tr>\n",
       "      <th>4</th>\n",
       "      <td>18APR2014</td>\n",
       "      <td>GRD</td>\n",
       "      <td>M</td>\n",
       "      <td>48</td>\n",
       "      <td>N</td>\n",
       "      <td>N</td>\n",
       "      <td>0</td>\n",
       "      <td>1</td>\n",
       "      <td>-1.244723</td>\n",
       "      <td>1</td>\n",
       "      <td>60</td>\n",
       "      <td>2</td>\n",
       "      <td>3</td>\n",
       "      <td>30000</td>\n",
       "      <td>1</td>\n",
       "      <td>4</td>\n",
       "      <td>Y</td>\n",
       "      <td>0</td>\n",
       "    </tr>\n",
       "  </tbody>\n",
       "</table>\n",
       "</div>"
      ],
      "text/plain": [
       "    app_date education sex  age car car_type  decline_app_cnt  good_work  \\\n",
       "0  01FEB2014       SCH   M   62   Y        Y                0          0   \n",
       "1  12MAR2014       SCH   F   59   N        N                0          0   \n",
       "2  01FEB2014       SCH   M   25   Y        N                2          0   \n",
       "3  23JAN2014       SCH   F   53   N        N                0          0   \n",
       "4  18APR2014       GRD   M   48   N        N                0          1   \n",
       "\n",
       "   score_bki  bki_request_cnt  region_rating  home_address  work_address  \\\n",
       "0  -2.008753                1             50             1             2   \n",
       "1  -1.532276                3             50             2             3   \n",
       "2  -1.408142                1             80             1             2   \n",
       "3  -2.057471                2             50             2             3   \n",
       "4  -1.244723                1             60             2             3   \n",
       "\n",
       "   income  sna  first_time foreign_passport  default  \n",
       "0   18000    4           1                N        0  \n",
       "1   19000    4           1                N        0  \n",
       "2   30000    1           4                Y        0  \n",
       "3   10000    1           3                N        0  \n",
       "4   30000    1           4                Y        0  "
      ]
     },
     "execution_count": 26,
     "metadata": {},
     "output_type": "execute_result"
    }
   ],
   "source": [
    "train_df.head()"
   ]
  },
  {
   "cell_type": "code",
   "execution_count": null,
   "metadata": {},
   "outputs": [],
   "source": []
  },
  {
   "cell_type": "code",
   "execution_count": null,
   "metadata": {},
   "outputs": [],
   "source": []
  },
  {
   "cell_type": "markdown",
   "metadata": {},
   "source": [
    "### Date of application submission: [app_date]\n",
    "\n",
    "Првести к датам, поэксперементировать с возможному преведению данных к категориальным, менее года назад, менее двух лет назад, менее трех, 4х, 5ти.\n",
    "\n",
    "The `app_date` feature is the date of an opperation. It stores values as a string in format `01FEB2014`. Let's "
   ]
  },
  {
   "cell_type": "code",
   "execution_count": null,
   "metadata": {},
   "outputs": [],
   "source": []
  }
 ],
 "metadata": {
  "kernelspec": {
   "display_name": "Python 3",
   "language": "python",
   "name": "python3"
  },
  "language_info": {
   "codemirror_mode": {
    "name": "ipython",
    "version": 3
   },
   "file_extension": ".py",
   "mimetype": "text/x-python",
   "name": "python",
   "nbconvert_exporter": "python",
   "pygments_lexer": "ipython3",
   "version": "3.8.3"
  }
 },
 "nbformat": 4,
 "nbformat_minor": 4
}
