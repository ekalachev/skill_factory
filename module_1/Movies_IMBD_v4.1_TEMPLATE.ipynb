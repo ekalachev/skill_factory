{
 "cells": [
  {
   "cell_type": "code",
   "execution_count": 1,
   "metadata": {
    "_cell_guid": "b1076dfc-b9ad-4769-8c92-a6c4dae69d19",
    "_uuid": "8f2839f25d086af736a60e9eeb907d3b93b6e0e5",
    "colab": {},
    "colab_type": "code",
    "id": "U2D2gTdJVp90"
   },
   "outputs": [],
   "source": [
    "import numpy as np\n",
    "import pandas as pd\n",
    "import seaborn as sns\n",
    "import matplotlib.pyplot as plt\n",
    "from collections import Counter"
   ]
  },
  {
   "cell_type": "code",
   "execution_count": 2,
   "metadata": {
    "_cell_guid": "79c7e3d0-c299-4dcb-8224-4455121ee9b0",
    "_uuid": "d629ff2d2480ee46fbb7e2d37f6b5fab8052498a",
    "colab": {},
    "colab_type": "code",
    "id": "oyGfxL3eVp9-"
   },
   "outputs": [
    {
     "data": {
      "text/html": [
       "<div>\n",
       "<style scoped>\n",
       "    .dataframe tbody tr th:only-of-type {\n",
       "        vertical-align: middle;\n",
       "    }\n",
       "\n",
       "    .dataframe tbody tr th {\n",
       "        vertical-align: top;\n",
       "    }\n",
       "\n",
       "    .dataframe thead th {\n",
       "        text-align: right;\n",
       "    }\n",
       "</style>\n",
       "<table border=\"1\" class=\"dataframe\">\n",
       "  <thead>\n",
       "    <tr style=\"text-align: right;\">\n",
       "      <th></th>\n",
       "      <th>imdb_id</th>\n",
       "      <th>budget</th>\n",
       "      <th>revenue</th>\n",
       "      <th>original_title</th>\n",
       "      <th>cast</th>\n",
       "      <th>director</th>\n",
       "      <th>tagline</th>\n",
       "      <th>overview</th>\n",
       "      <th>runtime</th>\n",
       "      <th>genres</th>\n",
       "      <th>production_companies</th>\n",
       "      <th>release_date</th>\n",
       "      <th>vote_average</th>\n",
       "      <th>release_year</th>\n",
       "    </tr>\n",
       "  </thead>\n",
       "  <tbody>\n",
       "    <tr>\n",
       "      <th>679</th>\n",
       "      <td>tt0462465</td>\n",
       "      <td>50000000</td>\n",
       "      <td>7033683</td>\n",
       "      <td>Outlander</td>\n",
       "      <td>Jim Caviezel|Sophia Myles|Jack Huston|Ron Perl...</td>\n",
       "      <td>Howard McCain</td>\n",
       "      <td>It destroyed his world. He won't let it destro...</td>\n",
       "      <td>During the reign of the Vikings, a man from an...</td>\n",
       "      <td>115</td>\n",
       "      <td>Fantasy|Action|Science Fiction</td>\n",
       "      <td>Ascendant Pictures|Rising Star|VIP Medienfonds...</td>\n",
       "      <td>4/24/2008</td>\n",
       "      <td>6.0</td>\n",
       "      <td>2008</td>\n",
       "    </tr>\n",
       "    <tr>\n",
       "      <th>1308</th>\n",
       "      <td>tt1758595</td>\n",
       "      <td>15000000</td>\n",
       "      <td>21766271</td>\n",
       "      <td>Diana</td>\n",
       "      <td>Naomi Watts|Naveen Andrews|Charles Edwards|Dou...</td>\n",
       "      <td>Oliver Hirschbiegel</td>\n",
       "      <td>The legend is never the whole story</td>\n",
       "      <td>During the last two years of her life, Princes...</td>\n",
       "      <td>113</td>\n",
       "      <td>Drama|Romance</td>\n",
       "      <td>Ecosse Films|Le Pacte|Scope Pictures|Film i VÃ...</td>\n",
       "      <td>9/19/2013</td>\n",
       "      <td>5.0</td>\n",
       "      <td>2013</td>\n",
       "    </tr>\n",
       "    <tr>\n",
       "      <th>654</th>\n",
       "      <td>tt1007028</td>\n",
       "      <td>24000000</td>\n",
       "      <td>42105111</td>\n",
       "      <td>Zack and Miri Make a Porno</td>\n",
       "      <td>Seth Rogen|Elizabeth Banks|Jennifer Schwalbach...</td>\n",
       "      <td>Kevin Smith</td>\n",
       "      <td>What would you do to get out of debt?</td>\n",
       "      <td>Lifelong platonic friends Zack and Miri look t...</td>\n",
       "      <td>102</td>\n",
       "      <td>Comedy</td>\n",
       "      <td>Blue Askew|View Askew Productions</td>\n",
       "      <td>9/18/2008</td>\n",
       "      <td>6.0</td>\n",
       "      <td>2008</td>\n",
       "    </tr>\n",
       "    <tr>\n",
       "      <th>718</th>\n",
       "      <td>tt0455538</td>\n",
       "      <td>27000000</td>\n",
       "      <td>17286299</td>\n",
       "      <td>How to Lose Friends &amp; Alienate People</td>\n",
       "      <td>Kelan Pannell|Janette Scott|Simon Pegg|Megan F...</td>\n",
       "      <td>Robert B. Weide</td>\n",
       "      <td>He's across the pond, and out of his depth.</td>\n",
       "      <td>A British writer struggles to fit in at a high...</td>\n",
       "      <td>110</td>\n",
       "      <td>Comedy|Romance|Drama</td>\n",
       "      <td>UK Film Council|Intandem Films|Aramid Entertai...</td>\n",
       "      <td>10/2/2008</td>\n",
       "      <td>6.0</td>\n",
       "      <td>2008</td>\n",
       "    </tr>\n",
       "    <tr>\n",
       "      <th>889</th>\n",
       "      <td>tt0286106</td>\n",
       "      <td>72000000</td>\n",
       "      <td>408247917</td>\n",
       "      <td>Signs</td>\n",
       "      <td>Mel Gibson|Joaquin Phoenix|Rory Culkin|Abigail...</td>\n",
       "      <td>M. Night Shyamalan</td>\n",
       "      <td>Itâ€™s not like they didnâ€™t warn us.</td>\n",
       "      <td>A family living on a farm finds mysterious cro...</td>\n",
       "      <td>106</td>\n",
       "      <td>Drama|Thriller|Science Fiction|Mystery</td>\n",
       "      <td>Kennedy/Marshall Company, The|Touchstone Pictu...</td>\n",
       "      <td>8/2/2002</td>\n",
       "      <td>6.3</td>\n",
       "      <td>2002</td>\n",
       "    </tr>\n",
       "  </tbody>\n",
       "</table>\n",
       "</div>"
      ],
      "text/plain": [
       "        imdb_id    budget    revenue                         original_title  \\\n",
       "679   tt0462465  50000000    7033683                              Outlander   \n",
       "1308  tt1758595  15000000   21766271                                  Diana   \n",
       "654   tt1007028  24000000   42105111             Zack and Miri Make a Porno   \n",
       "718   tt0455538  27000000   17286299  How to Lose Friends & Alienate People   \n",
       "889   tt0286106  72000000  408247917                                  Signs   \n",
       "\n",
       "                                                   cast             director  \\\n",
       "679   Jim Caviezel|Sophia Myles|Jack Huston|Ron Perl...        Howard McCain   \n",
       "1308  Naomi Watts|Naveen Andrews|Charles Edwards|Dou...  Oliver Hirschbiegel   \n",
       "654   Seth Rogen|Elizabeth Banks|Jennifer Schwalbach...          Kevin Smith   \n",
       "718   Kelan Pannell|Janette Scott|Simon Pegg|Megan F...      Robert B. Weide   \n",
       "889   Mel Gibson|Joaquin Phoenix|Rory Culkin|Abigail...   M. Night Shyamalan   \n",
       "\n",
       "                                                tagline  \\\n",
       "679   It destroyed his world. He won't let it destro...   \n",
       "1308                The legend is never the whole story   \n",
       "654               What would you do to get out of debt?   \n",
       "718         He's across the pond, and out of his depth.   \n",
       "889              Itâ€™s not like they didnâ€™t warn us.   \n",
       "\n",
       "                                               overview  runtime  \\\n",
       "679   During the reign of the Vikings, a man from an...      115   \n",
       "1308  During the last two years of her life, Princes...      113   \n",
       "654   Lifelong platonic friends Zack and Miri look t...      102   \n",
       "718   A British writer struggles to fit in at a high...      110   \n",
       "889   A family living on a farm finds mysterious cro...      106   \n",
       "\n",
       "                                      genres  \\\n",
       "679           Fantasy|Action|Science Fiction   \n",
       "1308                           Drama|Romance   \n",
       "654                                   Comedy   \n",
       "718                     Comedy|Romance|Drama   \n",
       "889   Drama|Thriller|Science Fiction|Mystery   \n",
       "\n",
       "                                   production_companies release_date  \\\n",
       "679   Ascendant Pictures|Rising Star|VIP Medienfonds...    4/24/2008   \n",
       "1308  Ecosse Films|Le Pacte|Scope Pictures|Film i VÃ...    9/19/2013   \n",
       "654                   Blue Askew|View Askew Productions    9/18/2008   \n",
       "718   UK Film Council|Intandem Films|Aramid Entertai...    10/2/2008   \n",
       "889   Kennedy/Marshall Company, The|Touchstone Pictu...     8/2/2002   \n",
       "\n",
       "      vote_average  release_year  \n",
       "679            6.0          2008  \n",
       "1308           5.0          2013  \n",
       "654            6.0          2008  \n",
       "718            6.0          2008  \n",
       "889            6.3          2002  "
      ]
     },
     "execution_count": 2,
     "metadata": {},
     "output_type": "execute_result"
    }
   ],
   "source": [
    "data = pd.read_csv('./../data/movie_bd_v5.csv')\n",
    "data.sample(5)"
   ]
  },
  {
   "cell_type": "code",
   "execution_count": 3,
   "metadata": {
    "colab": {},
    "colab_type": "code",
    "id": "CoYUnagMVp-C"
   },
   "outputs": [
    {
     "data": {
      "text/html": [
       "<div>\n",
       "<style scoped>\n",
       "    .dataframe tbody tr th:only-of-type {\n",
       "        vertical-align: middle;\n",
       "    }\n",
       "\n",
       "    .dataframe tbody tr th {\n",
       "        vertical-align: top;\n",
       "    }\n",
       "\n",
       "    .dataframe thead th {\n",
       "        text-align: right;\n",
       "    }\n",
       "</style>\n",
       "<table border=\"1\" class=\"dataframe\">\n",
       "  <thead>\n",
       "    <tr style=\"text-align: right;\">\n",
       "      <th></th>\n",
       "      <th>budget</th>\n",
       "      <th>revenue</th>\n",
       "      <th>runtime</th>\n",
       "      <th>vote_average</th>\n",
       "      <th>release_year</th>\n",
       "    </tr>\n",
       "  </thead>\n",
       "  <tbody>\n",
       "    <tr>\n",
       "      <th>count</th>\n",
       "      <td>1.889000e+03</td>\n",
       "      <td>1.889000e+03</td>\n",
       "      <td>1889.000000</td>\n",
       "      <td>1889.000000</td>\n",
       "      <td>1889.000000</td>\n",
       "    </tr>\n",
       "    <tr>\n",
       "      <th>mean</th>\n",
       "      <td>5.431083e+07</td>\n",
       "      <td>1.553653e+08</td>\n",
       "      <td>109.658549</td>\n",
       "      <td>6.140762</td>\n",
       "      <td>2007.860773</td>\n",
       "    </tr>\n",
       "    <tr>\n",
       "      <th>std</th>\n",
       "      <td>4.858721e+07</td>\n",
       "      <td>2.146698e+08</td>\n",
       "      <td>18.017041</td>\n",
       "      <td>0.764763</td>\n",
       "      <td>4.468841</td>\n",
       "    </tr>\n",
       "    <tr>\n",
       "      <th>min</th>\n",
       "      <td>5.000000e+06</td>\n",
       "      <td>2.033165e+06</td>\n",
       "      <td>63.000000</td>\n",
       "      <td>3.300000</td>\n",
       "      <td>2000.000000</td>\n",
       "    </tr>\n",
       "    <tr>\n",
       "      <th>25%</th>\n",
       "      <td>2.000000e+07</td>\n",
       "      <td>3.456058e+07</td>\n",
       "      <td>97.000000</td>\n",
       "      <td>5.600000</td>\n",
       "      <td>2004.000000</td>\n",
       "    </tr>\n",
       "    <tr>\n",
       "      <th>50%</th>\n",
       "      <td>3.800000e+07</td>\n",
       "      <td>8.361541e+07</td>\n",
       "      <td>107.000000</td>\n",
       "      <td>6.100000</td>\n",
       "      <td>2008.000000</td>\n",
       "    </tr>\n",
       "    <tr>\n",
       "      <th>75%</th>\n",
       "      <td>7.200000e+07</td>\n",
       "      <td>1.782626e+08</td>\n",
       "      <td>120.000000</td>\n",
       "      <td>6.600000</td>\n",
       "      <td>2012.000000</td>\n",
       "    </tr>\n",
       "    <tr>\n",
       "      <th>max</th>\n",
       "      <td>3.800000e+08</td>\n",
       "      <td>2.781506e+09</td>\n",
       "      <td>214.000000</td>\n",
       "      <td>8.100000</td>\n",
       "      <td>2015.000000</td>\n",
       "    </tr>\n",
       "  </tbody>\n",
       "</table>\n",
       "</div>"
      ],
      "text/plain": [
       "             budget       revenue      runtime  vote_average  release_year\n",
       "count  1.889000e+03  1.889000e+03  1889.000000   1889.000000   1889.000000\n",
       "mean   5.431083e+07  1.553653e+08   109.658549      6.140762   2007.860773\n",
       "std    4.858721e+07  2.146698e+08    18.017041      0.764763      4.468841\n",
       "min    5.000000e+06  2.033165e+06    63.000000      3.300000   2000.000000\n",
       "25%    2.000000e+07  3.456058e+07    97.000000      5.600000   2004.000000\n",
       "50%    3.800000e+07  8.361541e+07   107.000000      6.100000   2008.000000\n",
       "75%    7.200000e+07  1.782626e+08   120.000000      6.600000   2012.000000\n",
       "max    3.800000e+08  2.781506e+09   214.000000      8.100000   2015.000000"
      ]
     },
     "execution_count": 3,
     "metadata": {},
     "output_type": "execute_result"
    }
   ],
   "source": [
    "data.describe()"
   ]
  },
  {
   "cell_type": "markdown",
   "metadata": {
    "colab_type": "text",
    "id": "DTIt7ezGVp-G"
   },
   "source": [
    "# Предобработка"
   ]
  },
  {
   "cell_type": "code",
   "execution_count": 4,
   "metadata": {
    "colab": {},
    "colab_type": "code",
    "id": "jNb40DwKVp-H"
   },
   "outputs": [],
   "source": [
    "answers = {} # создадим словарь для ответов\n",
    "\n",
    "# тут другие ваши предобработки колонок например:\n",
    "\n",
    "#the time given in the dataset is in string format.\n",
    "#So we need to change this in datetime format\n",
    "# ...\n",
    "\n",
    "data['profit'] = data.apply(lambda row: row.revenue - row.budget, axis=1)"
   ]
  },
  {
   "cell_type": "markdown",
   "metadata": {
    "colab_type": "text",
    "id": "YxZaH-nPVp-L"
   },
   "source": [
    "# 1. У какого фильма из списка самый большой бюджет?"
   ]
  },
  {
   "cell_type": "markdown",
   "metadata": {
    "colab_type": "text",
    "id": "Nd-G5gX6Vp-M"
   },
   "source": [
    "Использовать варианты ответов в коде решения запрещено.    \n",
    "Вы думаете и в жизни у вас будут варианты ответов?)"
   ]
  },
  {
   "cell_type": "code",
   "execution_count": 5,
   "metadata": {
    "colab": {},
    "colab_type": "code",
    "id": "uVnXAY5RVp-O"
   },
   "outputs": [],
   "source": [
    "# в словарь вставляем номер вопроса и ваш ответ на него\n",
    "# Пример: \n",
    "answers['1'] = '2. Spider-Man 3 (tt0413300)'\n",
    "# запишите свой вариант ответа\n",
    "answers['1'] = 'Pirates of the Caribbean: On Stranger Tides (tt1298650)' # +\n",
    "# если ответили верно, можете добавить комментарий со значком \"+\""
   ]
  },
  {
   "cell_type": "code",
   "execution_count": 6,
   "metadata": {
    "colab": {},
    "colab_type": "code",
    "id": "dZwb3m28Vp-S"
   },
   "outputs": [
    {
     "data": {
      "text/html": [
       "<div>\n",
       "<style scoped>\n",
       "    .dataframe tbody tr th:only-of-type {\n",
       "        vertical-align: middle;\n",
       "    }\n",
       "\n",
       "    .dataframe tbody tr th {\n",
       "        vertical-align: top;\n",
       "    }\n",
       "\n",
       "    .dataframe thead th {\n",
       "        text-align: right;\n",
       "    }\n",
       "</style>\n",
       "<table border=\"1\" class=\"dataframe\">\n",
       "  <thead>\n",
       "    <tr style=\"text-align: right;\">\n",
       "      <th></th>\n",
       "      <th>imdb_id</th>\n",
       "      <th>budget</th>\n",
       "      <th>revenue</th>\n",
       "      <th>original_title</th>\n",
       "      <th>cast</th>\n",
       "      <th>director</th>\n",
       "      <th>tagline</th>\n",
       "      <th>overview</th>\n",
       "      <th>runtime</th>\n",
       "      <th>genres</th>\n",
       "      <th>production_companies</th>\n",
       "      <th>release_date</th>\n",
       "      <th>vote_average</th>\n",
       "      <th>release_year</th>\n",
       "      <th>profit</th>\n",
       "    </tr>\n",
       "  </thead>\n",
       "  <tbody>\n",
       "    <tr>\n",
       "      <th>723</th>\n",
       "      <td>tt1298650</td>\n",
       "      <td>380000000</td>\n",
       "      <td>1021683000</td>\n",
       "      <td>Pirates of the Caribbean: On Stranger Tides</td>\n",
       "      <td>Johnny Depp|PenÃ©lope Cruz|Geoffrey Rush|Ian M...</td>\n",
       "      <td>Rob Marshall</td>\n",
       "      <td>Live Forever Or Die Trying.</td>\n",
       "      <td>Captain Jack Sparrow crosses paths with a woma...</td>\n",
       "      <td>136</td>\n",
       "      <td>Adventure|Action|Fantasy</td>\n",
       "      <td>Walt Disney Pictures|Jerry Bruckheimer Films|M...</td>\n",
       "      <td>5/11/2011</td>\n",
       "      <td>6.3</td>\n",
       "      <td>2011</td>\n",
       "      <td>641683000</td>\n",
       "    </tr>\n",
       "  </tbody>\n",
       "</table>\n",
       "</div>"
      ],
      "text/plain": [
       "       imdb_id     budget     revenue  \\\n",
       "723  tt1298650  380000000  1021683000   \n",
       "\n",
       "                                  original_title  \\\n",
       "723  Pirates of the Caribbean: On Stranger Tides   \n",
       "\n",
       "                                                  cast      director  \\\n",
       "723  Johnny Depp|PenÃ©lope Cruz|Geoffrey Rush|Ian M...  Rob Marshall   \n",
       "\n",
       "                         tagline  \\\n",
       "723  Live Forever Or Die Trying.   \n",
       "\n",
       "                                              overview  runtime  \\\n",
       "723  Captain Jack Sparrow crosses paths with a woma...      136   \n",
       "\n",
       "                       genres  \\\n",
       "723  Adventure|Action|Fantasy   \n",
       "\n",
       "                                  production_companies release_date  \\\n",
       "723  Walt Disney Pictures|Jerry Bruckheimer Films|M...    5/11/2011   \n",
       "\n",
       "     vote_average  release_year     profit  \n",
       "723           6.3          2011  641683000  "
      ]
     },
     "execution_count": 6,
     "metadata": {},
     "output_type": "execute_result"
    }
   ],
   "source": [
    "# тут пишем ваш код для решения данного вопроса:\n",
    "data.sort_values(['budget'], ascending=False).head(1)"
   ]
  },
  {
   "cell_type": "markdown",
   "metadata": {
    "colab_type": "text",
    "id": "K7L3nbRXVp-X"
   },
   "source": [
    "ВАРИАНТ 2"
   ]
  },
  {
   "cell_type": "code",
   "execution_count": 7,
   "metadata": {
    "colab": {},
    "colab_type": "code",
    "id": "OGaoQI7rVp-X"
   },
   "outputs": [
    {
     "data": {
      "text/html": [
       "<div>\n",
       "<style scoped>\n",
       "    .dataframe tbody tr th:only-of-type {\n",
       "        vertical-align: middle;\n",
       "    }\n",
       "\n",
       "    .dataframe tbody tr th {\n",
       "        vertical-align: top;\n",
       "    }\n",
       "\n",
       "    .dataframe thead th {\n",
       "        text-align: right;\n",
       "    }\n",
       "</style>\n",
       "<table border=\"1\" class=\"dataframe\">\n",
       "  <thead>\n",
       "    <tr style=\"text-align: right;\">\n",
       "      <th></th>\n",
       "      <th>imdb_id</th>\n",
       "      <th>budget</th>\n",
       "      <th>revenue</th>\n",
       "      <th>original_title</th>\n",
       "      <th>cast</th>\n",
       "      <th>director</th>\n",
       "      <th>tagline</th>\n",
       "      <th>overview</th>\n",
       "      <th>runtime</th>\n",
       "      <th>genres</th>\n",
       "      <th>production_companies</th>\n",
       "      <th>release_date</th>\n",
       "      <th>vote_average</th>\n",
       "      <th>release_year</th>\n",
       "      <th>profit</th>\n",
       "    </tr>\n",
       "  </thead>\n",
       "  <tbody>\n",
       "    <tr>\n",
       "      <th>723</th>\n",
       "      <td>tt1298650</td>\n",
       "      <td>380000000</td>\n",
       "      <td>1021683000</td>\n",
       "      <td>Pirates of the Caribbean: On Stranger Tides</td>\n",
       "      <td>Johnny Depp|PenÃ©lope Cruz|Geoffrey Rush|Ian M...</td>\n",
       "      <td>Rob Marshall</td>\n",
       "      <td>Live Forever Or Die Trying.</td>\n",
       "      <td>Captain Jack Sparrow crosses paths with a woma...</td>\n",
       "      <td>136</td>\n",
       "      <td>Adventure|Action|Fantasy</td>\n",
       "      <td>Walt Disney Pictures|Jerry Bruckheimer Films|M...</td>\n",
       "      <td>5/11/2011</td>\n",
       "      <td>6.3</td>\n",
       "      <td>2011</td>\n",
       "      <td>641683000</td>\n",
       "    </tr>\n",
       "  </tbody>\n",
       "</table>\n",
       "</div>"
      ],
      "text/plain": [
       "       imdb_id     budget     revenue  \\\n",
       "723  tt1298650  380000000  1021683000   \n",
       "\n",
       "                                  original_title  \\\n",
       "723  Pirates of the Caribbean: On Stranger Tides   \n",
       "\n",
       "                                                  cast      director  \\\n",
       "723  Johnny Depp|PenÃ©lope Cruz|Geoffrey Rush|Ian M...  Rob Marshall   \n",
       "\n",
       "                         tagline  \\\n",
       "723  Live Forever Or Die Trying.   \n",
       "\n",
       "                                              overview  runtime  \\\n",
       "723  Captain Jack Sparrow crosses paths with a woma...      136   \n",
       "\n",
       "                       genres  \\\n",
       "723  Adventure|Action|Fantasy   \n",
       "\n",
       "                                  production_companies release_date  \\\n",
       "723  Walt Disney Pictures|Jerry Bruckheimer Films|M...    5/11/2011   \n",
       "\n",
       "     vote_average  release_year     profit  \n",
       "723           6.3          2011  641683000  "
      ]
     },
     "execution_count": 7,
     "metadata": {},
     "output_type": "execute_result"
    }
   ],
   "source": [
    "# можно добавлять разные варианты решения\n",
    "max_budget = data.budget.max()\n",
    "data[data.budget == max_budget]"
   ]
  },
  {
   "cell_type": "markdown",
   "metadata": {
    "colab_type": "text",
    "id": "FNRbbI3vVp-c"
   },
   "source": [
    "# 2. Какой из фильмов самый длительный (в минутах)?"
   ]
  },
  {
   "cell_type": "code",
   "execution_count": 8,
   "metadata": {
    "colab": {},
    "colab_type": "code",
    "id": "vHAoEXNTVp-d"
   },
   "outputs": [],
   "source": [
    "# думаю логику работы с этим словарем вы уже поняли, \n",
    "# по этому не буду больше его дублировать\n",
    "answers['2'] = 'Gods and Generals (tt0279111)' # +"
   ]
  },
  {
   "cell_type": "code",
   "execution_count": 9,
   "metadata": {
    "colab": {},
    "colab_type": "code",
    "id": "ot-VX2XrVp-g"
   },
   "outputs": [
    {
     "data": {
      "text/html": [
       "<div>\n",
       "<style scoped>\n",
       "    .dataframe tbody tr th:only-of-type {\n",
       "        vertical-align: middle;\n",
       "    }\n",
       "\n",
       "    .dataframe tbody tr th {\n",
       "        vertical-align: top;\n",
       "    }\n",
       "\n",
       "    .dataframe thead th {\n",
       "        text-align: right;\n",
       "    }\n",
       "</style>\n",
       "<table border=\"1\" class=\"dataframe\">\n",
       "  <thead>\n",
       "    <tr style=\"text-align: right;\">\n",
       "      <th></th>\n",
       "      <th>imdb_id</th>\n",
       "      <th>budget</th>\n",
       "      <th>revenue</th>\n",
       "      <th>original_title</th>\n",
       "      <th>cast</th>\n",
       "      <th>director</th>\n",
       "      <th>tagline</th>\n",
       "      <th>overview</th>\n",
       "      <th>runtime</th>\n",
       "      <th>genres</th>\n",
       "      <th>production_companies</th>\n",
       "      <th>release_date</th>\n",
       "      <th>vote_average</th>\n",
       "      <th>release_year</th>\n",
       "      <th>profit</th>\n",
       "    </tr>\n",
       "  </thead>\n",
       "  <tbody>\n",
       "    <tr>\n",
       "      <th>1157</th>\n",
       "      <td>tt0279111</td>\n",
       "      <td>56000000</td>\n",
       "      <td>12923936</td>\n",
       "      <td>Gods and Generals</td>\n",
       "      <td>Stephen Lang|Jeff Daniels|Robert Duvall|Kevin ...</td>\n",
       "      <td>Ronald F. Maxwell</td>\n",
       "      <td>The nations heart was touched by...</td>\n",
       "      <td>The film centers mostly around the personal an...</td>\n",
       "      <td>214</td>\n",
       "      <td>Drama|History|War</td>\n",
       "      <td>Turner Pictures|Antietam Filmworks</td>\n",
       "      <td>2/21/2003</td>\n",
       "      <td>5.8</td>\n",
       "      <td>2003</td>\n",
       "      <td>-43076064</td>\n",
       "    </tr>\n",
       "  </tbody>\n",
       "</table>\n",
       "</div>"
      ],
      "text/plain": [
       "        imdb_id    budget   revenue     original_title  \\\n",
       "1157  tt0279111  56000000  12923936  Gods and Generals   \n",
       "\n",
       "                                                   cast           director  \\\n",
       "1157  Stephen Lang|Jeff Daniels|Robert Duvall|Kevin ...  Ronald F. Maxwell   \n",
       "\n",
       "                                  tagline  \\\n",
       "1157  The nations heart was touched by...   \n",
       "\n",
       "                                               overview  runtime  \\\n",
       "1157  The film centers mostly around the personal an...      214   \n",
       "\n",
       "                 genres                production_companies release_date  \\\n",
       "1157  Drama|History|War  Turner Pictures|Antietam Filmworks    2/21/2003   \n",
       "\n",
       "      vote_average  release_year    profit  \n",
       "1157           5.8          2003 -43076064  "
      ]
     },
     "execution_count": 9,
     "metadata": {},
     "output_type": "execute_result"
    }
   ],
   "source": [
    "data.sort_values(['runtime'], ascending=False).head(1)"
   ]
  },
  {
   "cell_type": "markdown",
   "metadata": {
    "colab_type": "text",
    "id": "bapLlpW8Vp-k"
   },
   "source": [
    "# 3. Какой из фильмов самый короткий (в минутах)?\n",
    "\n",
    "\n",
    "\n"
   ]
  },
  {
   "cell_type": "code",
   "execution_count": 10,
   "metadata": {},
   "outputs": [],
   "source": [
    "answers['3'] = 'Winnie the Pooh (tt1449283)' # +"
   ]
  },
  {
   "cell_type": "code",
   "execution_count": 11,
   "metadata": {
    "colab": {},
    "colab_type": "code",
    "id": "YBxaSHuAVp-l"
   },
   "outputs": [
    {
     "data": {
      "text/html": [
       "<div>\n",
       "<style scoped>\n",
       "    .dataframe tbody tr th:only-of-type {\n",
       "        vertical-align: middle;\n",
       "    }\n",
       "\n",
       "    .dataframe tbody tr th {\n",
       "        vertical-align: top;\n",
       "    }\n",
       "\n",
       "    .dataframe thead th {\n",
       "        text-align: right;\n",
       "    }\n",
       "</style>\n",
       "<table border=\"1\" class=\"dataframe\">\n",
       "  <thead>\n",
       "    <tr style=\"text-align: right;\">\n",
       "      <th></th>\n",
       "      <th>imdb_id</th>\n",
       "      <th>budget</th>\n",
       "      <th>revenue</th>\n",
       "      <th>original_title</th>\n",
       "      <th>cast</th>\n",
       "      <th>director</th>\n",
       "      <th>tagline</th>\n",
       "      <th>overview</th>\n",
       "      <th>runtime</th>\n",
       "      <th>genres</th>\n",
       "      <th>production_companies</th>\n",
       "      <th>release_date</th>\n",
       "      <th>vote_average</th>\n",
       "      <th>release_year</th>\n",
       "      <th>profit</th>\n",
       "    </tr>\n",
       "  </thead>\n",
       "  <tbody>\n",
       "    <tr>\n",
       "      <th>768</th>\n",
       "      <td>tt1449283</td>\n",
       "      <td>30000000</td>\n",
       "      <td>14460000</td>\n",
       "      <td>Winnie the Pooh</td>\n",
       "      <td>Jim Cummings|Travis Oates|Jim Cummings|Bud Luc...</td>\n",
       "      <td>Stephen Anderson|Don Hall</td>\n",
       "      <td>Oh Pooh.</td>\n",
       "      <td>During an ordinary day in Hundred Acre Wood, W...</td>\n",
       "      <td>63</td>\n",
       "      <td>Animation|Family</td>\n",
       "      <td>Walt Disney Pictures|Walt Disney Animation Stu...</td>\n",
       "      <td>4/13/2011</td>\n",
       "      <td>6.8</td>\n",
       "      <td>2011</td>\n",
       "      <td>-15540000</td>\n",
       "    </tr>\n",
       "  </tbody>\n",
       "</table>\n",
       "</div>"
      ],
      "text/plain": [
       "       imdb_id    budget   revenue   original_title  \\\n",
       "768  tt1449283  30000000  14460000  Winnie the Pooh   \n",
       "\n",
       "                                                  cast  \\\n",
       "768  Jim Cummings|Travis Oates|Jim Cummings|Bud Luc...   \n",
       "\n",
       "                      director   tagline  \\\n",
       "768  Stephen Anderson|Don Hall  Oh Pooh.   \n",
       "\n",
       "                                              overview  runtime  \\\n",
       "768  During an ordinary day in Hundred Acre Wood, W...       63   \n",
       "\n",
       "               genres                               production_companies  \\\n",
       "768  Animation|Family  Walt Disney Pictures|Walt Disney Animation Stu...   \n",
       "\n",
       "    release_date  vote_average  release_year    profit  \n",
       "768    4/13/2011           6.8          2011 -15540000  "
      ]
     },
     "execution_count": 11,
     "metadata": {},
     "output_type": "execute_result"
    }
   ],
   "source": [
    "data.sort_values(['runtime']).head(1)"
   ]
  },
  {
   "cell_type": "markdown",
   "metadata": {
    "colab_type": "text",
    "id": "TfQbxbfNVp-p"
   },
   "source": [
    "# 4. Какова средняя длительность фильмов?\n"
   ]
  },
  {
   "cell_type": "code",
   "execution_count": 12,
   "metadata": {},
   "outputs": [],
   "source": [
    "answers['4'] = '110' # +"
   ]
  },
  {
   "cell_type": "code",
   "execution_count": 13,
   "metadata": {
    "colab": {},
    "colab_type": "code",
    "id": "5K6dKZYVVp-q"
   },
   "outputs": [
    {
     "data": {
      "text/plain": [
       "110"
      ]
     },
     "execution_count": 13,
     "metadata": {},
     "output_type": "execute_result"
    }
   ],
   "source": [
    "round(data['runtime'].mean())"
   ]
  },
  {
   "cell_type": "markdown",
   "metadata": {
    "colab_type": "text",
    "id": "r5TvbnT_Vp-u"
   },
   "source": [
    "# 5. Каково медианное значение длительности фильмов? "
   ]
  },
  {
   "cell_type": "code",
   "execution_count": 14,
   "metadata": {},
   "outputs": [],
   "source": [
    "answers['5'] = '107' # +"
   ]
  },
  {
   "cell_type": "code",
   "execution_count": 15,
   "metadata": {
    "colab": {},
    "colab_type": "code",
    "id": "iBROplKnVp-v"
   },
   "outputs": [
    {
     "data": {
      "text/plain": [
       "107"
      ]
     },
     "execution_count": 15,
     "metadata": {},
     "output_type": "execute_result"
    }
   ],
   "source": [
    "round(data['runtime'].median())"
   ]
  },
  {
   "cell_type": "markdown",
   "metadata": {
    "colab_type": "text",
    "id": "39P-deDSVp-y"
   },
   "source": [
    "# 6. Какой самый прибыльный фильм?\n",
    "#### Внимание! Здесь и далее под «прибылью» или «убытками» понимается разность между сборами и бюджетом фильма. (прибыль = сборы - бюджет) в нашем датасете это будет (profit = revenue - budget) "
   ]
  },
  {
   "cell_type": "code",
   "execution_count": 16,
   "metadata": {},
   "outputs": [],
   "source": [
    "answers['6'] = 'Avatar (tt0499549)' # +"
   ]
  },
  {
   "cell_type": "code",
   "execution_count": 17,
   "metadata": {
    "colab": {},
    "colab_type": "code",
    "id": "UYZh4T9WVp-y"
   },
   "outputs": [
    {
     "data": {
      "text/html": [
       "<div>\n",
       "<style scoped>\n",
       "    .dataframe tbody tr th:only-of-type {\n",
       "        vertical-align: middle;\n",
       "    }\n",
       "\n",
       "    .dataframe tbody tr th {\n",
       "        vertical-align: top;\n",
       "    }\n",
       "\n",
       "    .dataframe thead th {\n",
       "        text-align: right;\n",
       "    }\n",
       "</style>\n",
       "<table border=\"1\" class=\"dataframe\">\n",
       "  <thead>\n",
       "    <tr style=\"text-align: right;\">\n",
       "      <th></th>\n",
       "      <th>imdb_id</th>\n",
       "      <th>budget</th>\n",
       "      <th>revenue</th>\n",
       "      <th>original_title</th>\n",
       "      <th>cast</th>\n",
       "      <th>director</th>\n",
       "      <th>tagline</th>\n",
       "      <th>overview</th>\n",
       "      <th>runtime</th>\n",
       "      <th>genres</th>\n",
       "      <th>production_companies</th>\n",
       "      <th>release_date</th>\n",
       "      <th>vote_average</th>\n",
       "      <th>release_year</th>\n",
       "      <th>profit</th>\n",
       "    </tr>\n",
       "  </thead>\n",
       "  <tbody>\n",
       "    <tr>\n",
       "      <th>239</th>\n",
       "      <td>tt0499549</td>\n",
       "      <td>237000000</td>\n",
       "      <td>2781505847</td>\n",
       "      <td>Avatar</td>\n",
       "      <td>Sam Worthington|Zoe Saldana|Sigourney Weaver|S...</td>\n",
       "      <td>James Cameron</td>\n",
       "      <td>Enter the World of Pandora.</td>\n",
       "      <td>In the 22nd century, a paraplegic Marine is di...</td>\n",
       "      <td>162</td>\n",
       "      <td>Action|Adventure|Fantasy|Science Fiction</td>\n",
       "      <td>Ingenious Film Partners|Twentieth Century Fox ...</td>\n",
       "      <td>12/10/2009</td>\n",
       "      <td>7.1</td>\n",
       "      <td>2009</td>\n",
       "      <td>2544505847</td>\n",
       "    </tr>\n",
       "  </tbody>\n",
       "</table>\n",
       "</div>"
      ],
      "text/plain": [
       "       imdb_id     budget     revenue original_title  \\\n",
       "239  tt0499549  237000000  2781505847         Avatar   \n",
       "\n",
       "                                                  cast       director  \\\n",
       "239  Sam Worthington|Zoe Saldana|Sigourney Weaver|S...  James Cameron   \n",
       "\n",
       "                         tagline  \\\n",
       "239  Enter the World of Pandora.   \n",
       "\n",
       "                                              overview  runtime  \\\n",
       "239  In the 22nd century, a paraplegic Marine is di...      162   \n",
       "\n",
       "                                       genres  \\\n",
       "239  Action|Adventure|Fantasy|Science Fiction   \n",
       "\n",
       "                                  production_companies release_date  \\\n",
       "239  Ingenious Film Partners|Twentieth Century Fox ...   12/10/2009   \n",
       "\n",
       "     vote_average  release_year      profit  \n",
       "239           7.1          2009  2544505847  "
      ]
     },
     "execution_count": 17,
     "metadata": {},
     "output_type": "execute_result"
    }
   ],
   "source": [
    "# лучше код получения столбца profit вынести в Предобработку что в начале\n",
    "data.sort_values(['profit'], ascending=False).head(1)"
   ]
  },
  {
   "cell_type": "markdown",
   "metadata": {
    "colab_type": "text",
    "id": "M99JmIX4Vp-2"
   },
   "source": [
    "# 7. Какой фильм самый убыточный? "
   ]
  },
  {
   "cell_type": "code",
   "execution_count": 18,
   "metadata": {},
   "outputs": [],
   "source": [
    "answers['7'] = 'The Lone Ranger (tt1210819)' # +"
   ]
  },
  {
   "cell_type": "code",
   "execution_count": 19,
   "metadata": {
    "colab": {},
    "colab_type": "code",
    "id": "w-D2m4XPVp-3"
   },
   "outputs": [
    {
     "data": {
      "text/html": [
       "<div>\n",
       "<style scoped>\n",
       "    .dataframe tbody tr th:only-of-type {\n",
       "        vertical-align: middle;\n",
       "    }\n",
       "\n",
       "    .dataframe tbody tr th {\n",
       "        vertical-align: top;\n",
       "    }\n",
       "\n",
       "    .dataframe thead th {\n",
       "        text-align: right;\n",
       "    }\n",
       "</style>\n",
       "<table border=\"1\" class=\"dataframe\">\n",
       "  <thead>\n",
       "    <tr style=\"text-align: right;\">\n",
       "      <th></th>\n",
       "      <th>imdb_id</th>\n",
       "      <th>budget</th>\n",
       "      <th>revenue</th>\n",
       "      <th>original_title</th>\n",
       "      <th>cast</th>\n",
       "      <th>director</th>\n",
       "      <th>tagline</th>\n",
       "      <th>overview</th>\n",
       "      <th>runtime</th>\n",
       "      <th>genres</th>\n",
       "      <th>production_companies</th>\n",
       "      <th>release_date</th>\n",
       "      <th>vote_average</th>\n",
       "      <th>release_year</th>\n",
       "      <th>profit</th>\n",
       "    </tr>\n",
       "  </thead>\n",
       "  <tbody>\n",
       "    <tr>\n",
       "      <th>1245</th>\n",
       "      <td>tt1210819</td>\n",
       "      <td>255000000</td>\n",
       "      <td>89289910</td>\n",
       "      <td>The Lone Ranger</td>\n",
       "      <td>Johnny Depp|Armie Hammer|William Fichtner|Hele...</td>\n",
       "      <td>Gore Verbinski</td>\n",
       "      <td>Never Take Off the Mask</td>\n",
       "      <td>The Texas Rangers chase down a gang of outlaws...</td>\n",
       "      <td>149</td>\n",
       "      <td>Action|Adventure|Western</td>\n",
       "      <td>Walt Disney Pictures|Jerry Bruckheimer Films|I...</td>\n",
       "      <td>7/3/2013</td>\n",
       "      <td>6.0</td>\n",
       "      <td>2013</td>\n",
       "      <td>-165710090</td>\n",
       "    </tr>\n",
       "  </tbody>\n",
       "</table>\n",
       "</div>"
      ],
      "text/plain": [
       "        imdb_id     budget   revenue   original_title  \\\n",
       "1245  tt1210819  255000000  89289910  The Lone Ranger   \n",
       "\n",
       "                                                   cast        director  \\\n",
       "1245  Johnny Depp|Armie Hammer|William Fichtner|Hele...  Gore Verbinski   \n",
       "\n",
       "                      tagline  \\\n",
       "1245  Never Take Off the Mask   \n",
       "\n",
       "                                               overview  runtime  \\\n",
       "1245  The Texas Rangers chase down a gang of outlaws...      149   \n",
       "\n",
       "                        genres  \\\n",
       "1245  Action|Adventure|Western   \n",
       "\n",
       "                                   production_companies release_date  \\\n",
       "1245  Walt Disney Pictures|Jerry Bruckheimer Films|I...     7/3/2013   \n",
       "\n",
       "      vote_average  release_year     profit  \n",
       "1245           6.0          2013 -165710090  "
      ]
     },
     "execution_count": 19,
     "metadata": {},
     "output_type": "execute_result"
    }
   ],
   "source": [
    "data.sort_values(['profit']).head(1)"
   ]
  },
  {
   "cell_type": "markdown",
   "metadata": {
    "colab_type": "text",
    "id": "wEOM5ERVVp-6"
   },
   "source": [
    "# 8. У скольких фильмов из датасета объем сборов оказался выше бюджета?"
   ]
  },
  {
   "cell_type": "code",
   "execution_count": 20,
   "metadata": {},
   "outputs": [],
   "source": [
    "answers['8'] = '1478' # +"
   ]
  },
  {
   "cell_type": "code",
   "execution_count": 21,
   "metadata": {
    "colab": {},
    "colab_type": "code",
    "id": "y00_7HD6Vp-7"
   },
   "outputs": [
    {
     "data": {
      "text/plain": [
       "1478"
      ]
     },
     "execution_count": 21,
     "metadata": {},
     "output_type": "execute_result"
    }
   ],
   "source": [
    "len(data.query('profit>0').index)"
   ]
  },
  {
   "cell_type": "markdown",
   "metadata": {
    "colab_type": "text",
    "id": "xhpspA9KVp_A"
   },
   "source": [
    "# 9. Какой фильм оказался самым кассовым в 2008 году?"
   ]
  },
  {
   "cell_type": "code",
   "execution_count": 22,
   "metadata": {},
   "outputs": [],
   "source": [
    "answers['9'] = 'The Dark Knight (tt0468569)' # +"
   ]
  },
  {
   "cell_type": "code",
   "execution_count": 23,
   "metadata": {
    "colab": {},
    "colab_type": "code",
    "id": "MoUyQr9RVp_B"
   },
   "outputs": [
    {
     "data": {
      "text/html": [
       "<div>\n",
       "<style scoped>\n",
       "    .dataframe tbody tr th:only-of-type {\n",
       "        vertical-align: middle;\n",
       "    }\n",
       "\n",
       "    .dataframe tbody tr th {\n",
       "        vertical-align: top;\n",
       "    }\n",
       "\n",
       "    .dataframe thead th {\n",
       "        text-align: right;\n",
       "    }\n",
       "</style>\n",
       "<table border=\"1\" class=\"dataframe\">\n",
       "  <thead>\n",
       "    <tr style=\"text-align: right;\">\n",
       "      <th></th>\n",
       "      <th>imdb_id</th>\n",
       "      <th>budget</th>\n",
       "      <th>revenue</th>\n",
       "      <th>original_title</th>\n",
       "      <th>cast</th>\n",
       "      <th>director</th>\n",
       "      <th>tagline</th>\n",
       "      <th>overview</th>\n",
       "      <th>runtime</th>\n",
       "      <th>genres</th>\n",
       "      <th>production_companies</th>\n",
       "      <th>release_date</th>\n",
       "      <th>vote_average</th>\n",
       "      <th>release_year</th>\n",
       "      <th>profit</th>\n",
       "    </tr>\n",
       "  </thead>\n",
       "  <tbody>\n",
       "    <tr>\n",
       "      <th>599</th>\n",
       "      <td>tt0468569</td>\n",
       "      <td>185000000</td>\n",
       "      <td>1001921825</td>\n",
       "      <td>The Dark Knight</td>\n",
       "      <td>Christian Bale|Michael Caine|Heath Ledger|Aaro...</td>\n",
       "      <td>Christopher Nolan</td>\n",
       "      <td>Why So Serious?</td>\n",
       "      <td>Batman raises the stakes in his war on crime. ...</td>\n",
       "      <td>152</td>\n",
       "      <td>Drama|Action|Crime|Thriller</td>\n",
       "      <td>DC Comics|Legendary Pictures|Warner Bros.|Syncopy</td>\n",
       "      <td>7/16/2008</td>\n",
       "      <td>8.1</td>\n",
       "      <td>2008</td>\n",
       "      <td>816921825</td>\n",
       "    </tr>\n",
       "  </tbody>\n",
       "</table>\n",
       "</div>"
      ],
      "text/plain": [
       "       imdb_id     budget     revenue   original_title  \\\n",
       "599  tt0468569  185000000  1001921825  The Dark Knight   \n",
       "\n",
       "                                                  cast           director  \\\n",
       "599  Christian Bale|Michael Caine|Heath Ledger|Aaro...  Christopher Nolan   \n",
       "\n",
       "             tagline                                           overview  \\\n",
       "599  Why So Serious?  Batman raises the stakes in his war on crime. ...   \n",
       "\n",
       "     runtime                       genres  \\\n",
       "599      152  Drama|Action|Crime|Thriller   \n",
       "\n",
       "                                  production_companies release_date  \\\n",
       "599  DC Comics|Legendary Pictures|Warner Bros.|Syncopy    7/16/2008   \n",
       "\n",
       "     vote_average  release_year     profit  \n",
       "599           8.1          2008  816921825  "
      ]
     },
     "execution_count": 23,
     "metadata": {},
     "output_type": "execute_result"
    }
   ],
   "source": [
    "data.query('release_year==2008').sort_values(['revenue'], ascending=False).head(1)"
   ]
  },
  {
   "cell_type": "markdown",
   "metadata": {
    "colab_type": "text",
    "id": "Zi4hDKidVp_F"
   },
   "source": [
    "# 10. Самый убыточный фильм за период с 2012 по 2014 г. (включительно)?\n"
   ]
  },
  {
   "cell_type": "code",
   "execution_count": 24,
   "metadata": {},
   "outputs": [],
   "source": [
    "answers['10'] = 'The Lone Ranger (tt1210819)' # +"
   ]
  },
  {
   "cell_type": "code",
   "execution_count": 25,
   "metadata": {
    "colab": {},
    "colab_type": "code",
    "id": "XqyRmufJVp_F"
   },
   "outputs": [
    {
     "data": {
      "text/html": [
       "<div>\n",
       "<style scoped>\n",
       "    .dataframe tbody tr th:only-of-type {\n",
       "        vertical-align: middle;\n",
       "    }\n",
       "\n",
       "    .dataframe tbody tr th {\n",
       "        vertical-align: top;\n",
       "    }\n",
       "\n",
       "    .dataframe thead th {\n",
       "        text-align: right;\n",
       "    }\n",
       "</style>\n",
       "<table border=\"1\" class=\"dataframe\">\n",
       "  <thead>\n",
       "    <tr style=\"text-align: right;\">\n",
       "      <th></th>\n",
       "      <th>imdb_id</th>\n",
       "      <th>budget</th>\n",
       "      <th>revenue</th>\n",
       "      <th>original_title</th>\n",
       "      <th>cast</th>\n",
       "      <th>director</th>\n",
       "      <th>tagline</th>\n",
       "      <th>overview</th>\n",
       "      <th>runtime</th>\n",
       "      <th>genres</th>\n",
       "      <th>production_companies</th>\n",
       "      <th>release_date</th>\n",
       "      <th>vote_average</th>\n",
       "      <th>release_year</th>\n",
       "      <th>profit</th>\n",
       "    </tr>\n",
       "  </thead>\n",
       "  <tbody>\n",
       "    <tr>\n",
       "      <th>1245</th>\n",
       "      <td>tt1210819</td>\n",
       "      <td>255000000</td>\n",
       "      <td>89289910</td>\n",
       "      <td>The Lone Ranger</td>\n",
       "      <td>Johnny Depp|Armie Hammer|William Fichtner|Hele...</td>\n",
       "      <td>Gore Verbinski</td>\n",
       "      <td>Never Take Off the Mask</td>\n",
       "      <td>The Texas Rangers chase down a gang of outlaws...</td>\n",
       "      <td>149</td>\n",
       "      <td>Action|Adventure|Western</td>\n",
       "      <td>Walt Disney Pictures|Jerry Bruckheimer Films|I...</td>\n",
       "      <td>7/3/2013</td>\n",
       "      <td>6.0</td>\n",
       "      <td>2013</td>\n",
       "      <td>-165710090</td>\n",
       "    </tr>\n",
       "  </tbody>\n",
       "</table>\n",
       "</div>"
      ],
      "text/plain": [
       "        imdb_id     budget   revenue   original_title  \\\n",
       "1245  tt1210819  255000000  89289910  The Lone Ranger   \n",
       "\n",
       "                                                   cast        director  \\\n",
       "1245  Johnny Depp|Armie Hammer|William Fichtner|Hele...  Gore Verbinski   \n",
       "\n",
       "                      tagline  \\\n",
       "1245  Never Take Off the Mask   \n",
       "\n",
       "                                               overview  runtime  \\\n",
       "1245  The Texas Rangers chase down a gang of outlaws...      149   \n",
       "\n",
       "                        genres  \\\n",
       "1245  Action|Adventure|Western   \n",
       "\n",
       "                                   production_companies release_date  \\\n",
       "1245  Walt Disney Pictures|Jerry Bruckheimer Films|I...     7/3/2013   \n",
       "\n",
       "      vote_average  release_year     profit  \n",
       "1245           6.0          2013 -165710090  "
      ]
     },
     "execution_count": 25,
     "metadata": {},
     "output_type": "execute_result"
    }
   ],
   "source": [
    "data.query('release_year >= 2012 & release_year <= 2014').sort_values(['profit']).head(1)"
   ]
  },
  {
   "cell_type": "markdown",
   "metadata": {
    "colab_type": "text",
    "id": "EA7Sa9dkVp_I"
   },
   "source": [
    "# 11. Какого жанра фильмов больше всего?"
   ]
  },
  {
   "cell_type": "code",
   "execution_count": 42,
   "metadata": {},
   "outputs": [],
   "source": [
    "answers['11'] = 'Drama'"
   ]
  },
  {
   "cell_type": "code",
   "execution_count": 41,
   "metadata": {
    "colab": {},
    "colab_type": "code",
    "id": "zsJAwJ8QVp_J"
   },
   "outputs": [
    {
     "data": {
      "text/plain": [
       "'Drama'"
      ]
     },
     "execution_count": 41,
     "metadata": {},
     "output_type": "execute_result"
    }
   ],
   "source": [
    "# эту задачу тоже можно решать разными подходами, попробуй реализовать разные варианты\n",
    "# если будешь добавлять функцию - выноси ее в предобработку что в начале\n",
    "genres_counter = Counter()\n",
    "for movie_genres in data['genres']:\n",
    "    for genre in movie_genres.split('|'):\n",
    "        genres_counter[genre] += 1\n",
    "\n",
    "genres_counter.most_common()[0][0]"
   ]
  },
  {
   "cell_type": "markdown",
   "metadata": {
    "colab_type": "text",
    "id": "Ax6g2C8SVp_M"
   },
   "source": [
    "ВАРИАНТ 2"
   ]
  },
  {
   "cell_type": "code",
   "execution_count": null,
   "metadata": {
    "colab": {},
    "colab_type": "code",
    "id": "otO3SbrSVp_N"
   },
   "outputs": [],
   "source": [
    "genres_pivot = data.pivot_table()"
   ]
  },
  {
   "cell_type": "markdown",
   "metadata": {
    "colab_type": "text",
    "id": "T9_bPWpkVp_Q"
   },
   "source": [
    "# 12. Фильмы какого жанра чаще всего становятся прибыльными? "
   ]
  },
  {
   "cell_type": "code",
   "execution_count": null,
   "metadata": {
    "colab": {},
    "colab_type": "code",
    "id": "Tmt8MaK1Vp_R"
   },
   "outputs": [],
   "source": []
  },
  {
   "cell_type": "markdown",
   "metadata": {
    "colab_type": "text",
    "id": "0F23bgsDVp_U"
   },
   "source": [
    "# 13. У какого режиссера самые большие суммарные кассовые сбооры?"
   ]
  },
  {
   "cell_type": "code",
   "execution_count": null,
   "metadata": {
    "colab": {},
    "colab_type": "code",
    "id": "K6Z3J8ygVp_X"
   },
   "outputs": [],
   "source": []
  },
  {
   "cell_type": "markdown",
   "metadata": {
    "colab_type": "text",
    "id": "PsYC9FgRVp_a"
   },
   "source": [
    "# 14. Какой режисер снял больше всего фильмов в стиле Action?"
   ]
  },
  {
   "cell_type": "code",
   "execution_count": null,
   "metadata": {
    "colab": {},
    "colab_type": "code",
    "id": "wd2M-wHeVp_b"
   },
   "outputs": [],
   "source": []
  },
  {
   "cell_type": "markdown",
   "metadata": {
    "colab_type": "text",
    "id": "PQ0KciD7Vp_f"
   },
   "source": [
    "# 15. Фильмы с каким актером принесли самые высокие кассовые сборы в 2012 году? "
   ]
  },
  {
   "cell_type": "code",
   "execution_count": null,
   "metadata": {
    "colab": {},
    "colab_type": "code",
    "id": "aga62oeKVp_g"
   },
   "outputs": [],
   "source": []
  },
  {
   "cell_type": "markdown",
   "metadata": {
    "colab_type": "text",
    "id": "mWHyyL7QVp_j"
   },
   "source": [
    "# 16. Какой актер снялся в большем количестве высокобюджетных фильмов?"
   ]
  },
  {
   "cell_type": "code",
   "execution_count": null,
   "metadata": {
    "colab": {},
    "colab_type": "code",
    "id": "qQtmHKTFVp_k"
   },
   "outputs": [],
   "source": []
  },
  {
   "cell_type": "markdown",
   "metadata": {
    "colab_type": "text",
    "id": "NIh6AaW5Vp_n"
   },
   "source": [
    "# 17. В фильмах какого жанра больше всего снимался Nicolas Cage? "
   ]
  },
  {
   "cell_type": "code",
   "execution_count": null,
   "metadata": {
    "colab": {},
    "colab_type": "code",
    "id": "H74SJDIBVp_n"
   },
   "outputs": [],
   "source": []
  },
  {
   "cell_type": "markdown",
   "metadata": {
    "colab_type": "text",
    "id": "RqOmPRfWVp_q"
   },
   "source": [
    "# 18. Самый убыточный фильм от Paramount Pictures"
   ]
  },
  {
   "cell_type": "code",
   "execution_count": null,
   "metadata": {
    "colab": {},
    "colab_type": "code",
    "id": "9E_B0Y96Vp_r"
   },
   "outputs": [],
   "source": []
  },
  {
   "cell_type": "markdown",
   "metadata": {
    "colab_type": "text",
    "id": "vS8Ur6ddVp_u"
   },
   "source": [
    "# 19. Какой год стал самым успешным по суммарным кассовым сборам?"
   ]
  },
  {
   "cell_type": "code",
   "execution_count": null,
   "metadata": {
    "colab": {},
    "colab_type": "code",
    "id": "Dnbt4GdIVp_v"
   },
   "outputs": [],
   "source": []
  },
  {
   "cell_type": "markdown",
   "metadata": {
    "colab_type": "text",
    "id": "JAzJh4QAVp_z"
   },
   "source": [
    "# 20. Какой самый прибыльный год для студии Warner Bros?"
   ]
  },
  {
   "cell_type": "code",
   "execution_count": null,
   "metadata": {
    "colab": {},
    "colab_type": "code",
    "id": "wgVu02DEVp_0"
   },
   "outputs": [],
   "source": []
  },
  {
   "cell_type": "markdown",
   "metadata": {
    "colab_type": "text",
    "id": "8Im1S2HRVp_4"
   },
   "source": [
    "# 21. В каком месяце за все годы суммарно вышло больше всего фильмов?"
   ]
  },
  {
   "cell_type": "code",
   "execution_count": null,
   "metadata": {
    "colab": {},
    "colab_type": "code",
    "id": "lev6TH7gVp_4"
   },
   "outputs": [],
   "source": []
  },
  {
   "cell_type": "markdown",
   "metadata": {
    "colab_type": "text",
    "id": "uAJsZ_NeVp_7"
   },
   "source": [
    "# 22. Сколько суммарно вышло фильмов летом? (за июнь, июль, август)"
   ]
  },
  {
   "cell_type": "code",
   "execution_count": null,
   "metadata": {
    "colab": {},
    "colab_type": "code",
    "id": "Aa-hEREoVp_8"
   },
   "outputs": [],
   "source": []
  },
  {
   "cell_type": "markdown",
   "metadata": {
    "colab_type": "text",
    "id": "G94ppOY1VqAA"
   },
   "source": [
    "# 23. Для какого режиссера зима – самое продуктивное время года? "
   ]
  },
  {
   "cell_type": "code",
   "execution_count": null,
   "metadata": {
    "colab": {},
    "colab_type": "code",
    "id": "RhNTsamuVqAB"
   },
   "outputs": [],
   "source": []
  },
  {
   "cell_type": "markdown",
   "metadata": {
    "colab_type": "text",
    "id": "RBo0JVjVVqAF"
   },
   "source": [
    "# 24. Какая студия дает самые длинные названия своим фильмам по количеству символов?"
   ]
  },
  {
   "cell_type": "code",
   "execution_count": null,
   "metadata": {
    "colab": {},
    "colab_type": "code",
    "id": "QRGS8L0iVqAG"
   },
   "outputs": [],
   "source": []
  },
  {
   "cell_type": "markdown",
   "metadata": {
    "colab_type": "text",
    "id": "9G0hbvR7VqAK"
   },
   "source": [
    "# 25. Описание фильмов какой студии в среднем самые длинные по количеству слов?"
   ]
  },
  {
   "cell_type": "code",
   "execution_count": null,
   "metadata": {
    "colab": {},
    "colab_type": "code",
    "id": "Ge2GsLNxVqAK"
   },
   "outputs": [],
   "source": []
  },
  {
   "cell_type": "markdown",
   "metadata": {
    "colab_type": "text",
    "id": "FJ1AFt90VqAP"
   },
   "source": [
    "# 26. Какие фильмы входят в 1 процент лучших по рейтингу? \n",
    "по vote_average"
   ]
  },
  {
   "cell_type": "code",
   "execution_count": null,
   "metadata": {
    "colab": {},
    "colab_type": "code",
    "id": "8qmJVq4CVqAQ"
   },
   "outputs": [],
   "source": []
  },
  {
   "cell_type": "markdown",
   "metadata": {
    "colab_type": "text",
    "id": "MdXsUXbCVqAV"
   },
   "source": [
    "# 27. Какие актеры чаще всего снимаются в одном фильме вместе?\n"
   ]
  },
  {
   "cell_type": "markdown",
   "metadata": {
    "colab_type": "text",
    "id": "4ymnxEVoVqAW"
   },
   "source": [
    "ВАРИАНТ 2"
   ]
  },
  {
   "cell_type": "markdown",
   "metadata": {
    "colab_type": "text",
    "id": "U0nONFnGVqAX"
   },
   "source": [
    "# Submission"
   ]
  },
  {
   "cell_type": "code",
   "execution_count": 28,
   "metadata": {
    "colab": {},
    "colab_type": "code",
    "id": "IfcaRO9-VqAX",
    "outputId": "0f132912-32bb-4196-c98c-abfbc4ad5a5f"
   },
   "outputs": [
    {
     "data": {
      "text/plain": [
       "{'1': 'Pirates of the Caribbean: On Stranger Tides (tt1298650)',\n",
       " '2': 'Gods and Generals (tt0279111)',\n",
       " '3': 'Winnie the Pooh (tt1449283)',\n",
       " '4': '110',\n",
       " '5': '107',\n",
       " '6': 'Avatar (tt0499549)',\n",
       " '7': 'The Lone Ranger (tt1210819)',\n",
       " '8': '1478',\n",
       " '9': 'The Dark Knight (tt0468569)',\n",
       " '10': 'The Lone Ranger (tt1210819)',\n",
       " '11': ''}"
      ]
     },
     "execution_count": 28,
     "metadata": {},
     "output_type": "execute_result"
    }
   ],
   "source": [
    "# в конце можно посмотреть свои ответы к каждому вопросу\n",
    "answers"
   ]
  },
  {
   "cell_type": "code",
   "execution_count": 29,
   "metadata": {
    "colab": {},
    "colab_type": "code",
    "id": "SiRmHPl8VqAd"
   },
   "outputs": [
    {
     "data": {
      "text/plain": [
       "11"
      ]
     },
     "execution_count": 29,
     "metadata": {},
     "output_type": "execute_result"
    }
   ],
   "source": [
    "# и убедиться что ни чего не пропустил)\n",
    "len(answers)"
   ]
  },
  {
   "cell_type": "code",
   "execution_count": null,
   "metadata": {
    "colab": {},
    "colab_type": "code",
    "id": "uCfuTkRbVqAg"
   },
   "outputs": [],
   "source": []
  },
  {
   "cell_type": "code",
   "execution_count": null,
   "metadata": {
    "colab": {},
    "colab_type": "code",
    "id": "Vwx3NrkSVqAl"
   },
   "outputs": [],
   "source": []
  }
 ],
 "metadata": {
  "colab": {
   "name": "Copy of [SF-DST] Movies IMBD v4.1 TEMPLATE.ipynb",
   "provenance": []
  },
  "kernelspec": {
   "display_name": "Python 3",
   "language": "python",
   "name": "python3"
  },
  "language_info": {
   "codemirror_mode": {
    "name": "ipython",
    "version": 3
   },
   "file_extension": ".py",
   "mimetype": "text/x-python",
   "name": "python",
   "nbconvert_exporter": "python",
   "pygments_lexer": "ipython3",
   "version": "3.8.3"
  }
 },
 "nbformat": 4,
 "nbformat_minor": 1
}
