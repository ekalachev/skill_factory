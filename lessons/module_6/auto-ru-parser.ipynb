{
 "cells": [
  {
   "cell_type": "code",
   "execution_count": 1,
   "metadata": {},
   "outputs": [],
   "source": [
    "import os\n",
    "import time\n",
    "import datetime\n",
    "\n",
    "import requests as r\n",
    "import json\n",
    "from bs4 import BeautifulSoup\n",
    "\n",
    "import pandas as pd\n",
    "import numpy as np"
   ]
  },
  {
   "cell_type": "code",
   "execution_count": 2,
   "metadata": {},
   "outputs": [],
   "source": [
    "pd.set_option('display.max_columns', None)\n",
    "pd.set_option('max_colwidth', None)"
   ]
  },
  {
   "cell_type": "code",
   "execution_count": null,
   "metadata": {},
   "outputs": [],
   "source": [
    "response = r.get(\"https://auto.ru/moskva/cars/used/\")\n",
    "response.encoding = 'utf-8'"
   ]
  },
  {
   "cell_type": "code",
   "execution_count": null,
   "metadata": {},
   "outputs": [],
   "source": [
    "page = BeautifulSoup(response.text, 'html.parser')"
   ]
  },
  {
   "cell_type": "code",
   "execution_count": null,
   "metadata": {},
   "outputs": [],
   "source": [
    "json_data = json.loads(page.find('script', id='initial-state').string)"
   ]
  },
  {
   "cell_type": "code",
   "execution_count": null,
   "metadata": {},
   "outputs": [],
   "source": [
    "marks = list(map(lambda x: x['itemFilterParams']['mark'], json_data['breadcrumbsPublicApi']['data'][0]['entities']))"
   ]
  },
  {
   "cell_type": "code",
   "execution_count": null,
   "metadata": {},
   "outputs": [],
   "source": [
    "def get_params_and_headers(mark: str, page_num: int, transmission: str):\n",
    "    PARAMS = {\n",
    "         'catalog_filter' : [{\"mark\": mark}],\n",
    "         'section': 'used',\n",
    "         'category': 'cars',\n",
    "         'sort': 'fresh_relevance_1-desc',\n",
    "         'page': page_num\n",
    "        }\n",
    "    \n",
    "    if len(transmission) > 0:\n",
    "        PARAMS['transmission'] = transmission\n",
    "    \n",
    "    HEADERS = {\n",
    "        'Accept': '*/*',\n",
    "        'Accept-Encoding': 'gzip, deflate, br',\n",
    "        'Accept-Language': 'ru-RU,ru;q=0.8,en-US;q=0.5,en;q=0.3',\n",
    "        'Connection': 'keep-alive',\n",
    "        'content-type': 'application/json',\n",
    "        'Cookie': '_csrf_token=12d20142d10520f7b82c3dec0761a49668ff01a261b9171c; autoru_sid=a:g608d8c462ardieoc0p4gq330989vaks.c732a85395b1c9ec165133ee4095e6a6|1619889222514.604800.HkPE-x1SxJKvhQahdUKJSA.VSWxbotagLLIQcVL5CB-znX8JlN0JrRgEnPJcWp-cZA; autoruuid=g608d8c462ardieoc0p4gq330989vaks.c732a85395b1c9ec165133ee4095e6a6; autoru_gdpr=1; suid=82ade37eba6f1ecf225433ca6047bb66.047145ec6efb2e2ae89d4d21754e2986; from=direct; yuidlt=1; yandexuid=8117481671618082737; my=YwA=; crookie=PrzkiqRgqdN/tIYCniScgxCemcKp24LXjs81XXozOneCz4wUfylD6HFpbUGEjxb7zS1A5gUXNT3f5DG+MozPfSzHHtE=; cmtchd=MTYxOTg4OTIzNzk5OA==; gdpr=0; _ym_isad=1; _ym_uid=161988924290763830; autoru-visits-count=1; X-Vertis-DC=sas; gids=213; bltsr=1; gradius=0; from_lifetime=1619899678001; _ym_d=1619900682',\n",
    "        'Host': 'auto.ru',\n",
    "        'origin': 'https://auto.ru',\n",
    "        'Referer': f'https://auto.ru/moskva/cars/{mark.lower()}/used/',\n",
    "        'User-Agent': 'Mozilla/5.0 (Windows NT 10.0; Win64; x64; rv:72.0) Gecko/20100101 Firefox/72.0',\n",
    "        'x-client-app-version': '202002.03.092255',\n",
    "        'x-client-date': '1580933207763',\n",
    "        'x-csrf-token': '12d20142d10520f7b82c3dec0761a49668ff01a261b9171c',\n",
    "        'x-page-request-id': '60142cd4f0c0edf51f96fd0134c6f02a',\n",
    "        'x-requested-with': 'fetch'\n",
    "    }\n",
    "    \n",
    "    return PARAMS, HEADERS"
   ]
  },
  {
   "cell_type": "code",
   "execution_count": null,
   "metadata": {},
   "outputs": [],
   "source": [
    "URL = 'https://auto.ru/-/ajax/desktop/listing/'"
   ]
  },
  {
   "cell_type": "code",
   "execution_count": 3,
   "metadata": {},
   "outputs": [],
   "source": [
    "PATH = './cars/'"
   ]
  },
  {
   "cell_type": "code",
   "execution_count": 4,
   "metadata": {},
   "outputs": [],
   "source": [
    "transmissions = ['AUTOMATIC', 'ROBOT', 'VARIATOR', 'MECHANICAL']"
   ]
  },
  {
   "cell_type": "code",
   "execution_count": null,
   "metadata": {},
   "outputs": [],
   "source": [
    "# save what was found to the file system\n",
    "for mark in marks:\n",
    "    for transmission in transmissions:\n",
    "        print(mark.lower() + '-' + transmission.lower(), end=': ')\n",
    "\n",
    "        new_path = PATH + mark.lower() + '-' + transmission.lower()\n",
    "\n",
    "        if not os.path.exists(new_path):\n",
    "            os.mkdir(new_path)\n",
    "        \n",
    "        # goes by pages from 1 to 100\n",
    "        for i in range(1, 100):        \n",
    "            PARAMS, HEADERS = get_params_and_headers(mark, i, transmission)    \n",
    "            response = requests.post(URL, json=PARAMS, headers=HEADERS)\n",
    "            response.encoding = 'utf-8'\n",
    "            offers = response.json()['offers']\n",
    "\n",
    "            cars_count = len(offers)\n",
    "\n",
    "            if cars_count == 0:\n",
    "                break;\n",
    "\n",
    "            new_file_path = new_path + '/page-' + str(i) + '.txt'\n",
    "\n",
    "            if not os.path.exists(new_file_path):\n",
    "                with open(new_file_path, 'w') as out_file:\n",
    "                    out_file.write(json.dumps(offers))\n",
    "\n",
    "            print(i, f'({cars_count})', end='  ')\n",
    "\n",
    "        print()"
   ]
  },
  {
   "cell_type": "code",
   "execution_count": 5,
   "metadata": {},
   "outputs": [],
   "source": [
    "test_df = pd.read_csv('./hw/test.csv', header=0)"
   ]
  },
  {
   "cell_type": "code",
   "execution_count": 6,
   "metadata": {},
   "outputs": [],
   "source": [
    "t = time.gmtime()"
   ]
  },
  {
   "cell_type": "code",
   "execution_count": 7,
   "metadata": {},
   "outputs": [],
   "source": [
    "colors_dict = {\n",
    "    '040001' : 'чёрный',\n",
    "    'FAFBFB': 'белый',\n",
    "    '97948F': 'серебристый',\n",
    "    'CACECB': 'серый',\n",
    "    '0000CC': 'синий',\n",
    "    'EE1D19': 'красный',\n",
    "    '200204': 'коричневый',\n",
    "    '007F00': 'зелёный',\n",
    "    'C49648': 'бежевый',\n",
    "    '22A0F8': 'голубой',\n",
    "    'FFD600': 'золотистый',\n",
    "    '660099': 'пурпурный',\n",
    "    '4A2197': 'фиолетовый',\n",
    "    'DEA522': 'жёлтый',\n",
    "    'FF8649': 'оранжевый',\n",
    "    'FFC0CB': 'розовый'\n",
    "}"
   ]
  },
  {
   "cell_type": "code",
   "execution_count": 8,
   "metadata": {},
   "outputs": [],
   "source": [
    "steering_wheel_dict = {\n",
    "    'LEFT': 'Левый',\n",
    "    'RIGHT': 'Правый'\n",
    "}"
   ]
  },
  {
   "cell_type": "code",
   "execution_count": 9,
   "metadata": {},
   "outputs": [],
   "source": [
    "pts_dict = {\n",
    "    'ORIGINAL': 'Оригинал',\n",
    "    'DUPLICATE': 'Дубликат'\n",
    "}"
   ]
  },
  {
   "cell_type": "code",
   "execution_count": 10,
   "metadata": {},
   "outputs": [],
   "source": [
    "fuel_dict = {\n",
    "    'GASOLINE': 'бензин',\n",
    "    'DIESEL': 'дизель',\n",
    "    'HYBRID': 'гибрид',\n",
    "    'ELECTRO': 'электро',\n",
    "    'LPG': 'газ'\n",
    "}"
   ]
  },
  {
   "cell_type": "code",
   "execution_count": 11,
   "metadata": {},
   "outputs": [],
   "source": [
    "gear_type_dict = {\n",
    "    'FORWARD_CONTROL': 'передний',\n",
    "    'ALL_WHEEL_DRIVE': 'полный',\n",
    "    'REAR_DRIVE': 'задний'\n",
    "}"
   ]
  },
  {
   "cell_type": "code",
   "execution_count": 12,
   "metadata": {},
   "outputs": [],
   "source": [
    "transmission_dict = {\n",
    "    'AUTOMATIC': 'автоматическая',\n",
    "    'MECHANICAL': 'механическая',\n",
    "    'ROBOT': 'роботизированная',\n",
    "    'VARIATOR': 'вариатор'\n",
    "}"
   ]
  },
  {
   "cell_type": "code",
   "execution_count": 13,
   "metadata": {},
   "outputs": [],
   "source": [
    "def get_owner_count(x):\n",
    "    if x == 1:\n",
    "        return '1\\xa0владелец'\n",
    "    elif x == 2:\n",
    "        return '2\\xa0владельца'\n",
    "    elif x > 2:\n",
    "        return '3 или более'\n",
    "    \n",
    "    return None"
   ]
  },
  {
   "cell_type": "code",
   "execution_count": 14,
   "metadata": {},
   "outputs": [],
   "source": [
    "def get_year_ru(x):\n",
    "    if x % 10 == 1 and x != 11 and x % 100 != 11:\n",
    "        return  'год'\n",
    "    elif 1 < x % 10 <= 4 and x != 12 and x != 13 and x != 14:\n",
    "        return 'года'\n",
    "    \n",
    "    return 'лет'"
   ]
  },
  {
   "cell_type": "code",
   "execution_count": 15,
   "metadata": {},
   "outputs": [],
   "source": [
    "def get_month_ru(m):\n",
    "    if m == 1:\n",
    "        return 'месяц'\n",
    "    elif m == 2 or m == 3 or m == 4:\n",
    "        return 'месяца'\n",
    "    return 'месяцев'"
   ]
  },
  {
   "cell_type": "code",
   "execution_count": 16,
   "metadata": {},
   "outputs": [],
   "source": [
    "def get_ownership_period(months):\n",
    "    if months == 0 or months == None:\n",
    "        return None\n",
    "    \n",
    "    if months > 11:\n",
    "        years = months // 12\n",
    "        months = months % 12\n",
    "        if months > 0:\n",
    "            return f'{years} {get_year_ru(years)} и {months} {get_month_ru(months)}'\n",
    "        else:\n",
    "            return f'{years} {get_year_ru(years)}'\n",
    "    else:\n",
    "        return f'{months} {get_month_ru(months)}'"
   ]
  },
  {
   "cell_type": "code",
   "execution_count": 17,
   "metadata": {},
   "outputs": [],
   "source": [
    "cars_list = []\n",
    "\n",
    "# read cars from file system\n",
    "for f in os.scandir(PATH):\n",
    "    for file in os.scandir(f.path):\n",
    "        with open(file.path, 'r') as r:\n",
    "            page_json = json.loads(r.read())\n",
    "            for car in page_json:\n",
    "                model_info = car['vehicle_info']['model_info']\n",
    "                \n",
    "                brand = car['vehicle_info']['mark_info']['code']\n",
    "                model_name = model_info['code']\n",
    "                saleId = car['saleId']\n",
    "                car_url = f'https://auto.ru/cars/used/sale/{brand.lower()}/{model_name.lower()}/{saleId}/'\n",
    "                color = colors_dict[car['color_hex']]\n",
    "                \n",
    "                complectation_dict = car['vehicle_info']['complectation']\n",
    "                if complectation_dict['id'] == \"0\":\n",
    "                    complectation_dict = None\n",
    "                    \n",
    "                bodyType = car['vehicle_info']['configuration']['human_name'].lower()\n",
    "                try: description = car['description']\n",
    "                except: description = None\n",
    "                engineDisplacement = str(round(int(car['vehicle_info']['tech_param']['displacement'])/1000, 1)) + ' LTR'\n",
    "                enginePower = str(car['vehicle_info']['tech_param']['power']) + ' N12'\n",
    "                equipment_dict = car['vehicle_info']['equipment']\n",
    "                fuelType = fuel_dict[car['vehicle_info']['tech_param']['engine_type']]\n",
    "                # image = car[]\n",
    "                mileage = car['state']['mileage']\n",
    "                modelDate = car['vehicle_info']['super_gen']['year_from']\n",
    "            \n",
    "                name = car['vehicle_info']['tech_param']['human_name']\n",
    "                numberOfDoors = car['vehicle_info']['configuration']['doors_count']\n",
    "                parsing_unixtime = round(time.time())\n",
    "                \n",
    "                if 'currency' in car['price_info']:\n",
    "                    priceCurrency = car['price_info']['currency']\n",
    "                    if priceCurrency == 'RUR':\n",
    "                        priceCurrency = 'RUB'\n",
    "                else:\n",
    "                    priceCurrency = None\n",
    "                \n",
    "                if 'price' in car['price_info']:\n",
    "                    price = car['price_info']['price']\n",
    "                else:\n",
    "                    price = None\n",
    "                    \n",
    "                productionDate = car['documents']['year']\n",
    "                sell_id = car['id']\n",
    "                super_gen = car['vehicle_info']['tech_param']\n",
    "                vehicleConfiguration = f\"{(car['vehicle_info']['configuration']['body_type'])} {(car['vehicle_info']['tech_param']['transmission'])} {engineDisplacement}\"\n",
    "                vehicleTransmission = transmission_dict[car['vehicle_info']['tech_param']['transmission']]\n",
    "                vendor = car['vehicle_info']['vendor']\n",
    "                \n",
    "                if 'owners_number' in car['documents']:\n",
    "                    owners_number = get_owner_count(car['documents']['owners_number'])\n",
    "                else:\n",
    "                    owners_number = None\n",
    "                \n",
    "                if 'purchase_date' in car['documents']:\n",
    "                    dt_now = datetime.datetime(t.tm_year, t.tm_mon, 1)\n",
    "                    td_purchase = datetime.datetime(car['documents']['purchase_date']['year'], car['documents']['purchase_date']['month'], 1)\n",
    "                    num_months = (dt_now.year - td_purchase.year) * 12 + (dt_now.month - td_purchase.month) + 1\n",
    "                    ownership_period = get_ownership_period(num_months)\n",
    "                else:\n",
    "                    ownership_period = None\n",
    "                \n",
    "                if 'pts' in car['documents']:\n",
    "                    pts = pts_dict[car['documents']['pts']]\n",
    "                else:\n",
    "                    pts = None\n",
    "                \n",
    "                gear_type = gear_type_dict[car['vehicle_info']['tech_param']['gear_type']]\n",
    "                steering_wheel = steering_wheel_dict[car['vehicle_info']['steering_wheel']]\n",
    "                state = 'Не требует ремонта' if car['state']['state_not_beaten'] == True else 'Требует ремонта'\n",
    "                custom_cleared = 'Растаможен' if car['documents']['custom_cleared'] == True else 'Не растаможен'\n",
    "                \n",
    "                cars_list.append({\n",
    "                    'brand': brand, \n",
    "                    'saleId': saleId, \n",
    "                    'car_url': car_url, \n",
    "                    'color': color,\n",
    "                    'complectation_dict': complectation_dict, \n",
    "                    'bodyType': bodyType, \n",
    "                    'description': description, \n",
    "                    'engineDisplacement': engineDisplacement, \n",
    "                    'enginePower': enginePower, \n",
    "                    'equipment_dict': equipment_dict, \n",
    "                    'fuelType': fuelType, \n",
    "                    'image': None, \n",
    "                    'mileage': mileage, \n",
    "                    'modelDate': modelDate, \n",
    "                    'model_info': model_info, \n",
    "                    'model_name': model_name, \n",
    "                    'name': name, \n",
    "                    'numberOfDoors': numberOfDoors, \n",
    "                    'parsing_unixtime': parsing_unixtime, \n",
    "                    'priceCurrency': priceCurrency, \n",
    "                    'productionDate': productionDate, \n",
    "                    'sell_id': sell_id, \n",
    "                    'super_gen': super_gen, \n",
    "                    'vehicleConfiguration': vehicleConfiguration, \n",
    "                    'vehicleTransmission': vehicleTransmission, \n",
    "                    'vendor': vendor, \n",
    "                    'Владельцы': owners_number, \n",
    "                    'Владение': ownership_period, \n",
    "                    'ПТС': pts, \n",
    "                    'Привод': gear_type, \n",
    "                    'Руль': steering_wheel, \n",
    "                    'Состояние': state, \n",
    "                    'Таможня': custom_cleared,\n",
    "                    'price': price\n",
    "                })"
   ]
  },
  {
   "cell_type": "code",
   "execution_count": 18,
   "metadata": {},
   "outputs": [
    {
     "data": {
      "text/plain": [
       "52571"
      ]
     },
     "execution_count": 18,
     "metadata": {},
     "output_type": "execute_result"
    }
   ],
   "source": [
    "len(cars_list)"
   ]
  },
  {
   "cell_type": "code",
   "execution_count": 19,
   "metadata": {},
   "outputs": [],
   "source": [
    "cars_df = pd.DataFrame(cars_list, columns=[\n",
    "    'bodyType',\n",
    "    'brand', \n",
    "    'car_url', \n",
    "    'color',\n",
    "    'complectation_dict',\n",
    "    'description', \n",
    "    'engineDisplacement', \n",
    "    'enginePower', \n",
    "    'equipment_dict',\n",
    "    'fuelType', \n",
    "    'image', \n",
    "    'mileage', \n",
    "    'modelDate', \n",
    "    'model_info', \n",
    "    'model_name',\n",
    "    'name', \n",
    "    'numberOfDoors', \n",
    "    'parsing_unixtime', \n",
    "    'priceCurrency',\n",
    "    'productionDate', \n",
    "    'sell_id', \n",
    "    'super_gen', \n",
    "    'vehicleConfiguration',\n",
    "    'vehicleTransmission', \n",
    "    'vendor',\n",
    "    'Владельцы',\n",
    "    'Владение',\n",
    "    'ПТС',\n",
    "    'Привод',\n",
    "    'Руль',\n",
    "    'Состояние',\n",
    "    'Таможня',\n",
    "    'price'\n",
    "])"
   ]
  },
  {
   "cell_type": "code",
   "execution_count": 20,
   "metadata": {},
   "outputs": [],
   "source": [
    "# удаляем записи где не указано количество владельцев (их мало, всего 1)\n",
    "cars_df = cars_df[~cars_df['Владельцы'].isna()]"
   ]
  },
  {
   "cell_type": "code",
   "execution_count": 21,
   "metadata": {},
   "outputs": [],
   "source": [
    "# удаляем дубликаты\n",
    "cars_df = cars_df.drop_duplicates(subset=['sell_id'])"
   ]
  },
  {
   "cell_type": "code",
   "execution_count": 22,
   "metadata": {},
   "outputs": [],
   "source": [
    "# удаляем записи где нет цены\n",
    "cars_df = cars_df[~cars_df['price'].isna()]"
   ]
  },
  {
   "cell_type": "code",
   "execution_count": 24,
   "metadata": {},
   "outputs": [],
   "source": [
    "cars_df.to_csv('./hw/parsed_data.csv', index=False)"
   ]
  },
  {
   "cell_type": "code",
   "execution_count": null,
   "metadata": {},
   "outputs": [],
   "source": []
  }
 ],
 "metadata": {
  "kernelspec": {
   "display_name": "Python 3",
   "language": "python",
   "name": "python3"
  },
  "language_info": {
   "codemirror_mode": {
    "name": "ipython",
    "version": 3
   },
   "file_extension": ".py",
   "mimetype": "text/x-python",
   "name": "python",
   "nbconvert_exporter": "python",
   "pygments_lexer": "ipython3",
   "version": "3.8.5"
  }
 },
 "nbformat": 4,
 "nbformat_minor": 4
}
