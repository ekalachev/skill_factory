{
 "cells": [
  {
   "cell_type": "markdown",
   "id": "b5011b4a",
   "metadata": {},
   "source": [
    "# Стекинг\n",
    "\n",
    "Стекинг (stacking) — агрегация ответов моделей машинного обучения при помощи ещё одной модели машинного обучения. Подход использует понятие базовых моделей, каждая из которых обучается независимо от остальных, и мета-модели, которая использует предсказания базовых моделей как признаки.\n",
    "\n",
    "Правила стекинга:\n",
    "\n",
    "- Обучать мета-модели нужно на новых для базовых моделей данных. Так избегается data leak, появляющийся при оценке алгоритмов на обучающей выборке.\n",
    "- Можно использовать подходы из кросс-валидации (разбиение по фолдам, бутстрап) для получения различных моделей.\n",
    "- Лучше применять регрессоры для мета-моделей.\n",
    "- Для старта лучше взять простую мета-модель, например, линейную регрессию. В случае классификации — для агрегации вероятности классов. Этот частный случай называют блендингом (blending).\n",
    "- Брать в качестве базовых моделей модели различной природы.\n",
    "- Обучать модель не только на истинный таргет, но и на прокси таргет, например, на важный признак, который выявили во время исследования данных.\n",
    "- Делать стекинг с большим количеством уровней при наличии достаточного количества данных, времени и усилий, что на практике редко."
   ]
  },
  {
   "cell_type": "markdown",
   "id": "e1af1d17",
   "metadata": {},
   "source": [
    "## Вопросы:\n",
    "- Как необходимо настраивать гиперпараметры для базовых алгоритмов в стекинге\n",
    "    - На отложенной выборке\n",
    "\n",
    "\n",
    "- На что влияет увеличение количество фолдов в стекинге?\n",
    "    - Увеличивается время обучения\n",
    "    - Увеличивается качество итоговой модели\n",
    "\n",
    "\n",
    "- Как применять стекинг для предсказаний (inference) на совершенно новых объектах?\n",
    "    - Сохранить все обученные на фолдах промежуточные модели и применить их на новых объектах с усреднением ответов\n",
    "\n",
    "\n",
    "- Какие из следующих утверждений верны для стекинга?\n",
    "    - Модель обучается на предсказаниях разных моделей машинного обучения\n",
    "    - Модели на первой стадии обучаются на признаках исходного набора данных\n",
    "\n",
    "\n",
    "- Какие из перечисленных ниже действий могут выполняться при стекинге?\n",
    "    - Разделить обучающую выборку на k фолдов\n",
    "    - Обучить k моделей на каждом из k-1 фолдов и получить предсказания для оставшегося фолда\n",
    "\n",
    "\n",
    "- Вы используете стекинг с n методами машинного обучения и данными, разбитыми на k фолдов, для решения задачи бинарной классификации. Все базовые модели обучаются на всех признаках исходного датасета. Вы используете k фолдов для базовых моделей. Какое утверждение верно для стекинга с одним уровнем (m базовых моделей и одна агрегирующая результаты модель)?\n",
    "    - После первой стадии у вас останется только m признаков"
   ]
  },
  {
   "cell_type": "code",
   "execution_count": 1,
   "id": "716154df",
   "metadata": {},
   "outputs": [],
   "source": [
    "import pandas as pd\n",
    "import numpy as np\n",
    "\n",
    "from sklearn.ensemble import (AdaBoostClassifier, GradientBoostingClassifier,\n",
    "                              RandomForestClassifier, ExtraTreesClassifier)\n",
    "from sklearn.linear_model import LogisticRegression\n",
    "from sklearn.tree import DecisionTreeClassifier\n",
    "from sklearn.base import clone\n",
    "from sklearn.neighbors import KNeighborsClassifier\n",
    "\n",
    "from sklearn.model_selection import train_test_split, KFold, StratifiedKFold\n",
    "from sklearn.metrics import f1_score\n",
    "from sklearn.datasets import load_digits\n",
    "\n",
    "from tqdm import tqdm\n",
    "\n",
    "from sklearn.model_selection import RandomizedSearchCV\n",
    "from scipy.stats.distributions import randint"
   ]
  },
  {
   "cell_type": "code",
   "execution_count": 2,
   "id": "04029cda",
   "metadata": {},
   "outputs": [],
   "source": [
    "RANDOM_STATE = 42"
   ]
  },
  {
   "cell_type": "code",
   "execution_count": 3,
   "id": "d3b430a7",
   "metadata": {},
   "outputs": [],
   "source": [
    "dataset = load_digits()\n",
    "X, y = dataset['data'], dataset['target']\n",
    "\n",
    "X_train, X_test, y_train, y_test = train_test_split(X, y, random_state=42, test_size=0.2)"
   ]
  },
  {
   "cell_type": "code",
   "execution_count": 4,
   "id": "ac8a5ccb",
   "metadata": {},
   "outputs": [],
   "source": [
    "def compute_meta_feature(clf, X_train, X_test, y_train, cv):\n",
    "\n",
    "    n_classes = len(np.unique(y_train))\n",
    "    X_meta_train = np.zeros((len(y_train), n_classes), dtype=np.float32)\n",
    "\n",
    "    splits = cv.split(X_train)\n",
    "    for train_fold_index, predict_fold_index in splits:\n",
    "        X_fold_train, X_fold_predict = X_train[train_fold_index], X_train[predict_fold_index]\n",
    "        y_fold_train = y_train[train_fold_index]\n",
    "\n",
    "        folded_clf = clone(clf)\n",
    "        folded_clf.fit(X_fold_train, y_fold_train)\n",
    "\n",
    "        X_meta_train[predict_fold_index] = folded_clf.predict_proba(\n",
    "            X_fold_predict)\n",
    "\n",
    "    meta_clf = clone(clf)\n",
    "    meta_clf.fit(X_train, y_train)\n",
    "\n",
    "    X_meta_test = meta_clf.predict_proba(X_test)\n",
    "\n",
    "    return X_meta_train, X_meta_test"
   ]
  },
  {
   "cell_type": "code",
   "execution_count": 5,
   "id": "72ab3d15",
   "metadata": {},
   "outputs": [],
   "source": [
    "def generate_meta_features(classifiers, X_train, X_test, y_train, cv):\n",
    "\n",
    "    features = [\n",
    "        compute_meta_feature(clf, X_train, X_test, y_train, cv)\n",
    "        for clf in tqdm(classifiers)\n",
    "    ]\n",
    "\n",
    "    stacked_features_train = np.hstack([\n",
    "        features_train for features_train, features_test in features\n",
    "    ])\n",
    "\n",
    "    stacked_features_test = np.hstack([\n",
    "        features_test for features_train, features_test in features\n",
    "    ])\n",
    "\n",
    "    return stacked_features_train, stacked_features_test"
   ]
  },
  {
   "cell_type": "code",
   "execution_count": 6,
   "id": "31a04f8b",
   "metadata": {},
   "outputs": [],
   "source": [
    "cv = KFold(n_splits=10, shuffle=True, random_state=RANDOM_STATE)\n",
    "\n",
    "\n",
    "def compute_metric(clf, X_train=X_train, y_train=y_train, X_test=X_test):\n",
    "    clf.fit(X_train, y_train)\n",
    "    y_test_pred = clf.predict(X_test)\n",
    "    return np.round(f1_score(y_test, y_test_pred, average='macro'), 6)"
   ]
  },
  {
   "cell_type": "markdown",
   "id": "1b4f7934",
   "metadata": {},
   "source": [
    "## Задание 1\n",
    "\n",
    "Используйте функцию generate_meta_features для стекинга следующих алгоритмов:\n",
    "\n",
    "- логистическая регрессия с L1-регуляризацией, C=0.001, солвер — 'saga', схема работы мультиклассовой классификации — one-vs-rest, максимальное допустимое количество итераций — 2000\n",
    "- логистическая регрессия с L2-регуляризацией, C=0.001, солвер — 'saga', схема работы мультиклассовой классификации — multinomial, максимальное допустимое количество итераций — 2000\n",
    "- случайный лес из 300 деревьев\n",
    "- градиентный бустинг из 200 деревьев\n",
    "\n",
    "Как мета-алгоритм используйте логистическую регрессию без регуляризации со схемой работы мультиклассовой классификации — auto и солвером 'lbfgs'.\n",
    "Посчитайте качество при помощи передачи новых признаков в функцию compute_metric."
   ]
  },
  {
   "cell_type": "code",
   "execution_count": 7,
   "id": "94ae5d7b",
   "metadata": {},
   "outputs": [
    {
     "name": "stderr",
     "output_type": "stream",
     "text": [
      "100%|██████████| 4/4 [03:23<00:00, 50.86s/it]\n"
     ]
    }
   ],
   "source": [
    "stacked_features_train, stacked_features_test = generate_meta_features([\n",
    "    LogisticRegression(penalty='l1', C=0.001, solver='saga',\n",
    "                       multi_class='ovr', max_iter=2000, random_state=RANDOM_STATE),\n",
    "    LogisticRegression(penalty='l2', C=0.001, solver='saga',\n",
    "                       multi_class='multinomial', max_iter=2000, random_state=RANDOM_STATE),\n",
    "    RandomForestClassifier(n_estimators=300, random_state=RANDOM_STATE),\n",
    "    GradientBoostingClassifier(n_estimators=200, random_state=RANDOM_STATE)\n",
    "], X_train, X_test, y_train, cv)"
   ]
  },
  {
   "cell_type": "code",
   "execution_count": 8,
   "id": "54e98a9a",
   "metadata": {},
   "outputs": [],
   "source": [
    "log_reg = LogisticRegression(multi_class='auto', solver='lbfgs')"
   ]
  },
  {
   "cell_type": "code",
   "execution_count": 9,
   "id": "f584285a",
   "metadata": {},
   "outputs": [
    {
     "data": {
      "text/plain": [
       "0.98339"
      ]
     },
     "execution_count": 9,
     "metadata": {},
     "output_type": "execute_result"
    }
   ],
   "source": [
    "compute_metric(log_reg, stacked_features_train, y_train, stacked_features_test)"
   ]
  },
  {
   "cell_type": "markdown",
   "id": "cada8532",
   "metadata": {},
   "source": [
    "## Задание 2\n",
    "\n",
    "Используйте функцию generate_meta_features для стекинга следующих алгоритмов:\n",
    "\n",
    "- случайный лес из 300 деревьев\n",
    "- случайный лес из 200 экстремальных деревьев\n",
    "\n",
    "Как мета-алгоритм используйте логистическую регрессию без регуляризации со схемой работы мультиклассовой классификации — auto и солвером 'lbfgs'.\n",
    "Посчитайте качество при помощи передачи новых признаков в функцию compute_metric."
   ]
  },
  {
   "cell_type": "code",
   "execution_count": 10,
   "id": "d7b76efc",
   "metadata": {},
   "outputs": [
    {
     "name": "stderr",
     "output_type": "stream",
     "text": [
      "100%|██████████| 2/2 [00:16<00:00,  8.28s/it]\n"
     ]
    }
   ],
   "source": [
    "stacked_features_train, stacked_features_test = generate_meta_features([\n",
    "    RandomForestClassifier(n_estimators=300, random_state=RANDOM_STATE),\n",
    "    ExtraTreesClassifier(n_estimators=200, random_state=RANDOM_STATE)\n",
    "], X_train, X_test, y_train, cv)"
   ]
  },
  {
   "cell_type": "code",
   "execution_count": 11,
   "id": "c404912e",
   "metadata": {},
   "outputs": [],
   "source": [
    "log_reg = LogisticRegression(multi_class='auto', solver='lbfgs')"
   ]
  },
  {
   "cell_type": "code",
   "execution_count": 12,
   "id": "a83b104b",
   "metadata": {},
   "outputs": [
    {
     "data": {
      "text/plain": [
       "0.981296"
      ]
     },
     "execution_count": 12,
     "metadata": {},
     "output_type": "execute_result"
    }
   ],
   "source": [
    "compute_metric(log_reg, stacked_features_train, y_train, stacked_features_test)"
   ]
  },
  {
   "cell_type": "markdown",
   "id": "2718c4e5",
   "metadata": {},
   "source": [
    "## Задание 3\n",
    "Используйте функцию generate_meta_features для стекинга следующих алгоритмов:\n",
    "\n",
    "- метод ближайшего соседа (k-NN) со стандартными параметрами\n",
    "- случайный лес из 300 экстремальных деревьев\n",
    "\n",
    "Как мета-алгоритм используйте логистическую регрессию без регуляризации со схемой работы мультиклассовой классификации — auto и солвером 'lbfgs'.\n",
    "\n",
    "Посчитайте качество при помощи передачи новых признаков в функцию compute_metric."
   ]
  },
  {
   "cell_type": "code",
   "execution_count": 13,
   "id": "399f549f",
   "metadata": {},
   "outputs": [
    {
     "name": "stderr",
     "output_type": "stream",
     "text": [
      "100%|██████████| 2/2 [00:06<00:00,  3.39s/it]\n"
     ]
    }
   ],
   "source": [
    "stacked_features_train, stacked_features_test = generate_meta_features([\n",
    "    KNeighborsClassifier(),\n",
    "    ExtraTreesClassifier(n_estimators=200, random_state=RANDOM_STATE)\n",
    "], X_train, X_test, y_train, cv)"
   ]
  },
  {
   "cell_type": "code",
   "execution_count": 14,
   "id": "4c211e11",
   "metadata": {},
   "outputs": [],
   "source": [
    "log_reg = LogisticRegression(multi_class='auto', solver='lbfgs')"
   ]
  },
  {
   "cell_type": "code",
   "execution_count": 15,
   "id": "d2915358",
   "metadata": {},
   "outputs": [
    {
     "data": {
      "text/plain": [
       "0.987798"
      ]
     },
     "execution_count": 15,
     "metadata": {},
     "output_type": "execute_result"
    }
   ],
   "source": [
    "compute_metric(log_reg, stacked_features_train, y_train, stacked_features_test)"
   ]
  },
  {
   "cell_type": "markdown",
   "id": "2d12b94f",
   "metadata": {},
   "source": [
    "## Задание 4\n",
    "\n",
    "Используйте функцию generate_meta_features для стекинга следующих алгоритмов:\n",
    "\n",
    "- логистическая регрессия с L1-регуляризацией, C=0.001, солвер — 'saga', схема работы мультиклассовой классификации — one-vs-rest, максимальное допустимоей количество итераций — 2000\n",
    "- метод ближайшего соседа со стандартными параметрами\n",
    "- случайный лес из 300 экстремальных деревьев\n",
    "- AdaBoost со стандартными параметрами\n",
    "\n",
    "Как мета-алгоритм используйте логистическую регрессию без регуляризации со схемой работы мультиклассовой классификации — auto и солвером 'lbfgs'.\n",
    "\n",
    "Посчитайте качество при помощи передачи новых признаков в функцию compute_metric."
   ]
  },
  {
   "cell_type": "code",
   "execution_count": 16,
   "id": "ddd4a277",
   "metadata": {},
   "outputs": [
    {
     "name": "stderr",
     "output_type": "stream",
     "text": [
      "100%|██████████| 4/4 [01:03<00:00, 15.87s/it]\n"
     ]
    }
   ],
   "source": [
    "stacked_features_train, stacked_features_test = generate_meta_features([\n",
    "    LogisticRegression(penalty='l1', C=0.001, solver='saga',\n",
    "                       multi_class='ovr', max_iter=2000, random_state=RANDOM_STATE),\n",
    "    KNeighborsClassifier(),\n",
    "    ExtraTreesClassifier(n_estimators=300, random_state=RANDOM_STATE),\n",
    "    AdaBoostClassifier(random_state=RANDOM_STATE)\n",
    "], X_train, X_test, y_train, cv)"
   ]
  },
  {
   "cell_type": "code",
   "execution_count": 17,
   "id": "ee57d746",
   "metadata": {},
   "outputs": [],
   "source": [
    "log_reg = LogisticRegression(multi_class='auto', solver='lbfgs')"
   ]
  },
  {
   "cell_type": "code",
   "execution_count": 18,
   "id": "6048ed94",
   "metadata": {},
   "outputs": [
    {
     "data": {
      "text/plain": [
       "0.987798"
      ]
     },
     "execution_count": 18,
     "metadata": {},
     "output_type": "execute_result"
    }
   ],
   "source": [
    "compute_metric(log_reg, stacked_features_train, y_train, stacked_features_test)"
   ]
  },
  {
   "cell_type": "markdown",
   "id": "b93a655f",
   "metadata": {},
   "source": [
    "## Задание 5\n",
    "\n",
    "Используйте функцию generate_meta_features для стекинга следующих алгоритмов:\n",
    "\n",
    "- случайный лес из 300 деревьев\n",
    "- случайный лес из 300 экстремальных деревьев\n",
    "\n",
    "Для генерации фолдов используйте класс StratifiedKFold, который позволяет делать так называемые стратифицированные разбиения (в каждом фолде будет одинаковое соотношение классов).\n",
    "\n",
    "Для корректной работы необходимо подправить код в функции compute_meta_feature. Как мета-алгоритм используйте логистическую регрессию без регуляризации со схемой работы мультиклассовой классификации — auto и солвером 'lbfgs'.\n",
    "Посчитайте качество при помощи передачи новых признаков в функцию compute_metric. Количество фолдов = 10"
   ]
  },
  {
   "cell_type": "code",
   "execution_count": 19,
   "id": "efd410ac",
   "metadata": {},
   "outputs": [],
   "source": [
    "def compute_meta_feature(clf, X_train, X_test, y_train, cv):\n",
    "\n",
    "    n_classes = len(np.unique(y_train))\n",
    "    X_meta_train = np.zeros((len(y_train), n_classes), dtype=np.float32)\n",
    "\n",
    "    splits = cv.split(X_train, y_train)\n",
    "    for train_fold_index, predict_fold_index in splits:\n",
    "        X_fold_train, X_fold_predict = X_train[train_fold_index], X_train[predict_fold_index]\n",
    "        y_fold_train = y_train[train_fold_index]\n",
    "\n",
    "        folded_clf = clone(clf)\n",
    "        folded_clf.fit(X_fold_train, y_fold_train)\n",
    "\n",
    "        X_meta_train[predict_fold_index] = folded_clf.predict_proba(\n",
    "            X_fold_predict)\n",
    "\n",
    "    meta_clf = clone(clf)\n",
    "    meta_clf.fit(X_train, y_train)\n",
    "\n",
    "    X_meta_test = meta_clf.predict_proba(X_test)\n",
    "\n",
    "    return X_meta_train, X_meta_test"
   ]
  },
  {
   "cell_type": "code",
   "execution_count": 20,
   "id": "562075b2",
   "metadata": {},
   "outputs": [
    {
     "name": "stderr",
     "output_type": "stream",
     "text": [
      "100%|██████████| 2/2 [00:18<00:00,  9.37s/it]\n"
     ]
    },
    {
     "data": {
      "text/plain": [
       "0.981296"
      ]
     },
     "execution_count": 20,
     "metadata": {},
     "output_type": "execute_result"
    }
   ],
   "source": [
    "scv = StratifiedKFold(n_splits=10, shuffle=True, random_state=RANDOM_STATE)\n",
    "\n",
    "stacked_features_train, stacked_features_test = generate_meta_features([\n",
    "    RandomForestClassifier(n_estimators=300, random_state=RANDOM_STATE),\n",
    "    ExtraTreesClassifier(n_estimators=300, random_state=RANDOM_STATE)\n",
    "], X_train, X_test, y_train, scv)\n",
    "\n",
    "log_reg = LogisticRegression(multi_class='auto', solver='lbfgs', random_state=RANDOM_STATE)\n",
    "\n",
    "compute_metric(log_reg, stacked_features_train, y_train, stacked_features_test)"
   ]
  },
  {
   "cell_type": "markdown",
   "id": "fa8e3ba4",
   "metadata": {},
   "source": [
    "В предыдущей задаче измените 10 фолдов на 20. Укажите полученное качество."
   ]
  },
  {
   "cell_type": "code",
   "execution_count": 21,
   "id": "1bb3fca5",
   "metadata": {},
   "outputs": [
    {
     "name": "stderr",
     "output_type": "stream",
     "text": [
      "100%|██████████| 2/2 [00:34<00:00, 17.07s/it]\n"
     ]
    },
    {
     "data": {
      "text/plain": [
       "0.981296"
      ]
     },
     "execution_count": 21,
     "metadata": {},
     "output_type": "execute_result"
    }
   ],
   "source": [
    "scv = StratifiedKFold(n_splits=20, shuffle=True, random_state=RANDOM_STATE)\n",
    "\n",
    "stacked_features_train, stacked_features_test = generate_meta_features([\n",
    "    RandomForestClassifier(n_estimators=300, random_state=RANDOM_STATE),\n",
    "    ExtraTreesClassifier(n_estimators=300, random_state=RANDOM_STATE)\n",
    "], X_train, X_test, y_train, scv)\n",
    "\n",
    "log_reg = LogisticRegression(multi_class='auto', solver='lbfgs', random_state=RANDOM_STATE)\n",
    "\n",
    "compute_metric(log_reg, stacked_features_train, y_train, stacked_features_test)"
   ]
  },
  {
   "cell_type": "markdown",
   "id": "dfd16256",
   "metadata": {},
   "source": [
    "В предыдущей задаче укажите количество фолдов равным 5 и поменяйте мета-алгоритм на случайный лес со стандартными параметрами. Укажите полученное качество."
   ]
  },
  {
   "cell_type": "code",
   "execution_count": 22,
   "id": "db37d4f7",
   "metadata": {},
   "outputs": [
    {
     "name": "stderr",
     "output_type": "stream",
     "text": [
      "100%|██████████| 2/2 [00:05<00:00,  2.82s/it]\n"
     ]
    },
    {
     "data": {
      "text/plain": [
       "0.978682"
      ]
     },
     "execution_count": 22,
     "metadata": {},
     "output_type": "execute_result"
    }
   ],
   "source": [
    "scv = StratifiedKFold(n_splits=5, shuffle=True, random_state=RANDOM_STATE)\n",
    "\n",
    "stacked_features_train, stacked_features_test = generate_meta_features([\n",
    "    RandomForestClassifier(random_state=RANDOM_STATE),\n",
    "    ExtraTreesClassifier(n_estimators=300, random_state=RANDOM_STATE)\n",
    "], X_train, X_test, y_train, scv)\n",
    "\n",
    "log_reg = LogisticRegression(multi_class='auto', solver='lbfgs', random_state=RANDOM_STATE)\n",
    "\n",
    "compute_metric(log_reg, stacked_features_train, y_train, stacked_features_test)"
   ]
  },
  {
   "cell_type": "markdown",
   "id": "965f19ba",
   "metadata": {},
   "source": [
    "В предыдущей задаче поменяйте мета-алгоритм на метод ближайших соседей (k-NN) со стандартными параметрами. Укажите полученное качество."
   ]
  },
  {
   "cell_type": "code",
   "execution_count": 23,
   "id": "35c48ef6",
   "metadata": {},
   "outputs": [
    {
     "name": "stderr",
     "output_type": "stream",
     "text": [
      "100%|██████████| 2/2 [00:04<00:00,  2.20s/it]\n"
     ]
    },
    {
     "data": {
      "text/plain": [
       "0.987798"
      ]
     },
     "execution_count": 23,
     "metadata": {},
     "output_type": "execute_result"
    }
   ],
   "source": [
    "scv = StratifiedKFold(n_splits=5, shuffle=True, random_state=RANDOM_STATE)\n",
    "\n",
    "stacked_features_train, stacked_features_test = generate_meta_features([\n",
    "    KNeighborsClassifier(),\n",
    "    ExtraTreesClassifier(n_estimators=300, random_state=RANDOM_STATE)\n",
    "], X_train, X_test, y_train, scv)\n",
    "\n",
    "log_reg = LogisticRegression(multi_class='auto', solver='lbfgs', random_state=RANDOM_STATE)\n",
    "\n",
    "compute_metric(log_reg, stacked_features_train, y_train, stacked_features_test)"
   ]
  },
  {
   "cell_type": "markdown",
   "id": "38616130",
   "metadata": {},
   "source": [
    "В предыдущей задаче поменяйте мета-алгоритм на градиентный бустинг со стандартными параметрами. Укажите полученное качество."
   ]
  },
  {
   "cell_type": "code",
   "execution_count": 24,
   "id": "d9293c4e",
   "metadata": {},
   "outputs": [
    {
     "name": "stderr",
     "output_type": "stream",
     "text": [
      "100%|██████████| 2/2 [00:41<00:00, 20.81s/it]\n"
     ]
    },
    {
     "data": {
      "text/plain": [
       "0.980205"
      ]
     },
     "execution_count": 24,
     "metadata": {},
     "output_type": "execute_result"
    }
   ],
   "source": [
    "scv = StratifiedKFold(n_splits=5, shuffle=True, random_state=RANDOM_STATE)\n",
    "\n",
    "stacked_features_train, stacked_features_test = generate_meta_features([\n",
    "    GradientBoostingClassifier(random_state=RANDOM_STATE),\n",
    "    ExtraTreesClassifier(n_estimators=300, random_state=RANDOM_STATE)\n",
    "], X_train, X_test, y_train, scv)\n",
    "\n",
    "log_reg = LogisticRegression(multi_class='auto', solver='lbfgs', random_state=RANDOM_STATE)\n",
    "\n",
    "compute_metric(log_reg, stacked_features_train, y_train, stacked_features_test)"
   ]
  },
  {
   "cell_type": "markdown",
   "id": "28e0dd69",
   "metadata": {},
   "source": [
    "## Задание 6\n",
    "\n",
    "Используйте функцию generate_meta_features для стекинга следующих алгоритмов:\n",
    "\n",
    "- случайный лес из 300 деревьев, критерий Джини, максимальная глубина — 24\n",
    "- случайный лес из 300 экстремальных деревьев\n",
    "\n",
    "Для генерации фолдов используйте класс StratifiedKFold, который позволяет делать так называемые стратифицированные разбиения (в каждом фолде будет одинаковое соотношение классов).\n",
    "Для генерации фолдов используйте класс StratifiedKFold и поправленный Вами ранее код в функции compute_meta_feature.\n",
    "\n",
    "Выполните разбиение на 3 фолда.\n",
    "\n",
    "Как мета-алгортм используйте случайный лес из 100 экстремальных деревьев. Посчитайте качество при помощи передачи новых признаков в функцию compute_metric."
   ]
  },
  {
   "cell_type": "code",
   "execution_count": 25,
   "id": "dda95f8b",
   "metadata": {},
   "outputs": [
    {
     "name": "stderr",
     "output_type": "stream",
     "text": [
      "100%|██████████| 2/2 [00:03<00:00,  1.93s/it]\n"
     ]
    },
    {
     "data": {
      "text/plain": [
       "0.981376"
      ]
     },
     "execution_count": 25,
     "metadata": {},
     "output_type": "execute_result"
    }
   ],
   "source": [
    "scv = StratifiedKFold(n_splits=3, shuffle=True, random_state=RANDOM_STATE)\n",
    "\n",
    "stacked_features_train, stacked_features_test = generate_meta_features([\n",
    "    RandomForestClassifier(max_depth=24, criterion='gini', random_state=RANDOM_STATE),\n",
    "    ExtraTreesClassifier(n_estimators=300, random_state=RANDOM_STATE)\n",
    "], X_train, X_test, y_train, scv)\n",
    "\n",
    "rf_clf = RandomForestClassifier(n_estimators=100, random_state=RANDOM_STATE)\n",
    "\n",
    "compute_metric(rf_clf, stacked_features_train, y_train, stacked_features_test)"
   ]
  },
  {
   "cell_type": "markdown",
   "id": "583c119c",
   "metadata": {},
   "source": [
    "## Задание 7\n",
    "\n",
    "Обучите на тренировочной выборке следующие алгоритмы:\n",
    "\n",
    "- случайный лес из 300 деревьев, критерий Джини, максимальная глубина — 24\n",
    "- случайный лес из 300 экстремальных деревьев\n",
    "- логистическую регрессию со стандартными параметрами\n",
    "\n",
    "Усредните их ответы на тестовой выборке методом сложения предсказаний и затем взятия функции argmax: answer = (prediction1 + prediction2 + prediction3).argmax(axis = 1).\n",
    "\n",
    "Посчитайте качество, аналогично функции compute_metric (F1-score с макро-усреднением, округленный до 6 знака)."
   ]
  },
  {
   "cell_type": "code",
   "execution_count": 26,
   "id": "18352b05",
   "metadata": {},
   "outputs": [],
   "source": [
    "def compute_predicts(classifiers, X_train, y_train, X_test):\n",
    "    predicts = []\n",
    "    for clf in classifiers:\n",
    "        clf.fit(X_train, y_train)\n",
    "        predicts.append(clf.predict_proba(X_test))\n",
    "    return predicts"
   ]
  },
  {
   "cell_type": "code",
   "execution_count": 27,
   "id": "b2dd7a15",
   "metadata": {},
   "outputs": [
    {
     "name": "stderr",
     "output_type": "stream",
     "text": [
      "/home/eldar/.local/lib/python3.8/site-packages/sklearn/linear_model/_logistic.py:763: ConvergenceWarning: lbfgs failed to converge (status=1):\n",
      "STOP: TOTAL NO. of ITERATIONS REACHED LIMIT.\n",
      "\n",
      "Increase the number of iterations (max_iter) or scale the data as shown in:\n",
      "    https://scikit-learn.org/stable/modules/preprocessing.html\n",
      "Please also refer to the documentation for alternative solver options:\n",
      "    https://scikit-learn.org/stable/modules/linear_model.html#logistic-regression\n",
      "  n_iter_i = _check_optimize_result(\n"
     ]
    }
   ],
   "source": [
    "predicts = compute_predicts([\n",
    "    RandomForestClassifier(max_depth=24, criterion='gini', n_jobs=-1, random_state=RANDOM_STATE),\n",
    "    ExtraTreesClassifier(n_estimators=300, n_jobs=-1, random_state=RANDOM_STATE),\n",
    "    LogisticRegression(random_state=RANDOM_STATE)\n",
    "], X_train, y_train, X_test)"
   ]
  },
  {
   "cell_type": "code",
   "execution_count": 28,
   "id": "b1062bce",
   "metadata": {},
   "outputs": [
    {
     "name": "stdout",
     "output_type": "stream",
     "text": [
      "0.976259\n"
     ]
    }
   ],
   "source": [
    "y_test_pred = np.sum(predicts, axis=0).argmax(axis=1)\n",
    "print(np.round(f1_score(y_test, y_test_pred, average='macro'), 6))"
   ]
  },
  {
   "cell_type": "code",
   "execution_count": null,
   "id": "935711dd",
   "metadata": {},
   "outputs": [],
   "source": []
  }
 ],
 "metadata": {
  "kernelspec": {
   "display_name": "Python 3",
   "language": "python",
   "name": "python3"
  },
  "language_info": {
   "codemirror_mode": {
    "name": "ipython",
    "version": 3
   },
   "file_extension": ".py",
   "mimetype": "text/x-python",
   "name": "python",
   "nbconvert_exporter": "python",
   "pygments_lexer": "ipython3",
   "version": "3.8.5"
  }
 },
 "nbformat": 4,
 "nbformat_minor": 5
}
