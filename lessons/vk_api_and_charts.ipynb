{
 "cells": [
  {
   "cell_type": "markdown",
   "metadata": {},
   "source": [
    "# Geocoder API"
   ]
  },
  {
   "cell_type": "code",
   "execution_count": 1,
   "metadata": {},
   "outputs": [
    {
     "name": "stdout",
     "output_type": "stream",
     "text": [
      "Requirement already satisfied: geocoder in c:\\programdata\\anaconda3\\lib\\site-packages (1.38.1)\n",
      "Requirement already satisfied: requests in c:\\programdata\\anaconda3\\lib\\site-packages (from geocoder) (2.24.0)\n",
      "Requirement already satisfied: future in c:\\programdata\\anaconda3\\lib\\site-packages (from geocoder) (0.18.2)\n",
      "Requirement already satisfied: six in c:\\programdata\\anaconda3\\lib\\site-packages (from geocoder) (1.15.0)\n",
      "Requirement already satisfied: click in c:\\programdata\\anaconda3\\lib\\site-packages (from geocoder) (7.1.2)\n",
      "Requirement already satisfied: ratelim in c:\\programdata\\anaconda3\\lib\\site-packages (from geocoder) (0.1.6)\n",
      "Requirement already satisfied: idna<3,>=2.5 in c:\\programdata\\anaconda3\\lib\\site-packages (from requests->geocoder) (2.10)\n",
      "Requirement already satisfied: chardet<4,>=3.0.2 in c:\\programdata\\anaconda3\\lib\\site-packages (from requests->geocoder) (3.0.4)\n",
      "Requirement already satisfied: urllib3!=1.25.0,!=1.25.1,<1.26,>=1.21.1 in c:\\programdata\\anaconda3\\lib\\site-packages (from requests->geocoder) (1.25.9)\n",
      "Requirement already satisfied: certifi>=2017.4.17 in c:\\programdata\\anaconda3\\lib\\site-packages (from requests->geocoder) (2020.6.20)\n",
      "Requirement already satisfied: decorator in c:\\programdata\\anaconda3\\lib\\site-packages (from ratelim->geocoder) (4.4.2)\n"
     ]
    }
   ],
   "source": [
    "!pip install geocoder"
   ]
  },
  {
   "cell_type": "code",
   "execution_count": 2,
   "metadata": {},
   "outputs": [],
   "source": [
    "import geocoder"
   ]
  },
  {
   "cell_type": "code",
   "execution_count": 3,
   "metadata": {},
   "outputs": [
    {
     "data": {
      "text/plain": [
       "{'address': 'Minsk',\n",
       " 'bbox': {'northeast': [54.04074000000003, 27.70246000000003],\n",
       "  'southwest': [53.76674000000003, 27.42846000000003]},\n",
       " 'confidence': 1,\n",
       " 'lat': 53.90374000000003,\n",
       " 'lng': 27.56546000000003,\n",
       " 'ok': True,\n",
       " 'quality': 'Locality',\n",
       " 'raw': {'name': 'Minsk',\n",
       "  'extent': {'xmin': 27.42846000000003,\n",
       "   'ymin': 53.76674000000003,\n",
       "   'xmax': 27.70246000000003,\n",
       "   'ymax': 54.04074000000003},\n",
       "  'feature': {'geometry': {'x': 27.56546000000003, 'y': 53.90374000000003},\n",
       "   'attributes': {'Score': 100, 'Addr_Type': 'Locality'}}},\n",
       " 'score': 100,\n",
       " 'status': 'OK'}"
      ]
     },
     "execution_count": 3,
     "metadata": {},
     "output_type": "execute_result"
    }
   ],
   "source": [
    "g = geocoder.arcgis('Minsk')\n",
    "g.json"
   ]
  },
  {
   "cell_type": "code",
   "execution_count": 4,
   "metadata": {},
   "outputs": [],
   "source": [
    "import requests"
   ]
  },
  {
   "cell_type": "code",
   "execution_count": 5,
   "metadata": {},
   "outputs": [],
   "source": [
    "lat = g.json['lat']\n",
    "lng = g.json['lng']"
   ]
  },
  {
   "cell_type": "code",
   "execution_count": 6,
   "metadata": {},
   "outputs": [],
   "source": [
    "r = requests.get(f'https://api.sunrise-sunset.org/json?lat={lat}&lng={lng}&date=2020-09-27')"
   ]
  },
  {
   "cell_type": "code",
   "execution_count": 7,
   "metadata": {},
   "outputs": [
    {
     "data": {
      "text/plain": [
       "{'results': {'sunrise': '4:06:07 AM',\n",
       "  'sunset': '3:54:42 PM',\n",
       "  'solar_noon': '10:00:24 AM',\n",
       "  'day_length': '11:48:35',\n",
       "  'civil_twilight_begin': '3:31:07 AM',\n",
       "  'civil_twilight_end': '4:29:42 PM',\n",
       "  'nautical_twilight_begin': '2:49:50 AM',\n",
       "  'nautical_twilight_end': '5:10:58 PM',\n",
       "  'astronomical_twilight_begin': '2:07:02 AM',\n",
       "  'astronomical_twilight_end': '5:53:47 PM'},\n",
       " 'status': 'OK'}"
      ]
     },
     "execution_count": 7,
     "metadata": {},
     "output_type": "execute_result"
    }
   ],
   "source": [
    "r.json()"
   ]
  },
  {
   "cell_type": "code",
   "execution_count": 8,
   "metadata": {},
   "outputs": [
    {
     "data": {
      "text/plain": [
       "'4:06:07 AM'"
      ]
     },
     "execution_count": 8,
     "metadata": {},
     "output_type": "execute_result"
    }
   ],
   "source": [
    "r.json()['results']['sunrise']"
   ]
  },
  {
   "cell_type": "markdown",
   "metadata": {},
   "source": [
    "# Библиотеки для работы с API Vk\n",
    "\n",
    "https://vk-api.readthedocs.io/en/latest/\n",
    "\n",
    "https://github.com/python273/vk_api\n",
    "\n",
    "https://pypi.org/project/vk-api/\n",
    "\n",
    "https://habr.com/ru/post/319178/"
   ]
  },
  {
   "cell_type": "code",
   "execution_count": 9,
   "metadata": {},
   "outputs": [
    {
     "name": "stdout",
     "output_type": "stream",
     "text": [
      "Requirement already satisfied: vk_api in c:\\programdata\\anaconda3\\lib\\site-packages (11.9.0)\n",
      "Requirement already satisfied: six in c:\\programdata\\anaconda3\\lib\\site-packages (from vk_api) (1.15.0)\n",
      "Requirement already satisfied: requests in c:\\programdata\\anaconda3\\lib\\site-packages (from vk_api) (2.24.0)\n",
      "Requirement already satisfied: urllib3!=1.25.0,!=1.25.1,<1.26,>=1.21.1 in c:\\programdata\\anaconda3\\lib\\site-packages (from requests->vk_api) (1.25.9)\n",
      "Requirement already satisfied: chardet<4,>=3.0.2 in c:\\programdata\\anaconda3\\lib\\site-packages (from requests->vk_api) (3.0.4)\n",
      "Requirement already satisfied: idna<3,>=2.5 in c:\\programdata\\anaconda3\\lib\\site-packages (from requests->vk_api) (2.10)\n",
      "Requirement already satisfied: certifi>=2017.4.17 in c:\\programdata\\anaconda3\\lib\\site-packages (from requests->vk_api) (2020.6.20)\n"
     ]
    }
   ],
   "source": [
    "!pip install vk_api"
   ]
  },
  {
   "cell_type": "code",
   "execution_count": 10,
   "metadata": {},
   "outputs": [],
   "source": [
    "import vk_api\n",
    "import json"
   ]
  },
  {
   "cell_type": "code",
   "execution_count": 11,
   "metadata": {},
   "outputs": [],
   "source": [
    "with open('./../data/vk_credentials.txt', 'r') as c:\n",
    "    login, password = c.read().strip().split(';')"
   ]
  },
  {
   "cell_type": "code",
   "execution_count": 12,
   "metadata": {},
   "outputs": [
    {
     "name": "stdout",
     "output_type": "stream",
     "text": [
      "+375291447680 nika-esya\n"
     ]
    }
   ],
   "source": [
    "print(login, password)"
   ]
  },
  {
   "cell_type": "code",
   "execution_count": 13,
   "metadata": {},
   "outputs": [],
   "source": [
    "vk_session = vk_api.VkApi(login, password)\n",
    "vk_session.auth()"
   ]
  },
  {
   "cell_type": "code",
   "execution_count": 14,
   "metadata": {},
   "outputs": [],
   "source": [
    "vk = vk_session.get_api()"
   ]
  },
  {
   "cell_type": "code",
   "execution_count": 15,
   "metadata": {},
   "outputs": [],
   "source": [
    "# VK documentation: https://vk.com/dev/wall\n",
    "result = vk.wall.get(owner_id=-1)"
   ]
  },
  {
   "cell_type": "code",
   "execution_count": 16,
   "metadata": {},
   "outputs": [
    {
     "name": "stdout",
     "output_type": "stream",
     "text": [
      "Count: 319070\n",
      "{'id': 395479, 'from_id': -1, 'owner_id': -1, 'date': 1600443092, 'marked_as_ads': 0, 'post_type': 'post', 'text': 'Еще больше новостей для создателей чат-ботов: в методе [https://vk.com/dev/messages.send|messages.send] появился параметр content_source. Параметр предназначен для указания источника пользовательского контента. Он поможет избежать блокировки сообщества, если пользовательский контент окажется запрещенным. Подробнее в [https://vk.com/dev/bots_docs_2?f=3.3.%20%D0%A1%D0%BE%D0%BE%D0%B1%D1%89%D0%B5%D0%BD%D0%B8%D1%8F%20%D1%81%20%D0%BF%D0%BE%D0%BB%D1%8C%D0%B7%D0%BE%D0%B2%D0%B0%D1%82%D0%B5%D0%BB%D1%8C%D1%81%D0%BA%D0%B8%D0%BC%20%D0%BA%D0%BE%D0%BD%D1%82%D0%B5%D0%BD%D1%82%D0%BE%D0%BC|документации].', 'post_source': {'type': 'vk'}, 'comments': {'count': 25, 'can_post': 1, 'groups_can_post': True}, 'likes': {'count': 87, 'user_likes': 0, 'can_like': 1, 'can_publish': 1}, 'reposts': {'count': 1, 'wall_count': 0, 'mail_count': 0, 'user_reposted': 0}, 'views': {'count': 11883}, 'is_favorite': False}\n"
     ]
    }
   ],
   "source": [
    "print('Count:', result['count'])\n",
    "print(result['items'][0])"
   ]
  },
  {
   "cell_type": "code",
   "execution_count": 17,
   "metadata": {},
   "outputs": [
    {
     "data": {
      "text/plain": [
       "dict_keys(['id', 'from_id', 'owner_id', 'date', 'marked_as_ads', 'post_type', 'text', 'post_source', 'comments', 'likes', 'reposts', 'views', 'is_favorite'])"
      ]
     },
     "execution_count": 17,
     "metadata": {},
     "output_type": "execute_result"
    }
   ],
   "source": [
    "result['items'][0].keys()"
   ]
  },
  {
   "cell_type": "code",
   "execution_count": 18,
   "metadata": {},
   "outputs": [
    {
     "name": "stdout",
     "output_type": "stream",
     "text": [
      "25\n",
      "82\n",
      "93\n",
      "35\n",
      "83\n",
      "34\n",
      "18\n",
      "25\n",
      "48\n",
      "52\n"
     ]
    }
   ],
   "source": [
    "# get first 10 count\n",
    "for i in range(10):\n",
    "    print(result['items'][i]['comments']['count'])"
   ]
  },
  {
   "cell_type": "code",
   "execution_count": 19,
   "metadata": {},
   "outputs": [],
   "source": [
    "tools = vk_api.VkTools(vk_session)"
   ]
  },
  {
   "cell_type": "code",
   "execution_count": 20,
   "metadata": {},
   "outputs": [
    {
     "data": {
      "text/plain": [
       "[{'id': 2442097,\n",
       "  'from_id': 1,\n",
       "  'owner_id': 1,\n",
       "  'date': 1525805964,\n",
       "  'post_type': 'post',\n",
       "  'text': 'Иногда говорят, что Telegram был заблокирован в России, так как “закон есть закон”. Однако Telegram заблокирован в России как раз вопреки главному закону страны – Конституции. Решения судов и законы, противоречащие Конституции, не имеют силы. А это значит, что и сама блокировка Telegram незаконна. \\n\\nЕсли бы ФСБ ограничилась запросом информации о нескольких террористах, то ее требование вписывалось бы в рамки Конституции. Однако речь идет о передаче универсальных ключей шифрования с целью последующего бесконтрольного доступа к переписке неограниченного круга лиц. A это – прямое нарушение 23-й статьи Конституции о праве каждого на тайну переписки.\\n\\nПо этой причине юристы из “Агоры” сегодня обжаловали решение Верховного суда России о законности приказа ФСБ. Надеюсь, власти России откажутся от языка неисполнимых ультиматумов, на котором сегодня ведется диалог с технологическими компаниями.\\n\\nНезависимо от этого, мы продолжим борьбу за Telegram в России. История наших предков учит биться до победного конца. \\n\\nС Днем Победы!',\n",
       "  'post_source': {'type': 'vk'},\n",
       "  'comments': {'count': 0, 'can_post': 0, 'groups_can_post': True},\n",
       "  'likes': {'count': 176368, 'user_likes': 0, 'can_like': 1, 'can_publish': 1},\n",
       "  'reposts': {'count': 3455,\n",
       "   'wall_count': 0,\n",
       "   'mail_count': 0,\n",
       "   'user_reposted': 0},\n",
       "  'views': {'count': 10046129},\n",
       "  'is_favorite': False}]"
      ]
     },
     "execution_count": 20,
     "metadata": {},
     "output_type": "execute_result"
    }
   ],
   "source": [
    "wall = tools.get_all('wall.get', 100, {'owner_id': 1})\n",
    "wall['items'][:1]"
   ]
  },
  {
   "cell_type": "markdown",
   "metadata": {},
   "source": [
    "### Структура проекта для анализа групп вконтакте\n",
    "\n",
    "1) Получить список групп по поисковому запросу\n",
    "\n",
    "2) Получить название групп, их направленность и количество подписчиков"
   ]
  },
  {
   "cell_type": "code",
   "execution_count": 21,
   "metadata": {},
   "outputs": [],
   "source": [
    "def get_by_query(length=10, q='python'):\n",
    "    \"\"\"Получить список групп по поисковому запросу\"\"\"\n",
    "    \n",
    "    response = vk.groups.search(q=q)\n",
    "    groups = [response['items'][i]['id'] for i in range(length)]\n",
    "    \n",
    "    return groups\n",
    "\n",
    "\n",
    "def  get_group_info(group_ids):\n",
    "    \"\"\"Получить название групп, их направленность и количество подписчиков\"\"\"\n",
    "    \n",
    "    response = vk.groups.getById(group_ids=group_ids, fields='members_count,activity')\n",
    "    \n",
    "    return response"
   ]
  },
  {
   "cell_type": "code",
   "execution_count": 22,
   "metadata": {},
   "outputs": [
    {
     "name": "stdout",
     "output_type": "stream",
     "text": [
      "[42565717, 38080744, 152111071, 142410745, 69235007, 178774705, 134675739, 3183750, 194071621, 11899736]\n"
     ]
    }
   ],
   "source": [
    "groups = get_by_query()\n",
    "print(groups)"
   ]
  },
  {
   "cell_type": "code",
   "execution_count": 23,
   "metadata": {},
   "outputs": [],
   "source": [
    "groups_info = get_group_info(groups)"
   ]
  },
  {
   "cell_type": "markdown",
   "metadata": {},
   "source": [
    "## Pandas"
   ]
  },
  {
   "cell_type": "code",
   "execution_count": 24,
   "metadata": {},
   "outputs": [],
   "source": [
    "import pandas as pd"
   ]
  },
  {
   "cell_type": "code",
   "execution_count": 25,
   "metadata": {},
   "outputs": [
    {
     "data": {
      "text/html": [
       "<div>\n",
       "<style scoped>\n",
       "    .dataframe tbody tr th:only-of-type {\n",
       "        vertical-align: middle;\n",
       "    }\n",
       "\n",
       "    .dataframe tbody tr th {\n",
       "        vertical-align: top;\n",
       "    }\n",
       "\n",
       "    .dataframe thead th {\n",
       "        text-align: right;\n",
       "    }\n",
       "</style>\n",
       "<table border=\"1\" class=\"dataframe\">\n",
       "  <thead>\n",
       "    <tr style=\"text-align: right;\">\n",
       "      <th></th>\n",
       "      <th>id</th>\n",
       "      <th>name</th>\n",
       "      <th>screen_name</th>\n",
       "      <th>is_closed</th>\n",
       "      <th>type</th>\n",
       "      <th>is_admin</th>\n",
       "      <th>is_member</th>\n",
       "      <th>is_advertiser</th>\n",
       "      <th>members_count</th>\n",
       "      <th>activity</th>\n",
       "      <th>photo_50</th>\n",
       "      <th>photo_100</th>\n",
       "      <th>photo_200</th>\n",
       "    </tr>\n",
       "  </thead>\n",
       "  <tbody>\n",
       "    <tr>\n",
       "      <th>0</th>\n",
       "      <td>42565717</td>\n",
       "      <td>Python</td>\n",
       "      <td>club42565717</td>\n",
       "      <td>0</td>\n",
       "      <td>group</td>\n",
       "      <td>0</td>\n",
       "      <td>0</td>\n",
       "      <td>0</td>\n",
       "      <td>47258</td>\n",
       "      <td>Open group</td>\n",
       "      <td>https://sun1.beltelecom-by-minsk.userapi.com/i...</td>\n",
       "      <td>https://sun1.beltelecom-by-minsk.userapi.com/i...</td>\n",
       "      <td>https://sun1.beltelecom-by-minsk.userapi.com/i...</td>\n",
       "    </tr>\n",
       "    <tr>\n",
       "      <th>1</th>\n",
       "      <td>38080744</td>\n",
       "      <td>Python community</td>\n",
       "      <td>python_community</td>\n",
       "      <td>0</td>\n",
       "      <td>group</td>\n",
       "      <td>0</td>\n",
       "      <td>0</td>\n",
       "      <td>0</td>\n",
       "      <td>25312</td>\n",
       "      <td>Open group</td>\n",
       "      <td>https://sun2.beltelecom-by-minsk.userapi.com/i...</td>\n",
       "      <td>https://sun2.beltelecom-by-minsk.userapi.com/i...</td>\n",
       "      <td>https://sun2.beltelecom-by-minsk.userapi.com/i...</td>\n",
       "    </tr>\n",
       "    <tr>\n",
       "      <th>2</th>\n",
       "      <td>152111071</td>\n",
       "      <td>Python</td>\n",
       "      <td>python_django_programirovanie</td>\n",
       "      <td>0</td>\n",
       "      <td>group</td>\n",
       "      <td>0</td>\n",
       "      <td>0</td>\n",
       "      <td>0</td>\n",
       "      <td>11060</td>\n",
       "      <td>Open group</td>\n",
       "      <td>https://sun1.beltelecom-by-minsk.userapi.com/i...</td>\n",
       "      <td>https://sun1.beltelecom-by-minsk.userapi.com/i...</td>\n",
       "      <td>https://sun1.beltelecom-by-minsk.userapi.com/i...</td>\n",
       "    </tr>\n",
       "    <tr>\n",
       "      <th>3</th>\n",
       "      <td>142410745</td>\n",
       "      <td>Python 3.8 | ЯПрограммист</td>\n",
       "      <td>open_sourcecode</td>\n",
       "      <td>0</td>\n",
       "      <td>page</td>\n",
       "      <td>0</td>\n",
       "      <td>0</td>\n",
       "      <td>0</td>\n",
       "      <td>27675</td>\n",
       "      <td>Programming</td>\n",
       "      <td>https://sun2.beltelecom-by-minsk.userapi.com/i...</td>\n",
       "      <td>https://sun2.beltelecom-by-minsk.userapi.com/i...</td>\n",
       "      <td>https://sun2.beltelecom-by-minsk.userapi.com/i...</td>\n",
       "    </tr>\n",
       "    <tr>\n",
       "      <th>4</th>\n",
       "      <td>69235007</td>\n",
       "      <td>Python</td>\n",
       "      <td>python_imkn</td>\n",
       "      <td>0</td>\n",
       "      <td>group</td>\n",
       "      <td>0</td>\n",
       "      <td>0</td>\n",
       "      <td>0</td>\n",
       "      <td>934</td>\n",
       "      <td>Open group</td>\n",
       "      <td>https://sun1.beltelecom-by-minsk.userapi.com/i...</td>\n",
       "      <td>https://sun1.beltelecom-by-minsk.userapi.com/i...</td>\n",
       "      <td>https://sun1.beltelecom-by-minsk.userapi.com/i...</td>\n",
       "    </tr>\n",
       "    <tr>\n",
       "      <th>5</th>\n",
       "      <td>178774705</td>\n",
       "      <td>Языки программирования: Python, Java, JS, PHP…</td>\n",
       "      <td>pryaz</td>\n",
       "      <td>0</td>\n",
       "      <td>page</td>\n",
       "      <td>0</td>\n",
       "      <td>0</td>\n",
       "      <td>0</td>\n",
       "      <td>35934</td>\n",
       "      <td>Education</td>\n",
       "      <td>https://sun1.beltelecom-by-minsk.userapi.com/i...</td>\n",
       "      <td>https://sun1.beltelecom-by-minsk.userapi.com/i...</td>\n",
       "      <td>https://sun1.beltelecom-by-minsk.userapi.com/i...</td>\n",
       "    </tr>\n",
       "    <tr>\n",
       "      <th>6</th>\n",
       "      <td>134675739</td>\n",
       "      <td>python</td>\n",
       "      <td>club134675739</td>\n",
       "      <td>0</td>\n",
       "      <td>group</td>\n",
       "      <td>0</td>\n",
       "      <td>0</td>\n",
       "      <td>0</td>\n",
       "      <td>27</td>\n",
       "      <td>Open group</td>\n",
       "      <td>https://vk.com/images/community_50.png?ava=1</td>\n",
       "      <td>https://vk.com/images/community_100.png?ava=1</td>\n",
       "      <td>https://vk.com/images/community_200.png?ava=1</td>\n",
       "    </tr>\n",
       "    <tr>\n",
       "      <th>7</th>\n",
       "      <td>3183750</td>\n",
       "      <td>Веб программист - PHP, JS, Python, Java, HTML 5</td>\n",
       "      <td>php2all</td>\n",
       "      <td>0</td>\n",
       "      <td>page</td>\n",
       "      <td>0</td>\n",
       "      <td>0</td>\n",
       "      <td>0</td>\n",
       "      <td>130327</td>\n",
       "      <td>Programming</td>\n",
       "      <td>https://sun1.beltelecom-by-minsk.userapi.com/i...</td>\n",
       "      <td>https://sun1.beltelecom-by-minsk.userapi.com/i...</td>\n",
       "      <td>https://sun1.beltelecom-by-minsk.userapi.com/i...</td>\n",
       "    </tr>\n",
       "    <tr>\n",
       "      <th>8</th>\n",
       "      <td>194071621</td>\n",
       "      <td>IT-куб. Арзамас</td>\n",
       "      <td>itcube152</td>\n",
       "      <td>0</td>\n",
       "      <td>group</td>\n",
       "      <td>0</td>\n",
       "      <td>0</td>\n",
       "      <td>0</td>\n",
       "      <td>1114</td>\n",
       "      <td>Open group</td>\n",
       "      <td>https://sun2.beltelecom-by-minsk.userapi.com/i...</td>\n",
       "      <td>https://sun2.beltelecom-by-minsk.userapi.com/i...</td>\n",
       "      <td>https://sun2.beltelecom-by-minsk.userapi.com/i...</td>\n",
       "    </tr>\n",
       "    <tr>\n",
       "      <th>9</th>\n",
       "      <td>11899736</td>\n",
       "      <td>Видеоуроки программиста PHP,Javascript,Python,С#</td>\n",
       "      <td>programl</td>\n",
       "      <td>0</td>\n",
       "      <td>page</td>\n",
       "      <td>0</td>\n",
       "      <td>0</td>\n",
       "      <td>0</td>\n",
       "      <td>25926</td>\n",
       "      <td>Programming</td>\n",
       "      <td>https://sun2.beltelecom-by-minsk.userapi.com/i...</td>\n",
       "      <td>https://sun2.beltelecom-by-minsk.userapi.com/i...</td>\n",
       "      <td>https://sun2.beltelecom-by-minsk.userapi.com/i...</td>\n",
       "    </tr>\n",
       "  </tbody>\n",
       "</table>\n",
       "</div>"
      ],
      "text/plain": [
       "          id                                              name  \\\n",
       "0   42565717                                            Python   \n",
       "1   38080744                                  Python community   \n",
       "2  152111071                                            Python   \n",
       "3  142410745                         Python 3.8 | ЯПрограммист   \n",
       "4   69235007                                            Python   \n",
       "5  178774705    Языки программирования: Python, Java, JS, PHP…   \n",
       "6  134675739                                            python   \n",
       "7    3183750   Веб программист - PHP, JS, Python, Java, HTML 5   \n",
       "8  194071621                                   IT-куб. Арзамас   \n",
       "9   11899736  Видеоуроки программиста PHP,Javascript,Python,С#   \n",
       "\n",
       "                     screen_name  is_closed   type  is_admin  is_member  \\\n",
       "0                   club42565717          0  group         0          0   \n",
       "1               python_community          0  group         0          0   \n",
       "2  python_django_programirovanie          0  group         0          0   \n",
       "3                open_sourcecode          0   page         0          0   \n",
       "4                    python_imkn          0  group         0          0   \n",
       "5                          pryaz          0   page         0          0   \n",
       "6                  club134675739          0  group         0          0   \n",
       "7                        php2all          0   page         0          0   \n",
       "8                      itcube152          0  group         0          0   \n",
       "9                       programl          0   page         0          0   \n",
       "\n",
       "   is_advertiser  members_count     activity  \\\n",
       "0              0          47258   Open group   \n",
       "1              0          25312   Open group   \n",
       "2              0          11060   Open group   \n",
       "3              0          27675  Programming   \n",
       "4              0            934   Open group   \n",
       "5              0          35934    Education   \n",
       "6              0             27   Open group   \n",
       "7              0         130327  Programming   \n",
       "8              0           1114   Open group   \n",
       "9              0          25926  Programming   \n",
       "\n",
       "                                            photo_50  \\\n",
       "0  https://sun1.beltelecom-by-minsk.userapi.com/i...   \n",
       "1  https://sun2.beltelecom-by-minsk.userapi.com/i...   \n",
       "2  https://sun1.beltelecom-by-minsk.userapi.com/i...   \n",
       "3  https://sun2.beltelecom-by-minsk.userapi.com/i...   \n",
       "4  https://sun1.beltelecom-by-minsk.userapi.com/i...   \n",
       "5  https://sun1.beltelecom-by-minsk.userapi.com/i...   \n",
       "6       https://vk.com/images/community_50.png?ava=1   \n",
       "7  https://sun1.beltelecom-by-minsk.userapi.com/i...   \n",
       "8  https://sun2.beltelecom-by-minsk.userapi.com/i...   \n",
       "9  https://sun2.beltelecom-by-minsk.userapi.com/i...   \n",
       "\n",
       "                                           photo_100  \\\n",
       "0  https://sun1.beltelecom-by-minsk.userapi.com/i...   \n",
       "1  https://sun2.beltelecom-by-minsk.userapi.com/i...   \n",
       "2  https://sun1.beltelecom-by-minsk.userapi.com/i...   \n",
       "3  https://sun2.beltelecom-by-minsk.userapi.com/i...   \n",
       "4  https://sun1.beltelecom-by-minsk.userapi.com/i...   \n",
       "5  https://sun1.beltelecom-by-minsk.userapi.com/i...   \n",
       "6      https://vk.com/images/community_100.png?ava=1   \n",
       "7  https://sun1.beltelecom-by-minsk.userapi.com/i...   \n",
       "8  https://sun2.beltelecom-by-minsk.userapi.com/i...   \n",
       "9  https://sun2.beltelecom-by-minsk.userapi.com/i...   \n",
       "\n",
       "                                           photo_200  \n",
       "0  https://sun1.beltelecom-by-minsk.userapi.com/i...  \n",
       "1  https://sun2.beltelecom-by-minsk.userapi.com/i...  \n",
       "2  https://sun1.beltelecom-by-minsk.userapi.com/i...  \n",
       "3  https://sun2.beltelecom-by-minsk.userapi.com/i...  \n",
       "4  https://sun1.beltelecom-by-minsk.userapi.com/i...  \n",
       "5  https://sun1.beltelecom-by-minsk.userapi.com/i...  \n",
       "6      https://vk.com/images/community_200.png?ava=1  \n",
       "7  https://sun1.beltelecom-by-minsk.userapi.com/i...  \n",
       "8  https://sun2.beltelecom-by-minsk.userapi.com/i...  \n",
       "9  https://sun2.beltelecom-by-minsk.userapi.com/i...  "
      ]
     },
     "metadata": {},
     "output_type": "display_data"
    }
   ],
   "source": [
    "groups_df = pd.DataFrame(groups_info)\n",
    "# groups_df.set_index('name', inplace=True)\n",
    "\n",
    "display(groups_df)"
   ]
  },
  {
   "cell_type": "markdown",
   "metadata": {},
   "source": [
    "# Charts:"
   ]
  },
  {
   "cell_type": "code",
   "execution_count": 26,
   "metadata": {},
   "outputs": [
    {
     "data": {
      "text/plain": [
       "<matplotlib.axes._subplots.AxesSubplot at 0x1a597e42e20>"
      ]
     },
     "execution_count": 26,
     "metadata": {},
     "output_type": "execute_result"
    },
    {
     "data": {
      "image/png": "[encoded data removed]",
      "text/plain": [
       "<Figure size 432x288 with 1 Axes>"
      ]
     },
     "metadata": {},
     "output_type": "display_data"
    }
   ],
   "source": [
    "groups_df['activity'].value_counts().plot(kind='pie')"
   ]
  },
  {
   "cell_type": "code",
   "execution_count": 27,
   "metadata": {},
   "outputs": [
    {
     "data": {
      "text/plain": [
       "<matplotlib.legend.Legend at 0x1a5985b7c40>"
      ]
     },
     "execution_count": 27,
     "metadata": {},
     "output_type": "execute_result"
    },
    {
     "data": {
      "image/png": "[encoded data removed]",
      "text/plain": [
       "<Figure size 504x504 with 1 Axes>"
      ]
     },
     "metadata": {},
     "output_type": "display_data"
    }
   ],
   "source": [
    "pie = groups_df.plot(kind='pie', y='members_count', figsize=(7,7), labels=None, autopct='%1.1f%%')\n",
    "labels = groups_df['name'].tolist()\n",
    "# labels = groups_df.index\n",
    "pie.legend(labels, loc='center right', bbox_to_anchor=(2.2, 0.6))"
   ]
  },
  {
   "cell_type": "code",
   "execution_count": 28,
   "metadata": {},
   "outputs": [],
   "source": [
    "from matplotlib import pyplot as plt\n",
    "import numpy as np"
   ]
  },
  {
   "cell_type": "code",
   "execution_count": 29,
   "metadata": {},
   "outputs": [
    {
     "data": {
      "text/plain": [
       "Text(0.5, 0, '')"
      ]
     },
     "execution_count": 29,
     "metadata": {},
     "output_type": "execute_result"
    },
    {
     "data": {
      "image/png": "[encoded data removed]",
      "text/plain": [
       "<Figure size 576x360 with 1 Axes>"
      ]
     },
     "metadata": {
      "needs_background": "light"
     },
     "output_type": "display_data"
    }
   ],
   "source": [
    "ax = groups_df.sort_values(['members_count']).plot.bar(x='name', y='members_count', figsize=(8,5), legend=False, color=plt.cm.Paired(np.arange(len(groups_df))))\n",
    "plt.xticks(rotation=30, ha='right')\n",
    "plt.title(\"VK groups\")\n",
    "plt.ylabel(\"Members count\")\n",
    "plt.xlabel(\"\")"
   ]
  },
  {
   "cell_type": "code",
   "execution_count": null,
   "metadata": {},
   "outputs": [],
   "source": []
  }
 ],
 "metadata": {
  "kernelspec": {
   "display_name": "Python 3",
   "language": "python",
   "name": "python3"
  },
  "language_info": {
   "codemirror_mode": {
    "name": "ipython",
    "version": 3
   },
   "file_extension": ".py",
   "mimetype": "text/x-python",
   "name": "python",
   "nbconvert_exporter": "python",
   "pygments_lexer": "ipython3",
   "version": "3.8.3"
  }
 },
 "nbformat": 4,
 "nbformat_minor": 4
}
