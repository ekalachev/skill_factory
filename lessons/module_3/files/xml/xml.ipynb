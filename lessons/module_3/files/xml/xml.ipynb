{
 "cells": [
  {
   "cell_type": "code",
   "execution_count": 1,
   "id": "other-christianity",
   "metadata": {},
   "outputs": [],
   "source": [
    "%load_ext pycodestyle_magic\n",
    "%flake8_on"
   ]
  },
  {
   "cell_type": "markdown",
   "id": "smooth-consideration",
   "metadata": {},
   "source": [
    "# Формат XML\n",
    "\n",
    "Мы будем пользоваться модулем **ElementTree**, входящим в стандартный пакет xml. Этот модуль позволит нам ходить по дереву XML и смотреть, что находится в каждом его узле, начиная с корня и заканчивая листьями. Импортируем модуль:"
   ]
  },
  {
   "cell_type": "code",
   "execution_count": 2,
   "id": "widespread-dollar",
   "metadata": {},
   "outputs": [],
   "source": [
    "import xml.etree.ElementTree as ET"
   ]
  },
  {
   "cell_type": "code",
   "execution_count": 3,
   "id": "above-meditation",
   "metadata": {},
   "outputs": [],
   "source": [
    "tree = ET.parse('./data/menu.xml')\n",
    "root = tree.getroot()"
   ]
  },
  {
   "cell_type": "code",
   "execution_count": 4,
   "id": "efficient-relation",
   "metadata": {},
   "outputs": [
    {
     "name": "stdout",
     "output_type": "stream",
     "text": [
      "<Element 'menu' at 0x7f94eecd4290>\n"
     ]
    }
   ],
   "source": [
    "print(root)"
   ]
  },
  {
   "cell_type": "markdown",
   "id": "surrounded-inspiration",
   "metadata": {},
   "source": [
    "Как посмотреть список детей (потомков) этого узла? С помощью метода list(root):"
   ]
  },
  {
   "cell_type": "code",
   "execution_count": 5,
   "id": "raising-details",
   "metadata": {},
   "outputs": [
    {
     "data": {
      "text/plain": [
       "[<Element 'dish' at 0x7f94eecd43b0>, <Element 'dish' at 0x7f94eecd46b0>]"
      ]
     },
     "execution_count": 5,
     "metadata": {},
     "output_type": "execute_result"
    }
   ],
   "source": [
    "list(root)"
   ]
  },
  {
   "cell_type": "markdown",
   "id": "wireless-correspondence",
   "metadata": {},
   "source": [
    "Метод возвращает список. Если у узла нет детей, то он вернет пустой список []."
   ]
  },
  {
   "cell_type": "code",
   "execution_count": 6,
   "id": "burning-conflict",
   "metadata": {},
   "outputs": [
    {
     "data": {
      "text/plain": [
       "<Element 'dish' at 0x7f94eecd43b0>"
      ]
     },
     "execution_count": 6,
     "metadata": {},
     "output_type": "execute_result"
    }
   ],
   "source": [
    "list(root)[0]"
   ]
  },
  {
   "cell_type": "code",
   "execution_count": 7,
   "id": "genuine-circus",
   "metadata": {},
   "outputs": [
    {
     "data": {
      "text/plain": [
       "<Element 'dish' at 0x7f94eecd43b0>"
      ]
     },
     "execution_count": 7,
     "metadata": {},
     "output_type": "execute_result"
    }
   ],
   "source": [
    "root[0]"
   ]
  },
  {
   "cell_type": "markdown",
   "id": "inside-huntington",
   "metadata": {},
   "source": [
    "Ранее мы видели, что у узлов могут быть параметры (атрибуты). Например, у узлов <dish> мы видели атрибут name. Мы можем обратиться к атрибутам объекта с помощью команды attrib. Здесь может возникнуть небольшая путаница, потому что мы говорим о двух разных определениях слова \"атрибут\" в нашем контексте:\n",
    "\n",
    "1. Атрибут у тега (как name у <dish>).\n",
    "2. Атрибут объекта (переменная класса). \n",
    "    \n",
    "В данном случае мы берем объект типа ElementTree.Element, у которого есть атрибут attrib. В этом атрибуте объекта хранится словарь с атрибутами данного узла.\n",
    "\n",
    "Это значит, что если мы обратимся к attrib, то нам вернется словарь, в котором ключами будут названия атрибутов, а значениями — соответствующие значения. Чтобы стало яснее, давайте посмотрим на атрибуты у <dish>:"
   ]
  },
  {
   "cell_type": "code",
   "execution_count": 8,
   "id": "conscious-backup",
   "metadata": {},
   "outputs": [
    {
     "data": {
      "text/plain": [
       "{'name': 'Кура'}"
      ]
     },
     "execution_count": 8,
     "metadata": {},
     "output_type": "execute_result"
    }
   ],
   "source": [
    "root[0].attrib"
   ]
  },
  {
   "cell_type": "markdown",
   "id": "common-agency",
   "metadata": {},
   "source": [
    "## Чтение значений узлов\n",
    "\n",
    "В узлах XML часто хранятся количественные показатели. Эти показатели хранятся в виде текста, и прочитать их можно, обратившись к атрибуту text у соответствующего объекта типа ElementTree.Element. Например, возьмем узел price:"
   ]
  },
  {
   "cell_type": "code",
   "execution_count": 9,
   "id": "general-scientist",
   "metadata": {},
   "outputs": [
    {
     "data": {
      "text/plain": [
       "<Element 'price' at 0x7f94eecd44d0>"
      ]
     },
     "execution_count": 9,
     "metadata": {},
     "output_type": "execute_result"
    }
   ],
   "source": [
    "root[0][0]"
   ]
  },
  {
   "cell_type": "markdown",
   "id": "guided-remedy",
   "metadata": {},
   "source": [
    "Теперь, прочитаем значение этого узла:"
   ]
  },
  {
   "cell_type": "code",
   "execution_count": 10,
   "id": "instant-newark",
   "metadata": {},
   "outputs": [
    {
     "data": {
      "text/plain": [
       "'40'"
      ]
     },
     "execution_count": 10,
     "metadata": {},
     "output_type": "execute_result"
    }
   ],
   "source": [
    "root[0][0].text"
   ]
  },
  {
   "cell_type": "markdown",
   "id": "manual-olympus",
   "metadata": {},
   "source": [
    "Заметьте, что значение '40' представлено строкой. Все значения в XML хранятся как строки, поэтому преобразовывать их к нужному типу вам нужно самим. Например, в данном случае можно обернуть значение стоимости в int() или float().\n",
    "\n",
    "Если вы хотите прочитать название тега для конкретного узла, можно использовать атрибут tag."
   ]
  },
  {
   "cell_type": "markdown",
   "id": "pharmaceutical-colonial",
   "metadata": {},
   "source": [
    "Какое значение тега у узла root[0][1]?"
   ]
  },
  {
   "cell_type": "code",
   "execution_count": 11,
   "id": "apart-belgium",
   "metadata": {},
   "outputs": [
    {
     "data": {
      "text/plain": [
       "'weight'"
      ]
     },
     "execution_count": 11,
     "metadata": {},
     "output_type": "execute_result"
    }
   ],
   "source": [
    "root[0][1].tag"
   ]
  },
  {
   "cell_type": "markdown",
   "id": "prompt-input",
   "metadata": {},
   "source": [
    "## Использование циклов"
   ]
  },
  {
   "cell_type": "code",
   "execution_count": 12,
   "id": "existing-armenia",
   "metadata": {},
   "outputs": [
    {
     "name": "stdout",
     "output_type": "stream",
     "text": [
      "Кура price 40\n",
      "Кура weight 300\n",
      "Кура class Мясо\n",
      "\n",
      "Греча price 20\n",
      "Греча weight 200\n",
      "Греча class Крупа\n",
      "\n"
     ]
    }
   ],
   "source": [
    "for elem in root:\n",
    "    for subelem in elem:\n",
    "        print(elem.attrib['name'], subelem.tag, subelem.text)\n",
    "    print()"
   ]
  },
  {
   "cell_type": "markdown",
   "id": "portable-trade",
   "metadata": {},
   "source": [
    "Посчитайте, сколько детей у первого объекта dish. Для этого используйте метод len():"
   ]
  },
  {
   "cell_type": "code",
   "execution_count": 13,
   "id": "incomplete-museum",
   "metadata": {},
   "outputs": [
    {
     "data": {
      "text/plain": [
       "3"
      ]
     },
     "execution_count": 13,
     "metadata": {},
     "output_type": "execute_result"
    }
   ],
   "source": [
    "len(root[0])"
   ]
  },
  {
   "cell_type": "markdown",
   "id": "worse-token",
   "metadata": {},
   "source": [
    "Для дальнейшей работы нам необходимо установить библиотеку xmljson, для этого выполните команду в Jupyter Notebook: **!pip install xmljson**"
   ]
  },
  {
   "cell_type": "code",
   "execution_count": 14,
   "id": "proved-lying",
   "metadata": {},
   "outputs": [
    {
     "name": "stdout",
     "output_type": "stream",
     "text": [
      "Requirement already satisfied: xmljson in /Users/eldarkalachev/anaconda/anaconda3/lib/python3.7/site-packages (0.2.1)\r\n"
     ]
    }
   ],
   "source": [
    "!pip install xmljson"
   ]
  },
  {
   "cell_type": "markdown",
   "id": "heard-prompt",
   "metadata": {},
   "source": [
    "## Превращение XML в pd.DataFrame"
   ]
  },
  {
   "cell_type": "code",
   "execution_count": 18,
   "id": "rough-affair",
   "metadata": {},
   "outputs": [],
   "source": [
    "import pandas as pd"
   ]
  },
  {
   "cell_type": "code",
   "execution_count": 19,
   "id": "controlling-theory",
   "metadata": {},
   "outputs": [],
   "source": [
    "df_index = ['name', 'price', 'weight', 'class']\n",
    "df = pd.DataFrame(columns=df_index)\n",
    "\n",
    "for elem in root:\n",
    "    elements = [elem.get('name'), elem[0].text, elem[1].text, elem[2].text]\n",
    "    df = df.append(pd.Series(elements, index=df_index), ignore_index=True)"
   ]
  },
  {
   "cell_type": "code",
   "execution_count": 20,
   "id": "welsh-document",
   "metadata": {},
   "outputs": [
    {
     "data": {
      "text/html": [
       "<div>\n",
       "<style scoped>\n",
       "    .dataframe tbody tr th:only-of-type {\n",
       "        vertical-align: middle;\n",
       "    }\n",
       "\n",
       "    .dataframe tbody tr th {\n",
       "        vertical-align: top;\n",
       "    }\n",
       "\n",
       "    .dataframe thead th {\n",
       "        text-align: right;\n",
       "    }\n",
       "</style>\n",
       "<table border=\"1\" class=\"dataframe\">\n",
       "  <thead>\n",
       "    <tr style=\"text-align: right;\">\n",
       "      <th></th>\n",
       "      <th>name</th>\n",
       "      <th>price</th>\n",
       "      <th>weight</th>\n",
       "      <th>class</th>\n",
       "    </tr>\n",
       "  </thead>\n",
       "  <tbody>\n",
       "    <tr>\n",
       "      <th>0</th>\n",
       "      <td>Кура</td>\n",
       "      <td>40</td>\n",
       "      <td>300</td>\n",
       "      <td>Мясо</td>\n",
       "    </tr>\n",
       "    <tr>\n",
       "      <th>1</th>\n",
       "      <td>Греча</td>\n",
       "      <td>20</td>\n",
       "      <td>200</td>\n",
       "      <td>Крупа</td>\n",
       "    </tr>\n",
       "  </tbody>\n",
       "</table>\n",
       "</div>"
      ],
      "text/plain": [
       "    name price weight  class\n",
       "0   Кура    40    300   Мясо\n",
       "1  Греча    20    200  Крупа"
      ]
     },
     "execution_count": 20,
     "metadata": {},
     "output_type": "execute_result"
    }
   ],
   "source": [
    "df"
   ]
  },
  {
   "cell_type": "markdown",
   "id": "early-harvey",
   "metadata": {},
   "source": [
    "## Превращение XML в JSON"
   ]
  },
  {
   "cell_type": "code",
   "execution_count": 22,
   "id": "sorted-dictionary",
   "metadata": {},
   "outputs": [
    {
     "data": {
      "text/plain": [
       "OrderedDict([('dish',\n",
       "              [OrderedDict([('price', 40),\n",
       "                            ('weight', 300),\n",
       "                            ('class', 'Мясо')]),\n",
       "               OrderedDict([('price', 20),\n",
       "                            ('weight', 200),\n",
       "                            ('class', 'Крупа')])])])"
      ]
     },
     "execution_count": 22,
     "metadata": {},
     "output_type": "execute_result"
    }
   ],
   "source": [
    "import xmljson\n",
    "xmljson.parker.data(root)"
   ]
  },
  {
   "cell_type": "markdown",
   "id": "liberal-employer",
   "metadata": {},
   "source": [
    "Если вы захотите использовать другое соглашение, просто замените в коде название одного соглашения на название другого. Например,"
   ]
  },
  {
   "cell_type": "code",
   "execution_count": 23,
   "id": "statistical-giving",
   "metadata": {},
   "outputs": [
    {
     "data": {
      "text/plain": [
       "OrderedDict([('menu',\n",
       "              OrderedDict([('dish',\n",
       "                            [OrderedDict([('name', 'Кура'),\n",
       "                                          ('price', OrderedDict([('$t', 40)])),\n",
       "                                          ('weight',\n",
       "                                           OrderedDict([('$t', 300)])),\n",
       "                                          ('class',\n",
       "                                           OrderedDict([('$t', 'Мясо')]))]),\n",
       "                             OrderedDict([('name', 'Греча'),\n",
       "                                          ('price', OrderedDict([('$t', 20)])),\n",
       "                                          ('weight',\n",
       "                                           OrderedDict([('$t', 200)])),\n",
       "                                          ('class',\n",
       "                                           OrderedDict([('$t',\n",
       "                                                         'Крупа')]))])])]))])"
      ]
     },
     "execution_count": 23,
     "metadata": {},
     "output_type": "execute_result"
    }
   ],
   "source": [
    "xmljson.gdata.data(root)"
   ]
  },
  {
   "cell_type": "markdown",
   "id": "administrative-bacon",
   "metadata": {},
   "source": [
    "Как превратить JSON обратно в XML? Использовать метод etree() у класса-соглашения:"
   ]
  },
  {
   "cell_type": "code",
   "execution_count": 24,
   "id": "pursuant-north",
   "metadata": {},
   "outputs": [],
   "source": [
    "parker_json = xmljson.parker.data(root)\n",
    "back_to_xml = xmljson.parker.etree(parker_json)"
   ]
  },
  {
   "cell_type": "markdown",
   "id": "practical-amendment",
   "metadata": {},
   "source": [
    "## Запись в XML-файл\n",
    "\n",
    "Осталось самое последнее — научиться создавать свои XML-файлы. Вероятно, это почти никогда не пригодится вам, но все же такая ситуация может возникнуть. Чтобы создать корень дерева, нужно использовать метод Element() из класса ElementTree:"
   ]
  },
  {
   "cell_type": "code",
   "execution_count": 27,
   "id": "extensive-peter",
   "metadata": {},
   "outputs": [],
   "source": [
    "new_root = ET.Element('menu')"
   ]
  },
  {
   "cell_type": "code",
   "execution_count": 28,
   "id": "least-latter",
   "metadata": {},
   "outputs": [
    {
     "data": {
      "text/plain": [
       "[<Element 'dish' at 0x7f94f1dbec50>, <Element 'dish' at 0x7f94f1dbeb30>]"
      ]
     },
     "execution_count": 28,
     "metadata": {},
     "output_type": "execute_result"
    }
   ],
   "source": [
    "dish_1 = ET.SubElement(new_root, 'dish')\n",
    "dish_2 = ET.SubElement(new_root, 'dish')\n",
    "list(new_root)"
   ]
  },
  {
   "cell_type": "markdown",
   "id": "unique-alexandria",
   "metadata": {},
   "source": [
    "Атрибуты можно добавить с помощью метода set(), передав первым параметром название атрибута, а вторым — его значение:"
   ]
  },
  {
   "cell_type": "code",
   "execution_count": 29,
   "id": "falling-discharge",
   "metadata": {},
   "outputs": [],
   "source": [
    "dish_1.set('name', 'Кура')"
   ]
  },
  {
   "cell_type": "markdown",
   "id": "vanilla-attitude",
   "metadata": {},
   "source": [
    "Значение тега можно задать через уже знакомый вам параметр text:"
   ]
  },
  {
   "cell_type": "code",
   "execution_count": 30,
   "id": "crazy-costs",
   "metadata": {},
   "outputs": [],
   "source": [
    "dish_1.text = 'Белок'"
   ]
  },
  {
   "cell_type": "markdown",
   "id": "heavy-scout",
   "metadata": {},
   "source": [
    "Теперь запишем получившийся XML-файл на диск, используя стандартные средства Python. Сначала превратим объект типа ElementTree.Element в строку (str) c помощью метода tostring(), передав наше новое дерево как аргумент:"
   ]
  },
  {
   "cell_type": "code",
   "execution_count": 31,
   "id": "professional-shell",
   "metadata": {},
   "outputs": [],
   "source": [
    "new_root_string = ET.tostring(new_root)"
   ]
  },
  {
   "cell_type": "code",
   "execution_count": 35,
   "id": "universal-packet",
   "metadata": {},
   "outputs": [],
   "source": [
    "ET.ElementTree(new_root).write('./data/new_menu_good.xml', encoding=\"utf-8\")"
   ]
  },
  {
   "cell_type": "code",
   "execution_count": null,
   "id": "mature-uganda",
   "metadata": {},
   "outputs": [],
   "source": []
  }
 ],
 "metadata": {
  "kernelspec": {
   "display_name": "Python 3",
   "language": "python",
   "name": "python3"
  },
  "language_info": {
   "codemirror_mode": {
    "name": "ipython",
    "version": 3
   },
   "file_extension": ".py",
   "mimetype": "text/x-python",
   "name": "python",
   "nbconvert_exporter": "python",
   "pygments_lexer": "ipython3",
   "version": "3.7.7"
  }
 },
 "nbformat": 4,
 "nbformat_minor": 5
}
