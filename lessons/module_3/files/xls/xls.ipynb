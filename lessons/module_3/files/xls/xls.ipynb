{
 "cells": [
  {
   "cell_type": "code",
   "execution_count": 1,
   "id": "surprised-handle",
   "metadata": {},
   "outputs": [],
   "source": [
    "%load_ext pycodestyle_magic\n",
    "%flake8_on"
   ]
  },
  {
   "cell_type": "markdown",
   "id": "whole-reaction",
   "metadata": {},
   "source": [
    "# Что такое Excel и зачем он нужен?\n",
    "\n",
    "**Excel-файлы** — это по-простому таблицы с данными, которые имеют формат **.xls** и **.xlsx**. У вас уже есть опыт работы с форматом данных **.csv**, но этот формат проще **Excel**. Файл формата **.csv** это текстовый файл, в котором данные перечислены через запятую, но могут быть разделены и другими символами.\n",
    "\n",
    "Файл формата **.csv** можно открыть любым текстовым редактором, с **Excel** иначе: он хранит не только табличные данные, но и может содержать *изображения, графики, формулы, форматирование*. Например, вы можете сделать столбец с температурой за окном за прошедшие 100 дней. Над столбцом можно записать *«Температура»* и выделить это слово красным цветом, написать его курсивом, рядом можно записать функцию, которая посчитает среднюю температуру, и построить график с изменением температуры.\n",
    "\n",
    "Скорее всего, вы уже работали с этим форматом данных, используя инструменты, которые мы рассмотрим ниже. В этом блоке мы будем применять **Python**, чтобы извлекать данные из **Excel**-файлов и записывать туда данные."
   ]
  },
  {
   "cell_type": "code",
   "execution_count": 2,
   "id": "sharp-maryland",
   "metadata": {},
   "outputs": [],
   "source": [
    "import pandas as pd\n",
    "import numpy as np"
   ]
  },
  {
   "cell_type": "code",
   "execution_count": 3,
   "id": "located-lodging",
   "metadata": {},
   "outputs": [],
   "source": [
    "# Это просто небольшая настройка Pandas.\n",
    "# Вы можете применить её сразу после импортирования библиотеки\n",
    "# и её действие будет распространяться на весь код.\n",
    "pd.set_option('display.max_columns', None)"
   ]
  },
  {
   "cell_type": "code",
   "execution_count": 4,
   "id": "elect-antique",
   "metadata": {},
   "outputs": [
    {
     "data": {
      "text/html": [
       "<div>\n",
       "<style scoped>\n",
       "    .dataframe tbody tr th:only-of-type {\n",
       "        vertical-align: middle;\n",
       "    }\n",
       "\n",
       "    .dataframe tbody tr th {\n",
       "        vertical-align: top;\n",
       "    }\n",
       "\n",
       "    .dataframe thead th {\n",
       "        text-align: right;\n",
       "    }\n",
       "</style>\n",
       "<table border=\"1\" class=\"dataframe\">\n",
       "  <thead>\n",
       "    <tr style=\"text-align: right;\">\n",
       "      <th></th>\n",
       "      <th>0</th>\n",
       "      <th>1</th>\n",
       "      <th>2</th>\n",
       "      <th>3</th>\n",
       "      <th>4</th>\n",
       "      <th>5</th>\n",
       "      <th>6</th>\n",
       "      <th>7</th>\n",
       "      <th>8</th>\n",
       "      <th>9</th>\n",
       "      <th>10</th>\n",
       "      <th>11</th>\n",
       "      <th>12</th>\n",
       "      <th>13</th>\n",
       "      <th>14</th>\n",
       "      <th>15</th>\n",
       "      <th>16</th>\n",
       "      <th>17</th>\n",
       "      <th>18</th>\n",
       "    </tr>\n",
       "  </thead>\n",
       "  <tbody>\n",
       "    <tr>\n",
       "      <th>0</th>\n",
       "      <td>U.S. Home Price and Related data, for Figure 3...</td>\n",
       "      <td>NaN</td>\n",
       "      <td>NaN</td>\n",
       "      <td>NaN</td>\n",
       "      <td>NaN</td>\n",
       "      <td>NaN</td>\n",
       "      <td>NaN</td>\n",
       "      <td>NaN</td>\n",
       "      <td>NaN</td>\n",
       "      <td>NaN</td>\n",
       "      <td>NaN</td>\n",
       "      <td>NaN</td>\n",
       "      <td>NaN</td>\n",
       "      <td>NaN</td>\n",
       "      <td>NaN</td>\n",
       "      <td>NaN</td>\n",
       "      <td>NaN</td>\n",
       "      <td>NaN</td>\n",
       "      <td>NaN</td>\n",
       "    </tr>\n",
       "    <tr>\n",
       "      <th>1</th>\n",
       "      <td>See the book for description of data.</td>\n",
       "      <td>NaN</td>\n",
       "      <td>NaN</td>\n",
       "      <td>NaN</td>\n",
       "      <td>Update Nominal Home Price Index, Click Additio...</td>\n",
       "      <td>NaN</td>\n",
       "      <td>NaN</td>\n",
       "      <td>NaN</td>\n",
       "      <td>NaN</td>\n",
       "      <td>NaN</td>\n",
       "      <td>NaN</td>\n",
       "      <td>NaN</td>\n",
       "      <td>NaN</td>\n",
       "      <td>NaN</td>\n",
       "      <td>NaN</td>\n",
       "      <td>NaN</td>\n",
       "      <td>NaN</td>\n",
       "      <td>NaN</td>\n",
       "      <td>NaN</td>\n",
       "    </tr>\n",
       "    <tr>\n",
       "      <th>2</th>\n",
       "      <td>Monthly data from January 1953 for prices, all...</td>\n",
       "      <td>NaN</td>\n",
       "      <td>NaN</td>\n",
       "      <td>NaN</td>\n",
       "      <td>NaN</td>\n",
       "      <td>NaN</td>\n",
       "      <td>NaN</td>\n",
       "      <td>NaN</td>\n",
       "      <td>Nominal</td>\n",
       "      <td>NaN</td>\n",
       "      <td>NaN</td>\n",
       "      <td>NaN</td>\n",
       "      <td>NaN</td>\n",
       "      <td>NaN</td>\n",
       "      <td>NaN</td>\n",
       "      <td>NaN</td>\n",
       "      <td>NaN</td>\n",
       "      <td>NaN</td>\n",
       "      <td>NaN</td>\n",
       "    </tr>\n",
       "    <tr>\n",
       "      <th>3</th>\n",
       "      <td>NaN</td>\n",
       "      <td>Real</td>\n",
       "      <td>NaN</td>\n",
       "      <td>Real</td>\n",
       "      <td>NaN</td>\n",
       "      <td>NaN</td>\n",
       "      <td>NaN</td>\n",
       "      <td>NaN</td>\n",
       "      <td>Home</td>\n",
       "      <td>NaN</td>\n",
       "      <td>NaN</td>\n",
       "      <td>Nominal</td>\n",
       "      <td>NaN</td>\n",
       "      <td>NaN</td>\n",
       "      <td>Consumer</td>\n",
       "      <td>NaN</td>\n",
       "      <td>NaN</td>\n",
       "      <td>NaN</td>\n",
       "      <td>NaN</td>\n",
       "    </tr>\n",
       "    <tr>\n",
       "      <th>4</th>\n",
       "      <td>NaN</td>\n",
       "      <td>Home</td>\n",
       "      <td>NaN</td>\n",
       "      <td>Building</td>\n",
       "      <td>U.S.</td>\n",
       "      <td>NaN</td>\n",
       "      <td>NaN</td>\n",
       "      <td>NaN</td>\n",
       "      <td>Price</td>\n",
       "      <td>HPI</td>\n",
       "      <td>NaN</td>\n",
       "      <td>Building</td>\n",
       "      <td>NaN</td>\n",
       "      <td>NaN</td>\n",
       "      <td>Price</td>\n",
       "      <td>CPI Annual&amp;</td>\n",
       "      <td>NaN</td>\n",
       "      <td>NaN</td>\n",
       "      <td>NaN</td>\n",
       "    </tr>\n",
       "  </tbody>\n",
       "</table>\n",
       "</div>"
      ],
      "text/plain": [
       "                                                  0     1    2         3   \\\n",
       "0  U.S. Home Price and Related data, for Figure 3...   NaN  NaN       NaN   \n",
       "1              See the book for description of data.   NaN  NaN       NaN   \n",
       "2  Monthly data from January 1953 for prices, all...   NaN  NaN       NaN   \n",
       "3                                                NaN  Real  NaN      Real   \n",
       "4                                                NaN  Home  NaN  Building   \n",
       "\n",
       "                                                  4    5    6    7        8   \\\n",
       "0                                                NaN  NaN  NaN  NaN      NaN   \n",
       "1  Update Nominal Home Price Index, Click Additio...  NaN  NaN  NaN      NaN   \n",
       "2                                                NaN  NaN  NaN  NaN  Nominal   \n",
       "3                                                NaN  NaN  NaN  NaN     Home   \n",
       "4                                               U.S.  NaN  NaN  NaN    Price   \n",
       "\n",
       "    9    10        11   12   13        14           15  16   17   18  \n",
       "0  NaN  NaN       NaN  NaN  NaN       NaN          NaN NaN  NaN  NaN  \n",
       "1  NaN  NaN       NaN  NaN  NaN       NaN          NaN NaN  NaN  NaN  \n",
       "2  NaN  NaN       NaN  NaN  NaN       NaN          NaN NaN  NaN  NaN  \n",
       "3  NaN  NaN   Nominal  NaN  NaN  Consumer          NaN NaN  NaN  NaN  \n",
       "4  HPI  NaN  Building  NaN  NaN     Price  CPI Annual& NaN  NaN  NaN  "
      ]
     },
     "execution_count": 4,
     "metadata": {},
     "output_type": "execute_result"
    }
   ],
   "source": [
    "data = pd.read_excel('./data/Fig3-1.xls', header=None)\n",
    "data.head()"
   ]
  },
  {
   "cell_type": "markdown",
   "id": "flying-anxiety",
   "metadata": {},
   "source": [
    "## Основные параметры при чтении\n",
    "Параметры, которые можно передавать методу **pandas.read_excel()**:\n",
    "\n",
    "1. **io** — первый параметр, в который мы передаём адрес файла, который хотим прочитать. Кроме адреса на диске, можно передавать адрес в интернете или специальный объект ExcelFile, о котором мы поговорим позже.\n",
    "\n",
    "2. **sheet_name** — ссылка на лист в Excel-файле. Возможные варианты значения данного параметра:\n",
    "    - **0** — значение по умолчанию, означает, что загружаем первую страницу (первый лист);\n",
    "    - **'Sheet1'** — можно передать название листа; обычно страницы называются 'SheetX', где X — номер листа, но могут использоваться и другие названия; \n",
    "    - **[0, 1, 'Sheet3']** — список, содержащий номера или названия листов; в таком случае Pandas вернёт словарь, в котором ключами будут номера или названия листов, а значениями — их содержимое в виде DataFrame;\n",
    "    - **None** — если передать такое значение, то Pandas прочитает все листы и вернёт их в виде словаря, как в предыдущем пункте.\n",
    "    \n",
    "3. **na_values** — список значений, которые будут считаться пропусками. Здесь всё точно так же, как при чтении .csv файла: ‘’, ‘#N/A’, ‘#N/A N/A’, ‘#NA’, ‘-1.#IND’, ‘-1.#QNAN’, ‘-NaN’, ‘-nan’, ‘1.#IND’, ‘1.#QNAN’, ‘N/A’, ‘NA’, ‘NULL’, ‘NaN’, ‘n/a’, ‘nan’, ‘null’"
   ]
  },
  {
   "cell_type": "markdown",
   "id": "major-interim",
   "metadata": {},
   "source": [
    "Сколько строк содержится в файле, с которым мы будем работать?\n",
    "\n",
    "Для получения ответа на вопрос прочитайте файл Fig3-1.xls. Явно укажите, что у файла нет заголовка (header). Запишите ниже, сколько строк содержится в полученном датафрейме."
   ]
  },
  {
   "cell_type": "code",
   "execution_count": 5,
   "id": "numerous-interview",
   "metadata": {},
   "outputs": [
    {
     "data": {
      "text/plain": [
       "864"
      ]
     },
     "execution_count": 5,
     "metadata": {},
     "output_type": "execute_result"
    }
   ],
   "source": [
    "len(data)"
   ]
  },
  {
   "cell_type": "markdown",
   "id": "opposed-italian",
   "metadata": {},
   "source": [
    "## Чтение с помощью ExcelFile\n",
    "\n",
    "Еще один способ прочитать **Excel**-файл — использовать **pd.ExcelFile**. Это специальный объект, которому на вход можно передать путь к файлу. Сначала мы создаем объект **ExcelFile** и передаём ему путь к файлу, после этого можем работать с файлом, считывая содержимое."
   ]
  },
  {
   "cell_type": "code",
   "execution_count": 6,
   "id": "republican-guidance",
   "metadata": {},
   "outputs": [],
   "source": [
    "data_file = pd.ExcelFile('./data/Fig3-1.xls')\n",
    "data = pd.read_excel(data_file, header=None)"
   ]
  },
  {
   "cell_type": "markdown",
   "id": "limiting-conference",
   "metadata": {},
   "source": [
    "*Когда это может пригодиться?* Например, если мы принимаем файл в одном месте программы, а используем в другом. Это может оптимизировать затрачиваемое время, если мы не знаем заранее, когда будем использовать содержимое файла. Ещё один случай:   в файле есть несколько страниц и нам не нужны все эти страницы сразу. Если мы будем читать страницы порознь с помощью read_excel и передавать в этот метод путь к файлу, мы будем каждый раз загружать этот файл в память. Когда данных много, это заполнит вашу оперативную память. В случае с ExcelFile мы прочитаем файл один раз и потом будем только подгружать необходимые страницы.\n",
    "\n",
    "С ExcelFile можно работать с помощью контекстного менеджера:"
   ]
  },
  {
   "cell_type": "code",
   "execution_count": 7,
   "id": "billion-anthony",
   "metadata": {},
   "outputs": [],
   "source": [
    "# with pd.ExcelFile('path_to_file.xls') as xls:\n",
    "#     data['Sheet1'] = pd.read_excel(xls, 'Sheet1', na_values=['NA'])\n",
    "#     data['Sheet2'] = pd.read_excel(xls, 'Sheet2')"
   ]
  },
  {
   "cell_type": "markdown",
   "id": "alive-solomon",
   "metadata": {},
   "source": [
    "Если на первой странице мы хотим считать пропусками только ячейки со значением 'NA', а на второй  – любые похожие на пропуски значения (они описаны выше), то ExcelFile позволит проявить такую гибкость при чтении данных с разных листов.\n",
    "\n",
    "Если мы просто хотим прочитать два листа из Excel-файла, то этот код:"
   ]
  },
  {
   "cell_type": "code",
   "execution_count": 8,
   "id": "unauthorized-indie",
   "metadata": {},
   "outputs": [],
   "source": [
    "# with pd.ExcelFile('path_to_file.xls') as xls:\n",
    "#     data['Sheet1'] = pd.read_excel(xls, 'Sheet1')\n",
    "#     data['Sheet2'] = pd.read_excel(xls, 'Sheet2')"
   ]
  },
  {
   "cell_type": "markdown",
   "id": "presidential-graphics",
   "metadata": {},
   "source": [
    "И этот код:"
   ]
  },
  {
   "cell_type": "code",
   "execution_count": 9,
   "id": "touched-attack",
   "metadata": {},
   "outputs": [],
   "source": [
    "# data = pd.read_excel('path_to_file.xls', ['Sheet1', 'Sheet2'])"
   ]
  },
  {
   "cell_type": "markdown",
   "id": "standing-alpha",
   "metadata": {},
   "source": [
    "Оба кода дадут нам **одинаковый результат как по скорости работы**, так и по возвращаемому результату."
   ]
  },
  {
   "cell_type": "markdown",
   "id": "severe-excess",
   "metadata": {},
   "source": [
    "## Продвинутое чтение Excel-файла"
   ]
  },
  {
   "cell_type": "markdown",
   "id": "reported-receiver",
   "metadata": {},
   "source": [
    "## Чтение по ссылке\n",
    "\n",
    "Рассмотрим ещё один способ, с помощью которого можно прочитать данные. В прошлой секции вы скачали данные, которые мы специально загрузили на учебный портал. На самом деле ни вам, ни нам не обязательно было сохранять эти данные к себе на компьютер: ссылку на данные можно было передать прямо в метод read_excel:"
   ]
  },
  {
   "cell_type": "code",
   "execution_count": 10,
   "id": "divine-johnston",
   "metadata": {},
   "outputs": [],
   "source": [
    "data = pd.read_excel(\n",
    "    'http://www.econ.yale.edu/~shiller/data/Fig3-1.xls',\n",
    "    header=None\n",
    ")"
   ]
  },
  {
   "cell_type": "markdown",
   "id": "complicated-metallic",
   "metadata": {},
   "source": [
    "До этого вы работали с данными, в которых находились обычные таблицы. Что вы делали? Загружали эти таблицы и дальше работали с ними. Однако часто приходится работать с таблицами, не имеющими настолько чёткой структуры или содержащих много дополнительной, значимой для нас информации: номер документа, дата его подписания, фамилия сотрудника, чья подпись стоит на документе. \n",
    "\n",
    "Давайте рассмотрим подходы к решению таких задач на примере.\n",
    "\n",
    "![nakladnaya](./img/nakladnaya.png)"
   ]
  },
  {
   "cell_type": "markdown",
   "id": "religious-research",
   "metadata": {},
   "source": [
    "Что нам может понадобиться в этих данных? Во-первых, это названия компаний, имена людей, номер и дата накладной. Во-вторых, табличные данные в центре файла — информация об объектах, которые были куплены.\n",
    "\n",
    "## Пустые строки\n",
    "Если мы посмотрим на то, как выглядит файл, то увидим, что первые две строчки — пустые, и при чтении файла их желательно пропустить. Для этого можно передать в функцию **read_excel** дополнительный параметр — **skiprows**. В качестве значения параметра укажем количество строк, которые надо пропустить при чтении:"
   ]
  },
  {
   "cell_type": "code",
   "execution_count": 11,
   "id": "egyptian-opportunity",
   "metadata": {},
   "outputs": [],
   "source": [
    "X = 2\n",
    "data = pd.read_excel(\"./data/nakladnaya.xls\", header=None, skiprows=X)"
   ]
  },
  {
   "cell_type": "markdown",
   "id": "therapeutic-european",
   "metadata": {},
   "source": [
    "Здесь вместо **X** нужно написать количество строк, которые мы хотим пропустить. Если мы хотим пропустить строки не в начале, а в конце, то нужно использовать параметр **skipfooter**, он работает точно так же."
   ]
  },
  {
   "cell_type": "code",
   "execution_count": 12,
   "id": "forbidden-sampling",
   "metadata": {},
   "outputs": [
    {
     "data": {
      "text/plain": [
       "15"
      ]
     },
     "execution_count": 12,
     "metadata": {},
     "output_type": "execute_result"
    }
   ],
   "source": [
    "# удалит только те строки или столбцы где все значения равны Nan\n",
    "data = data.dropna(how='all')\n",
    "len(data)"
   ]
  },
  {
   "cell_type": "markdown",
   "id": "thermal-ferry",
   "metadata": {},
   "source": [
    "## Ручная работа\n",
    "Теперь начинается ручная работа. Предобработка данных занимает до 80% работы, часто приходится пристально изучать данные и искать способы автоматизировать процесс в надежде, что формат данных внезапно не поменяется.\n",
    "\n",
    "С таблицами можно работать, как с текстовыми данными, и использовать алгоритмы машинного обучения, чтобы автоматически определять, как поменялся формат данных и автоматически перестраивать правила извлечения данных. Тем не менее, в этом модуле мы не используем машинное обучение, поэтому извлечём данные вручную."
   ]
  },
  {
   "cell_type": "markdown",
   "id": "included-truck",
   "metadata": {},
   "source": [
    "Выберите те варианты, которые позволят нам получить таблицу. Не забудьте избавиться от пропусков. Заголовок таблицы нам тоже не нужен."
   ]
  },
  {
   "cell_type": "code",
   "execution_count": 13,
   "id": "tested-championship",
   "metadata": {},
   "outputs": [
    {
     "data": {
      "text/html": [
       "<div>\n",
       "<style scoped>\n",
       "    .dataframe tbody tr th:only-of-type {\n",
       "        vertical-align: middle;\n",
       "    }\n",
       "\n",
       "    .dataframe tbody tr th {\n",
       "        vertical-align: top;\n",
       "    }\n",
       "\n",
       "    .dataframe thead th {\n",
       "        text-align: right;\n",
       "    }\n",
       "</style>\n",
       "<table border=\"1\" class=\"dataframe\">\n",
       "  <thead>\n",
       "    <tr style=\"text-align: right;\">\n",
       "      <th></th>\n",
       "      <th>1</th>\n",
       "      <th>2</th>\n",
       "      <th>6</th>\n",
       "      <th>9</th>\n",
       "      <th>11</th>\n",
       "      <th>12</th>\n",
       "    </tr>\n",
       "  </thead>\n",
       "  <tbody>\n",
       "    <tr>\n",
       "      <th>11</th>\n",
       "      <td>1</td>\n",
       "      <td>Велосипед \"Спринтер\"</td>\n",
       "      <td>шт</td>\n",
       "      <td>5</td>\n",
       "      <td>9000</td>\n",
       "      <td>45000</td>\n",
       "    </tr>\n",
       "    <tr>\n",
       "      <th>12</th>\n",
       "      <td>2</td>\n",
       "      <td>Велосипед \"Малютка\"</td>\n",
       "      <td>шт</td>\n",
       "      <td>10</td>\n",
       "      <td>3500</td>\n",
       "      <td>35000</td>\n",
       "    </tr>\n",
       "  </tbody>\n",
       "</table>\n",
       "</div>"
      ],
      "text/plain": [
       "   1                      2   6   9     11     12\n",
       "11  1  Велосипед \"Спринтер\"   шт   5  9000  45000\n",
       "12  2    Велосипед \"Малютка\"  шт  10  3500  35000"
      ]
     },
     "execution_count": 13,
     "metadata": {},
     "output_type": "execute_result"
    }
   ],
   "source": [
    "data.iloc[6:8, [1, 2, 6, 9, 11, 12]]"
   ]
  },
  {
   "cell_type": "code",
   "execution_count": 14,
   "id": "jewish-railway",
   "metadata": {},
   "outputs": [
    {
     "data": {
      "text/html": [
       "<div>\n",
       "<style scoped>\n",
       "    .dataframe tbody tr th:only-of-type {\n",
       "        vertical-align: middle;\n",
       "    }\n",
       "\n",
       "    .dataframe tbody tr th {\n",
       "        vertical-align: top;\n",
       "    }\n",
       "\n",
       "    .dataframe thead th {\n",
       "        text-align: right;\n",
       "    }\n",
       "</style>\n",
       "<table border=\"1\" class=\"dataframe\">\n",
       "  <thead>\n",
       "    <tr style=\"text-align: right;\">\n",
       "      <th></th>\n",
       "      <th>1</th>\n",
       "      <th>2</th>\n",
       "      <th>6</th>\n",
       "      <th>9</th>\n",
       "      <th>11</th>\n",
       "      <th>12</th>\n",
       "    </tr>\n",
       "  </thead>\n",
       "  <tbody>\n",
       "    <tr>\n",
       "      <th>11</th>\n",
       "      <td>1</td>\n",
       "      <td>Велосипед \"Спринтер\"</td>\n",
       "      <td>шт</td>\n",
       "      <td>5</td>\n",
       "      <td>9000</td>\n",
       "      <td>45000</td>\n",
       "    </tr>\n",
       "    <tr>\n",
       "      <th>12</th>\n",
       "      <td>2</td>\n",
       "      <td>Велосипед \"Малютка\"</td>\n",
       "      <td>шт</td>\n",
       "      <td>10</td>\n",
       "      <td>3500</td>\n",
       "      <td>35000</td>\n",
       "    </tr>\n",
       "  </tbody>\n",
       "</table>\n",
       "</div>"
      ],
      "text/plain": [
       "   1                      2   6   9     11     12\n",
       "11  1  Велосипед \"Спринтер\"   шт   5  9000  45000\n",
       "12  2    Велосипед \"Малютка\"  шт  10  3500  35000"
      ]
     },
     "execution_count": 14,
     "metadata": {},
     "output_type": "execute_result"
    }
   ],
   "source": [
    "data.iloc[6:8, :].dropna(axis=1, how='any')"
   ]
  },
  {
   "cell_type": "code",
   "execution_count": 15,
   "id": "rubber-promotion",
   "metadata": {},
   "outputs": [
    {
     "data": {
      "text/html": [
       "<div>\n",
       "<style scoped>\n",
       "    .dataframe tbody tr th:only-of-type {\n",
       "        vertical-align: middle;\n",
       "    }\n",
       "\n",
       "    .dataframe tbody tr th {\n",
       "        vertical-align: top;\n",
       "    }\n",
       "\n",
       "    .dataframe thead th {\n",
       "        text-align: right;\n",
       "    }\n",
       "</style>\n",
       "<table border=\"1\" class=\"dataframe\">\n",
       "  <thead>\n",
       "    <tr style=\"text-align: right;\">\n",
       "      <th></th>\n",
       "      <th>1</th>\n",
       "      <th>2</th>\n",
       "      <th>6</th>\n",
       "      <th>9</th>\n",
       "      <th>11</th>\n",
       "      <th>12</th>\n",
       "    </tr>\n",
       "  </thead>\n",
       "  <tbody>\n",
       "    <tr>\n",
       "      <th>11</th>\n",
       "      <td>1</td>\n",
       "      <td>Велосипед \"Спринтер\"</td>\n",
       "      <td>шт</td>\n",
       "      <td>5</td>\n",
       "      <td>9000</td>\n",
       "      <td>45000</td>\n",
       "    </tr>\n",
       "    <tr>\n",
       "      <th>12</th>\n",
       "      <td>2</td>\n",
       "      <td>Велосипед \"Малютка\"</td>\n",
       "      <td>шт</td>\n",
       "      <td>10</td>\n",
       "      <td>3500</td>\n",
       "      <td>35000</td>\n",
       "    </tr>\n",
       "  </tbody>\n",
       "</table>\n",
       "</div>"
      ],
      "text/plain": [
       "   1                      2   6   9     11     12\n",
       "11  1  Велосипед \"Спринтер\"   шт   5  9000  45000\n",
       "12  2    Велосипед \"Малютка\"  шт  10  3500  35000"
      ]
     },
     "execution_count": 15,
     "metadata": {},
     "output_type": "execute_result"
    }
   ],
   "source": [
    "data.iloc[6:8, :].dropna(axis=1, how='all')"
   ]
  },
  {
   "cell_type": "markdown",
   "id": "finnish-award",
   "metadata": {},
   "source": [
    "# Запись в Excel-файл\n",
    "\n",
    "Как записать файл\n",
    "В прошлом блоке вы смогли получить таблицу, содержащую данные о товарах (велосипедах). Запишите ее в объект table. Теперь посмотрим, как мы можем записать ее обратно в чистый Excel файл. \n",
    "\n",
    "Как сохранить эту таблицу в Excel файл:"
   ]
  },
  {
   "cell_type": "code",
   "execution_count": 16,
   "id": "auburn-satin",
   "metadata": {},
   "outputs": [],
   "source": [
    "# table.to_excel(\"table.xls\")"
   ]
  },
  {
   "cell_type": "markdown",
   "id": "hollow-income",
   "metadata": {},
   "source": [
    "Если мы сохраним таблицу именно так, мы сохраним ее индекс, и в данных будет находиться лишний столбец. Чтобы не сохранять индекс, можно в метод to_excel() передать параметр index=False.\n",
    "\n",
    "Ранее вы познакомились с еще одним способом прочитать Excel файл с помощью ExcelFile. Теперь вы увидите схожий инструмент для записи — ExcelWriter. Вот как записать данные в файл с его помощью:"
   ]
  },
  {
   "cell_type": "code",
   "execution_count": 17,
   "id": "cubic-relevance",
   "metadata": {},
   "outputs": [],
   "source": [
    "# writer = pd.ExcelWriter('test.xlsx')\n",
    "# table.to_excel(writer, index=False, sheet_name='Таблица')\n",
    "# writer.save()"
   ]
  },
  {
   "cell_type": "markdown",
   "id": "divided-remove",
   "metadata": {},
   "source": [
    "Что здесь произошло?\n",
    "\n",
    "Во-первых, мы все равно использовали метод to_excel(), но вместо пути к будущему файлу передали объект типа ExcelWriter, который создали на первой строке. Во-вторых, мы вызвали метод save() у объекта ExcelWriter. До этого момента сохранение не было завершено, и мы могли сделать еще некоторые действия. Какие? Давайте узнаем."
   ]
  },
  {
   "cell_type": "markdown",
   "id": "compatible-tampa",
   "metadata": {},
   "source": [
    "## Добавим форматирование\n",
    "\n",
    "Как мы узнали в самом начале, Excel-файлы поддерживают форматирование текста. С помощью pandas мы можем добавлять форматирование в Excel-файлы, используя ExcelWriter. Если мы хотим добавить форматирование, нужно выбрать объект workbook, с помощью которого мы будем добавлять, например, выделение текста жирным. Кроме этого, нужно выбрать нужную страницу:"
   ]
  },
  {
   "cell_type": "code",
   "execution_count": 18,
   "id": "favorite-listing",
   "metadata": {},
   "outputs": [],
   "source": [
    "# workbook = writer.book\n",
    "# worksheet = writer.sheets['Таблица']"
   ]
  },
  {
   "cell_type": "markdown",
   "id": "opening-crystal",
   "metadata": {},
   "source": [
    "Теперь давайте выделим цену и сумму жирным, а наименование — красным цветом:"
   ]
  },
  {
   "cell_type": "code",
   "execution_count": 19,
   "id": "reduced-explanation",
   "metadata": {},
   "outputs": [],
   "source": [
    "# money_fmt = workbook.add_format({'bold': True})\n",
    "# name_fmt = workbook.add_format({'color': 'red'})\n",
    "\n",
    "# worksheet.set_column('E:F', 20, money_fmt)\n",
    "# worksheet.set_column(1, 1, 20, name_fmt)"
   ]
  },
  {
   "cell_type": "markdown",
   "id": "overhead-recovery",
   "metadata": {},
   "source": [
    "Что здесь произошло?\n",
    "\n",
    "1. Мы создали два объекта с описанием двух типов форматирования:\n",
    "    - для оформления цены и стоимости — полужирное начертание;\n",
    "    - для оформления наименований товаров — красный цвет текста.\n",
    "\n",
    "2. Связали описанные типы форматирования с определёнными ячейками листа \"Таблица\": \n",
    "    - для столбцов E-F выбрали форматирование money_fmt (применяется для оформления цены и стоимости); \n",
    "    - для столбца 1, который отвечает за наименование, выбрали форматирование name_fmt.\n",
    "\n",
    "\n",
    "Для выбора нужных столбцов при задании параметров форматирования мы использовали два способа. Один из них — с помощью буквенных обозначений. Это стандартный способ обращаться к столбцам в Excel. Второй — с помощью номера столбца.\n",
    "\n",
    "Важно запомнить, что при работе с Excel при задании диапазона значений значения указываются включительно. Именно поэтому мы выбрали во втором случае применение форматирования от столбца 1 до столбца 1.\n",
    "\n",
    "Ещё одна вещь, на которую нужно обратить внимание: число 20 среди параметров метода set_column(). Этот параметр означает ширину столбца. Например, если мы передадим число 300, столбец получится очень широким, вы можете убедиться в этом сами.\n",
    "\n",
    "**Какие еще параметры можно попробовать:**\n",
    "- **border** отвечает за границы столбца и может быть равен True или False; \n",
    "- **align** отвечает за расположение данных внутри ячеек, например, center для настройки выравнивания по центру; \n",
    "- **fg_color** отвечает за цвет фона, например, 'green', хотя можно передать и шестнадцатеричное значение, например, '#D7E4BC'.\n",
    "\n",
    "\n",
    "Для того, чтобы исполнить код, нужно изменить engine для ExcelWriter:"
   ]
  },
  {
   "cell_type": "code",
   "execution_count": 20,
   "id": "special-union",
   "metadata": {},
   "outputs": [],
   "source": [
    "# writer = pd.ExcelWriter('test.xlsx', engine='xlsxwriter')"
   ]
  },
  {
   "cell_type": "markdown",
   "id": "immediate-perth",
   "metadata": {},
   "source": [
    "Предварительно установите Google Colab:"
   ]
  },
  {
   "cell_type": "code",
   "execution_count": 21,
   "id": "fatty-recall",
   "metadata": {},
   "outputs": [
    {
     "name": "stdout",
     "output_type": "stream",
     "text": [
      "Requirement already satisfied: xlsxwriter in /Users/eldarkalachev/anaconda/anaconda3/lib/python3.7/site-packages (1.3.7)\n",
      "Note: you may need to restart the kernel to use updated packages.\n"
     ]
    }
   ],
   "source": [
    "%pip install xlsxwriter"
   ]
  },
  {
   "cell_type": "code",
   "execution_count": null,
   "id": "pleased-female",
   "metadata": {},
   "outputs": [],
   "source": []
  }
 ],
 "metadata": {
  "kernelspec": {
   "display_name": "Python 3",
   "language": "python",
   "name": "python3"
  },
  "language_info": {
   "codemirror_mode": {
    "name": "ipython",
    "version": 3
   },
   "file_extension": ".py",
   "mimetype": "text/x-python",
   "name": "python",
   "nbconvert_exporter": "python",
   "pygments_lexer": "ipython3",
   "version": "3.7.7"
  }
 },
 "nbformat": 4,
 "nbformat_minor": 5
}
