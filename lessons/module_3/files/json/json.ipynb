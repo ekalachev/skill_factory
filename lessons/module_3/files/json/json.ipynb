{
 "cells": [
  {
   "cell_type": "code",
   "execution_count": 1,
   "id": "opened-animation",
   "metadata": {},
   "outputs": [],
   "source": [
    "import json  \n",
    "from pprint import pprint  "
   ]
  },
  {
   "cell_type": "code",
   "execution_count": 2,
   "id": "minute-shoot",
   "metadata": {},
   "outputs": [],
   "source": [
    "with open('./data/recipes.json') as f:\n",
    "   recipes = json.load(f)"
   ]
  },
  {
   "cell_type": "code",
   "execution_count": 3,
   "id": "sized-interest",
   "metadata": {},
   "outputs": [
    {
     "name": "stdout",
     "output_type": "stream",
     "text": [
      "{'cuisine': 'greek',\n",
      " 'id': 10259,\n",
      " 'ingredients': ['romaine lettuce',\n",
      "                 'black olives',\n",
      "                 'grape tomatoes',\n",
      "                 'garlic',\n",
      "                 'pepper',\n",
      "                 'purple onion',\n",
      "                 'seasoning',\n",
      "                 'garbanzo beans',\n",
      "                 'feta cheese crumbles']}\n"
     ]
    }
   ],
   "source": [
    "pprint(recipes[0])"
   ]
  },
  {
   "cell_type": "markdown",
   "id": "experienced-willow",
   "metadata": {},
   "source": [
    "Рецепты скольких блюд содержатся в recipes?"
   ]
  },
  {
   "cell_type": "code",
   "execution_count": 4,
   "id": "paperback-airfare",
   "metadata": {},
   "outputs": [
    {
     "data": {
      "text/plain": [
       "500"
      ]
     },
     "execution_count": 4,
     "metadata": {},
     "output_type": "execute_result"
    }
   ],
   "source": [
    "len(recipes)"
   ]
  },
  {
   "cell_type": "markdown",
   "id": "addressed-munich",
   "metadata": {},
   "source": [
    "Какую кухню (ключ 'cuisine') представляет последнее блюдо в списке recipes?"
   ]
  },
  {
   "cell_type": "code",
   "execution_count": 5,
   "id": "tutorial-homework",
   "metadata": {},
   "outputs": [
    {
     "data": {
      "text/plain": [
       "'british'"
      ]
     },
     "execution_count": 5,
     "metadata": {},
     "output_type": "execute_result"
    }
   ],
   "source": [
    "recipes[len(recipes) - 1]['cuisine']"
   ]
  },
  {
   "cell_type": "markdown",
   "id": "tribal-advance",
   "metadata": {},
   "source": [
    "Сколько ингредиентов входит в состав этого блюда?"
   ]
  },
  {
   "cell_type": "code",
   "execution_count": 6,
   "id": "apart-rouge",
   "metadata": {},
   "outputs": [
    {
     "data": {
      "text/plain": [
       "17"
      ]
     },
     "execution_count": 6,
     "metadata": {},
     "output_type": "execute_result"
    }
   ],
   "source": [
    "len(recipes[len(recipes) - 1]['ingredients'])"
   ]
  },
  {
   "cell_type": "markdown",
   "id": "looking-hunger",
   "metadata": {},
   "source": [
    "Какие из перечисленных ингредиентов присутствуют в блюде с id = 17636?"
   ]
  },
  {
   "cell_type": "code",
   "execution_count": 7,
   "id": "prescribed-feature",
   "metadata": {},
   "outputs": [],
   "source": [
    "def find_recipe_by_id(id):\n",
    "    for recipe in recipes:  # начинаем перебор всех рецептов\n",
    "        if recipe['id'] == id:  # если id текущего рецепта равен искомому\n",
    "            return recipe\n",
    "    return None"
   ]
  },
  {
   "cell_type": "code",
   "execution_count": 8,
   "id": "composed-louis",
   "metadata": {},
   "outputs": [
    {
     "name": "stdout",
     "output_type": "stream",
     "text": [
      "['tomato sauce', 'shredded carrots', 'spinach', 'part-skim mozzarella cheese', 'italian seasoning', 'english muffins, split and toasted', 'chopped onion', 'vegetable oil cooking spray', 'chopped green bell pepper']\n"
     ]
    }
   ],
   "source": [
    "recipe = find_recipe_by_id(17636)\n",
    "if recipe is not None:\n",
    "    print(recipe['ingredients'])"
   ]
  },
  {
   "cell_type": "markdown",
   "id": "lyric-reporter",
   "metadata": {},
   "source": [
    "Сколько ингредиентов входит в состав рецепта для приготовления блюда с id = 42013?"
   ]
  },
  {
   "cell_type": "code",
   "execution_count": 9,
   "id": "forced-adaptation",
   "metadata": {},
   "outputs": [
    {
     "name": "stdout",
     "output_type": "stream",
     "text": [
      "14\n"
     ]
    }
   ],
   "source": [
    "recipe = find_recipe_by_id(42013)\n",
    "if recipe is not None:\n",
    "    print(len(recipe['ingredients']))"
   ]
  },
  {
   "cell_type": "markdown",
   "id": "affiliated-canberra",
   "metadata": {},
   "source": [
    "Какие ингредиенты отсутствуют в блюде с id = 23629?"
   ]
  },
  {
   "cell_type": "code",
   "execution_count": 10,
   "id": "horizontal-variation",
   "metadata": {},
   "outputs": [
    {
     "name": "stdout",
     "output_type": "stream",
     "text": [
      "['eggs', 'russet potatoes', 'mexican chorizo', 'black beans', 'salsa', 'canola oil', 'colby cheese', 'black olives', 'sour cream', 'avocado', 'half & half', 'goat cheese']\n"
     ]
    }
   ],
   "source": [
    "recipe = find_recipe_by_id(23629)\n",
    "if recipe is not None:\n",
    "    print(recipe['ingredients'])"
   ]
  },
  {
   "cell_type": "markdown",
   "id": "recognized-picture",
   "metadata": {},
   "source": [
    "Сколько ингредиентов включено в состав всех блюд, описанных в наборе данных?"
   ]
  },
  {
   "cell_type": "code",
   "execution_count": 11,
   "id": "southeast-effects",
   "metadata": {},
   "outputs": [
    {
     "data": {
      "text/plain": [
       "1318"
      ]
     },
     "execution_count": 11,
     "metadata": {},
     "output_type": "execute_result"
    }
   ],
   "source": [
    "ingredients = set()\n",
    "\n",
    "for recipe in recipes:\n",
    "    for ingredient in recipe['ingredients']:\n",
    "        ingredients.add(ingredient)\n",
    "\n",
    "len(ingredients)"
   ]
  },
  {
   "cell_type": "markdown",
   "id": "cardiovascular-looking",
   "metadata": {},
   "source": [
    "Сколько ингредиентов встречается в рецептах блюд итальянской кухни ('cuisine' = italian)?"
   ]
  },
  {
   "cell_type": "code",
   "execution_count": 12,
   "id": "automatic-testing",
   "metadata": {},
   "outputs": [
    {
     "data": {
      "text/plain": [
       "406"
      ]
     },
     "execution_count": 12,
     "metadata": {},
     "output_type": "execute_result"
    }
   ],
   "source": [
    "ingredients = set()\n",
    "\n",
    "for recipe in recipes:\n",
    "    if recipe['cuisine'] == 'italian':\n",
    "        for ingredient in recipe['ingredients']:\n",
    "            ingredients.add(ingredient)\n",
    "\n",
    "len(ingredients)"
   ]
  },
  {
   "cell_type": "markdown",
   "id": "metric-board",
   "metadata": {},
   "source": [
    "Какие ингредиенты не встречаются в рецептах блюд русской кухни ('cuisine' = 'russian')?"
   ]
  },
  {
   "cell_type": "code",
   "execution_count": 13,
   "id": "guilty-celtic",
   "metadata": {},
   "outputs": [
    {
     "data": {
      "text/plain": [
       "{'boiled eggs',\n",
       " 'buttermilk',\n",
       " 'cucumber',\n",
       " 'dill',\n",
       " 'grits',\n",
       " 'mozzarella cheese',\n",
       " 'onions',\n",
       " 'red beets',\n",
       " 'salt',\n",
       " 'sugar',\n",
       " 'water'}"
      ]
     },
     "execution_count": 13,
     "metadata": {},
     "output_type": "execute_result"
    }
   ],
   "source": [
    "ingredients = set()\n",
    "\n",
    "for recipe in recipes:\n",
    "    if recipe['cuisine'] == 'russian':\n",
    "        for ingredient in recipe['ingredients']:\n",
    "            ingredients.add(ingredient)\n",
    "\n",
    "ingredients"
   ]
  },
  {
   "cell_type": "markdown",
   "id": "auburn-program",
   "metadata": {},
   "source": [
    "Давайте представим, что мы хотим заняться торговлей продуктами для ресторанов национальной кухни. Нам необходимо оценить, какие продукты используются в приготовлении блюд чаще, а какие — реже. Давайте попробуем решить эту задачу с использованием имеющегося у нас набора данных."
   ]
  },
  {
   "cell_type": "code",
   "execution_count": 14,
   "id": "automotive-feelings",
   "metadata": {},
   "outputs": [
    {
     "name": "stdout",
     "output_type": "stream",
     "text": [
      "{'romaine lettuce': 5, 'black olives': 4, 'grape tomatoes': 4, 'garlic': 107, 'pepper': 53, 'purple onion': 22, 'seasoning': 6, 'garbanzo beans': 7, 'feta cheese crumbles': 4, 'plain flour': 6, 'ground pepper': 9, 'salt': 217, 'tomatoes': 33, 'ground black pepper': 58, 'thyme': 4, 'eggs': 43, 'green tomatoes': 2, 'yellow corn meal': 8, 'milk': 24, 'vegetable oil': 55, 'mayonaise': 11, 'cooking oil': 6, 'green chilies': 10, 'grilled chicken breasts': 1, 'garlic powder': 12, 'yellow onion': 14, 'soy sauce': 48, 'butter': 51, 'chicken livers': 3, 'water': 97, 'wheat': 1, 'black pepper': 42, 'shallots': 16, 'cornflour': 3, 'cayenne pepper': 19, 'onions': 97, 'garlic paste': 6, 'lemon juice': 18, 'chili powder': 25, 'passata': 2, 'oil': 25, 'ground cumin': 33, 'boneless chicken skinless thigh': 5, 'garam masala': 11, 'double cream': 1, 'natural yogurt': 1, 'bay leaf': 9, 'sugar': 81, 'fresh ginger root': 8, 'ground cinnamon': 24, 'vanilla extract': 11, 'ground ginger': 5, 'powdered sugar': 5, 'baking powder': 27, 'olive oil': 97, 'medium shrimp': 7, 'chopped cilantro': 14, 'jalapeno chilies': 29, 'flat leaf parsley': 17, 'skirt steak': 1, 'white vinegar': 13, 'sea salt': 17, 'chorizo sausage': 3, 'pistachio nuts': 2, 'white almond bark': 1, 'flour': 19, 'almond extract': 2, 'dried cranberries': 1, 'fresh pineapple': 1, 'pork': 5, 'poblano peppers': 1, 'corn tortillas': 10, 'cheddar cheese': 7, 'iceberg lettuce': 2, 'lime': 22, 'chopped cilantro fresh': 23, 'chopped tomatoes': 3, 'fresh basil': 11, 'extra-virgin olive oil': 28, 'kosher salt': 35, 'pimentos': 1, 'sweet pepper': 3, 'dried oregano': 19, 'sharp cheddar cheese': 2, 'swiss cheese': 1, 'provolone cheese': 2, 'canola oil': 24, 'mushrooms': 8, 'sausages': 4, 'low sodium soy sauce': 7, 'fresh ginger': 20, 'dry mustard': 2, 'green beans': 5, 'white pepper': 3, 'sesame oil': 33, 'scallions': 22, 'Shaoxing wine': 3, 'ground turkey': 1, 'crushed red pepper flakes': 9, 'corn starch': 29, 'Italian parsley leaves': 2, 'walnuts': 1, 'hot red pepper flakes': 5, 'fresh lemon juice': 19, 'trout fillet': 1, 'garlic cloves': 62, 'chipotle chile': 4, 'fine sea salt': 6, 'fresh cilantro': 15, 'ground coriander': 11, 'plum tomatoes': 9, 'avocado': 22, 'lime juice': 14, 'flank steak': 3, 'fresh parmesan cheese': 4, 'all-purpose flour': 46, 'fat free less sodium chicken broth': 4, 'chopped fresh chives': 2, 'gruyere cheese': 1, 'bacon slices': 4, 'gnocchi': 1, 'fat free milk': 1, 'cooking spray': 13, 'tumeric': 11, 'vegetable stock': 5, 'naan': 2, 'red lentils': 3, 'red chili peppers': 9, 'spinach': 5, 'sweet potatoes': 4, 'greek yogurt': 3, 'lemon curd': 1, 'confectioners sugar': 5, 'raspberries': 1, 'italian seasoning': 5, 'broiler-fryer chicken': 1, 'zesty italian dressing': 1, 'hot chili': 1, 'asian fish sauce': 1, 'red bell pepper': 33, 'chicken broth': 28, 'yellow squash': 1, 'garlic chili sauce': 2, 'sliced green onions': 8, 'broccolini': 1, 'fresh lime juice': 16, 'cooked rice': 2, 'chicken breasts': 9, 'pork loin': 1, 'roasted peanuts': 3, 'hoisin sauce': 9, 'creamy peanut butter': 4, 'chopped fresh mint': 4, 'thai basil': 2, 'rice': 6, 'rice noodles': 1, 'beansprouts': 8, 'roma tomatoes': 3, 'low-fat mayonnaise': 1, 'baking potatoes': 4, 'spicy brown mustard': 1, 'sesame seeds': 10, 'red pepper': 3, 'yellow peppers': 1, 'extra firm tofu': 3, 'broccoli': 3, 'orange bell pepper': 2, 'arrowroot powder': 1, 'red curry paste': 2, 'marinara sauce': 4, 'linguine': 6, 'capers': 13, 'olives': 3, 'lemon zest': 2, 'lo mein noodles': 2, 'light soy sauce': 4, 'dried black mushrooms': 1, 'chives': 3, 'oyster sauce': 8, 'dark soy sauce': 3, 'peanuts': 5, 'cabbage': 4, 'herbs': 3, 'fresh tomatoes': 3, 'paprika': 19, 'mango': 1, 'stock': 3, 'chile pepper': 2, 'sliced mushrooms': 5, 'sherry': 1, 'grated parmesan cheese': 24, 'heavy cream': 9, 'spaghetti': 2, 'cooked chicken': 8, 'green bell pepper': 15, 'egg roll wrappers': 3, 'sweet and sour sauce': 1, 'molasses': 3, 'shredded cabbage': 2, 'ground pork': 8, 'carrots': 32, 'flour tortillas': 10, 'cheese': 3, 'breakfast sausages': 2, 'large eggs': 32, 'boiling water': 6, 'hot sauce': 7, 'potatoes': 13, 'bacon': 5, 'fresh parsley': 24, 'andouille sausage': 5, 'cajun seasoning': 6, 'peanut oil': 9, 'celery': 11, 'ground red pepper': 5, 'shrimp': 14, 'onion powder': 8, 'firm tofu': 3, 'turnips': 3, 'palm sugar': 2, 'sliced chicken': 1, 'fish sauce': 18, 'lime wedges': 8, 'green papaya': 1, 'chile powder': 2, 'tamarind paste': 1, 'chinese chives': 1, 'crushed garlic': 4, 'green onions': 46, 'white sugar': 11, 'dried basil': 7, 'diced tomatoes': 21, 'Johnsonville Andouille Dinner Sausage': 1, 'parsley': 6, 'jambalaya rice mix': 1, 'worcestershire sauce': 11, 'hot pepper sauce': 4, 'creole seasoning': 6, 'bread slices': 1, 'great northern beans': 3, 'sage leaves': 1, 'chinese five-spice powder': 5, 'chicken thighs': 5, 'star anise': 4, 'cream cheese': 7, 'shredded cheddar cheese': 6, 'black-eyed peas': 2, 'tortilla chips': 4, 'collard greens': 2, 'ham hock': 1, 'chicken stock': 15, 'apple cider': 1, 'freshly ground pepper': 13, 'bay leaves': 10, 'rib': 1, 'light brown sugar': 2, 'large garlic cloves': 13, 'Oscar Mayer Deli Fresh Smoked Ham': 1, 'hoagie rolls': 1, 'salami': 2, 'giardiniera': 1, 'mozzarella cheese': 5, 'pepperoni': 1, 'ice cubes': 2, 'club soda': 2, 'white rum': 1, 'turbinado': 2, 'enchilada sauce': 4, 'picante sauce': 2, 'green pepper': 3, 'canned black beans': 2, 'shredded lettuce': 3, 'sour cream': 18, 'salmon fillets': 2, 'cumin seed': 8, 'curry powder': 8, 'serrano chile': 2, 'sauce': 6, 'chicken breast halves': 1, 'lettuce leaves': 3, 'chopped onion': 14, 'mandarin oranges': 1, 'orange liqueur': 3, 'yellow cake mix': 1, 'frosting': 1, 'fennel bulb': 3, 'lemon olive oil': 1, 'grapefruit juice': 1, 'white cornmeal': 1, 'bacon drippings': 1, 'buttermilk': 20, 'crab boil': 1, 'old bay seasoning': 4, 'crawfish': 1, 'sirloin': 1, 'mirin': 10, 'corn oil': 3, 'glass noodles': 2, 'sake': 7, 'shiitake': 8, 'napa cabbage': 4, 'whipping cream': 4, 'extra sharp cheddar cheese': 2, 'quickcooking grits': 2, 'monterey jack': 3, 'crushed red pepper': 10, 'mussels': 1, 'basil': 4, 'dry white wine': 17, 'finely chopped onion': 5, 'baking soda': 10, 'honey': 18, 'unsalted butter': 30, 'lemon': 15, 'pesto': 2, 'white wine': 4, 'bread crumbs': 2, 'curry': 1, 'low sodium beef broth': 1, 'pickapeppa sauce': 1, 'cold water': 7, 'allspice': 1, 'fresh thyme': 4, 'ground beef': 7, 'melted butter': 4, 'matcha green tea powder': 1, 'chopped walnuts': 1, 'coarse salt': 9, 'fenugreek': 2, 'urad dal': 2, 'white rice': 4, 'pizza crust': 2, 'part-skim mozzarella cheese': 4, 'yukon gold potatoes': 2, 'low-fat sour cream': 2, 'leeks': 3, '1% low-fat milk': 1, 'lemongrass': 6, 'unsweetened coconut milk': 1, 'peanut sauce': 1, 'spareribs': 1, 'tamari soy sauce': 1, 'golden brown sugar': 5, 'dry sherry': 4, 'chicken legs': 2, 'ghee': 6, 'tomato paste': 11, 'ground turmeric': 6, 'cracked black pepper': 5, 'minced beef': 1, 'dried thyme': 8, 'ginger': 19, 'chillies': 4, 'crushed tomatoes': 1, 'fresh rosemary': 8, 'boneless pork loin': 2, 'pappardelle': 1, 'coconut milk': 8, 'eggplant': 8, 'jasmine rice': 2, 'Gochujang base': 3, 'top round steak': 2, 'rice vinegar': 17, 'Taiwanese bok choy': 1, 'vanilla': 4, 'large egg yolks': 3, 'orange juice concentrate': 1, 'pumpkin purГ©e': 1, 'marshmallow creme': 1, 'toasted pecans': 1, 'maple syrup': 3, 'gingersnap': 1, 'ground nutmeg': 8, 'brown sugar': 12, 'serrano ham': 1, 'manchego cheese': 1, 'dijon mustard': 4, 'sourdough': 1, 'membrillo': 1, 'burger buns': 1, 'panko breadcrumbs': 3, 'chickpea flour': 2, 'Sriracha': 8, 'chickpeas': 4, 'ground flaxseed': 1, 'greens': 2, 'tahini': 2, 'ground cloves': 6, 'whole nutmegs': 1, 'ground cardamom': 4, 'Italian bread': 2, 'balsamic vinegar': 11, 'sausage casings': 2, 'shredded mozzarella cheese': 5, 'roasted red peppers': 3, 'penne pasta': 4, 'saffron': 4, 'warm water': 8, 'preserved lemon': 1, 'harissa': 2, 'couscous': 4, 'cayenne': 5, 'fat skimmed chicken broth': 4, 'pitted kalamata olives': 2, 'fat': 3, 'sweetened condensed milk': 3, 'ice': 1, 'espresso': 1, 'fresh asparagus': 1, 'pecans': 1, 'crumbled blue cheese': 2, 'chuck': 1, 'hamburger buns': 2, 'okra pods': 2, 'watercress': 4, 'self rising flour': 3, 'softened butter': 1, 'food colouring': 1, 'Madeira': 1, 'foie gras': 1, 'demi-glace': 1, 'sherry vinegar': 2, 'white bread': 1, 'Fuyu persimmons': 1, 'egg bread': 1, 'fenugreek leaves': 1, 'black mustard seeds': 1, 'amchur': 2, 'coriander': 7, 'fingerling potatoes': 1, 'ramps': 1, 'black peppercorns': 5, 'cinnamon sticks': 10, 'cardamom pods': 2, 'coriander seeds': 4, 'asiago': 1, 'whole wheat pasta': 1, 'sweet onion': 5, 'chestnuts': 1, 'granulated sugar': 10, 'whole milk ricotta cheese': 2, 'coffee ice cream': 1, 'mascarpone': 3, 'rum': 1, 'semisweet chocolate': 2, 'chestnut flour': 1, 'baby spinach leaves': 3, 'chopped garlic': 3, 'large shrimp': 7, 'barley': 1, 'cooked ham': 1, 'starchy potatoes': 1, 'grated nutmeg': 2, 'sirloin tip roast': 1, 'steak': 4, 'vegetable shortening': 3, 'finely chopped fresh parsley': 2, 'vinegar': 5, 'caul fat': 1, 'whole milk': 10, 'heavy whipping cream': 3, 'kahlГєa': 3, 'instant espresso powder': 1, 'epazote': 1, 'radishes': 5, 'oregano': 3, 'white onion': 8, 'hominy': 2, 'tomatillos': 3, 'pepitas': 2, 'catfish fillets': 3, 'basmati rice': 3, 'cauliflower': 7, 'cumin': 8, 'blood orange': 1, 'low salt chicken broth': 4, 'white wine vinegar': 5, 'tomato sauce': 6, 'shredded carrots': 1, 'english muffins, split and toasted': 1, 'vegetable oil cooking spray': 5, 'chopped green bell pepper': 3, 'prawns': 2, 'rice flour': 3, 'seasoning salt': 3, 'lasagna noodles': 1, 'ranch dressing': 1, 'evaporated milk': 2, 'minced garlic': 16, 'red wine vinegar': 9, 'boneless chop pork': 3, 'chile paste': 2, 'lower sodium soy sauce': 1, 'dark sesame oil': 5, 'raisins': 6, 'pearl barley': 2, 'slivered almonds': 2, 'chocolate bars': 1, 'marshmallows': 1, 'cinnamon graham crackers': 1, 'chopped celery': 5, 'mustard powder': 2, 'cod': 1, 'minced onion': 2, 'dry bread crumbs': 6, 'golden raisins': 4, 'margarine': 7, 'mace': 2, 'brewed tea': 1, 'candied orange peel': 1, 'grated lemon zest': 2, 'dried currants': 4, 'rum extract': 1, 'dark brown sugar': 1, 'noodles': 4, 'baby bok choy': 2, 'black bean sauce': 2, 'red potato': 4, 'chinese rice wine': 4, 'black beans': 12, 'quinoa': 5, 'frozen corn': 1, 'vegetable broth': 6, 'yellow bell pepper': 5, 'orange': 3, 'duck': 2, 'dried mint flakes': 2, 'penne rigate': 1, 'feta cheese': 3, 'ras el hanout': 1, 'ground lamb': 5, 'large egg whites': 8, '2% reduced-fat milk': 2, 'napa cabbage leaves': 1, 'chicken leg quarters': 1, 'cucumber': 9, 'long-grain rice': 4, 'crusty bread': 2, 'baby potatoes': 1, 'smoked streaky bacon': 1, 'piloncillo': 1, 'ground allspice': 5, 'hibiscus': 1, 'fresh oregano': 4, 'chocolate morsels': 2, 'cream sweeten whip': 1, 'instant espresso granules': 1, 'chocolate covered coffee beans': 1, 'unflavored gelatin': 2, 'pound cake': 1, 'pinenuts': 6, 'zucchini': 8, 'baby carrots': 3, 'fresh basil leaves': 10, 'asparagus spears': 1, 'frozen peas': 6, 'arborio rice': 4, 'yellow crookneck squash': 1, 'chipotles in adobo': 3, 'instant white rice': 1, 'cilantro leaves': 14, 'red beans': 1, 'skinless chicken thighs': 1, 'lime zest': 3, 'condensed cream of mushroom soup': 2, 'condensed cream of chicken soup': 2, 'lean ground beef': 1, 'Mexican cheese blend': 3, 'chunky salsa': 1, 'taco seasoning mix': 4, 'chorizo spanish': 1, 'pineapple juice': 2, 'dark rum': 2, 'daikon': 5, 'pork ribs': 3, 'goji berries': 1, 'oysters': 1, 'salsa': 11, 'demerara sugar': 1, 'egg whites': 5, 'fruit': 1, 'frozen pastry puff sheets': 2, 'mixed spice': 1, 'parsnips': 1, 'chili oil': 2, 'brown mustard seeds': 1, 'unsalted cashews': 1, 'thai green curry paste': 2, 'kecap manis': 1, 'frozen broad beans': 1, 'basil leaves': 1, 'chili flakes': 2, 'chicken tenderloin': 1, 'creole style seasoning': 1, 'condensed cheddar cheese soup': 1, 'refried beans': 3, 'grated jack cheese': 2, 'egg yolks': 2, 'asparagus': 3, 'fresh leav spinach': 1, 'cheese tortellini': 1, 'cherry tomatoes': 7, 'navy beans': 2, 'nonfat milk': 1, 'granny smith apples': 2, 'lard': 1, 'pecorino romano cheese': 2, 'fresh fava bean': 1, 'italian sausage': 1, 'pasta sheets': 1, 'spinach leaves': 2, 'low-fat natural yogurt': 1, 'Flora Cuisine': 1, 'curry paste': 2, 'bone-in chicken breasts': 1, 'white hominy': 2, 'dried chile peppers': 1, 'frozen whipped topping': 1, 'chocolate instant pudding': 1, 'instant butterscotch pudding mix': 1, 'graham cracker crumbs': 2, 'fennel seeds': 5, 'kalamata': 3, 'kielbasa': 1, 'celery ribs': 3, 'ham': 1, 'moong dal': 1, 'capsicum': 2, 'green mango': 1, 'toasted sesame oil': 10, 'tofu': 2, 'short-grain rice': 2, 'dried shiitake mushrooms': 1, 'gari': 2, 'Turkish bay leaves': 2, 'dried chickpeas': 1, 'semolina': 1, 'vine ripened tomatoes': 1, 'bittersweet chocolate': 1, 'fat free yogurt': 1, 'skim milk': 4, 'angel food cake': 1, 'unsweetened cocoa powder': 2, 'instant espresso': 1, 'organic chicken': 1, 'anise': 1, 'zinfandel': 1, 'orange blossom honey': 1, 'calimyrna figs': 1, 'clove': 5, 'plain whole-milk yogurt': 1, 'reduced sodium soy sauce': 4, 'beef stock': 2, 'chuck roast': 1, 'Corn Flakes Cereal': 1, 'coleslaw': 1, 'garlic salt': 2, 'chili paste': 6, 'red pepper flakes': 7, 'kiwi': 1, 'asian pear': 2, 'chees fresco queso': 1, 'swiss chard': 3, 'veal cutlets': 1, 'pasta': 4, 'wakame': 1, 'extra-lean ground beef': 1, 'scallion greens': 1, 'wonton wrappers': 5, 'peeled fresh ginger': 4, 'nonstick spray': 1, 'chopped fresh thyme': 4, 'chicken bones': 1, 'green bell pepper, slice': 2, 'anchovy fillets': 3, 'crusty rolls': 1, 'coconut oil': 4, 'almond flour': 1, 'coconut aminos': 2, 'green peas': 1, 'clams': 1, 'boneless skinless chicken breast halves': 8, 'seasoned rice wine vinegar': 3, 'snow peas': 2, 'hard-boiled egg': 1, 'artichoke hearts': 1, 'stuffing': 1, 'coriander powder': 2, 'maida flour': 2, 'pita bread rounds': 2, 'grated GruyГЁre cheese': 1, 'udon': 1, 'red miso': 1, 'silken tofu': 1, 'button mushrooms': 2, 'whole peeled tomatoes': 2, 'shredded Monterey Jack cheese': 4, 'pickled jalapenos': 1, 'broccoli rabe': 2, 'parmigiano reggiano cheese': 4, 'fontina': 1, 'thai chile': 2, 'peppercorns': 2, 'refrigerated piecrusts': 2, 'cream of chicken soup': 2, 'frozen peas and carrots': 1, 'low sodium chicken broth': 3, 'pasta sauce': 1, 'olive oil flavored cooking spray': 2, 'frozen chopped spinach': 2, 'part-skim ricotta cheese': 1, 'manicotti shells': 2, 'fettucine': 2, 'parmesan cheese': 4, 'chicken bouillon': 2, 'chili paste with garlic': 1, 'fresh veget': 1, 'taco sauce': 1, 'guacamole': 2, 'salsa verde': 2, 'condiments': 1, 'pork shoulder roast': 1, 'tortillas': 3, 'rose petals': 1, 'almonds': 1, 'pistachios': 2, 'chicken wings': 2, 'drumstick': 1, 'green chile': 2, 'peeled tomatoes': 1, 'chicken': 6, 'chiles': 2, 'adobo sauce': 2, 'ancho powder': 1, 'chipotle chile powder': 1, 'Old El Paso Flour Tortillas': 1, 'cranberry sauce': 1, 'beer': 2, 'chili sauce': 2, 'beef rib short': 2, 'miso paste': 1, 'seaweed': 2, 'dashi': 4, 'fresh dill': 2, 'yoghurt': 4, 'myzithra': 1, 'phyllo': 1, 'kefalotyri': 1, 'okra': 2, 'cracker crumbs': 1, 'Philadelphia Cream Cheese': 1, 'crab meat': 1, 'savoy cabbage': 3, 'boneless chicken thighs': 1, 'potato starch': 1, 'cream of tartar': 2, 'semi-sweet chocolate morsels': 1, 'cake flour': 5, 'ricotta cheese': 3, 'serrano': 1, 'steel-cut oats': 1, 'hazelnuts': 2, 'hazelnut oil': 1, 'sweet cherries': 1, 'fire roasted diced tomatoes': 1, 'red kidnei beans, rins and drain': 1, 'wasabi paste': 1, 'black sesame seeds': 1, 'Japanese soy sauce': 1, 'fresh salmon': 1, 'dried porcini mushrooms': 2, 'dry red wine': 4, 'hot water': 2, 'fat free less sodium beef broth': 1, 'cremini mushrooms': 1, 'creole mustard': 2, 'prepared horseradish': 1, 'celery salt': 1, 'shrimp and crab boil seasoning': 1, 'turnip greens': 1, 'butternut squash': 2, 'apples': 1, 'country ham': 1, 'frozen edamame beans': 1, 'whole kernel corn, drain': 2, 'strong white bread flour': 1, 'salted butter': 2, 'sunflower oil': 2, 'kalonji': 1, 'instant yeast': 1, 'fresh coriander': 3, 'cooked white rice': 5, 'mixed mushrooms': 1, 'wood ear mushrooms': 1, 'vegetables': 4, 'taco seasoning': 2, 'bell pepper': 5, 'boneless skinless chicken breasts': 11, 'shredded cheese': 3, 'eau de vie': 1, 'leaves': 2, 'cane sugar': 1, 'baking apples': 1, 'salt and ground black pepper': 2, 'sliced black olives': 1, 'chopped green chilies': 1, 'rosemary leaves': 2, 'lean steak': 1, 'Guinness Lager': 1, 'dried rosemary': 2, 'water chestnuts, drained and chopped': 1, 'chinese cabbage': 2, 'dipping sauces': 2, 'lean ground pork': 2, 'pico de gallo': 1, 'cheese slices': 1, 'chorizo': 1, 'french bread': 2, 'dried dillweed': 1, 'red wine': 1, 'lamb': 1, 'plain yogurt': 2, 'kale': 3, 'Mexican beer': 1, 'boneless beef short ribs': 1, 'guajillo': 1, 'saffron threads': 5, 'fresh spinach': 4, 'banana squash': 1, 'cannellini beans': 3, 'shortening': 2, 'Franks Hot Sauce': 1, 'pears': 2, 'light pancake syrup': 1, 'puff pastry': 1, 'apple cider vinegar': 2, 'mushroom powder': 1, 'bone in chicken thighs': 1, 'fresh bay leaves': 1, 'cilantro': 6, 'skinless chicken breasts': 3, 'light sour cream': 1, 'fava beans': 1, 'fresh tarragon': 1, 'kidney beans': 3, 'orzo pasta': 2, 'dri leav thyme': 1, 'wasabi': 1, 'jumbo shrimp': 3, 'sticky rice': 1, 'white sesame seeds': 1, 'chopped almonds': 1, 'baby arugula': 1, 'tequila': 2, 'margarita mix': 1, 'crust': 2, 'grits': 6, 'pecan halves': 1, 'corn syrup': 2, 'superfine sugar': 1, 'blackberries': 1, 'whiskey': 2, 'luke warm water': 1, 'active dry yeast': 2, 'fresh mint': 2, 'jamaican jerk season': 1, 'pineapple preserves': 1, 'chicken drumsticks': 1, 'pitas': 1, 'goat cheese': 5, 'gingerroot': 1, 'rib eye steaks': 2, 'hot bean paste': 1, 'medjool date': 1, 'diced bell pepper': 1, 'cream': 4, 'smoked paprika': 3, 'reduced fat milk': 2, 'smoked trout': 1, 'garlic puree': 1, 'green cardamom pods': 1, 'tomato purГ©e': 1, 'pickled jalapeno peppers': 1, 'romaine lettuce leaves': 1, 'crema mexicana': 1, 'chile sauce': 1, 'queso fresco': 1, 'Boston lettuce': 1, 'persian cucumber': 1, 'peanut butter': 1, 'rice paper': 2, 'Korean chile flakes': 1, 'red chile powder': 1, 'boneless chicken breast': 2, 'cashew nuts': 2, 'kashmiri chile': 1, 'kasuri methi': 2, 'mustard oil': 1, 'ginger paste': 1, 'cinnamon': 4, 'tomato ketchup': 3, 'pecan pie': 1, 'tostada shells': 2, 'grouper': 1, 'corn kernels': 3, 'ricotta salata': 1, 'pecorino cheese': 1, 'grana padano': 1, 'kaffir lime leaves': 3, 'corn': 2, 'soba noodles': 1, 'galangal': 3, 'green curry paste': 1, 'bamboo shoots': 4, 'chopped nuts': 1, 'bourbon whiskey': 2, 'ketchup': 6, 'rhubarb': 2, 'liquid': 1, 'store bought low sodium chicken stock': 2, 'safflower oil': 4, 'jeera': 1, 'cardamom': 1, 'crema': 1, 'salmon steaks': 1, 'jam': 1, 'karashi': 1, 'spring onions': 5, 'free range egg': 1, 'jicama': 2, 'water chestnuts': 1, 'diced celery': 3, 'shredded sharp cheddar cheese': 3, 'dinner rolls': 1, 'cactus pad': 1, 'fenugreek seeds': 1, 'cauliflower flowerets': 1, 'boiling potatoes': 1, 'baby spinach': 3, 'tuna steaks': 1, 'spices': 3, 'octopuses': 1, 'vidalia onion': 1, 'smoked gouda': 2, 'small red potato': 2, 'tuna': 2, 'fat-free refried beans': 1, 'low-fat milk': 1, 'fresh lime': 1, 'ground white pepper': 4, 'BertolliВ® Classico Olive Oil': 1, 'bacon, crisp-cooked and crumbled': 1, 'bertolli vineyard premium collect marinara with burgundi wine sauc': 1, 'bread crumb fresh': 1, 'margarita salt': 1, '(    oz.) tomato sauce': 1, 'ground veal': 1, 'italian seasoning mix': 1, 'beef': 4, 'solid pack pumpkin': 1, 'fresh thyme leaves': 2, 'whole grain thin spaghetti': 1, 'grapeseed oil': 2, 'organic sugar': 1, 'dried cherry': 1, 'straw mushrooms': 1, 'vidalia': 1, 'haricots verts': 1, 'wax beans': 1, 'prosciutto': 5, 'romano cheese': 1, 'cooked shrimp': 4, 'crabmeat': 1, 'strawberries': 1, 'green peppercorns': 1, 'pork loin chops': 1, 'chipotle peppers': 1, 'blueberri preserv': 1, 'filet': 1, 'thyme leaves': 1, 'coffee beans': 1, 'vegan margarine': 1, 'pork shoulder': 2, 'parsley leaves': 1, 'fresh raspberries': 1, 'frozen whole kernel corn': 1, 'wish bone guacamol ranch dress': 1, 'torn romain lettuc leav': 1, 'russet potatoes': 5, 'mexican chorizo': 1, 'colby cheese': 1, 'half & half': 2, 'dry vermouth': 1, 'canned low sodium chicken broth': 1, 'roasted salted cashews': 1, 'fresh lemon': 2, 'toasted sesame seeds': 3, 'paneer cheese': 1, 'lemon grass': 2, 'Thai fish sauce': 1, 'light brown muscavado sugar': 1, 'english cucumber': 4, 'fillets': 2, 'boneless center cut pork chops': 1, 'pork tenderloin': 1, 'shell-on shrimp': 2, 'steamed white rice': 1, 'caramel sauce': 1, 'chili pepper': 1, 'boneless skinless chicken': 1, 'seasoned bread crumbs': 2, 'bean threads': 1, 'reduced sodium tamari': 1, 'sourdough baguette': 1, 'liquorice': 1, 'green cardamom': 1, 'szechwan peppercorns': 3, 'chinese black bean': 1, 'cooking wine': 2, 'dried chile': 1, 'rock sugar': 1, 'bean paste': 1, 'brown cardamom': 1, 'leg of lamb': 1, 'red kidney beans': 1, 'fresh mushrooms': 2, 'red radishes': 1, 'granulated garlic': 1, 'beans': 1, 'jack cheese': 1, 'ricotta': 2, 'reduced sodium chicken broth': 4, 'mung bean sprouts': 1, 'sesame paste': 1, 'pickled vegetables': 1, 'jaggery': 1, 'coconut': 1, 'firmly packed brown sugar': 1, 'chopped pecans': 1, 'spam': 1, 'rice cakes': 1, 'kimchi': 1, 'tapioca starch': 1, 'chili': 2, 'cider vinegar': 5, 'dressing': 1, 'salad': 4, 'tuna fillets': 1, 'lamb neck fillets': 1, 'chopped parsley': 3, 'polenta': 1, 'olive oil cooking spray': 1, 'cauliflower florets': 1, 'sweet chili sauce': 1, 'Old El Pasoв„ў mild red enchilada sauce': 1, 'Pillsburyв„ў Refrigerated Crescent Dinner Rolls': 1, 'refrigerated crescent rolls': 1, 'red enchilada sauce': 1, 'sea scallops': 1, 'grate lime peel': 1, 'bottled clam juice': 2, 'sun-dried tomatoes in oil': 1, 'unsalted dry roast peanuts': 1, 'dried red chile peppers': 1, 'cooked brown rice': 1, 'bok choy': 3, 'fry mix': 1, 'yellow mustard': 1, 'baguette': 1, 'orange zest': 3, 'fennel': 1, 'salted roast peanuts': 1, 'onion tops': 1, 'mustard': 1, 'cornmeal': 3, 'grated lemon peel': 3, 'sliced almonds': 3, 'grated orange': 1, 'fresh red chili': 1, 'natural peanut butter': 1, 'grated orange peel': 1, 'minced ginger': 1, 'orange juice': 2, 'chili garlic paste': 1, 'masa harina': 1, 'crГЁme fraГ®che': 2, 'double-acting baking powder': 1, 'duck breast halves': 1, 'California bay leaves': 1, 'mint leaves': 3, 'vanilla lowfat yogurt': 1, 'pesto sauce': 1, 'arugula': 1, 'shredded coconut': 1, 'glutinous rice flour': 1, 'lentils': 1, 'vermicelli noodles': 1, 'pickled carrots': 1, 'white radish': 1, 'cream cheese, soften': 2, 'coconut sugar': 1, 'white corn tortillas': 1, 'plantains': 1, 'egg noodles': 1, 'beef shank': 1, 'fried garlic': 1, 'summer squash': 1, 'ciabatta': 1, 'juice': 4, 'fresh herbs': 1, 'plum sauce': 1, 'dough': 1, 'coarse sea salt': 1, 'dried kidney beans': 2, 'smoked ham hocks': 1, 'brie cheese': 2, 'wheat germ': 1, 'boneless rib eye steaks': 1, 'vermicelli': 1, 'mini cucumbers': 1, 'bird chile': 1, 'corn flour': 2, 'cheese ravioli': 1, 'Italian seasoned breadcrumbs': 1, 'meat bones': 1, 'diced onions': 3, 'hearts of palm': 1, 'coconut cream': 3, 'flax seed meal': 2, 'coconut flour': 1, 'slaw mix': 1, 'chunky peanut butter': 1, 'pickles': 1, 'hoagie buns': 1, 'fat-free cottage cheese': 1, 'oven-ready lasagna noodles': 1, 'radicchio': 1, 'sweet paprika': 1, 'andouille sausage links': 1, 'tea bags': 1, 'rosemary sprigs': 1, 'rubbed sage': 1, 'canned beef broth': 1, 'kale leaves': 1, 'chicken noodle soup': 1, 'italian style rolls': 1, 'genoa salami': 1, 'boiled ham': 1, 'capicola': 1, 'table cream': 1, 'grating cheese': 2, 'dill': 2, 'chocolate sauce': 1, 'quail': 1, 'caster': 1, 'shiso': 1, 'extra large eggs': 1, 'italian salad dressing mix': 1, 'dashi kombu': 1, 'dried bonito flakes': 1, 'white miso': 3, 'branzino fillets': 1, 'mixed greens': 2, 'round steaks': 1, 'carbonated beverages': 1, 'saltines': 1, 'barbecue sauce': 1, 'prepared pizza crust': 1, 'SargentoВ® Traditional Cut Shredded Mozzarella Cheese': 1, 'erythritol': 1, 'ice water': 1, 'asparagus tips': 1, 'nutmeg': 1, 'fresh chives': 1, 'artichokes': 2, 'portabello mushroom': 1, 'medium eggs': 1, 'allspice berries': 1, 'nori': 1, 'yellowtail': 1, 'tomatillo salsa': 1, 'chipotle': 1, 'ground chicken': 1, 'white sandwich bread': 1, 'tamarind pulp': 1, 'mustard seeds': 1, 'louisiana hot sauce': 1, 'arame': 1, 'konbu': 1, 'lemon cucumber': 1, 'Himalayan salt': 1, 'plain breadcrumbs': 1, 'back bacon rashers': 1, 'cooked quinoa': 1, 'gluten-free tamari': 1, 'uncook medium shrimp, peel and devein': 1, 'horseradish': 1, 'catfish': 1, 'basil pesto sauce': 1, 'aioli': 1, 'mozzarella balls': 1, 'sun-dried tomatoes': 3, 'cocoa powder': 1, 'pasilla pepper': 1, 'Mexican cheese': 1, 'roasted tomatoes': 1, 'corn chips': 1, 'chinese noodles': 1, 'fettuccine pasta': 1, 'soft fresh goat cheese': 1, 'chopped fresh sage': 1, 'lager beer': 1, 'poblano chiles': 1, 'vinaigrette dressing': 1, 'red beets': 1, 'boiled eggs': 1, 'caster sugar': 1, 'spring roll wrappers': 1, 'bread flour': 1, 'chicken fingers': 1, 'apricot preserves': 1, 'ginger juice': 1, 'sesame salt': 1, 'rice wine': 1, 'frozen spinach': 1, 'lasagne': 1, 'fat free cream cheese': 1, 'non-fat sour cream': 1, 'reduced fat swiss cheese': 1, 'fat-free mayonnaise': 1, 'roasted garlic': 1, 'sundried tomato paste': 1, 'sheepвЂ™s milk cheese': 1, 'champagne vinegar': 1, 'dried tart cherries': 1, 'porcini': 1, 'sourdough loaf': 1, 'duck fat': 1, 'squabs': 1, 'confit': 1, 'unsalted roasted peanuts': 1, 'wide rice noodles': 1, 'canned corn': 1, 'lettuce': 1, 'aged gouda': 1, 'soppressata': 1, 'beef steak': 1, 'biscuits': 1, 'lump crab meat': 2, 'vegetable juice': 1, 'seafood seasoning': 1, 'applewood smoked bacon': 1, 'lemon slices': 1, 'chicken cutlets': 1, 'ground meat': 1, 'red cabbage': 1, 'wheat flour': 1, 'wheat bran': 1, 'low-fat buttermilk': 1, 'whole wheat flour': 2, 'soba': 1, 'mustard greens': 1, 'orzo': 1, 'veal chops': 1, 'coarse kosher salt': 1, 'ancho chile pepper': 1, 'masa': 1, 'oil cured olives': 1, 'pasta rotel': 1, 'pasta water': 1, 'tamarind': 1, 'black salt': 1, 'brine-cured black olives': 1, 'pork chops': 1, 'Tabasco Pepper Sauce': 1, 'uncooked rigatoni': 1, 'long grain white rice': 2, 'fish fillets': 2, 'red chili powder': 1, 'rolls': 1, 'cinnamon sugar': 1, 'golden delicious apples': 1, 'pepper flakes': 1, 'rice syrup': 1, 'bosc pears': 1, 'buckwheat noodles': 1, 'curry leaves': 1, 'Smithfield Ham': 1, 'freshly grated parmesan': 1, 'hass avocado': 1, 'McCormick Parsley Flakes': 1, 'bread': 1, 'lower sodium chicken broth': 1, 'frozen blueberries': 1, 'peaches': 1, 'pitted olives': 1, 'florets': 1, 'thyme sprigs': 1, 'butter lettuce': 1, 'gluten-free hoisin sauce': 1, 'edamame': 1, 'ground cayenne pepper': 1, 'toasted cashews': 1, 'short rib': 1, 'sambal ulek': 1, 'coconut vinegar': 1, 'lemon soda': 1, 'annatto oil': 1, 'string beans': 1, 'egg roll wraps': 1, 'steamed rice': 1, 'penne': 1, 'Crystal Farms Butter': 1, 'Crystal Farms Shredded Gouda Cheese': 1, 'mint': 1, 'berries': 1, 'figs': 1, 'sprinkles': 1}\n"
     ]
    }
   ],
   "source": [
    "food = {}\n",
    "\n",
    "for recipe in recipes:\n",
    "    for ingredient in recipe['ingredients']:\n",
    "        if ingredient in food:\n",
    "            food[ingredient] += 1\n",
    "        else:\n",
    "            food[ingredient] = 1\n",
    "\n",
    "print(food)"
   ]
  },
  {
   "cell_type": "markdown",
   "id": "standard-metadata",
   "metadata": {},
   "source": [
    "Какие ингредиенты входят в состав более чем 20% блюд, представленных в наборе данных?\n",
    "\n",
    "Подсказка: Напоминаем, что весь набор данных содержит сведения о 500 блюдах."
   ]
  },
  {
   "cell_type": "code",
   "execution_count": 15,
   "id": "hungry-garlic",
   "metadata": {},
   "outputs": [
    {
     "name": "stdout",
     "output_type": "stream",
     "text": [
      "garlic\n",
      "salt\n"
     ]
    }
   ],
   "source": [
    "for ingredient in food:\n",
    "    if food[ingredient] >= 100:\n",
    "        print(ingredient)"
   ]
  },
  {
   "cell_type": "markdown",
   "id": "quick-personal",
   "metadata": {},
   "source": [
    "Какой ингредиент входит в состав самого большого количества блюд?"
   ]
  },
  {
   "cell_type": "code",
   "execution_count": 16,
   "id": "premier-student",
   "metadata": {},
   "outputs": [
    {
     "name": "stdout",
     "output_type": "stream",
     "text": [
      "salt\n"
     ]
    }
   ],
   "source": [
    "most_popular_ingredient = None\n",
    "\n",
    "for ingredient in food:\n",
    "    if most_popular_ingredient is None or food[ingredient] > food[most_popular_ingredient]:\n",
    "        most_popular_ingredient = ingredient\n",
    "\n",
    "print(most_popular_ingredient)"
   ]
  },
  {
   "cell_type": "markdown",
   "id": "hindu-latter",
   "metadata": {},
   "source": [
    "# Создание датафрейма на основе JSON-файла"
   ]
  },
  {
   "cell_type": "code",
   "execution_count": 17,
   "id": "caroline-bryan",
   "metadata": {},
   "outputs": [],
   "source": [
    "import pandas as pd\n",
    "df = pd.DataFrame(recipes)"
   ]
  },
  {
   "cell_type": "code",
   "execution_count": 18,
   "id": "numeric-benjamin",
   "metadata": {},
   "outputs": [
    {
     "data": {
      "text/html": [
       "<div>\n",
       "<style scoped>\n",
       "    .dataframe tbody tr th:only-of-type {\n",
       "        vertical-align: middle;\n",
       "    }\n",
       "\n",
       "    .dataframe tbody tr th {\n",
       "        vertical-align: top;\n",
       "    }\n",
       "\n",
       "    .dataframe thead th {\n",
       "        text-align: right;\n",
       "    }\n",
       "</style>\n",
       "<table border=\"1\" class=\"dataframe\">\n",
       "  <thead>\n",
       "    <tr style=\"text-align: right;\">\n",
       "      <th></th>\n",
       "      <th>cuisine</th>\n",
       "      <th>id</th>\n",
       "      <th>ingredients</th>\n",
       "    </tr>\n",
       "  </thead>\n",
       "  <tbody>\n",
       "    <tr>\n",
       "      <th>0</th>\n",
       "      <td>greek</td>\n",
       "      <td>10259</td>\n",
       "      <td>[romaine lettuce, black olives, grape tomatoes...</td>\n",
       "    </tr>\n",
       "    <tr>\n",
       "      <th>1</th>\n",
       "      <td>southern_us</td>\n",
       "      <td>25693</td>\n",
       "      <td>[plain flour, ground pepper, salt, tomatoes, g...</td>\n",
       "    </tr>\n",
       "    <tr>\n",
       "      <th>2</th>\n",
       "      <td>filipino</td>\n",
       "      <td>20130</td>\n",
       "      <td>[eggs, pepper, salt, mayonaise, cooking oil, g...</td>\n",
       "    </tr>\n",
       "    <tr>\n",
       "      <th>3</th>\n",
       "      <td>indian</td>\n",
       "      <td>22213</td>\n",
       "      <td>[water, vegetable oil, wheat, salt]</td>\n",
       "    </tr>\n",
       "    <tr>\n",
       "      <th>4</th>\n",
       "      <td>indian</td>\n",
       "      <td>13162</td>\n",
       "      <td>[black pepper, shallots, cornflour, cayenne pe...</td>\n",
       "    </tr>\n",
       "  </tbody>\n",
       "</table>\n",
       "</div>"
      ],
      "text/plain": [
       "       cuisine     id                                        ingredients\n",
       "0        greek  10259  [romaine lettuce, black olives, grape tomatoes...\n",
       "1  southern_us  25693  [plain flour, ground pepper, salt, tomatoes, g...\n",
       "2     filipino  20130  [eggs, pepper, salt, mayonaise, cooking oil, g...\n",
       "3       indian  22213                [water, vegetable oil, wheat, salt]\n",
       "4       indian  13162  [black pepper, shallots, cornflour, cayenne pe..."
      ]
     },
     "execution_count": 18,
     "metadata": {},
     "output_type": "execute_result"
    }
   ],
   "source": [
    "df.head()"
   ]
  },
  {
   "cell_type": "code",
   "execution_count": 19,
   "id": "framed-scope",
   "metadata": {},
   "outputs": [],
   "source": [
    "def find_item(cell):\n",
    "    if item in cell:\n",
    "        return 1\n",
    "    return 0"
   ]
  },
  {
   "cell_type": "code",
   "execution_count": 20,
   "id": "moved-diagram",
   "metadata": {},
   "outputs": [],
   "source": [
    "for item in food:\n",
    "    df[item] = df['ingredients'].apply(find_item)"
   ]
  },
  {
   "cell_type": "code",
   "execution_count": 21,
   "id": "regulated-country",
   "metadata": {},
   "outputs": [],
   "source": [
    "df['ingredients'] = df['ingredients'].apply(lambda x: len(x))"
   ]
  },
  {
   "cell_type": "code",
   "execution_count": 22,
   "id": "resistant-monte",
   "metadata": {},
   "outputs": [
    {
     "data": {
      "text/html": [
       "<div>\n",
       "<style scoped>\n",
       "    .dataframe tbody tr th:only-of-type {\n",
       "        vertical-align: middle;\n",
       "    }\n",
       "\n",
       "    .dataframe tbody tr th {\n",
       "        vertical-align: top;\n",
       "    }\n",
       "\n",
       "    .dataframe thead th {\n",
       "        text-align: right;\n",
       "    }\n",
       "</style>\n",
       "<table border=\"1\" class=\"dataframe\">\n",
       "  <thead>\n",
       "    <tr style=\"text-align: right;\">\n",
       "      <th></th>\n",
       "      <th>cuisine</th>\n",
       "      <th>id</th>\n",
       "      <th>ingredients</th>\n",
       "      <th>romaine lettuce</th>\n",
       "      <th>black olives</th>\n",
       "      <th>grape tomatoes</th>\n",
       "      <th>garlic</th>\n",
       "      <th>pepper</th>\n",
       "      <th>purple onion</th>\n",
       "      <th>seasoning</th>\n",
       "      <th>...</th>\n",
       "      <th>string beans</th>\n",
       "      <th>egg roll wraps</th>\n",
       "      <th>steamed rice</th>\n",
       "      <th>penne</th>\n",
       "      <th>Crystal Farms Butter</th>\n",
       "      <th>Crystal Farms Shredded Gouda Cheese</th>\n",
       "      <th>mint</th>\n",
       "      <th>berries</th>\n",
       "      <th>figs</th>\n",
       "      <th>sprinkles</th>\n",
       "    </tr>\n",
       "  </thead>\n",
       "  <tbody>\n",
       "    <tr>\n",
       "      <th>0</th>\n",
       "      <td>greek</td>\n",
       "      <td>10259</td>\n",
       "      <td>9</td>\n",
       "      <td>1</td>\n",
       "      <td>1</td>\n",
       "      <td>1</td>\n",
       "      <td>1</td>\n",
       "      <td>1</td>\n",
       "      <td>1</td>\n",
       "      <td>1</td>\n",
       "      <td>...</td>\n",
       "      <td>0</td>\n",
       "      <td>0</td>\n",
       "      <td>0</td>\n",
       "      <td>0</td>\n",
       "      <td>0</td>\n",
       "      <td>0</td>\n",
       "      <td>0</td>\n",
       "      <td>0</td>\n",
       "      <td>0</td>\n",
       "      <td>0</td>\n",
       "    </tr>\n",
       "    <tr>\n",
       "      <th>1</th>\n",
       "      <td>southern_us</td>\n",
       "      <td>25693</td>\n",
       "      <td>11</td>\n",
       "      <td>0</td>\n",
       "      <td>0</td>\n",
       "      <td>0</td>\n",
       "      <td>0</td>\n",
       "      <td>0</td>\n",
       "      <td>0</td>\n",
       "      <td>0</td>\n",
       "      <td>...</td>\n",
       "      <td>0</td>\n",
       "      <td>0</td>\n",
       "      <td>0</td>\n",
       "      <td>0</td>\n",
       "      <td>0</td>\n",
       "      <td>0</td>\n",
       "      <td>0</td>\n",
       "      <td>0</td>\n",
       "      <td>0</td>\n",
       "      <td>0</td>\n",
       "    </tr>\n",
       "    <tr>\n",
       "      <th>2</th>\n",
       "      <td>filipino</td>\n",
       "      <td>20130</td>\n",
       "      <td>12</td>\n",
       "      <td>0</td>\n",
       "      <td>0</td>\n",
       "      <td>0</td>\n",
       "      <td>0</td>\n",
       "      <td>1</td>\n",
       "      <td>0</td>\n",
       "      <td>0</td>\n",
       "      <td>...</td>\n",
       "      <td>0</td>\n",
       "      <td>0</td>\n",
       "      <td>0</td>\n",
       "      <td>0</td>\n",
       "      <td>0</td>\n",
       "      <td>0</td>\n",
       "      <td>0</td>\n",
       "      <td>0</td>\n",
       "      <td>0</td>\n",
       "      <td>0</td>\n",
       "    </tr>\n",
       "    <tr>\n",
       "      <th>3</th>\n",
       "      <td>indian</td>\n",
       "      <td>22213</td>\n",
       "      <td>4</td>\n",
       "      <td>0</td>\n",
       "      <td>0</td>\n",
       "      <td>0</td>\n",
       "      <td>0</td>\n",
       "      <td>0</td>\n",
       "      <td>0</td>\n",
       "      <td>0</td>\n",
       "      <td>...</td>\n",
       "      <td>0</td>\n",
       "      <td>0</td>\n",
       "      <td>0</td>\n",
       "      <td>0</td>\n",
       "      <td>0</td>\n",
       "      <td>0</td>\n",
       "      <td>0</td>\n",
       "      <td>0</td>\n",
       "      <td>0</td>\n",
       "      <td>0</td>\n",
       "    </tr>\n",
       "    <tr>\n",
       "      <th>4</th>\n",
       "      <td>indian</td>\n",
       "      <td>13162</td>\n",
       "      <td>20</td>\n",
       "      <td>0</td>\n",
       "      <td>0</td>\n",
       "      <td>0</td>\n",
       "      <td>0</td>\n",
       "      <td>0</td>\n",
       "      <td>0</td>\n",
       "      <td>0</td>\n",
       "      <td>...</td>\n",
       "      <td>0</td>\n",
       "      <td>0</td>\n",
       "      <td>0</td>\n",
       "      <td>0</td>\n",
       "      <td>0</td>\n",
       "      <td>0</td>\n",
       "      <td>0</td>\n",
       "      <td>0</td>\n",
       "      <td>0</td>\n",
       "      <td>0</td>\n",
       "    </tr>\n",
       "  </tbody>\n",
       "</table>\n",
       "<p>5 rows × 1321 columns</p>\n",
       "</div>"
      ],
      "text/plain": [
       "       cuisine     id  ingredients  romaine lettuce  black olives  \\\n",
       "0        greek  10259            9                1             1   \n",
       "1  southern_us  25693           11                0             0   \n",
       "2     filipino  20130           12                0             0   \n",
       "3       indian  22213            4                0             0   \n",
       "4       indian  13162           20                0             0   \n",
       "\n",
       "   grape tomatoes  garlic  pepper  purple onion  seasoning  ...  string beans  \\\n",
       "0               1       1       1             1          1  ...             0   \n",
       "1               0       0       0             0          0  ...             0   \n",
       "2               0       0       1             0          0  ...             0   \n",
       "3               0       0       0             0          0  ...             0   \n",
       "4               0       0       0             0          0  ...             0   \n",
       "\n",
       "   egg roll wraps  steamed rice  penne  Crystal Farms Butter  \\\n",
       "0               0             0      0                     0   \n",
       "1               0             0      0                     0   \n",
       "2               0             0      0                     0   \n",
       "3               0             0      0                     0   \n",
       "4               0             0      0                     0   \n",
       "\n",
       "   Crystal Farms Shredded Gouda Cheese  mint  berries  figs  sprinkles  \n",
       "0                                    0     0        0     0          0  \n",
       "1                                    0     0        0     0          0  \n",
       "2                                    0     0        0     0          0  \n",
       "3                                    0     0        0     0          0  \n",
       "4                                    0     0        0     0          0  \n",
       "\n",
       "[5 rows x 1321 columns]"
      ]
     },
     "execution_count": 22,
     "metadata": {},
     "output_type": "execute_result"
    }
   ],
   "source": [
    "df.head()"
   ]
  },
  {
   "cell_type": "markdown",
   "id": "considered-protest",
   "metadata": {},
   "source": [
    "# Сохраняем датафрейм в CSV-файле\n",
    "В случае, если вы планируете продолжать работать с датафреймом, созданным на основе данных, полученных в JSON-формате, полезно будет научиться сохранять созданный датафрейм в виде CSV-файла. Для выполнения этой операции в Pandas существует метод to_csv:"
   ]
  },
  {
   "cell_type": "code",
   "execution_count": 23,
   "id": "starting-brunei",
   "metadata": {},
   "outputs": [],
   "source": [
    "df.to_csv('./data/recipes.csv', index=False)"
   ]
  },
  {
   "cell_type": "markdown",
   "id": "filled-outline",
   "metadata": {},
   "source": [
    "# Из Pandas в JSON"
   ]
  },
  {
   "cell_type": "code",
   "execution_count": 24,
   "id": "powered-enzyme",
   "metadata": {},
   "outputs": [],
   "source": [
    "df = pd.read_csv('./data/recipes.csv')"
   ]
  },
  {
   "cell_type": "markdown",
   "id": "ancient-engine",
   "metadata": {},
   "source": [
    "Напишите код для создания списка id всех блюд, представленных в датафрейме.\n",
    "\n",
    "Обратите внимание на следующие моменты:\n",
    "\n",
    "1. Тип структуры, в которой должны храниться id блюд - список (list).\n",
    "2. Имя переменной, в которой будет храниться список - ids.\n",
    "3. Порядок id в списке не имеет значения.\n",
    "4. Код должен начинаться с чтения файла recipes.csv"
   ]
  },
  {
   "cell_type": "code",
   "execution_count": 25,
   "id": "stunning-reminder",
   "metadata": {},
   "outputs": [],
   "source": [
    "ids = list(df['id'])"
   ]
  },
  {
   "cell_type": "markdown",
   "id": "previous-failure",
   "metadata": {},
   "source": [
    "Напишите код для создания списка ингредиентов всех блюд, представленных в датафрейме.\n",
    "\n",
    "Обратите внимание на следующие моменты:\n",
    "\n",
    "1. Тип структуры, в которой должны храниться названия ингредиентов блюд, — список (list).\n",
    "2. Имя переменной, в которой будет храниться список, — ingredients.\n",
    "3. Порядок ингредиентов в списке не имеет значения.\n",
    "4. Код должен начинаться с чтения файла recipes.csv\n",
    "\n",
    "Подсказка: поскольку названия ингредиентов используются как названия столбцов датафрейма, вы можете воспользоваться командой df.columns для получения перечня всех названий столбцов, после чего превратить перечень в список и извлечь из него нужные данные."
   ]
  },
  {
   "cell_type": "code",
   "execution_count": 26,
   "id": "major-prior",
   "metadata": {},
   "outputs": [],
   "source": [
    "ingredients = list(df.columns[3:])"
   ]
  },
  {
   "cell_type": "markdown",
   "id": "celtic-cartoon",
   "metadata": {},
   "source": [
    "Сохранение итоговой структуры\n",
    "Разберём основную часть кода (пока без дополнительной функции). Как вы помните, после десериализации JSON-файла мы получили структуру, представляющую собой список, состоящий из словарей. Каждый словарь состоял из трёх пар \"ключ-значение\", при этом в качестве значений выступали целое число (id), строковая величина (тип кухни) и список строковых величин (перечень ингредиентов). Сейчас нам предстоит воссоздать эту структуру, извлекая данные из датафрейма.\n",
    "\n",
    "Для хранения итоговой структуры создадим пустой список new_recipes. Также создадим списки для хранения id всех блюд и названий всех ингредиентов с помощью кода из предыдущих упражнений:"
   ]
  },
  {
   "cell_type": "code",
   "execution_count": 27,
   "id": "fluid-possible",
   "metadata": {},
   "outputs": [
    {
     "data": {
      "text/plain": [
       "{'cuisine': 'greek',\n",
       " 'id': 10259,\n",
       " 'ingredients': ['romaine lettuce',\n",
       "  'black olives',\n",
       "  'grape tomatoes',\n",
       "  'garlic',\n",
       "  'pepper',\n",
       "  'purple onion',\n",
       "  'seasoning',\n",
       "  'garbanzo beans',\n",
       "  'feta cheese crumbles']}"
      ]
     },
     "execution_count": 27,
     "metadata": {},
     "output_type": "execute_result"
    }
   ],
   "source": [
    "df = pd.read_csv('./data/recipes.csv')\n",
    "new_recipes = []\n",
    "\n",
    "ids = list(df['id'])\n",
    "ingredients = list(df.columns[3:])\n",
    "\n",
    "def make_list(df):\n",
    "    ings = df.iloc[0][ingredients]\n",
    "    return list(ings[ings == 1].index)\n",
    "    \n",
    "\n",
    "for current_id in ids:\n",
    "    cuisine = df[df['id'] == current_id]['cuisine'].iloc[0]\n",
    "    current_ingredients = make_list(df[df['id'] == current_id])\n",
    "    current_recipe = {'cuisine': cuisine, 'id': int(current_id), 'ingredients': current_ingredients}\n",
    "    new_recipes.append(current_recipe)\n",
    "\n",
    "new_recipes[0]"
   ]
  },
  {
   "cell_type": "markdown",
   "id": "excessive-dayton",
   "metadata": {},
   "source": [
    "В завершающей части данного блока мы выполним сериализацию списка new_recipes и запишем полученные данные в файл. Для сериализации мы будем использовать функцию dumps(), которой в качестве параметра передадим список new_recipes. Запись в файл осуществляется с помощью метода write(). Предварительно файл нужно будет открыть для записи с помощью функции open и параметра 'w':"
   ]
  },
  {
   "cell_type": "code",
   "execution_count": 28,
   "id": "rental-rescue",
   "metadata": {},
   "outputs": [],
   "source": [
    "# new_recipes = json.dumps(new_recipes)\n",
    "# with open(\"new_recipes.json\", \"w\") as write_file:\n",
    "#     write_file.write(new_recipes)\n",
    "\n",
    "# Оба действия можно совместить, если использовать метод dump() или dumps():\n",
    "with open(\"./data/new_recipes.json\", \"w\") as write_file:\n",
    "    json.dump(new_recipes, write_file)"
   ]
  },
  {
   "cell_type": "code",
   "execution_count": null,
   "id": "polyphonic-chain",
   "metadata": {},
   "outputs": [],
   "source": []
  }
 ],
 "metadata": {
  "kernelspec": {
   "display_name": "Python 3",
   "language": "python",
   "name": "python3"
  },
  "language_info": {
   "codemirror_mode": {
    "name": "ipython",
    "version": 3
   },
   "file_extension": ".py",
   "mimetype": "text/x-python",
   "name": "python",
   "nbconvert_exporter": "python",
   "pygments_lexer": "ipython3",
   "version": "3.7.7"
  }
 },
 "nbformat": 4,
 "nbformat_minor": 5
}
