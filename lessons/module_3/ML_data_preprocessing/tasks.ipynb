{
 "cells": [
  {
   "cell_type": "code",
   "execution_count": 1,
   "id": "continent-baking",
   "metadata": {},
   "outputs": [],
   "source": [
    "import pandas as pd\n",
    "import numpy as np"
   ]
  },
  {
   "cell_type": "code",
   "execution_count": 2,
   "id": "nervous-arkansas",
   "metadata": {},
   "outputs": [
    {
     "data": {
      "text/html": [
       "<div>\n",
       "<style scoped>\n",
       "    .dataframe tbody tr th:only-of-type {\n",
       "        vertical-align: middle;\n",
       "    }\n",
       "\n",
       "    .dataframe tbody tr th {\n",
       "        vertical-align: top;\n",
       "    }\n",
       "\n",
       "    .dataframe thead th {\n",
       "        text-align: right;\n",
       "    }\n",
       "</style>\n",
       "<table border=\"1\" class=\"dataframe\">\n",
       "  <thead>\n",
       "    <tr style=\"text-align: right;\">\n",
       "      <th></th>\n",
       "      <th>id</th>\n",
       "      <th>full_sq</th>\n",
       "      <th>life_sq</th>\n",
       "      <th>floor</th>\n",
       "      <th>sub_area</th>\n",
       "      <th>preschool_quota</th>\n",
       "      <th>preschool_education_centers_raion</th>\n",
       "      <th>school_quota</th>\n",
       "      <th>school_education_centers_raion</th>\n",
       "      <th>school_education_centers_top_20_raion</th>\n",
       "      <th>hospital_beds_raion</th>\n",
       "      <th>healthcare_centers_raion</th>\n",
       "      <th>university_top_20_raion</th>\n",
       "      <th>sport_objects_raion</th>\n",
       "      <th>additional_education_raion</th>\n",
       "      <th>culture_objects_top_25_raion</th>\n",
       "      <th>shopping_centers_raion</th>\n",
       "      <th>office_raion</th>\n",
       "      <th>metro_min_avto</th>\n",
       "      <th>metro_km_avto</th>\n",
       "      <th>metro_min_walk</th>\n",
       "      <th>metro_km_walk</th>\n",
       "      <th>kindergarten_km</th>\n",
       "      <th>school_km</th>\n",
       "      <th>park_km</th>\n",
       "      <th>green_zone_km</th>\n",
       "      <th>industrial_km</th>\n",
       "      <th>railroad_station_walk_km</th>\n",
       "      <th>railroad_station_walk_min</th>\n",
       "      <th>public_transport_station_km</th>\n",
       "      <th>public_transport_station_min_walk</th>\n",
       "      <th>mkad_km</th>\n",
       "      <th>ttk_km</th>\n",
       "      <th>sadovoe_km</th>\n",
       "      <th>bulvar_ring_km</th>\n",
       "      <th>kremlin_km</th>\n",
       "      <th>big_market_km</th>\n",
       "      <th>market_shop_km</th>\n",
       "      <th>fitness_km</th>\n",
       "      <th>swim_pool_km</th>\n",
       "      <th>ice_rink_km</th>\n",
       "      <th>stadium_km</th>\n",
       "      <th>basketball_km</th>\n",
       "      <th>hospice_morgue_km</th>\n",
       "      <th>university_km</th>\n",
       "      <th>workplaces_km</th>\n",
       "      <th>shopping_centers_km</th>\n",
       "      <th>office_km</th>\n",
       "      <th>additional_education_km</th>\n",
       "      <th>preschool_km</th>\n",
       "      <th>big_church_km</th>\n",
       "      <th>church_synagogue_km</th>\n",
       "      <th>theater_km</th>\n",
       "      <th>museum_km</th>\n",
       "      <th>ecology</th>\n",
       "      <th>price_doc</th>\n",
       "    </tr>\n",
       "  </thead>\n",
       "  <tbody>\n",
       "    <tr>\n",
       "      <th>0</th>\n",
       "      <td>1</td>\n",
       "      <td>43</td>\n",
       "      <td>27.0</td>\n",
       "      <td>4.0</td>\n",
       "      <td>Bibirevo</td>\n",
       "      <td>5001.0</td>\n",
       "      <td>5</td>\n",
       "      <td>11065.0</td>\n",
       "      <td>5</td>\n",
       "      <td>0</td>\n",
       "      <td>240.0</td>\n",
       "      <td>1</td>\n",
       "      <td>0</td>\n",
       "      <td>7</td>\n",
       "      <td>3</td>\n",
       "      <td>0</td>\n",
       "      <td>16</td>\n",
       "      <td>1</td>\n",
       "      <td>2.590241</td>\n",
       "      <td>1.131260</td>\n",
       "      <td>13.575119</td>\n",
       "      <td>1.131260</td>\n",
       "      <td>0.145700</td>\n",
       "      <td>0.177975</td>\n",
       "      <td>2.158587</td>\n",
       "      <td>0.600973</td>\n",
       "      <td>1.080934</td>\n",
       "      <td>5.419893</td>\n",
       "      <td>65.038716</td>\n",
       "      <td>0.274985</td>\n",
       "      <td>3.299822</td>\n",
       "      <td>1.422391</td>\n",
       "      <td>10.918587</td>\n",
       "      <td>13.100618</td>\n",
       "      <td>13.675657</td>\n",
       "      <td>15.156211</td>\n",
       "      <td>10.814172</td>\n",
       "      <td>1.676258</td>\n",
       "      <td>0.485841</td>\n",
       "      <td>3.065047</td>\n",
       "      <td>1.107594</td>\n",
       "      <td>8.148591</td>\n",
       "      <td>3.516513</td>\n",
       "      <td>2.392353</td>\n",
       "      <td>6.715026</td>\n",
       "      <td>0.884350</td>\n",
       "      <td>0.648488</td>\n",
       "      <td>0.637189</td>\n",
       "      <td>0.947962</td>\n",
       "      <td>0.177975</td>\n",
       "      <td>0.625783</td>\n",
       "      <td>0.628187</td>\n",
       "      <td>14.053047</td>\n",
       "      <td>7.389498</td>\n",
       "      <td>good</td>\n",
       "      <td>5850000</td>\n",
       "    </tr>\n",
       "    <tr>\n",
       "      <th>1</th>\n",
       "      <td>2</td>\n",
       "      <td>34</td>\n",
       "      <td>19.0</td>\n",
       "      <td>3.0</td>\n",
       "      <td>Nagatinskij Zaton</td>\n",
       "      <td>3119.0</td>\n",
       "      <td>5</td>\n",
       "      <td>6237.0</td>\n",
       "      <td>8</td>\n",
       "      <td>0</td>\n",
       "      <td>229.0</td>\n",
       "      <td>1</td>\n",
       "      <td>0</td>\n",
       "      <td>6</td>\n",
       "      <td>1</td>\n",
       "      <td>1</td>\n",
       "      <td>3</td>\n",
       "      <td>0</td>\n",
       "      <td>0.936700</td>\n",
       "      <td>0.647337</td>\n",
       "      <td>7.620630</td>\n",
       "      <td>0.635053</td>\n",
       "      <td>0.147754</td>\n",
       "      <td>0.273345</td>\n",
       "      <td>0.550690</td>\n",
       "      <td>0.065321</td>\n",
       "      <td>0.966479</td>\n",
       "      <td>3.411993</td>\n",
       "      <td>40.943917</td>\n",
       "      <td>0.065263</td>\n",
       "      <td>0.783160</td>\n",
       "      <td>9.503405</td>\n",
       "      <td>3.103996</td>\n",
       "      <td>6.444333</td>\n",
       "      <td>8.132640</td>\n",
       "      <td>8.698054</td>\n",
       "      <td>6.910568</td>\n",
       "      <td>3.424716</td>\n",
       "      <td>0.668364</td>\n",
       "      <td>2.000154</td>\n",
       "      <td>8.972823</td>\n",
       "      <td>6.127073</td>\n",
       "      <td>1.161579</td>\n",
       "      <td>2.543747</td>\n",
       "      <td>1.852560</td>\n",
       "      <td>0.686252</td>\n",
       "      <td>0.519311</td>\n",
       "      <td>0.688796</td>\n",
       "      <td>1.072315</td>\n",
       "      <td>0.273345</td>\n",
       "      <td>0.967821</td>\n",
       "      <td>0.471447</td>\n",
       "      <td>6.829889</td>\n",
       "      <td>0.709260</td>\n",
       "      <td>excellent</td>\n",
       "      <td>6000000</td>\n",
       "    </tr>\n",
       "    <tr>\n",
       "      <th>2</th>\n",
       "      <td>3</td>\n",
       "      <td>43</td>\n",
       "      <td>29.0</td>\n",
       "      <td>2.0</td>\n",
       "      <td>Tekstil'shhiki</td>\n",
       "      <td>1463.0</td>\n",
       "      <td>4</td>\n",
       "      <td>5580.0</td>\n",
       "      <td>7</td>\n",
       "      <td>0</td>\n",
       "      <td>1183.0</td>\n",
       "      <td>1</td>\n",
       "      <td>0</td>\n",
       "      <td>5</td>\n",
       "      <td>1</td>\n",
       "      <td>0</td>\n",
       "      <td>0</td>\n",
       "      <td>1</td>\n",
       "      <td>2.120999</td>\n",
       "      <td>1.637996</td>\n",
       "      <td>17.351515</td>\n",
       "      <td>1.445960</td>\n",
       "      <td>0.049102</td>\n",
       "      <td>0.158072</td>\n",
       "      <td>0.374848</td>\n",
       "      <td>0.453172</td>\n",
       "      <td>0.939275</td>\n",
       "      <td>1.277658</td>\n",
       "      <td>15.331896</td>\n",
       "      <td>0.328756</td>\n",
       "      <td>3.945073</td>\n",
       "      <td>5.604800</td>\n",
       "      <td>2.927487</td>\n",
       "      <td>6.963403</td>\n",
       "      <td>8.054252</td>\n",
       "      <td>9.067885</td>\n",
       "      <td>5.752368</td>\n",
       "      <td>1.375443</td>\n",
       "      <td>0.733101</td>\n",
       "      <td>1.239304</td>\n",
       "      <td>1.978517</td>\n",
       "      <td>0.767569</td>\n",
       "      <td>1.952771</td>\n",
       "      <td>0.621357</td>\n",
       "      <td>0.841254</td>\n",
       "      <td>1.510089</td>\n",
       "      <td>1.486533</td>\n",
       "      <td>1.543049</td>\n",
       "      <td>0.391957</td>\n",
       "      <td>0.158072</td>\n",
       "      <td>3.178751</td>\n",
       "      <td>0.755946</td>\n",
       "      <td>4.273200</td>\n",
       "      <td>3.156423</td>\n",
       "      <td>poor</td>\n",
       "      <td>5700000</td>\n",
       "    </tr>\n",
       "    <tr>\n",
       "      <th>3</th>\n",
       "      <td>4</td>\n",
       "      <td>89</td>\n",
       "      <td>50.0</td>\n",
       "      <td>9.0</td>\n",
       "      <td>Mitino</td>\n",
       "      <td>6839.0</td>\n",
       "      <td>9</td>\n",
       "      <td>17063.0</td>\n",
       "      <td>10</td>\n",
       "      <td>0</td>\n",
       "      <td>NaN</td>\n",
       "      <td>1</td>\n",
       "      <td>0</td>\n",
       "      <td>17</td>\n",
       "      <td>6</td>\n",
       "      <td>0</td>\n",
       "      <td>11</td>\n",
       "      <td>4</td>\n",
       "      <td>1.489049</td>\n",
       "      <td>0.984537</td>\n",
       "      <td>11.565624</td>\n",
       "      <td>0.963802</td>\n",
       "      <td>0.179441</td>\n",
       "      <td>0.236455</td>\n",
       "      <td>0.078090</td>\n",
       "      <td>0.106125</td>\n",
       "      <td>0.451173</td>\n",
       "      <td>4.291432</td>\n",
       "      <td>51.497190</td>\n",
       "      <td>0.131597</td>\n",
       "      <td>1.579164</td>\n",
       "      <td>2.677824</td>\n",
       "      <td>14.606501</td>\n",
       "      <td>17.457198</td>\n",
       "      <td>18.309433</td>\n",
       "      <td>19.487005</td>\n",
       "      <td>27.892717</td>\n",
       "      <td>0.811275</td>\n",
       "      <td>0.623484</td>\n",
       "      <td>1.950317</td>\n",
       "      <td>6.483172</td>\n",
       "      <td>7.385521</td>\n",
       "      <td>4.923843</td>\n",
       "      <td>3.549558</td>\n",
       "      <td>10.903161</td>\n",
       "      <td>0.622272</td>\n",
       "      <td>0.599914</td>\n",
       "      <td>0.934273</td>\n",
       "      <td>0.892674</td>\n",
       "      <td>0.236455</td>\n",
       "      <td>1.031777</td>\n",
       "      <td>1.561505</td>\n",
       "      <td>16.990677</td>\n",
       "      <td>16.041521</td>\n",
       "      <td>good</td>\n",
       "      <td>13100000</td>\n",
       "    </tr>\n",
       "    <tr>\n",
       "      <th>4</th>\n",
       "      <td>5</td>\n",
       "      <td>77</td>\n",
       "      <td>77.0</td>\n",
       "      <td>4.0</td>\n",
       "      <td>Basmannoe</td>\n",
       "      <td>3240.0</td>\n",
       "      <td>7</td>\n",
       "      <td>7770.0</td>\n",
       "      <td>9</td>\n",
       "      <td>0</td>\n",
       "      <td>562.0</td>\n",
       "      <td>4</td>\n",
       "      <td>2</td>\n",
       "      <td>25</td>\n",
       "      <td>2</td>\n",
       "      <td>0</td>\n",
       "      <td>10</td>\n",
       "      <td>93</td>\n",
       "      <td>1.257186</td>\n",
       "      <td>0.876620</td>\n",
       "      <td>8.266305</td>\n",
       "      <td>0.688859</td>\n",
       "      <td>0.247901</td>\n",
       "      <td>0.376838</td>\n",
       "      <td>0.258289</td>\n",
       "      <td>0.236214</td>\n",
       "      <td>0.392871</td>\n",
       "      <td>0.853960</td>\n",
       "      <td>10.247521</td>\n",
       "      <td>0.071480</td>\n",
       "      <td>0.857764</td>\n",
       "      <td>11.616653</td>\n",
       "      <td>1.721834</td>\n",
       "      <td>0.046810</td>\n",
       "      <td>0.787593</td>\n",
       "      <td>2.578671</td>\n",
       "      <td>9.155057</td>\n",
       "      <td>1.969738</td>\n",
       "      <td>0.220288</td>\n",
       "      <td>2.544696</td>\n",
       "      <td>3.975401</td>\n",
       "      <td>3.610754</td>\n",
       "      <td>0.307915</td>\n",
       "      <td>1.864637</td>\n",
       "      <td>0.991683</td>\n",
       "      <td>0.892668</td>\n",
       "      <td>0.429052</td>\n",
       "      <td>0.077901</td>\n",
       "      <td>0.810801</td>\n",
       "      <td>0.376838</td>\n",
       "      <td>0.378756</td>\n",
       "      <td>0.121681</td>\n",
       "      <td>1.112486</td>\n",
       "      <td>1.800125</td>\n",
       "      <td>excellent</td>\n",
       "      <td>16331452</td>\n",
       "    </tr>\n",
       "  </tbody>\n",
       "</table>\n",
       "</div>"
      ],
      "text/plain": [
       "   id  full_sq  life_sq  floor           sub_area  preschool_quota  \\\n",
       "0   1       43     27.0    4.0           Bibirevo           5001.0   \n",
       "1   2       34     19.0    3.0  Nagatinskij Zaton           3119.0   \n",
       "2   3       43     29.0    2.0     Tekstil'shhiki           1463.0   \n",
       "3   4       89     50.0    9.0             Mitino           6839.0   \n",
       "4   5       77     77.0    4.0          Basmannoe           3240.0   \n",
       "\n",
       "   preschool_education_centers_raion  school_quota  \\\n",
       "0                                  5       11065.0   \n",
       "1                                  5        6237.0   \n",
       "2                                  4        5580.0   \n",
       "3                                  9       17063.0   \n",
       "4                                  7        7770.0   \n",
       "\n",
       "   school_education_centers_raion  school_education_centers_top_20_raion  \\\n",
       "0                               5                                      0   \n",
       "1                               8                                      0   \n",
       "2                               7                                      0   \n",
       "3                              10                                      0   \n",
       "4                               9                                      0   \n",
       "\n",
       "   hospital_beds_raion  healthcare_centers_raion  university_top_20_raion  \\\n",
       "0                240.0                         1                        0   \n",
       "1                229.0                         1                        0   \n",
       "2               1183.0                         1                        0   \n",
       "3                  NaN                         1                        0   \n",
       "4                562.0                         4                        2   \n",
       "\n",
       "   sport_objects_raion  additional_education_raion  \\\n",
       "0                    7                           3   \n",
       "1                    6                           1   \n",
       "2                    5                           1   \n",
       "3                   17                           6   \n",
       "4                   25                           2   \n",
       "\n",
       "   culture_objects_top_25_raion  shopping_centers_raion  office_raion  \\\n",
       "0                             0                      16             1   \n",
       "1                             1                       3             0   \n",
       "2                             0                       0             1   \n",
       "3                             0                      11             4   \n",
       "4                             0                      10            93   \n",
       "\n",
       "   metro_min_avto  metro_km_avto  metro_min_walk  metro_km_walk  \\\n",
       "0        2.590241       1.131260       13.575119       1.131260   \n",
       "1        0.936700       0.647337        7.620630       0.635053   \n",
       "2        2.120999       1.637996       17.351515       1.445960   \n",
       "3        1.489049       0.984537       11.565624       0.963802   \n",
       "4        1.257186       0.876620        8.266305       0.688859   \n",
       "\n",
       "   kindergarten_km  school_km   park_km  green_zone_km  industrial_km  \\\n",
       "0         0.145700   0.177975  2.158587       0.600973       1.080934   \n",
       "1         0.147754   0.273345  0.550690       0.065321       0.966479   \n",
       "2         0.049102   0.158072  0.374848       0.453172       0.939275   \n",
       "3         0.179441   0.236455  0.078090       0.106125       0.451173   \n",
       "4         0.247901   0.376838  0.258289       0.236214       0.392871   \n",
       "\n",
       "   railroad_station_walk_km  railroad_station_walk_min  \\\n",
       "0                  5.419893                  65.038716   \n",
       "1                  3.411993                  40.943917   \n",
       "2                  1.277658                  15.331896   \n",
       "3                  4.291432                  51.497190   \n",
       "4                  0.853960                  10.247521   \n",
       "\n",
       "   public_transport_station_km  public_transport_station_min_walk    mkad_km  \\\n",
       "0                     0.274985                           3.299822   1.422391   \n",
       "1                     0.065263                           0.783160   9.503405   \n",
       "2                     0.328756                           3.945073   5.604800   \n",
       "3                     0.131597                           1.579164   2.677824   \n",
       "4                     0.071480                           0.857764  11.616653   \n",
       "\n",
       "      ttk_km  sadovoe_km  bulvar_ring_km  kremlin_km  big_market_km  \\\n",
       "0  10.918587   13.100618       13.675657   15.156211      10.814172   \n",
       "1   3.103996    6.444333        8.132640    8.698054       6.910568   \n",
       "2   2.927487    6.963403        8.054252    9.067885       5.752368   \n",
       "3  14.606501   17.457198       18.309433   19.487005      27.892717   \n",
       "4   1.721834    0.046810        0.787593    2.578671       9.155057   \n",
       "\n",
       "   market_shop_km  fitness_km  swim_pool_km  ice_rink_km  stadium_km  \\\n",
       "0        1.676258    0.485841      3.065047     1.107594    8.148591   \n",
       "1        3.424716    0.668364      2.000154     8.972823    6.127073   \n",
       "2        1.375443    0.733101      1.239304     1.978517    0.767569   \n",
       "3        0.811275    0.623484      1.950317     6.483172    7.385521   \n",
       "4        1.969738    0.220288      2.544696     3.975401    3.610754   \n",
       "\n",
       "   basketball_km  hospice_morgue_km  university_km  workplaces_km  \\\n",
       "0       3.516513           2.392353       6.715026       0.884350   \n",
       "1       1.161579           2.543747       1.852560       0.686252   \n",
       "2       1.952771           0.621357       0.841254       1.510089   \n",
       "3       4.923843           3.549558      10.903161       0.622272   \n",
       "4       0.307915           1.864637       0.991683       0.892668   \n",
       "\n",
       "   shopping_centers_km  office_km  additional_education_km  preschool_km  \\\n",
       "0             0.648488   0.637189                 0.947962      0.177975   \n",
       "1             0.519311   0.688796                 1.072315      0.273345   \n",
       "2             1.486533   1.543049                 0.391957      0.158072   \n",
       "3             0.599914   0.934273                 0.892674      0.236455   \n",
       "4             0.429052   0.077901                 0.810801      0.376838   \n",
       "\n",
       "   big_church_km  church_synagogue_km  theater_km  museum_km    ecology  \\\n",
       "0       0.625783             0.628187   14.053047   7.389498       good   \n",
       "1       0.967821             0.471447    6.829889   0.709260  excellent   \n",
       "2       3.178751             0.755946    4.273200   3.156423       poor   \n",
       "3       1.031777             1.561505   16.990677  16.041521       good   \n",
       "4       0.378756             0.121681    1.112486   1.800125  excellent   \n",
       "\n",
       "   price_doc  \n",
       "0    5850000  \n",
       "1    6000000  \n",
       "2    5700000  \n",
       "3   13100000  \n",
       "4   16331452  "
      ]
     },
     "execution_count": 2,
     "metadata": {},
     "output_type": "execute_result"
    }
   ],
   "source": [
    "data_flats = pd.read_csv('data/data_flats.csv', sep=';')\n",
    "pd.set_option('display.max_columns', None)\n",
    "data_flats.head()"
   ]
  },
  {
   "cell_type": "markdown",
   "id": "plain-postage",
   "metadata": {},
   "source": [
    "Для того, чтобы посмотреть на типы данных, запросим информацию о датасете:"
   ]
  },
  {
   "cell_type": "code",
   "execution_count": 3,
   "id": "alike-addition",
   "metadata": {},
   "outputs": [
    {
     "name": "stdout",
     "output_type": "stream",
     "text": [
      "<class 'pandas.core.frame.DataFrame'>\n",
      "RangeIndex: 30469 entries, 0 to 30468\n",
      "Data columns (total 56 columns):\n",
      "id                                       30469 non-null int64\n",
      "full_sq                                  30469 non-null int64\n",
      "life_sq                                  24086 non-null float64\n",
      "floor                                    30302 non-null float64\n",
      "sub_area                                 30469 non-null object\n",
      "preschool_quota                          23781 non-null float64\n",
      "preschool_education_centers_raion        30469 non-null int64\n",
      "school_quota                             23784 non-null float64\n",
      "school_education_centers_raion           30469 non-null int64\n",
      "school_education_centers_top_20_raion    30469 non-null int64\n",
      "hospital_beds_raion                      16029 non-null float64\n",
      "healthcare_centers_raion                 30469 non-null int64\n",
      "university_top_20_raion                  30469 non-null int64\n",
      "sport_objects_raion                      30469 non-null int64\n",
      "additional_education_raion               30469 non-null int64\n",
      "culture_objects_top_25_raion             30469 non-null int64\n",
      "shopping_centers_raion                   30469 non-null int64\n",
      "office_raion                             30469 non-null int64\n",
      "metro_min_avto                           30469 non-null float64\n",
      "metro_km_avto                            30469 non-null float64\n",
      "metro_min_walk                           30444 non-null float64\n",
      "metro_km_walk                            30444 non-null float64\n",
      "kindergarten_km                          30469 non-null float64\n",
      "school_km                                30469 non-null float64\n",
      "park_km                                  30469 non-null float64\n",
      "green_zone_km                            30469 non-null float64\n",
      "industrial_km                            30469 non-null float64\n",
      "railroad_station_walk_km                 30444 non-null float64\n",
      "railroad_station_walk_min                30444 non-null float64\n",
      "public_transport_station_km              30469 non-null float64\n",
      "public_transport_station_min_walk        30469 non-null float64\n",
      "mkad_km                                  30469 non-null float64\n",
      "ttk_km                                   30469 non-null float64\n",
      "sadovoe_km                               30469 non-null float64\n",
      "bulvar_ring_km                           30469 non-null float64\n",
      "kremlin_km                               30469 non-null float64\n",
      "big_market_km                            30469 non-null float64\n",
      "market_shop_km                           30469 non-null float64\n",
      "fitness_km                               30469 non-null float64\n",
      "swim_pool_km                             30469 non-null float64\n",
      "ice_rink_km                              30469 non-null float64\n",
      "stadium_km                               30469 non-null float64\n",
      "basketball_km                            30469 non-null float64\n",
      "hospice_morgue_km                        30469 non-null float64\n",
      "university_km                            30469 non-null float64\n",
      "workplaces_km                            30469 non-null float64\n",
      "shopping_centers_km                      30469 non-null float64\n",
      "office_km                                30469 non-null float64\n",
      "additional_education_km                  30469 non-null float64\n",
      "preschool_km                             30469 non-null float64\n",
      "big_church_km                            30469 non-null float64\n",
      "church_synagogue_km                      30469 non-null float64\n",
      "theater_km                               30469 non-null float64\n",
      "museum_km                                30469 non-null float64\n",
      "ecology                                  30469 non-null object\n",
      "price_doc                                30469 non-null int64\n",
      "dtypes: float64(41), int64(13), object(2)\n",
      "memory usage: 13.0+ MB\n"
     ]
    }
   ],
   "source": [
    "data_flats.info()"
   ]
  },
  {
   "cell_type": "markdown",
   "id": "ahead-columbia",
   "metadata": {},
   "source": [
    "Продолжим готовить к анализу наш Data set, посвященный квартирам, выставленным на продажу. Избавимся от пропусков. Просто удалять данные с пропусками довольно грубо. Однако если у вас большое количество объектов, и лишь крайне малая их доля имеет пропущенные значения, то это возможное допущение. Поступим здесь таким образом. Нас будут интересовать только те квартиры, про которые продавцы заполнили все данные. Удалите, пожалуйста, все строки, где есть хотя бы один пропуск. Сколько объектов осталось?"
   ]
  },
  {
   "cell_type": "code",
   "execution_count": 4,
   "id": "seventh-nothing",
   "metadata": {},
   "outputs": [
    {
     "data": {
      "text/plain": [
       "13652"
      ]
     },
     "execution_count": 4,
     "metadata": {},
     "output_type": "execute_result"
    }
   ],
   "source": [
    "data_flats.dropna().shape[0]"
   ]
  },
  {
   "cell_type": "code",
   "execution_count": null,
   "id": "flying-scene",
   "metadata": {},
   "outputs": [],
   "source": []
  },
  {
   "cell_type": "markdown",
   "id": "enclosed-staff",
   "metadata": {},
   "source": [
    "Загрузите данные train.csv, найдите признак, обозначающий баланс. Нормализуйте признак с помощью std-нормализации. Проверьте, что вы нашли нужный признак и нормализовали его подходящим методом. Метод для нормализации принимает матрицу, а не массив. В numpy можно превратить массив в матрицу с помощью reshape(). В качестве ответа укажите минимальное значение в получившемся нормализованном признаке. Ответ округлите до 5 знаков после запятой."
   ]
  },
  {
   "cell_type": "code",
   "execution_count": 5,
   "id": "naked-steering",
   "metadata": {},
   "outputs": [],
   "source": [
    "vis_data = pd.read_csv(\"data/train.csv\", encoding='ISO-8859-1', low_memory=False)\n",
    "most_popular_state = vis_data['state'].mode()[0]"
   ]
  },
  {
   "cell_type": "code",
   "execution_count": 6,
   "id": "pursuant-gender",
   "metadata": {},
   "outputs": [
    {
     "data": {
      "text/html": [
       "<div>\n",
       "<style scoped>\n",
       "    .dataframe tbody tr th:only-of-type {\n",
       "        vertical-align: middle;\n",
       "    }\n",
       "\n",
       "    .dataframe tbody tr th {\n",
       "        vertical-align: top;\n",
       "    }\n",
       "\n",
       "    .dataframe thead th {\n",
       "        text-align: right;\n",
       "    }\n",
       "</style>\n",
       "<table border=\"1\" class=\"dataframe\">\n",
       "  <thead>\n",
       "    <tr style=\"text-align: right;\">\n",
       "      <th></th>\n",
       "      <th>ticket_id</th>\n",
       "      <th>agency_name</th>\n",
       "      <th>inspector_name</th>\n",
       "      <th>violator_name</th>\n",
       "      <th>violation_street_number</th>\n",
       "      <th>violation_street_name</th>\n",
       "      <th>violation_zip_code</th>\n",
       "      <th>mailing_address_str_number</th>\n",
       "      <th>mailing_address_str_name</th>\n",
       "      <th>city</th>\n",
       "      <th>state</th>\n",
       "      <th>zip_code</th>\n",
       "      <th>non_us_str_code</th>\n",
       "      <th>country</th>\n",
       "      <th>ticket_issued_date</th>\n",
       "      <th>hearing_date</th>\n",
       "      <th>violation_code</th>\n",
       "      <th>violation_description</th>\n",
       "      <th>disposition</th>\n",
       "      <th>fine_amount</th>\n",
       "      <th>admin_fee</th>\n",
       "      <th>state_fee</th>\n",
       "      <th>late_fee</th>\n",
       "      <th>discount_amount</th>\n",
       "      <th>clean_up_cost</th>\n",
       "      <th>judgment_amount</th>\n",
       "      <th>payment_amount</th>\n",
       "      <th>balance_due</th>\n",
       "      <th>payment_date</th>\n",
       "      <th>payment_status</th>\n",
       "      <th>collection_status</th>\n",
       "      <th>grafitti_status</th>\n",
       "      <th>compliance_detail</th>\n",
       "      <th>compliance</th>\n",
       "    </tr>\n",
       "  </thead>\n",
       "  <tbody>\n",
       "    <tr>\n",
       "      <th>0</th>\n",
       "      <td>22056</td>\n",
       "      <td>Buildings, Safety Engineering &amp; Env Department</td>\n",
       "      <td>Sims, Martinzie</td>\n",
       "      <td>INVESTMENT INC., MIDWEST MORTGAGE</td>\n",
       "      <td>2900.0</td>\n",
       "      <td>TYLER</td>\n",
       "      <td>NaN</td>\n",
       "      <td>3.0</td>\n",
       "      <td>S. WICKER</td>\n",
       "      <td>CHICAGO</td>\n",
       "      <td>IL</td>\n",
       "      <td>60606</td>\n",
       "      <td>NaN</td>\n",
       "      <td>USA</td>\n",
       "      <td>2004-03-16 11:40:00</td>\n",
       "      <td>2005-03-21 10:30:00</td>\n",
       "      <td>9-1-36(a)</td>\n",
       "      <td>Failure of owner to obtain certificate of comp...</td>\n",
       "      <td>Responsible by Default</td>\n",
       "      <td>250.0</td>\n",
       "      <td>20.0</td>\n",
       "      <td>10.0</td>\n",
       "      <td>25.0</td>\n",
       "      <td>0.0</td>\n",
       "      <td>0.0</td>\n",
       "      <td>305.0</td>\n",
       "      <td>0.0</td>\n",
       "      <td>305.0</td>\n",
       "      <td>NaN</td>\n",
       "      <td>NO PAYMENT APPLIED</td>\n",
       "      <td>NaN</td>\n",
       "      <td>NaN</td>\n",
       "      <td>non-compliant by no payment</td>\n",
       "      <td>0.0</td>\n",
       "    </tr>\n",
       "    <tr>\n",
       "      <th>1</th>\n",
       "      <td>27586</td>\n",
       "      <td>Buildings, Safety Engineering &amp; Env Department</td>\n",
       "      <td>Williams, Darrin</td>\n",
       "      <td>Michigan, Covenant House</td>\n",
       "      <td>4311.0</td>\n",
       "      <td>CENTRAL</td>\n",
       "      <td>NaN</td>\n",
       "      <td>2959.0</td>\n",
       "      <td>Martin Luther King</td>\n",
       "      <td>Detroit</td>\n",
       "      <td>MI</td>\n",
       "      <td>48208</td>\n",
       "      <td>NaN</td>\n",
       "      <td>USA</td>\n",
       "      <td>2004-04-23 12:30:00</td>\n",
       "      <td>2005-05-06 13:30:00</td>\n",
       "      <td>61-63.0600</td>\n",
       "      <td>Failed To Secure Permit For Lawful Use Of Buil...</td>\n",
       "      <td>Responsible by Determination</td>\n",
       "      <td>750.0</td>\n",
       "      <td>20.0</td>\n",
       "      <td>10.0</td>\n",
       "      <td>75.0</td>\n",
       "      <td>0.0</td>\n",
       "      <td>0.0</td>\n",
       "      <td>855.0</td>\n",
       "      <td>780.0</td>\n",
       "      <td>75.0</td>\n",
       "      <td>2005-06-02 00:00:00</td>\n",
       "      <td>PAID IN FULL</td>\n",
       "      <td>NaN</td>\n",
       "      <td>NaN</td>\n",
       "      <td>compliant by late payment within 1 month</td>\n",
       "      <td>1.0</td>\n",
       "    </tr>\n",
       "  </tbody>\n",
       "</table>\n",
       "</div>"
      ],
      "text/plain": [
       "   ticket_id                                     agency_name  \\\n",
       "0      22056  Buildings, Safety Engineering & Env Department   \n",
       "1      27586  Buildings, Safety Engineering & Env Department   \n",
       "\n",
       "     inspector_name                      violator_name  \\\n",
       "0   Sims, Martinzie  INVESTMENT INC., MIDWEST MORTGAGE   \n",
       "1  Williams, Darrin           Michigan, Covenant House   \n",
       "\n",
       "   violation_street_number violation_street_name  violation_zip_code  \\\n",
       "0                   2900.0                 TYLER                 NaN   \n",
       "1                   4311.0               CENTRAL                 NaN   \n",
       "\n",
       "   mailing_address_str_number mailing_address_str_name     city state  \\\n",
       "0                         3.0                S. WICKER  CHICAGO    IL   \n",
       "1                      2959.0       Martin Luther King  Detroit    MI   \n",
       "\n",
       "  zip_code non_us_str_code country   ticket_issued_date         hearing_date  \\\n",
       "0    60606             NaN     USA  2004-03-16 11:40:00  2005-03-21 10:30:00   \n",
       "1    48208             NaN     USA  2004-04-23 12:30:00  2005-05-06 13:30:00   \n",
       "\n",
       "  violation_code                              violation_description  \\\n",
       "0      9-1-36(a)  Failure of owner to obtain certificate of comp...   \n",
       "1     61-63.0600  Failed To Secure Permit For Lawful Use Of Buil...   \n",
       "\n",
       "                    disposition  fine_amount  admin_fee  state_fee  late_fee  \\\n",
       "0        Responsible by Default        250.0       20.0       10.0      25.0   \n",
       "1  Responsible by Determination        750.0       20.0       10.0      75.0   \n",
       "\n",
       "   discount_amount  clean_up_cost  judgment_amount  payment_amount  \\\n",
       "0              0.0            0.0            305.0             0.0   \n",
       "1              0.0            0.0            855.0           780.0   \n",
       "\n",
       "   balance_due         payment_date      payment_status collection_status  \\\n",
       "0        305.0                  NaN  NO PAYMENT APPLIED               NaN   \n",
       "1         75.0  2005-06-02 00:00:00        PAID IN FULL               NaN   \n",
       "\n",
       "  grafitti_status                         compliance_detail  compliance  \n",
       "0             NaN               non-compliant by no payment         0.0  \n",
       "1             NaN  compliant by late payment within 1 month         1.0  "
      ]
     },
     "execution_count": 6,
     "metadata": {},
     "output_type": "execute_result"
    }
   ],
   "source": [
    "vis_data.head(2)"
   ]
  },
  {
   "cell_type": "code",
   "execution_count": 7,
   "id": "egyptian-poland",
   "metadata": {},
   "outputs": [],
   "source": [
    "from sklearn.preprocessing import StandardScaler\n",
    "scaler = StandardScaler()"
   ]
  },
  {
   "cell_type": "code",
   "execution_count": 8,
   "id": "subsequent-cleveland",
   "metadata": {},
   "outputs": [
    {
     "data": {
      "text/plain": [
       "-13.14733"
      ]
     },
     "execution_count": 8,
     "metadata": {},
     "output_type": "execute_result"
    }
   ],
   "source": [
    "round(scaler.fit_transform(vis_data[['balance_due']]).min(), 5)"
   ]
  },
  {
   "cell_type": "markdown",
   "id": "smooth-skating",
   "metadata": {},
   "source": [
    "Загрузите данные train.csv, найдите признак, обозначающий баланс. Для приведения данных к более нормальному виду часто используют различные преобразования, например, взятие корня от признака.\n",
    "Возьмите корень у положительных значений, найдите медианное и среднее значение. В качестве ответа укажите модуль разницы этих значений."
   ]
  },
  {
   "cell_type": "code",
   "execution_count": 9,
   "id": "southwest-wedding",
   "metadata": {},
   "outputs": [
    {
     "data": {
      "text/plain": [
       "0.4525960609393067"
      ]
     },
     "execution_count": 9,
     "metadata": {},
     "output_type": "execute_result"
    }
   ],
   "source": [
    "vis_data_sqrt = np.sqrt(vis_data.balance_due[vis_data.balance_due > 0])\n",
    "abs(vis_data_sqrt.median() - vis_data_sqrt.mean())"
   ]
  },
  {
   "cell_type": "code",
   "execution_count": null,
   "id": "suffering-reggae",
   "metadata": {},
   "outputs": [],
   "source": []
  },
  {
   "cell_type": "code",
   "execution_count": null,
   "id": "selected-details",
   "metadata": {},
   "outputs": [],
   "source": []
  },
  {
   "cell_type": "code",
   "execution_count": null,
   "id": "reflected-cardiff",
   "metadata": {},
   "outputs": [],
   "source": []
  },
  {
   "cell_type": "markdown",
   "id": "public-viewer",
   "metadata": {},
   "source": [
    "Вернемся к первичному анализу наших данных по квартирам, выставленным на продажу. Предположим, что вы хотите проанализировать состояние цен на квартиры в нескольких  районах : \"Лефортово\", \"Перово\", \"Басманное\" и \"Богородское\". Для того, чтобы сравнить цены на квартирах в этих районах, можно использовать визуализацию с помощью боксплотов. Постройте боксплоты для распределения цен по этим районами (должно получиться четыре боксплота - по одному для каждого района). На основании полученных диаграмм ответьте на вопросы ниже."
   ]
  },
  {
   "cell_type": "code",
   "execution_count": 10,
   "id": "dried-bleeding",
   "metadata": {},
   "outputs": [],
   "source": [
    "import matplotlib.pyplot as plt\n",
    "import seaborn as sns\n",
    "%matplotlib inline"
   ]
  },
  {
   "cell_type": "code",
   "execution_count": 11,
   "id": "perceived-aberdeen",
   "metadata": {},
   "outputs": [],
   "source": [
    "def get_boxplot(df, x_column, y_column):\n",
    "    '''\n",
    "    The method draws the box plot for a particular columns.\n",
    "\n",
    "    Parameters:\n",
    "    df (Pandas DataFrame): Dataset.\n",
    "    x_column (str): A name of a x_column.\n",
    "    y_column (str): A name of a y_column.\n",
    "    '''\n",
    "\n",
    "    fig, ax = plt.subplots(figsize=(14, 8))\n",
    "\n",
    "    sns.boxplot(\n",
    "        x=x_column,\n",
    "        y=y_column,\n",
    "        ax=ax,\n",
    "        data=df.loc[\n",
    "            df.loc[:, x_column].isin(\n",
    "                df.loc[:, x_column].value_counts().index[:10]\n",
    "            )\n",
    "        ]\n",
    "    )\n",
    "\n",
    "    plt.xticks(rotation=45)\n",
    "    ax.set_title('Boxplot for ' + x_column)\n",
    "    plt.show()"
   ]
  },
  {
   "cell_type": "code",
   "execution_count": 12,
   "id": "contemporary-negotiation",
   "metadata": {},
   "outputs": [
    {
     "data": {
      "image/png": "[encoded data removed]",
      "text/plain": [
       "<Figure size 1008x576 with 1 Axes>"
      ]
     },
     "metadata": {
      "needs_background": "light"
     },
     "output_type": "display_data"
    }
   ],
   "source": [
    "df = data_flats[\n",
    "    data_flats['sub_area'].isin(['Lefortovo', 'Perovo', 'Basmannoe', 'Bogorodskoe'])\n",
    "]\n",
    "\n",
    "get_boxplot(df, 'sub_area', 'price_doc')"
   ]
  },
  {
   "cell_type": "code",
   "execution_count": 13,
   "id": "immediate-hayes",
   "metadata": {},
   "outputs": [],
   "source": [
    "latlons_data = pd.read_csv(\"data/latlons.csv\")\n",
    "\n",
    "vis_data = pd.concat([vis_data, latlons_data], axis=1)"
   ]
  },
  {
   "cell_type": "markdown",
   "id": "genuine-recall",
   "metadata": {},
   "source": [
    "Загрузите данные train.csv, найдите признак, обозначающий баланс и признак, обозначающий размер платежа (payment_amount). Создайте полиномиальные признаки степени 3. Посчитайте среднее значение для каждого получившегося признака. В качестве ответа укажите индекс признака, который содержит максимальное среднее значение."
   ]
  },
  {
   "cell_type": "code",
   "execution_count": 14,
   "id": "seven-variation",
   "metadata": {},
   "outputs": [],
   "source": [
    "from sklearn.preprocessing import PolynomialFeatures\n",
    "\n",
    "pf = PolynomialFeatures(3)"
   ]
  },
  {
   "cell_type": "code",
   "execution_count": 15,
   "id": "grand-perception",
   "metadata": {},
   "outputs": [
    {
     "data": {
      "text/plain": [
       "2042000980.3445694"
      ]
     },
     "execution_count": 15,
     "metadata": {},
     "output_type": "execute_result"
    }
   ],
   "source": [
    "poly_features = pf.fit_transform(vis_data[['balance_due', 'payment_amount']])\n",
    "poly_features.mean(axis=0).max()"
   ]
  },
  {
   "cell_type": "markdown",
   "id": "endangered-formula",
   "metadata": {},
   "source": [
    "Загрузите данные train.csv, найдите признак, обозначающий дату, когда был выписан штраф. Найдите, сколько раз штраф был выписан на выходных и запишите это число в качестве ответа."
   ]
  },
  {
   "cell_type": "code",
   "execution_count": 16,
   "id": "grand-puppy",
   "metadata": {},
   "outputs": [],
   "source": [
    "ticket_issued_date = pd.to_datetime(vis_data['ticket_issued_date'].dropna())"
   ]
  },
  {
   "cell_type": "code",
   "execution_count": 17,
   "id": "unlimited-alias",
   "metadata": {},
   "outputs": [
    {
     "data": {
      "text/plain": [
       "1620"
      ]
     },
     "execution_count": 17,
     "metadata": {},
     "output_type": "execute_result"
    }
   ],
   "source": [
    "len(ticket_issued_date[ticket_issued_date.dt.weekday > 4])"
   ]
  },
  {
   "cell_type": "code",
   "execution_count": null,
   "id": "bottom-disclaimer",
   "metadata": {},
   "outputs": [],
   "source": []
  },
  {
   "cell_type": "markdown",
   "id": "published-miami",
   "metadata": {},
   "source": [
    "Ранее мы уже выяснили, что данные о квартирах не все числовые. Есть и признаки, которые содержат текстовые значения : ординальный (уровень экологии) и категориальный (район). Нам обязательно нужно перекодировать эти признаки, так как иначе мы не сможем в дальнейшем работать с этим датасетом и применять на нем какие-то математические алгоритмы. \n",
    "\n",
    "Ординальный признак мы можем перекодировать в числовой довольно простым способом: просто заменить каждое значение на число (4 - 'excellent', 3 - 'good' etc.).\n",
    "\n",
    "Для этого необходимо:\n",
    "\n",
    "- создать словарь, сопоставляющий числовые значения от 0 до 4 описанию экологии от 'no data' до 'excellent' соответственно\n",
    "- заменить значения в колонке ecology на заданные нами выше с помощью метода .replace :"
   ]
  },
  {
   "cell_type": "code",
   "execution_count": 18,
   "id": "active-month",
   "metadata": {},
   "outputs": [
    {
     "data": {
      "text/plain": [
       "poor            8017\n",
       "no data         7656\n",
       "good            7173\n",
       "excellent       3938\n",
       "satisfactory    3685\n",
       "Name: ecology, dtype: int64"
      ]
     },
     "execution_count": 18,
     "metadata": {},
     "output_type": "execute_result"
    }
   ],
   "source": [
    "data_flats['ecology'].value_counts()"
   ]
  },
  {
   "cell_type": "code",
   "execution_count": 19,
   "id": "broken-december",
   "metadata": {},
   "outputs": [],
   "source": [
    "ecology_dict = {\n",
    "    'no data': 0,\n",
    "    'poor': 1,\n",
    "    'satisfactory': 2,\n",
    "    'good': 3,\n",
    "    'excellent': 4\n",
    "}"
   ]
  },
  {
   "cell_type": "code",
   "execution_count": 20,
   "id": "operating-bedroom",
   "metadata": {},
   "outputs": [],
   "source": [
    "data_flats['ecology'] = data_flats['ecology'].replace(to_replace=ecology_dict)"
   ]
  },
  {
   "cell_type": "markdown",
   "id": "exact-cooler",
   "metadata": {},
   "source": [
    "Теперь необходимо разобраться с переменной, содержащей информацию о районе.  Для этого воспользуйтесь методом get_dummies:"
   ]
  },
  {
   "cell_type": "code",
   "execution_count": 27,
   "id": "compatible-elephant",
   "metadata": {},
   "outputs": [
    {
     "data": {
      "text/plain": [
       "Index(['id', 'full_sq', 'life_sq', 'floor', 'preschool_quota',\n",
       "       'preschool_education_centers_raion', 'school_quota',\n",
       "       'school_education_centers_raion',\n",
       "       'school_education_centers_top_20_raion', 'hospital_beds_raion',\n",
       "       ...\n",
       "       'sub_area_Vnukovo', 'sub_area_Vojkovskoe', 'sub_area_Vostochnoe',\n",
       "       'sub_area_Vostochnoe Degunino', 'sub_area_Vostochnoe Izmajlovo',\n",
       "       'sub_area_Vyhino-Zhulebino', 'sub_area_Zamoskvorech'e',\n",
       "       'sub_area_Zapadnoe Degunino', 'sub_area_Zjablikovo',\n",
       "       'sub_area_Zjuzino'],\n",
       "      dtype='object', length=201)"
      ]
     },
     "execution_count": 27,
     "metadata": {},
     "output_type": "execute_result"
    }
   ],
   "source": [
    "columns = pd.get_dummies(data_flats).columns\n",
    "columns"
   ]
  },
  {
   "cell_type": "markdown",
   "id": "centered-summer",
   "metadata": {},
   "source": [
    "Сколько теперь признаков в датасете после перекодировки?"
   ]
  },
  {
   "cell_type": "code",
   "execution_count": 29,
   "id": "applied-flashing",
   "metadata": {},
   "outputs": [
    {
     "data": {
      "text/plain": [
       "201"
      ]
     },
     "execution_count": 29,
     "metadata": {},
     "output_type": "execute_result"
    }
   ],
   "source": [
    "len(columns)"
   ]
  },
  {
   "cell_type": "markdown",
   "id": "shared-austin",
   "metadata": {},
   "source": [
    "Найдите среднее арифметическое для признака \"Экология\". Округлите до сотых"
   ]
  },
  {
   "cell_type": "code",
   "execution_count": 30,
   "id": "advised-doctor",
   "metadata": {},
   "outputs": [
    {
     "data": {
      "text/plain": [
       "1.73"
      ]
     },
     "execution_count": 30,
     "metadata": {},
     "output_type": "execute_result"
    }
   ],
   "source": [
    "round(data_flats['ecology'].mean(), 2)"
   ]
  },
  {
   "cell_type": "code",
   "execution_count": null,
   "id": "operational-insulin",
   "metadata": {},
   "outputs": [],
   "source": []
  }
 ],
 "metadata": {
  "kernelspec": {
   "display_name": "Python 3",
   "language": "python",
   "name": "python3"
  },
  "language_info": {
   "codemirror_mode": {
    "name": "ipython",
    "version": 3
   },
   "file_extension": ".py",
   "mimetype": "text/x-python",
   "name": "python",
   "nbconvert_exporter": "python",
   "pygments_lexer": "ipython3",
   "version": "3.7.7"
  }
 },
 "nbformat": 4,
 "nbformat_minor": 5
}
