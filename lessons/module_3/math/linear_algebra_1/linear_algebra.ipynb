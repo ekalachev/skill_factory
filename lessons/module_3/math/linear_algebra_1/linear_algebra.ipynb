{
  "nbformat": 4,
  "nbformat_minor": 0,
  "metadata": {
    "kernelspec": {
      "display_name": "Python 3",
      "language": "python",
      "name": "python3"
    },
    "language_info": {
      "codemirror_mode": {
        "name": "ipython",
        "version": 3
      },
      "file_extension": ".py",
      "mimetype": "text/x-python",
      "name": "python",
      "nbconvert_exporter": "python",
      "pygments_lexer": "ipython3",
      "version": "3.6.12"
    },
    "colab": {
      "name": "linear_algebra.ipynb",
      "provenance": []
    }
  },
  "cells": [
    {
      "cell_type": "code",
      "metadata": {
        "id": "ms53jXUWRAou"
      },
      "source": [
        "import numpy as np\n",
        "import pandas as pd\n",
        "import matplotlib.pyplot as plt"
      ],
      "execution_count": 1,
      "outputs": []
    },
    {
      "cell_type": "code",
      "metadata": {
        "id": "uqiPpIoR4HFM"
      },
      "source": [
        "# functions\n",
        "\n",
        "def draw_vectors(vectors):\n",
        "  M = np.array(vectors)\n",
        "  origin = np.array([[0, 0, 0], [0, 0, 0]]) # origin point\n",
        "\n",
        "  plt.quiver(*origin, M[:, 0], M[:, 1], color=['r','b','g'], scale=21)\n",
        "  plt.show()"
      ],
      "execution_count": 52,
      "outputs": []
    },
    {
      "cell_type": "markdown",
      "metadata": {
        "id": "TrZZZTDgRAoz"
      },
      "source": [
        "# Линейная комбинация векторов"
      ]
    },
    {
      "cell_type": "markdown",
      "metadata": {
        "id": "Iql4vP4WRAo0"
      },
      "source": [
        "![linear_comb.png](https://github.com/ekalachev/skill_factory/blob/master/lessons/module_3/math/img/linear_comb.png?raw=1)"
      ]
    },
    {
      "cell_type": "code",
      "metadata": {
        "id": "YWJIvdbPRAo0",
        "colab": {
          "base_uri": "https://localhost:8080/"
        },
        "outputId": "c4372a3b-acc8-4b35-ade4-3edeb0a301a4"
      },
      "source": [
        "# решение задачи в коде\n",
        "p = np.array([2, 4, 5])\n",
        "v = np.array([8, 10, 2])\n",
        "s = np.array([0, 12, 7])\n",
        "\n",
        "p*500 + v*100 + s*0"
      ],
      "execution_count": 2,
      "outputs": [
        {
          "output_type": "execute_result",
          "data": {
            "text/plain": [
              "array([1800, 3000, 2700])"
            ]
          },
          "metadata": {
            "tags": []
          },
          "execution_count": 2
        }
      ]
    },
    {
      "cell_type": "markdown",
      "metadata": {
        "id": "OrRintlFRAo1"
      },
      "source": [
        "![null_linear_comb](https://github.com/ekalachev/skill_factory/blob/master/lessons/module_3/math/img/null_linear_comb.png?raw=1)"
      ]
    },
    {
      "cell_type": "markdown",
      "metadata": {
        "id": "M_pB7w9cRAo1"
      },
      "source": [
        "![nv](https://github.com/ekalachev/skill_factory/blob/master/lessons/module_3/math/img/nv.png?raw=1)"
      ]
    },
    {
      "cell_type": "markdown",
      "metadata": {
        "id": "JLts_XmORAo1"
      },
      "source": [
        "![nv2](https://github.com/ekalachev/skill_factory/blob/master/lessons/module_3/math/img/nv2.png?raw=1)"
      ]
    },
    {
      "cell_type": "markdown",
      "metadata": {
        "id": "cw16Ah64RAo2"
      },
      "source": [
        "### Задачи:"
      ]
    },
    {
      "cell_type": "markdown",
      "metadata": {
        "id": "tUycEBaARAo2"
      },
      "source": [
        "#### Юный предприниматель Вовочка мастерит ракеты на водном топливе и продает их. За 4 недели он смастерил 3, 4, 5 и 9 ракет, а продал 1, 5, 3 и 6 ракет соответственно.\n",
        "\n",
        "На изготовление одной ракеты он тратит  рублей, а продаёт их по  рублей за штуку.\n",
        "\n",
        "Найдите вектор прибыли Вовочки за эти 4 недели:"
      ]
    },
    {
      "cell_type": "code",
      "metadata": {
        "id": "9HKngBeARAo2",
        "colab": {
          "base_uri": "https://localhost:8080/"
        },
        "outputId": "447b0d6a-64ac-4341-b9e9-92bbe2b0cf48"
      },
      "source": [
        "made = np.array([3, 4, 5, 9])\n",
        "sold = np.array([1, 5, 3, 6])\n",
        "\n",
        "revenue = sold*400 - made*200\n",
        "\n",
        "print('Ответ:', ', '.join([str(r) for r in revenue]))"
      ],
      "execution_count": 3,
      "outputs": [
        {
          "output_type": "stream",
          "text": [
            "Ответ: -200, 1200, 200, 600\n"
          ],
          "name": "stdout"
        }
      ]
    },
    {
      "cell_type": "markdown",
      "metadata": {
        "id": "65dnwTCORAo2"
      },
      "source": [
        "#### Какие системы векторов являются линейно зависимыми?\n",
        "\n",
        "![lz](https://github.com/ekalachev/skill_factory/blob/master/lessons/module_3/math/img/lz.png?raw=1)"
      ]
    },
    {
      "cell_type": "markdown",
      "metadata": {
        "id": "jCOvx8m_RAo2"
      },
      "source": [
        "# Скалярное произведение векторов\n",
        "\n",
        "Всего есть четыре основных способа умножить векторы:\n",
        "\n",
        "- Скалярное произведение. Результат — число. \n",
        "- Векторное произведение. Результат — вектор.\n",
        "- Смешанное произведение. Результат — число. \n",
        "- Тензорное произведение. Результат — матрица.\n",
        "\n",
        "![sp](https://github.com/ekalachev/skill_factory/blob/master/lessons/module_3/math/img/sp.png?raw=1)"
      ]
    },
    {
      "cell_type": "markdown",
      "metadata": {
        "id": "aIA0pNhoRAo3"
      },
      "source": [
        "![sp2](https://github.com/ekalachev/skill_factory/blob/master/lessons/module_3/math/img/sp2.png?raw=1)"
      ]
    },
    {
      "cell_type": "code",
      "metadata": {
        "id": "JQ05-8dpRAo3",
        "colab": {
          "base_uri": "https://localhost:8080/"
        },
        "outputId": "f8af9a75-3835-428a-bbc2-dfd1cab6c8e4"
      },
      "source": [
        "# решение задачи выше в коде\n",
        "a = np.array([65, 70, 120, 30])\n",
        "b = np.array([0.4, 0.4, 0.2, 0.8])\n",
        "\n",
        "np.dot(a, b)"
      ],
      "execution_count": 4,
      "outputs": [
        {
          "output_type": "execute_result",
          "data": {
            "text/plain": [
              "102.0"
            ]
          },
          "metadata": {
            "tags": []
          },
          "execution_count": 4
        }
      ]
    },
    {
      "cell_type": "markdown",
      "metadata": {
        "id": "pJfrb2_kRAo3"
      },
      "source": [
        "## Длина вектора\n",
        "\n",
        "![pv](https://github.com/ekalachev/skill_factory/blob/master/lessons/module_3/math/img/pv.png?raw=1)"
      ]
    },
    {
      "cell_type": "markdown",
      "metadata": {
        "id": "T3_60ZqxRAo3"
      },
      "source": [
        "## Свойство скалярного произведения векторов (линейность)\n",
        "\n",
        "![pvl](https://github.com/ekalachev/skill_factory/blob/master/lessons/module_3/math/img/pvl.png?raw=1)"
      ]
    },
    {
      "cell_type": "code",
      "metadata": {
        "id": "tjnGhobGRAo3",
        "colab": {
          "base_uri": "https://localhost:8080/"
        },
        "outputId": "16cc4368-1203-46a8-aa91-89d4edf4f512"
      },
      "source": [
        "np.dot(np.array([4,5,-1]), np.array([2,0,1]))"
      ],
      "execution_count": 5,
      "outputs": [
        {
          "output_type": "execute_result",
          "data": {
            "text/plain": [
              "7"
            ]
          },
          "metadata": {
            "tags": []
          },
          "execution_count": 5
        }
      ]
    },
    {
      "cell_type": "code",
      "metadata": {
        "id": "ZWbn2zzuRAo4"
      },
      "source": [
        ""
      ],
      "execution_count": 5,
      "outputs": []
    },
    {
      "cell_type": "markdown",
      "metadata": {
        "id": "L9p2xo-mRAo4"
      },
      "source": [
        "# Матрицы\n",
        "\n",
        "![matrix1](https://github.com/ekalachev/skill_factory/blob/master/lessons/module_3/math/img/matrix1.png?raw=1)\n",
        "![matrix2](https://github.com/ekalachev/skill_factory/blob/master/lessons/module_3/math/img/matrix2.png?raw=1)\n",
        "![matrix3](https://github.com/ekalachev/skill_factory/blob/master/lessons/module_3/math/img/matrix3.png?raw=1)\n",
        "![matrix4](https://github.com/ekalachev/skill_factory/blob/master/lessons/module_3/math/img/matrix4.png?raw=1)\n",
        "![matrix5](https://github.com/ekalachev/skill_factory/blob/master/lessons/module_3/math/img/matrix5.png?raw=1)\n",
        "![matrix6](https://github.com/ekalachev/skill_factory/blob/master/lessons/module_3/math/img/matrix6.png?raw=1)\n",
        "![matrix7](https://github.com/ekalachev/skill_factory/blob/master/lessons/module_3/math/img/matrix7.png?raw=1)\n",
        "![matrix8](https://github.com/ekalachev/skill_factory/blob/master/lessons/module_3/math/img/matrix8.png?raw=1)\n",
        "![matrix9](https://github.com/ekalachev/skill_factory/blob/master/lessons/module_3/math/img/matrix9.png?raw=1)\n",
        "![matrix10](https://github.com/ekalachev/skill_factory/blob/master/lessons/module_3/math/img/matrix10.png?raw=1)"
      ]
    },
    {
      "cell_type": "code",
      "metadata": {
        "id": "SOArxgqgRAo4",
        "colab": {
          "base_uri": "https://localhost:8080/"
        },
        "outputId": "35bc84e7-3061-4c46-b4ef-7dc4d024048c"
      },
      "source": [
        "A = np.array([[1, -5, 3], [2, 2, 1], [0, 3, 1], [2, 4, 12]])\n",
        "A"
      ],
      "execution_count": 6,
      "outputs": [
        {
          "output_type": "execute_result",
          "data": {
            "text/plain": [
              "array([[ 1, -5,  3],\n",
              "       [ 2,  2,  1],\n",
              "       [ 0,  3,  1],\n",
              "       [ 2,  4, 12]])"
            ]
          },
          "metadata": {
            "tags": []
          },
          "execution_count": 6
        }
      ]
    },
    {
      "cell_type": "code",
      "metadata": {
        "id": "7R3tJGSgRAo5",
        "colab": {
          "base_uri": "https://localhost:8080/"
        },
        "outputId": "2b123849-dc1a-415a-c3ca-0220ec1881be"
      },
      "source": [
        "A2 = np.matrix(\"1,-5;2,2;0,3\")\n",
        "A2"
      ],
      "execution_count": 7,
      "outputs": [
        {
          "output_type": "execute_result",
          "data": {
            "text/plain": [
              "matrix([[ 1, -5],\n",
              "        [ 2,  2],\n",
              "        [ 0,  3]])"
            ]
          },
          "metadata": {
            "tags": []
          },
          "execution_count": 7
        }
      ]
    },
    {
      "cell_type": "markdown",
      "metadata": {
        "id": "OguuAWkfRAo5"
      },
      "source": [
        "## Транспонирование матрицы\n",
        "При транспонировании строки матрицы записываются в столбцы и матрица переворачивается."
      ]
    },
    {
      "cell_type": "code",
      "metadata": {
        "id": "He3qTEHLRAo5",
        "colab": {
          "base_uri": "https://localhost:8080/"
        },
        "outputId": "f1968148-659d-4d71-be47-8c86de25017f"
      },
      "source": [
        "A2"
      ],
      "execution_count": 8,
      "outputs": [
        {
          "output_type": "execute_result",
          "data": {
            "text/plain": [
              "matrix([[ 1, -5],\n",
              "        [ 2,  2],\n",
              "        [ 0,  3]])"
            ]
          },
          "metadata": {
            "tags": []
          },
          "execution_count": 8
        }
      ]
    },
    {
      "cell_type": "code",
      "metadata": {
        "id": "kMR9g4mvRAo5",
        "colab": {
          "base_uri": "https://localhost:8080/"
        },
        "outputId": "feb6b1a2-efe1-4a0d-9d45-8cfa05fdcd1e"
      },
      "source": [
        "A2.T"
      ],
      "execution_count": 9,
      "outputs": [
        {
          "output_type": "execute_result",
          "data": {
            "text/plain": [
              "matrix([[ 1,  2,  0],\n",
              "        [-5,  2,  3]])"
            ]
          },
          "metadata": {
            "tags": []
          },
          "execution_count": 9
        }
      ]
    },
    {
      "cell_type": "markdown",
      "metadata": {
        "id": "EFopuBFnRAo5"
      },
      "source": [
        "## Ранг матрицы\n",
        "\n",
        "![matrix10](https://github.com/ekalachev/skill_factory/blob/master/lessons/module_3/math/img/matrix_rang.png?raw=1)"
      ]
    },
    {
      "cell_type": "code",
      "metadata": {
        "id": "bxO6XsG_RAo5"
      },
      "source": [
        "A = np.matrix(\"1,2,3; 4,5,6; 7,8,10\")"
      ],
      "execution_count": 10,
      "outputs": []
    },
    {
      "cell_type": "code",
      "metadata": {
        "id": "1F-3Mu7ZRAo6",
        "colab": {
          "base_uri": "https://localhost:8080/"
        },
        "outputId": "5efa330f-228a-407d-9a7a-0f2129d992a1"
      },
      "source": [
        "A"
      ],
      "execution_count": 11,
      "outputs": [
        {
          "output_type": "execute_result",
          "data": {
            "text/plain": [
              "matrix([[ 1,  2,  3],\n",
              "        [ 4,  5,  6],\n",
              "        [ 7,  8, 10]])"
            ]
          },
          "metadata": {
            "tags": []
          },
          "execution_count": 11
        }
      ]
    },
    {
      "cell_type": "code",
      "metadata": {
        "id": "AON3_UVSWK4N",
        "colab": {
          "base_uri": "https://localhost:8080/"
        },
        "outputId": "903e361f-34ad-4183-84ff-c30520a4792e"
      },
      "source": [
        "np.linalg.det(A)"
      ],
      "execution_count": 12,
      "outputs": [
        {
          "output_type": "execute_result",
          "data": {
            "text/plain": [
              "-2.9999999999999996"
            ]
          },
          "metadata": {
            "tags": []
          },
          "execution_count": 12
        }
      ]
    },
    {
      "cell_type": "code",
      "metadata": {
        "id": "i8GZ7DFpRGWw",
        "colab": {
          "base_uri": "https://localhost:8080/"
        },
        "outputId": "d8087459-db06-4ede-9ab9-15b56d75f5e5"
      },
      "source": [
        "np.linalg.det(A) == np.linalg.det(A.T)"
      ],
      "execution_count": 13,
      "outputs": [
        {
          "output_type": "execute_result",
          "data": {
            "text/plain": [
              "True"
            ]
          },
          "metadata": {
            "tags": []
          },
          "execution_count": 13
        }
      ]
    },
    {
      "cell_type": "markdown",
      "metadata": {
        "id": "nqCemSXyW87z"
      },
      "source": [
        "**Задача**\n",
        "\n",
        "![task1](https://github.com/ekalachev/skill_factory/blob/master/lessons/module_3/math/img/task1.png?raw=1)"
      ]
    },
    {
      "cell_type": "code",
      "metadata": {
        "id": "9cWCGFpbXGo5"
      },
      "source": [
        "v1 = np.array([1,2,3,1])\n",
        "v2 = np.array([4,5,6,1])\n",
        "v3 = np.array([7,8,9,1])\n",
        "A = np.array([v1,v2,v3]).T"
      ],
      "execution_count": 14,
      "outputs": []
    },
    {
      "cell_type": "code",
      "metadata": {
        "id": "o5Sz6k73XFlA",
        "colab": {
          "base_uri": "https://localhost:8080/"
        },
        "outputId": "98ec02ef-3c68-4f34-ff7c-9697e5083ae6"
      },
      "source": [
        "A"
      ],
      "execution_count": 15,
      "outputs": [
        {
          "output_type": "execute_result",
          "data": {
            "text/plain": [
              "array([[1, 4, 7],\n",
              "       [2, 5, 8],\n",
              "       [3, 6, 9],\n",
              "       [1, 1, 1]])"
            ]
          },
          "metadata": {
            "tags": []
          },
          "execution_count": 15
        }
      ]
    },
    {
      "cell_type": "code",
      "metadata": {
        "id": "Pw7JuE65ZM-4",
        "colab": {
          "base_uri": "https://localhost:8080/"
        },
        "outputId": "2084f064-1170-4e24-fece-e3e408c325d2"
      },
      "source": [
        "np.linalg.matrix_rank(A)"
      ],
      "execution_count": 16,
      "outputs": [
        {
          "output_type": "execute_result",
          "data": {
            "text/plain": [
              "2"
            ]
          },
          "metadata": {
            "tags": []
          },
          "execution_count": 16
        }
      ]
    },
    {
      "cell_type": "markdown",
      "metadata": {
        "id": "_2K_xSAoZdEy"
      },
      "source": [
        "Мы видим, что ранг системы равен 2, а векторов в ней 3, значит, система линейно зависима. В качестве базиса можем взять любые два вектора.\n",
        "\n",
        "Свойства ранга\n",
        "1. Если  А — прямоугольная матрица размера m × k, то rk(A) ≤ min(m, k).\n",
        "2. Если rk(A) = min(m, k), то А —матрица максимального ранга.\n",
        "3. Квадратная матрица А размера n × n обратима, если:\n",
        "  - det(A) ≠ 0\n",
        "  - столбцы (или строки) матрицы А линейно независимы \n",
        "  - rk(A) = n\n",
        "4. Квадратная матрица А размера n × n вырождена, если:\n",
        "  - rk(A) < n\n",
        "  - Чем меньше rk(A), тем более вырождена A\n",
        "\n",
        "**Для успешного построения регрессий необходимо научиться избавляться от линейной зависимости**"
      ]
    },
    {
      "cell_type": "markdown",
      "metadata": {
        "id": "PtAYubzMemqz"
      },
      "source": [
        "### Задача\n",
        "\n",
        "![task2](https://github.com/ekalachev/skill_factory/blob/master/lessons/module_3/math/img/task2.png?raw=1)"
      ]
    },
    {
      "cell_type": "code",
      "metadata": {
        "id": "OwqDVpuNd1cy"
      },
      "source": [
        "v1 = np.array([4,0])\n",
        "v2 = np.array([1,1])\n",
        "v3 = np.array([6,4])\n",
        "A = np.array([v1,v2,v3]).T"
      ],
      "execution_count": 17,
      "outputs": []
    },
    {
      "cell_type": "code",
      "metadata": {
        "id": "Y3K69vjmd_3E",
        "colab": {
          "base_uri": "https://localhost:8080/"
        },
        "outputId": "642fda9c-802a-4652-870b-ee35c213b404"
      },
      "source": [
        "A"
      ],
      "execution_count": 18,
      "outputs": [
        {
          "output_type": "execute_result",
          "data": {
            "text/plain": [
              "array([[4, 1, 6],\n",
              "       [0, 1, 4]])"
            ]
          },
          "metadata": {
            "tags": []
          },
          "execution_count": 18
        }
      ]
    },
    {
      "cell_type": "code",
      "metadata": {
        "id": "vHVD3n_XeAXx",
        "colab": {
          "base_uri": "https://localhost:8080/"
        },
        "outputId": "7c6639a9-5520-4c1e-c35e-a64772b218ca"
      },
      "source": [
        "np.linalg.matrix_rank(A)"
      ],
      "execution_count": 19,
      "outputs": [
        {
          "output_type": "execute_result",
          "data": {
            "text/plain": [
              "2"
            ]
          },
          "metadata": {
            "tags": []
          },
          "execution_count": 19
        }
      ]
    },
    {
      "cell_type": "markdown",
      "metadata": {
        "id": "oYc7uRw4e1OM"
      },
      "source": [
        "Мы видим, что ранг системы равен 2, а векторов в ней 3, значит, система линейно зависима."
      ]
    },
    {
      "cell_type": "code",
      "metadata": {
        "id": "ZuSDg8a5eGWb",
        "colab": {
          "base_uri": "https://localhost:8080/"
        },
        "outputId": "2e8ef7b2-85f6-4663-9e7d-677e055d9419"
      },
      "source": [
        "print(np.linalg.matrix_rank(np.array([v1,v2]).T))\n",
        "print(np.linalg.matrix_rank(np.array([v1,v3]).T))\n",
        "print(np.linalg.matrix_rank(np.array([v2,v3]).T))"
      ],
      "execution_count": 20,
      "outputs": [
        {
          "output_type": "stream",
          "text": [
            "2\n",
            "2\n",
            "2\n"
          ],
          "name": "stdout"
        }
      ]
    },
    {
      "cell_type": "markdown",
      "metadata": {
        "id": "RxG-xzPYfOxn"
      },
      "source": [
        "Ответ: Попарно линейно независимы (то есть каждая пара линейно независима)"
      ]
    },
    {
      "cell_type": "markdown",
      "metadata": {
        "id": "yuz1csNdiR09"
      },
      "source": [
        "### Задача\n",
        "\n",
        "![task3](https://github.com/ekalachev/skill_factory/blob/master/lessons/module_3/math/img/task3.png?raw=1)"
      ]
    },
    {
      "cell_type": "code",
      "metadata": {
        "id": "dY1drNTbfBY0"
      },
      "source": [
        "v1 = np.array([4,1])\n",
        "v2 = np.array([0,0])\n",
        "A = np.array([v1,v2]).T"
      ],
      "execution_count": 21,
      "outputs": []
    },
    {
      "cell_type": "code",
      "metadata": {
        "colab": {
          "base_uri": "https://localhost:8080/"
        },
        "id": "9XvW4_vbhREY",
        "outputId": "176fc557-45f3-450d-d9f8-416b2f4b4ccf"
      },
      "source": [
        "A"
      ],
      "execution_count": 22,
      "outputs": [
        {
          "output_type": "execute_result",
          "data": {
            "text/plain": [
              "array([[4, 0],\n",
              "       [1, 0]])"
            ]
          },
          "metadata": {
            "tags": []
          },
          "execution_count": 22
        }
      ]
    },
    {
      "cell_type": "code",
      "metadata": {
        "colab": {
          "base_uri": "https://localhost:8080/"
        },
        "id": "Pv17tKPOhVWX",
        "outputId": "18fc65d6-61e7-466d-b3a3-235f68a09c13"
      },
      "source": [
        "np.linalg.matrix_rank(A)"
      ],
      "execution_count": 23,
      "outputs": [
        {
          "output_type": "execute_result",
          "data": {
            "text/plain": [
              "1"
            ]
          },
          "metadata": {
            "tags": []
          },
          "execution_count": 23
        }
      ]
    },
    {
      "cell_type": "markdown",
      "metadata": {
        "id": "KJEw0MACifVH"
      },
      "source": [
        "Мы видим, что ранг системы равен 1, а векторов в ней 2, значит, система линейно зависима."
      ]
    },
    {
      "cell_type": "code",
      "metadata": {
        "colab": {
          "base_uri": "https://localhost:8080/"
        },
        "id": "oY5SDcsGhZEy",
        "outputId": "40e65cf7-d875-4fc6-9873-0b8932591239"
      },
      "source": [
        "np.linalg.det(A)"
      ],
      "execution_count": 24,
      "outputs": [
        {
          "output_type": "execute_result",
          "data": {
            "text/plain": [
              "0.0"
            ]
          },
          "metadata": {
            "tags": []
          },
          "execution_count": 24
        }
      ]
    },
    {
      "cell_type": "markdown",
      "metadata": {
        "id": "JolZcYOZiCrT"
      },
      "source": [
        "Квадратная матрица обратима тогда и только тогда, когда она невырождена, то есть её определитель не равен нулю."
      ]
    },
    {
      "cell_type": "markdown",
      "metadata": {
        "id": "qpUxiF2Wi9JX"
      },
      "source": [
        "### Задача\n",
        "\n"
      ]
    },
    {
      "cell_type": "code",
      "metadata": {
        "id": "PIljCm6Shn4W"
      },
      "source": [
        "a = np.array([4,1,0])\n",
        "b = np.array([-1,4,0])\n",
        "c = np.array([0,0,1])"
      ],
      "execution_count": 54,
      "outputs": []
    },
    {
      "cell_type": "markdown",
      "metadata": {
        "id": "D9OpTZ0NkMtl"
      },
      "source": [
        "#### Попарно линейно независимы (то есть каждая пара неколлинеарна) (Да)"
      ]
    },
    {
      "cell_type": "code",
      "metadata": {
        "colab": {
          "base_uri": "https://localhost:8080/"
        },
        "id": "dBAaUIwYjYqE",
        "outputId": "0bfc10dc-ad80-4700-b868-073e2ec36a0d"
      },
      "source": [
        "np.linalg.matrix_rank(np.array([a,b]).T)"
      ],
      "execution_count": 26,
      "outputs": [
        {
          "output_type": "execute_result",
          "data": {
            "text/plain": [
              "2"
            ]
          },
          "metadata": {
            "tags": []
          },
          "execution_count": 26
        }
      ]
    },
    {
      "cell_type": "code",
      "metadata": {
        "colab": {
          "base_uri": "https://localhost:8080/"
        },
        "id": "EWnw0QRpkBfD",
        "outputId": "b23516eb-907f-420f-dd69-39a886e591d8"
      },
      "source": [
        "np.linalg.matrix_rank(np.array([a,c]).T)"
      ],
      "execution_count": 27,
      "outputs": [
        {
          "output_type": "execute_result",
          "data": {
            "text/plain": [
              "2"
            ]
          },
          "metadata": {
            "tags": []
          },
          "execution_count": 27
        }
      ]
    },
    {
      "cell_type": "code",
      "metadata": {
        "colab": {
          "base_uri": "https://localhost:8080/"
        },
        "id": "clddT4FYkEdn",
        "outputId": "8b8d43ae-7f94-4599-8330-b0b06ec13666"
      },
      "source": [
        "np.linalg.matrix_rank(np.array([b,c]).T)"
      ],
      "execution_count": 28,
      "outputs": [
        {
          "output_type": "execute_result",
          "data": {
            "text/plain": [
              "2"
            ]
          },
          "metadata": {
            "tags": []
          },
          "execution_count": 28
        }
      ]
    },
    {
      "cell_type": "markdown",
      "metadata": {
        "id": "mrFhuSSGkZ8Z"
      },
      "source": [
        "#### Линейно независимы в целом (Да)"
      ]
    },
    {
      "cell_type": "code",
      "metadata": {
        "colab": {
          "base_uri": "https://localhost:8080/"
        },
        "id": "hOHk0HFekGeY",
        "outputId": "fcc3bfe6-11f9-4532-9937-444a5a3d3a51"
      },
      "source": [
        "np.linalg.matrix_rank(np.array([a,b,c]).T)"
      ],
      "execution_count": 29,
      "outputs": [
        {
          "output_type": "execute_result",
          "data": {
            "text/plain": [
              "3"
            ]
          },
          "metadata": {
            "tags": []
          },
          "execution_count": 29
        }
      ]
    },
    {
      "cell_type": "markdown",
      "metadata": {
        "id": "NC-Seh3_l61E"
      },
      "source": [
        "#### Попарно ортогональны (то есть каждая пара ортогональна) (Да)\n",
        "\n",
        "Вектора ортогональны если:\n",
        "**a · b = ax · bx + ay · by + az · bz = 0**\n",
        "\n",
        "В Python: **a.dot(b)**"
      ]
    },
    {
      "cell_type": "code",
      "metadata": {
        "colab": {
          "base_uri": "https://localhost:8080/"
        },
        "id": "949wIRYCkW2I",
        "outputId": "59a1fb1a-b156-4833-cb99-5b94994358b4"
      },
      "source": [
        "a.dot(b)"
      ],
      "execution_count": 30,
      "outputs": [
        {
          "output_type": "execute_result",
          "data": {
            "text/plain": [
              "0"
            ]
          },
          "metadata": {
            "tags": []
          },
          "execution_count": 30
        }
      ]
    },
    {
      "cell_type": "code",
      "metadata": {
        "colab": {
          "base_uri": "https://localhost:8080/"
        },
        "id": "iv6sP1onmAd4",
        "outputId": "f2bb9f10-d1c2-4bfc-ce59-bf37574905d6"
      },
      "source": [
        "a.dot(c)"
      ],
      "execution_count": 31,
      "outputs": [
        {
          "output_type": "execute_result",
          "data": {
            "text/plain": [
              "0"
            ]
          },
          "metadata": {
            "tags": []
          },
          "execution_count": 31
        }
      ]
    },
    {
      "cell_type": "code",
      "metadata": {
        "colab": {
          "base_uri": "https://localhost:8080/"
        },
        "id": "Ycs47eNbmNml",
        "outputId": "b9cf5129-8c91-4d1e-b25a-d5ad88c89efa"
      },
      "source": [
        "b.dot(c)"
      ],
      "execution_count": 32,
      "outputs": [
        {
          "output_type": "execute_result",
          "data": {
            "text/plain": [
              "0"
            ]
          },
          "metadata": {
            "tags": []
          },
          "execution_count": 32
        }
      ]
    },
    {
      "cell_type": "code",
      "metadata": {
        "id": "J8zVU8Tx1-75",
        "outputId": "3c5c2a7b-7f45-42f0-bf01-92e269770624",
        "colab": {
          "base_uri": "https://localhost:8080/",
          "height": 265
        }
      },
      "source": [
        "draw_vectors([a,b,c]) # вектор c визуально не виден из-за его размеров"
      ],
      "execution_count": 56,
      "outputs": [
        {
          "output_type": "display_data",
          "data": {
            "image/png": "[encoded data removed]",
            "text/plain": [
              "<Figure size 432x288 with 1 Axes>"
            ]
          },
          "metadata": {
            "tags": [],
            "needs_background": "light"
          }
        }
      ]
    },
    {
      "cell_type": "markdown",
      "metadata": {
        "id": "VuKH41g1pnR3"
      },
      "source": [
        "### Задача\n",
        "\n",
        "![task4](https://github.com/ekalachev/skill_factory/blob/master/lessons/module_3/math/img/task4.png?raw=1)"
      ]
    },
    {
      "cell_type": "code",
      "metadata": {
        "id": "42qzr1e8mPb8"
      },
      "source": [
        "A = np.matrix(\"1,0,3,5; 0,4,5,5; 0,0,0,0; 0,0,0,0\")\n",
        "B = np.matrix(\"1,0,3,5; 0,4,5,5; 0,0,0,4; 0,0,0,0\")"
      ],
      "execution_count": 33,
      "outputs": []
    },
    {
      "cell_type": "code",
      "metadata": {
        "colab": {
          "base_uri": "https://localhost:8080/"
        },
        "id": "mz8dLyusqH9i",
        "outputId": "56c08753-cf6b-4b74-f551-9dfef42b6ab3"
      },
      "source": [
        "np.linalg.matrix_rank(A)"
      ],
      "execution_count": 34,
      "outputs": [
        {
          "output_type": "execute_result",
          "data": {
            "text/plain": [
              "2"
            ]
          },
          "metadata": {
            "tags": []
          },
          "execution_count": 34
        }
      ]
    },
    {
      "cell_type": "code",
      "metadata": {
        "colab": {
          "base_uri": "https://localhost:8080/"
        },
        "id": "dLJavEalqMLG",
        "outputId": "e4a8c088-857e-4f36-cad7-dc612fbb5778"
      },
      "source": [
        "np.linalg.matrix_rank(B)"
      ],
      "execution_count": 35,
      "outputs": [
        {
          "output_type": "execute_result",
          "data": {
            "text/plain": [
              "3"
            ]
          },
          "metadata": {
            "tags": []
          },
          "execution_count": 35
        }
      ]
    }
  ]
}