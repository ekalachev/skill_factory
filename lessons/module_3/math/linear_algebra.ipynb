{
  "nbformat": 4,
  "nbformat_minor": 0,
  "metadata": {
    "kernelspec": {
      "display_name": "Python 3",
      "language": "python",
      "name": "python3"
    },
    "language_info": {
      "codemirror_mode": {
        "name": "ipython",
        "version": 3
      },
      "file_extension": ".py",
      "mimetype": "text/x-python",
      "name": "python",
      "nbconvert_exporter": "python",
      "pygments_lexer": "ipython3",
      "version": "3.6.12"
    },
    "colab": {
      "name": "linear_algebra.ipynb",
      "provenance": []
    }
  },
  "cells": [
    {
      "cell_type": "code",
      "metadata": {
        "id": "ms53jXUWRAou"
      },
      "source": [
        "import numpy as np\n",
        "import pandas as pd"
      ],
      "execution_count": 102,
      "outputs": []
    },
    {
      "cell_type": "markdown",
      "metadata": {
        "id": "TrZZZTDgRAoz"
      },
      "source": [
        "# Линейная комбинация векторов"
      ]
    },
    {
      "cell_type": "markdown",
      "metadata": {
        "id": "Iql4vP4WRAo0"
      },
      "source": [
        "![linear_comb.png](https://github.com/ekalachev/skill_factory/blob/master/lessons/module_3/math/img/linear_comb.png?raw=1)"
      ]
    },
    {
      "cell_type": "code",
      "metadata": {
        "id": "YWJIvdbPRAo0",
        "colab": {
          "base_uri": "https://localhost:8080/"
        },
        "outputId": "767c870a-11b4-4ec6-c132-c9fae958590b"
      },
      "source": [
        "# решение задачи в коде\n",
        "p = np.array([2, 4, 5])\n",
        "v = np.array([8, 10, 2])\n",
        "s = np.array([0, 12, 7])\n",
        "\n",
        "p*500 + v*100 + s*0"
      ],
      "execution_count": 103,
      "outputs": [
        {
          "output_type": "execute_result",
          "data": {
            "text/plain": [
              "array([1800, 3000, 2700])"
            ]
          },
          "metadata": {
            "tags": []
          },
          "execution_count": 103
        }
      ]
    },
    {
      "cell_type": "markdown",
      "metadata": {
        "id": "OrRintlFRAo1"
      },
      "source": [
        "![null_linear_comb](https://github.com/ekalachev/skill_factory/blob/master/lessons/module_3/math/img/null_linear_comb.png?raw=1)"
      ]
    },
    {
      "cell_type": "markdown",
      "metadata": {
        "id": "M_pB7w9cRAo1"
      },
      "source": [
        "![nv](https://github.com/ekalachev/skill_factory/blob/master/lessons/module_3/math/img/nv.png?raw=1)"
      ]
    },
    {
      "cell_type": "markdown",
      "metadata": {
        "id": "JLts_XmORAo1"
      },
      "source": [
        "![nv2](https://github.com/ekalachev/skill_factory/blob/master/lessons/module_3/math/img/nv2.png?raw=1)"
      ]
    },
    {
      "cell_type": "markdown",
      "metadata": {
        "id": "cw16Ah64RAo2"
      },
      "source": [
        "### Задачи:"
      ]
    },
    {
      "cell_type": "markdown",
      "metadata": {
        "id": "tUycEBaARAo2"
      },
      "source": [
        "#### Юный предприниматель Вовочка мастерит ракеты на водном топливе и продает их. За 4 недели он смастерил 3, 4, 5 и 9 ракет, а продал 1, 5, 3 и 6 ракет соответственно.\n",
        "\n",
        "На изготовление одной ракеты он тратит  рублей, а продаёт их по  рублей за штуку.\n",
        "\n",
        "Найдите вектор прибыли Вовочки за эти 4 недели:"
      ]
    },
    {
      "cell_type": "code",
      "metadata": {
        "id": "9HKngBeARAo2",
        "colab": {
          "base_uri": "https://localhost:8080/"
        },
        "outputId": "f2e7c920-6b14-41f6-852d-8a692046402e"
      },
      "source": [
        "made = np.array([3, 4, 5, 9])\n",
        "sold = np.array([1, 5, 3, 6])\n",
        "\n",
        "revenue = sold*400 - made*200\n",
        "\n",
        "print('Ответ:', ', '.join([str(r) for r in revenue]))"
      ],
      "execution_count": 104,
      "outputs": [
        {
          "output_type": "stream",
          "text": [
            "Ответ: -200, 1200, 200, 600\n"
          ],
          "name": "stdout"
        }
      ]
    },
    {
      "cell_type": "markdown",
      "metadata": {
        "id": "65dnwTCORAo2"
      },
      "source": [
        "#### Какие системы векторов являются линейно зависимыми?\n",
        "\n",
        "![lz](https://github.com/ekalachev/skill_factory/blob/master/lessons/module_3/math/img/lz.png?raw=1)"
      ]
    },
    {
      "cell_type": "markdown",
      "metadata": {
        "id": "jCOvx8m_RAo2"
      },
      "source": [
        "# Скалярное произведение векторов\n",
        "\n",
        "Всего есть четыре основных способа умножить векторы:\n",
        "\n",
        "- Скалярное произведение. Результат — число. \n",
        "- Векторное произведение. Результат — вектор.\n",
        "- Смешанное произведение. Результат — число. \n",
        "- Тензорное произведение. Результат — матрица.\n",
        "\n",
        "![sp](https://github.com/ekalachev/skill_factory/blob/master/lessons/module_3/math/img/sp.png?raw=1)"
      ]
    },
    {
      "cell_type": "markdown",
      "metadata": {
        "id": "aIA0pNhoRAo3"
      },
      "source": [
        "![sp2](https://github.com/ekalachev/skill_factory/blob/master/lessons/module_3/math/img/sp2.png?raw=1)"
      ]
    },
    {
      "cell_type": "code",
      "metadata": {
        "id": "JQ05-8dpRAo3",
        "colab": {
          "base_uri": "https://localhost:8080/"
        },
        "outputId": "7a1d58da-9b81-4264-b09f-7232089042ab"
      },
      "source": [
        "# решение задачи выше в коде\n",
        "a = np.array([65, 70, 120, 30])\n",
        "b = np.array([0.4, 0.4, 0.2, 0.8])\n",
        "\n",
        "np.dot(a, b)"
      ],
      "execution_count": 105,
      "outputs": [
        {
          "output_type": "execute_result",
          "data": {
            "text/plain": [
              "102.0"
            ]
          },
          "metadata": {
            "tags": []
          },
          "execution_count": 105
        }
      ]
    },
    {
      "cell_type": "markdown",
      "metadata": {
        "id": "pJfrb2_kRAo3"
      },
      "source": [
        "## Длина вектора\n",
        "\n",
        "![pv](https://github.com/ekalachev/skill_factory/blob/master/lessons/module_3/math/img/pv.png?raw=1)"
      ]
    },
    {
      "cell_type": "markdown",
      "metadata": {
        "id": "T3_60ZqxRAo3"
      },
      "source": [
        "## Свойство скалярного произведения векторов (линейность)\n",
        "\n",
        "![pvl](https://github.com/ekalachev/skill_factory/blob/master/lessons/module_3/math/img/pvl.png?raw=1)"
      ]
    },
    {
      "cell_type": "code",
      "metadata": {
        "id": "tjnGhobGRAo3",
        "colab": {
          "base_uri": "https://localhost:8080/"
        },
        "outputId": "12b55df8-79cd-4809-f5f1-00f6435ba7f2"
      },
      "source": [
        "np.dot(np.array([4,5,-1]), np.array([2,0,1]))"
      ],
      "execution_count": 106,
      "outputs": [
        {
          "output_type": "execute_result",
          "data": {
            "text/plain": [
              "7"
            ]
          },
          "metadata": {
            "tags": []
          },
          "execution_count": 106
        }
      ]
    },
    {
      "cell_type": "code",
      "metadata": {
        "id": "xgP3_jpvRAo4"
      },
      "source": [
        ""
      ],
      "execution_count": 106,
      "outputs": []
    },
    {
      "cell_type": "code",
      "metadata": {
        "id": "eMFSOacYRAo4"
      },
      "source": [
        ""
      ],
      "execution_count": 106,
      "outputs": []
    },
    {
      "cell_type": "code",
      "metadata": {
        "id": "4GESclAdRAo4"
      },
      "source": [
        ""
      ],
      "execution_count": 106,
      "outputs": []
    },
    {
      "cell_type": "code",
      "metadata": {
        "id": "ZWbn2zzuRAo4"
      },
      "source": [
        ""
      ],
      "execution_count": 106,
      "outputs": []
    },
    {
      "cell_type": "markdown",
      "metadata": {
        "id": "L9p2xo-mRAo4"
      },
      "source": [
        "# Матрицы\n",
        "\n",
        "![matrix1](https://github.com/ekalachev/skill_factory/blob/master/lessons/module_3/math/img/matrix1.png?raw=1)\n",
        "![matrix2](https://github.com/ekalachev/skill_factory/blob/master/lessons/module_3/math/img/matrix2.png?raw=1)\n",
        "![matrix3](https://github.com/ekalachev/skill_factory/blob/master/lessons/module_3/math/img/matrix3.png?raw=1)\n",
        "![matrix4](https://github.com/ekalachev/skill_factory/blob/master/lessons/module_3/math/img/matrix4.png?raw=1)\n",
        "![matrix5](https://github.com/ekalachev/skill_factory/blob/master/lessons/module_3/math/img/matrix5.png?raw=1)\n",
        "![matrix6](https://github.com/ekalachev/skill_factory/blob/master/lessons/module_3/math/img/matrix6.png?raw=1)\n",
        "![matrix7](https://github.com/ekalachev/skill_factory/blob/master/lessons/module_3/math/img/matrix7.png?raw=1)\n",
        "![matrix8](https://github.com/ekalachev/skill_factory/blob/master/lessons/module_3/math/img/matrix8.png?raw=1)\n",
        "![matrix9](https://github.com/ekalachev/skill_factory/blob/master/lessons/module_3/math/img/matrix9.png?raw=1)\n",
        "![matrix10](https://github.com/ekalachev/skill_factory/blob/master/lessons/module_3/math/img/matrix10.png?raw=1)"
      ]
    },
    {
      "cell_type": "code",
      "metadata": {
        "id": "SOArxgqgRAo4",
        "colab": {
          "base_uri": "https://localhost:8080/"
        },
        "outputId": "b183be7a-793d-4732-d1e5-55e0a2fc931a"
      },
      "source": [
        "A = np.array([[1, -5, 3], [2, 2, 1], [0, 3, 1], [2, 4, 12]])\n",
        "A"
      ],
      "execution_count": 107,
      "outputs": [
        {
          "output_type": "execute_result",
          "data": {
            "text/plain": [
              "array([[ 1, -5,  3],\n",
              "       [ 2,  2,  1],\n",
              "       [ 0,  3,  1],\n",
              "       [ 2,  4, 12]])"
            ]
          },
          "metadata": {
            "tags": []
          },
          "execution_count": 107
        }
      ]
    },
    {
      "cell_type": "code",
      "metadata": {
        "id": "7R3tJGSgRAo5",
        "colab": {
          "base_uri": "https://localhost:8080/"
        },
        "outputId": "7ae6b038-b78e-4339-c637-af7b61f2c217"
      },
      "source": [
        "A2 = np.matrix(\"1,-5;2,2;0,3\")\n",
        "A2"
      ],
      "execution_count": 108,
      "outputs": [
        {
          "output_type": "execute_result",
          "data": {
            "text/plain": [
              "matrix([[ 1, -5],\n",
              "        [ 2,  2],\n",
              "        [ 0,  3]])"
            ]
          },
          "metadata": {
            "tags": []
          },
          "execution_count": 108
        }
      ]
    },
    {
      "cell_type": "markdown",
      "metadata": {
        "id": "OguuAWkfRAo5"
      },
      "source": [
        "## Транспонирование матрицы\n",
        "При транспонировании строки матрицы записываются в столбцы и матрица переворачивается."
      ]
    },
    {
      "cell_type": "code",
      "metadata": {
        "id": "He3qTEHLRAo5",
        "colab": {
          "base_uri": "https://localhost:8080/"
        },
        "outputId": "81b46b20-27e4-44da-acc6-9f694062f9d7"
      },
      "source": [
        "A2"
      ],
      "execution_count": 109,
      "outputs": [
        {
          "output_type": "execute_result",
          "data": {
            "text/plain": [
              "matrix([[ 1, -5],\n",
              "        [ 2,  2],\n",
              "        [ 0,  3]])"
            ]
          },
          "metadata": {
            "tags": []
          },
          "execution_count": 109
        }
      ]
    },
    {
      "cell_type": "code",
      "metadata": {
        "id": "kMR9g4mvRAo5",
        "colab": {
          "base_uri": "https://localhost:8080/"
        },
        "outputId": "e3795347-acc8-4c13-b906-46b8fa48f02f"
      },
      "source": [
        "A2.T"
      ],
      "execution_count": 110,
      "outputs": [
        {
          "output_type": "execute_result",
          "data": {
            "text/plain": [
              "matrix([[ 1,  2,  0],\n",
              "        [-5,  2,  3]])"
            ]
          },
          "metadata": {
            "tags": []
          },
          "execution_count": 110
        }
      ]
    },
    {
      "cell_type": "markdown",
      "metadata": {
        "id": "EFopuBFnRAo5"
      },
      "source": [
        "## Ранг матрицы\n",
        "\n",
        "![matrix10](https://github.com/ekalachev/skill_factory/blob/master/lessons/module_3/math/img/matrix_rang.png?raw=1)"
      ]
    },
    {
      "cell_type": "code",
      "metadata": {
        "id": "bxO6XsG_RAo5"
      },
      "source": [
        "A = np.matrix(\"1,2,3; 4,5,6; 7,8,10\")"
      ],
      "execution_count": 111,
      "outputs": []
    },
    {
      "cell_type": "code",
      "metadata": {
        "id": "1F-3Mu7ZRAo6",
        "colab": {
          "base_uri": "https://localhost:8080/"
        },
        "outputId": "efad342d-3764-4fae-bf97-8deafa2ef79a"
      },
      "source": [
        "A"
      ],
      "execution_count": 112,
      "outputs": [
        {
          "output_type": "execute_result",
          "data": {
            "text/plain": [
              "matrix([[ 1,  2,  3],\n",
              "        [ 4,  5,  6],\n",
              "        [ 7,  8, 10]])"
            ]
          },
          "metadata": {
            "tags": []
          },
          "execution_count": 112
        }
      ]
    },
    {
      "cell_type": "code",
      "metadata": {
        "id": "AON3_UVSWK4N",
        "colab": {
          "base_uri": "https://localhost:8080/"
        },
        "outputId": "681b8799-356b-4e88-c10d-8f0a11ee4ed9"
      },
      "source": [
        "np.linalg.det(A)"
      ],
      "execution_count": 113,
      "outputs": [
        {
          "output_type": "execute_result",
          "data": {
            "text/plain": [
              "-2.9999999999999996"
            ]
          },
          "metadata": {
            "tags": []
          },
          "execution_count": 113
        }
      ]
    },
    {
      "cell_type": "code",
      "metadata": {
        "id": "i8GZ7DFpRGWw",
        "colab": {
          "base_uri": "https://localhost:8080/"
        },
        "outputId": "e244bec3-797e-45e9-a563-63b3be66ca9e"
      },
      "source": [
        "np.linalg.det(A) == np.linalg.det(A.T)"
      ],
      "execution_count": 114,
      "outputs": [
        {
          "output_type": "execute_result",
          "data": {
            "text/plain": [
              "True"
            ]
          },
          "metadata": {
            "tags": []
          },
          "execution_count": 114
        }
      ]
    },
    {
      "cell_type": "markdown",
      "metadata": {
        "id": "nqCemSXyW87z"
      },
      "source": [
        "**Задача**\n",
        "\n",
        "![task1](https://github.com/ekalachev/skill_factory/blob/master/lessons/module_3/math/img/task1.png?raw=1)"
      ]
    },
    {
      "cell_type": "code",
      "metadata": {
        "id": "9cWCGFpbXGo5"
      },
      "source": [
        "v1 = np.array([1,2,3,1])\n",
        "v2 = np.array([4,5,6,1])\n",
        "v3 = np.array([7,8,9,1])\n",
        "A = np.array([v1,v2,v3]).T"
      ],
      "execution_count": 115,
      "outputs": []
    },
    {
      "cell_type": "code",
      "metadata": {
        "id": "o5Sz6k73XFlA",
        "colab": {
          "base_uri": "https://localhost:8080/"
        },
        "outputId": "190ab39d-5025-4fc3-813d-6464b618a159"
      },
      "source": [
        "A"
      ],
      "execution_count": 116,
      "outputs": [
        {
          "output_type": "execute_result",
          "data": {
            "text/plain": [
              "array([[1, 4, 7],\n",
              "       [2, 5, 8],\n",
              "       [3, 6, 9],\n",
              "       [1, 1, 1]])"
            ]
          },
          "metadata": {
            "tags": []
          },
          "execution_count": 116
        }
      ]
    },
    {
      "cell_type": "code",
      "metadata": {
        "id": "Pw7JuE65ZM-4",
        "colab": {
          "base_uri": "https://localhost:8080/"
        },
        "outputId": "fed1baee-e793-406b-f091-632c2c9d4801"
      },
      "source": [
        "np.linalg.matrix_rank(A)"
      ],
      "execution_count": 117,
      "outputs": [
        {
          "output_type": "execute_result",
          "data": {
            "text/plain": [
              "2"
            ]
          },
          "metadata": {
            "tags": []
          },
          "execution_count": 117
        }
      ]
    },
    {
      "cell_type": "markdown",
      "metadata": {
        "id": "_2K_xSAoZdEy"
      },
      "source": [
        "Мы видим, что ранг системы равен 2, а векторов в ней 3, значит, система линейно зависима. В качестве базиса можем взять любые два вектора.\n",
        "\n",
        "Свойства ранга\n",
        "1. Если  А — прямоугольная матрица размера m × k, то rk(A) ≤ min(m, k).\n",
        "2. Если rk(A) = min(m, k), то А —матрица максимального ранга.\n",
        "3. Квадратная матрица А размера n × n обратима, если:\n",
        "  - det(A) ≠ 0\n",
        "  - столбцы (или строки) матрицы А линейно независимы \n",
        "  - rk(A) = n\n",
        "4. Квадратная матрица А размера n × n вырождена, если:\n",
        "  - rk(A) < n\n",
        "  - Чем меньше rk(A), тем более вырождена A\n",
        "\n",
        "**Для успешного построения регрессий необходимо научиться избавляться от линейной зависимости**"
      ]
    },
    {
      "cell_type": "markdown",
      "metadata": {
        "id": "PtAYubzMemqz"
      },
      "source": [
        "### Задача\n",
        "\n",
        "![task2](https://github.com/ekalachev/skill_factory/blob/master/lessons/module_3/math/img/task2.png?raw=1)"
      ]
    },
    {
      "cell_type": "code",
      "metadata": {
        "id": "OwqDVpuNd1cy"
      },
      "source": [
        "v1 = np.array([4,0])\n",
        "v2 = np.array([1,1])\n",
        "v3 = np.array([6,4])\n",
        "A = np.array([v1,v2,v3]).T"
      ],
      "execution_count": 118,
      "outputs": []
    },
    {
      "cell_type": "code",
      "metadata": {
        "id": "Y3K69vjmd_3E",
        "colab": {
          "base_uri": "https://localhost:8080/"
        },
        "outputId": "2d9b4cef-aca4-43a4-8a5b-8924a4be502c"
      },
      "source": [
        "A"
      ],
      "execution_count": 119,
      "outputs": [
        {
          "output_type": "execute_result",
          "data": {
            "text/plain": [
              "array([[4, 1, 6],\n",
              "       [0, 1, 4]])"
            ]
          },
          "metadata": {
            "tags": []
          },
          "execution_count": 119
        }
      ]
    },
    {
      "cell_type": "code",
      "metadata": {
        "id": "vHVD3n_XeAXx",
        "colab": {
          "base_uri": "https://localhost:8080/"
        },
        "outputId": "04fc20cb-6b2f-4ef3-a49f-5e6ba6618af8"
      },
      "source": [
        "np.linalg.matrix_rank(A)"
      ],
      "execution_count": 120,
      "outputs": [
        {
          "output_type": "execute_result",
          "data": {
            "text/plain": [
              "2"
            ]
          },
          "metadata": {
            "tags": []
          },
          "execution_count": 120
        }
      ]
    },
    {
      "cell_type": "markdown",
      "metadata": {
        "id": "oYc7uRw4e1OM"
      },
      "source": [
        "Мы видим, что ранг системы равен 2, а векторов в ней 3, значит, система линейно зависима."
      ]
    },
    {
      "cell_type": "code",
      "metadata": {
        "id": "ZuSDg8a5eGWb",
        "colab": {
          "base_uri": "https://localhost:8080/"
        },
        "outputId": "d0c11220-e1ee-4134-d5de-c913a2a2b528"
      },
      "source": [
        "print(np.linalg.matrix_rank(np.array([v1,v2]).T))\n",
        "print(np.linalg.matrix_rank(np.array([v1,v3]).T))\n",
        "print(np.linalg.matrix_rank(np.array([v2,v3]).T))"
      ],
      "execution_count": 121,
      "outputs": [
        {
          "output_type": "stream",
          "text": [
            "2\n",
            "2\n",
            "2\n"
          ],
          "name": "stdout"
        }
      ]
    },
    {
      "cell_type": "markdown",
      "metadata": {
        "id": "RxG-xzPYfOxn"
      },
      "source": [
        "Ответ: Попарно линейно независимы (то есть каждая пара линейно независима)"
      ]
    },
    {
      "cell_type": "markdown",
      "metadata": {
        "id": "yuz1csNdiR09"
      },
      "source": [
        "### Задача\n",
        "\n",
        "![task3](https://github.com/ekalachev/skill_factory/blob/master/lessons/module_3/math/img/task3.png?raw=1)"
      ]
    },
    {
      "cell_type": "code",
      "metadata": {
        "id": "dY1drNTbfBY0"
      },
      "source": [
        "v1 = np.array([4,1])\n",
        "v2 = np.array([0,0])\n",
        "A = np.array([v1,v2]).T"
      ],
      "execution_count": 122,
      "outputs": []
    },
    {
      "cell_type": "code",
      "metadata": {
        "id": "9XvW4_vbhREY",
        "outputId": "bd9b790d-9e48-482a-8a5f-a142b3d04d74",
        "colab": {
          "base_uri": "https://localhost:8080/"
        }
      },
      "source": [
        "A"
      ],
      "execution_count": 123,
      "outputs": [
        {
          "output_type": "execute_result",
          "data": {
            "text/plain": [
              "array([[4, 0],\n",
              "       [1, 0]])"
            ]
          },
          "metadata": {
            "tags": []
          },
          "execution_count": 123
        }
      ]
    },
    {
      "cell_type": "code",
      "metadata": {
        "id": "Pv17tKPOhVWX",
        "outputId": "03b43d3a-05cf-46d8-c757-cb215071c5a7",
        "colab": {
          "base_uri": "https://localhost:8080/"
        }
      },
      "source": [
        "np.linalg.matrix_rank(A)"
      ],
      "execution_count": 124,
      "outputs": [
        {
          "output_type": "execute_result",
          "data": {
            "text/plain": [
              "1"
            ]
          },
          "metadata": {
            "tags": []
          },
          "execution_count": 124
        }
      ]
    },
    {
      "cell_type": "markdown",
      "metadata": {
        "id": "KJEw0MACifVH"
      },
      "source": [
        "Мы видим, что ранг системы равен 1, а векторов в ней 2, значит, система линейно зависима."
      ]
    },
    {
      "cell_type": "code",
      "metadata": {
        "id": "oY5SDcsGhZEy",
        "outputId": "73ff18f7-a42e-410f-90fb-cc51e6a48f14",
        "colab": {
          "base_uri": "https://localhost:8080/"
        }
      },
      "source": [
        "np.linalg.det(A)"
      ],
      "execution_count": 125,
      "outputs": [
        {
          "output_type": "execute_result",
          "data": {
            "text/plain": [
              "0.0"
            ]
          },
          "metadata": {
            "tags": []
          },
          "execution_count": 125
        }
      ]
    },
    {
      "cell_type": "markdown",
      "metadata": {
        "id": "JolZcYOZiCrT"
      },
      "source": [
        "Квадратная матрица обратима тогда и только тогда, когда она невырождена, то есть её определитель не равен нулю."
      ]
    },
    {
      "cell_type": "markdown",
      "metadata": {
        "id": "qpUxiF2Wi9JX"
      },
      "source": [
        "### Задача\n",
        "\n"
      ]
    },
    {
      "cell_type": "code",
      "metadata": {
        "id": "PIljCm6Shn4W"
      },
      "source": [
        "a = np.array([4,1,0])\n",
        "b = np.array([-1,4,0])\n",
        "c = np.array([0,0,1])"
      ],
      "execution_count": 126,
      "outputs": []
    },
    {
      "cell_type": "markdown",
      "metadata": {
        "id": "D9OpTZ0NkMtl"
      },
      "source": [
        "#### Попарно линейно независимы (то есть каждая пара неколлинеарна) (Да)"
      ]
    },
    {
      "cell_type": "code",
      "metadata": {
        "id": "dBAaUIwYjYqE",
        "outputId": "c5bf27b1-99ef-4172-c176-ddf69b43ffac",
        "colab": {
          "base_uri": "https://localhost:8080/"
        }
      },
      "source": [
        "np.linalg.matrix_rank(np.array([a,b]).T)"
      ],
      "execution_count": 127,
      "outputs": [
        {
          "output_type": "execute_result",
          "data": {
            "text/plain": [
              "2"
            ]
          },
          "metadata": {
            "tags": []
          },
          "execution_count": 127
        }
      ]
    },
    {
      "cell_type": "code",
      "metadata": {
        "id": "EWnw0QRpkBfD",
        "outputId": "c434ec69-9b13-4752-f0d0-ace7bdfa3eaf",
        "colab": {
          "base_uri": "https://localhost:8080/"
        }
      },
      "source": [
        "np.linalg.matrix_rank(np.array([a,c]).T)"
      ],
      "execution_count": 128,
      "outputs": [
        {
          "output_type": "execute_result",
          "data": {
            "text/plain": [
              "2"
            ]
          },
          "metadata": {
            "tags": []
          },
          "execution_count": 128
        }
      ]
    },
    {
      "cell_type": "code",
      "metadata": {
        "id": "clddT4FYkEdn",
        "outputId": "56de6421-88ee-4ab2-b5d2-da5e6d4ded8f",
        "colab": {
          "base_uri": "https://localhost:8080/"
        }
      },
      "source": [
        "np.linalg.matrix_rank(np.array([b,c]).T)"
      ],
      "execution_count": 129,
      "outputs": [
        {
          "output_type": "execute_result",
          "data": {
            "text/plain": [
              "2"
            ]
          },
          "metadata": {
            "tags": []
          },
          "execution_count": 129
        }
      ]
    },
    {
      "cell_type": "markdown",
      "metadata": {
        "id": "mrFhuSSGkZ8Z"
      },
      "source": [
        "#### Линейно независимы в целом (Да)"
      ]
    },
    {
      "cell_type": "code",
      "metadata": {
        "id": "hOHk0HFekGeY",
        "outputId": "b77e6bb1-546e-4184-f9db-01f88f60b82f",
        "colab": {
          "base_uri": "https://localhost:8080/"
        }
      },
      "source": [
        "np.linalg.matrix_rank(np.array([a,b,c]).T)"
      ],
      "execution_count": 130,
      "outputs": [
        {
          "output_type": "execute_result",
          "data": {
            "text/plain": [
              "3"
            ]
          },
          "metadata": {
            "tags": []
          },
          "execution_count": 130
        }
      ]
    },
    {
      "cell_type": "markdown",
      "metadata": {
        "id": "NC-Seh3_l61E"
      },
      "source": [
        "#### Попарно ортогональны (то есть каждая пара ортогональна) (Да)\n",
        "\n",
        "Вектора ортогональны если:\n",
        "**a · b = ax · bx + ay · by + az · bz = 0**\n",
        "\n",
        "В Python: **a.dot(b)**"
      ]
    },
    {
      "cell_type": "code",
      "metadata": {
        "id": "949wIRYCkW2I",
        "outputId": "1695b751-091f-49a1-fe00-984c59ff865d",
        "colab": {
          "base_uri": "https://localhost:8080/"
        }
      },
      "source": [
        "a.dot(b)"
      ],
      "execution_count": 134,
      "outputs": [
        {
          "output_type": "execute_result",
          "data": {
            "text/plain": [
              "0"
            ]
          },
          "metadata": {
            "tags": []
          },
          "execution_count": 134
        }
      ]
    },
    {
      "cell_type": "code",
      "metadata": {
        "id": "iv6sP1onmAd4",
        "outputId": "783ed638-859f-4dbd-a725-e7b2bf2d9d02",
        "colab": {
          "base_uri": "https://localhost:8080/"
        }
      },
      "source": [
        "a.dot(c)"
      ],
      "execution_count": 135,
      "outputs": [
        {
          "output_type": "execute_result",
          "data": {
            "text/plain": [
              "0"
            ]
          },
          "metadata": {
            "tags": []
          },
          "execution_count": 135
        }
      ]
    },
    {
      "cell_type": "code",
      "metadata": {
        "id": "Ycs47eNbmNml",
        "outputId": "5b24c37c-8156-40ea-9084-5177756b1d73",
        "colab": {
          "base_uri": "https://localhost:8080/"
        }
      },
      "source": [
        "b.dot(c)"
      ],
      "execution_count": 136,
      "outputs": [
        {
          "output_type": "execute_result",
          "data": {
            "text/plain": [
              "0"
            ]
          },
          "metadata": {
            "tags": []
          },
          "execution_count": 136
        }
      ]
    },
    {
      "cell_type": "markdown",
      "metadata": {
        "id": "VuKH41g1pnR3"
      },
      "source": [
        "### Задача\n",
        "\n",
        "![task4](https://github.com/ekalachev/skill_factory/blob/master/lessons/module_3/math/img/task4.png?raw=1)"
      ]
    },
    {
      "cell_type": "code",
      "metadata": {
        "id": "42qzr1e8mPb8"
      },
      "source": [
        "A = np.matrix(\"1,0,3,5; 0,4,5,5; 0,0,0,0; 0,0,0,0\")\n",
        "B = np.matrix(\"1,0,3,5; 0,4,5,5; 0,0,0,4; 0,0,0,0\")"
      ],
      "execution_count": 137,
      "outputs": []
    },
    {
      "cell_type": "code",
      "metadata": {
        "id": "mz8dLyusqH9i",
        "outputId": "7a709e84-8513-4962-af02-ad3d74dce8a1",
        "colab": {
          "base_uri": "https://localhost:8080/"
        }
      },
      "source": [
        "np.linalg.matrix_rank(A)"
      ],
      "execution_count": 138,
      "outputs": [
        {
          "output_type": "execute_result",
          "data": {
            "text/plain": [
              "2"
            ]
          },
          "metadata": {
            "tags": []
          },
          "execution_count": 138
        }
      ]
    },
    {
      "cell_type": "code",
      "metadata": {
        "id": "dLJavEalqMLG",
        "outputId": "8144b5ac-a4c2-41ff-f664-5f89f518f57b",
        "colab": {
          "base_uri": "https://localhost:8080/"
        }
      },
      "source": [
        "np.linalg.matrix_rank(B)"
      ],
      "execution_count": 139,
      "outputs": [
        {
          "output_type": "execute_result",
          "data": {
            "text/plain": [
              "3"
            ]
          },
          "metadata": {
            "tags": []
          },
          "execution_count": 139
        }
      ]
    },
    {
      "cell_type": "code",
      "metadata": {
        "id": "_pk04FriqP4Z"
      },
      "source": [
        ""
      ],
      "execution_count": null,
      "outputs": []
    }
  ]
}