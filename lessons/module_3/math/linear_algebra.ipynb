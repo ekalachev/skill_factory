{
  "nbformat": 4,
  "nbformat_minor": 0,
  "metadata": {
    "kernelspec": {
      "display_name": "Python 3",
      "language": "python",
      "name": "python3"
    },
    "language_info": {
      "codemirror_mode": {
        "name": "ipython",
        "version": 3
      },
      "file_extension": ".py",
      "mimetype": "text/x-python",
      "name": "python",
      "nbconvert_exporter": "python",
      "pygments_lexer": "ipython3",
      "version": "3.6.12"
    },
    "colab": {
      "name": "linear_algebra.ipynb",
      "provenance": []
    }
  },
  "cells": [
    {
      "cell_type": "code",
      "metadata": {
        "id": "ms53jXUWRAou"
      },
      "source": [
        "import numpy as np\n",
        "import pandas as pd"
      ],
      "execution_count": 21,
      "outputs": []
    },
    {
      "cell_type": "markdown",
      "metadata": {
        "id": "TrZZZTDgRAoz"
      },
      "source": [
        "# Линейная комбинация векторов"
      ]
    },
    {
      "cell_type": "markdown",
      "metadata": {
        "id": "Iql4vP4WRAo0"
      },
      "source": [
        "![linear_comb.png](https://github.com/ekalachev/skill_factory/blob/master/lessons/module_3/math/img/linear_comb.png?raw=1)"
      ]
    },
    {
      "cell_type": "code",
      "metadata": {
        "id": "YWJIvdbPRAo0",
        "colab": {
          "base_uri": "https://localhost:8080/"
        },
        "outputId": "f1352960-1a22-46ba-e3cc-a4d61d459eb2"
      },
      "source": [
        "# решение задачи в коде\n",
        "p = np.array([2, 4, 5])\n",
        "v = np.array([8, 10, 2])\n",
        "s = np.array([0, 12, 7])\n",
        "\n",
        "p*500 + v*100 + s*0"
      ],
      "execution_count": 22,
      "outputs": [
        {
          "output_type": "execute_result",
          "data": {
            "text/plain": [
              "array([1800, 3000, 2700])"
            ]
          },
          "metadata": {
            "tags": []
          },
          "execution_count": 22
        }
      ]
    },
    {
      "cell_type": "markdown",
      "metadata": {
        "id": "OrRintlFRAo1"
      },
      "source": [
        "![null_linear_comb](https://github.com/ekalachev/skill_factory/blob/master/lessons/module_3/math/img/null_linear_comb.png?raw=1)"
      ]
    },
    {
      "cell_type": "markdown",
      "metadata": {
        "id": "M_pB7w9cRAo1"
      },
      "source": [
        "![nv](https://github.com/ekalachev/skill_factory/blob/master/lessons/module_3/math/img/nv.png?raw=1)"
      ]
    },
    {
      "cell_type": "markdown",
      "metadata": {
        "id": "JLts_XmORAo1"
      },
      "source": [
        "![nv2](https://github.com/ekalachev/skill_factory/blob/master/lessons/module_3/math/img/nv2.png?raw=1)"
      ]
    },
    {
      "cell_type": "markdown",
      "metadata": {
        "id": "cw16Ah64RAo2"
      },
      "source": [
        "### Задачи:"
      ]
    },
    {
      "cell_type": "markdown",
      "metadata": {
        "id": "tUycEBaARAo2"
      },
      "source": [
        "#### Юный предприниматель Вовочка мастерит ракеты на водном топливе и продает их. За 4 недели он смастерил 3, 4, 5 и 9 ракет, а продал 1, 5, 3 и 6 ракет соответственно.\n",
        "\n",
        "На изготовление одной ракеты он тратит  рублей, а продаёт их по  рублей за штуку.\n",
        "\n",
        "Найдите вектор прибыли Вовочки за эти 4 недели:"
      ]
    },
    {
      "cell_type": "code",
      "metadata": {
        "id": "9HKngBeARAo2",
        "colab": {
          "base_uri": "https://localhost:8080/"
        },
        "outputId": "bc03e679-46cd-4504-a1bc-363aa5c8e355"
      },
      "source": [
        "made = np.array([3, 4, 5, 9])\n",
        "sold = np.array([1, 5, 3, 6])\n",
        "\n",
        "revenue = sold*400 - made*200\n",
        "\n",
        "print('Ответ:', ', '.join([str(r) for r in revenue]))"
      ],
      "execution_count": 23,
      "outputs": [
        {
          "output_type": "stream",
          "text": [
            "Ответ: -200, 1200, 200, 600\n"
          ],
          "name": "stdout"
        }
      ]
    },
    {
      "cell_type": "markdown",
      "metadata": {
        "id": "65dnwTCORAo2"
      },
      "source": [
        "#### Какие системы векторов являются линейно зависимыми?\n",
        "\n",
        "![lz](https://github.com/ekalachev/skill_factory/blob/master/lessons/module_3/math/img/lz.png?raw=1)"
      ]
    },
    {
      "cell_type": "markdown",
      "metadata": {
        "id": "jCOvx8m_RAo2"
      },
      "source": [
        "# Скалярное произведение векторов\n",
        "\n",
        "Всего есть четыре основных способа умножить векторы:\n",
        "\n",
        "- Скалярное произведение. Результат — число. \n",
        "- Векторное произведение. Результат — вектор.\n",
        "- Смешанное произведение. Результат — число. \n",
        "- Тензорное произведение. Результат — матрица.\n",
        "\n",
        "![sp](https://github.com/ekalachev/skill_factory/blob/master/lessons/module_3/math/img/sp.png?raw=1)"
      ]
    },
    {
      "cell_type": "markdown",
      "metadata": {
        "id": "aIA0pNhoRAo3"
      },
      "source": [
        "![sp2](https://github.com/ekalachev/skill_factory/blob/master/lessons/module_3/math/img/sp2.png?raw=1)"
      ]
    },
    {
      "cell_type": "code",
      "metadata": {
        "id": "JQ05-8dpRAo3",
        "colab": {
          "base_uri": "https://localhost:8080/"
        },
        "outputId": "228e386c-c9a1-4e26-eb86-f0abb6ca5fd8"
      },
      "source": [
        "# решение задачи выше в коде\n",
        "a = np.array([65, 70, 120, 30])\n",
        "b = np.array([0.4, 0.4, 0.2, 0.8])\n",
        "\n",
        "np.dot(a, b)"
      ],
      "execution_count": 24,
      "outputs": [
        {
          "output_type": "execute_result",
          "data": {
            "text/plain": [
              "102.0"
            ]
          },
          "metadata": {
            "tags": []
          },
          "execution_count": 24
        }
      ]
    },
    {
      "cell_type": "markdown",
      "metadata": {
        "id": "pJfrb2_kRAo3"
      },
      "source": [
        "## Длина вектора\n",
        "\n",
        "![pv](https://github.com/ekalachev/skill_factory/blob/master/lessons/module_3/math/img/pv.png?raw=1)"
      ]
    },
    {
      "cell_type": "markdown",
      "metadata": {
        "id": "T3_60ZqxRAo3"
      },
      "source": [
        "## Свойство скалярного произведения векторов (линейность)\n",
        "\n",
        "![pvl](https://github.com/ekalachev/skill_factory/blob/master/lessons/module_3/math/img/pvl.png?raw=1)"
      ]
    },
    {
      "cell_type": "code",
      "metadata": {
        "id": "tjnGhobGRAo3",
        "colab": {
          "base_uri": "https://localhost:8080/"
        },
        "outputId": "0a9d91d3-2488-48d9-8f8f-5a2e18c0f8cc"
      },
      "source": [
        "np.dot(np.array([4,5,-1]), np.array([2,0,1]))"
      ],
      "execution_count": 25,
      "outputs": [
        {
          "output_type": "execute_result",
          "data": {
            "text/plain": [
              "7"
            ]
          },
          "metadata": {
            "tags": []
          },
          "execution_count": 25
        }
      ]
    },
    {
      "cell_type": "code",
      "metadata": {
        "id": "xgP3_jpvRAo4"
      },
      "source": [
        ""
      ],
      "execution_count": 25,
      "outputs": []
    },
    {
      "cell_type": "code",
      "metadata": {
        "id": "eMFSOacYRAo4"
      },
      "source": [
        ""
      ],
      "execution_count": 25,
      "outputs": []
    },
    {
      "cell_type": "code",
      "metadata": {
        "id": "4GESclAdRAo4"
      },
      "source": [
        ""
      ],
      "execution_count": 25,
      "outputs": []
    },
    {
      "cell_type": "code",
      "metadata": {
        "id": "ZWbn2zzuRAo4"
      },
      "source": [
        ""
      ],
      "execution_count": 25,
      "outputs": []
    },
    {
      "cell_type": "markdown",
      "metadata": {
        "id": "L9p2xo-mRAo4"
      },
      "source": [
        "# Матрицы\n",
        "\n",
        "![matrix1](https://github.com/ekalachev/skill_factory/blob/master/lessons/module_3/math/img/matrix1.png?raw=1)\n",
        "![matrix2](https://github.com/ekalachev/skill_factory/blob/master/lessons/module_3/math/img/matrix2.png?raw=1)\n",
        "![matrix3](https://github.com/ekalachev/skill_factory/blob/master/lessons/module_3/math/img/matrix3.png?raw=1)\n",
        "![matrix4](https://github.com/ekalachev/skill_factory/blob/master/lessons/module_3/math/img/matrix4.png?raw=1)\n",
        "![matrix5](https://github.com/ekalachev/skill_factory/blob/master/lessons/module_3/math/img/matrix5.png?raw=1)\n",
        "![matrix6](https://github.com/ekalachev/skill_factory/blob/master/lessons/module_3/math/img/matrix6.png?raw=1)\n",
        "![matrix7](https://github.com/ekalachev/skill_factory/blob/master/lessons/module_3/math/img/matrix7.png?raw=1)\n",
        "![matrix8](https://github.com/ekalachev/skill_factory/blob/master/lessons/module_3/math/img/matrix8.png?raw=1)\n",
        "![matrix9](https://github.com/ekalachev/skill_factory/blob/master/lessons/module_3/math/img/matrix9.png?raw=1)\n",
        "![matrix10](https://github.com/ekalachev/skill_factory/blob/master/lessons/module_3/math/img/matrix10.png?raw=1)"
      ]
    },
    {
      "cell_type": "code",
      "metadata": {
        "id": "SOArxgqgRAo4",
        "colab": {
          "base_uri": "https://localhost:8080/"
        },
        "outputId": "c199b7e1-a122-4e2a-9251-43f41a50682c"
      },
      "source": [
        "A = np.array([[1, -5, 3], [2, 2, 1], [0, 3, 1], [2, 4, 12]])\n",
        "A"
      ],
      "execution_count": 26,
      "outputs": [
        {
          "output_type": "execute_result",
          "data": {
            "text/plain": [
              "array([[ 1, -5,  3],\n",
              "       [ 2,  2,  1],\n",
              "       [ 0,  3,  1],\n",
              "       [ 2,  4, 12]])"
            ]
          },
          "metadata": {
            "tags": []
          },
          "execution_count": 26
        }
      ]
    },
    {
      "cell_type": "code",
      "metadata": {
        "id": "7R3tJGSgRAo5",
        "colab": {
          "base_uri": "https://localhost:8080/"
        },
        "outputId": "76a9088d-7be4-4b87-d99b-81a9d77c6cb4"
      },
      "source": [
        "A2 = np.matrix(\"1,-5;2,2;0,3\")\n",
        "A2"
      ],
      "execution_count": 27,
      "outputs": [
        {
          "output_type": "execute_result",
          "data": {
            "text/plain": [
              "matrix([[ 1, -5],\n",
              "        [ 2,  2],\n",
              "        [ 0,  3]])"
            ]
          },
          "metadata": {
            "tags": []
          },
          "execution_count": 27
        }
      ]
    },
    {
      "cell_type": "markdown",
      "metadata": {
        "id": "OguuAWkfRAo5"
      },
      "source": [
        "## Транспонирование матрицы\n",
        "При транспонировании строки матрицы записываются в столбцы и матрица переворачивается."
      ]
    },
    {
      "cell_type": "code",
      "metadata": {
        "id": "He3qTEHLRAo5",
        "colab": {
          "base_uri": "https://localhost:8080/"
        },
        "outputId": "bb5f2529-a520-4a66-ba4c-c1b7a2b13e7c"
      },
      "source": [
        "A2"
      ],
      "execution_count": 28,
      "outputs": [
        {
          "output_type": "execute_result",
          "data": {
            "text/plain": [
              "matrix([[ 1, -5],\n",
              "        [ 2,  2],\n",
              "        [ 0,  3]])"
            ]
          },
          "metadata": {
            "tags": []
          },
          "execution_count": 28
        }
      ]
    },
    {
      "cell_type": "code",
      "metadata": {
        "id": "kMR9g4mvRAo5",
        "colab": {
          "base_uri": "https://localhost:8080/"
        },
        "outputId": "29d61879-4ce4-4f0d-85f7-642206299d28"
      },
      "source": [
        "A2.T"
      ],
      "execution_count": 29,
      "outputs": [
        {
          "output_type": "execute_result",
          "data": {
            "text/plain": [
              "matrix([[ 1,  2,  0],\n",
              "        [-5,  2,  3]])"
            ]
          },
          "metadata": {
            "tags": []
          },
          "execution_count": 29
        }
      ]
    },
    {
      "cell_type": "markdown",
      "metadata": {
        "id": "EFopuBFnRAo5"
      },
      "source": [
        "## Ранг матрицы\n",
        "\n",
        "![matrix10](https://github.com/ekalachev/skill_factory/blob/master/lessons/module_3/math/img/matrix_rang.png?raw=1)"
      ]
    },
    {
      "cell_type": "code",
      "metadata": {
        "id": "bxO6XsG_RAo5"
      },
      "source": [
        "A = np.matrix(\"1,2,3; 4,5,6; 7,8,10\")"
      ],
      "execution_count": 30,
      "outputs": []
    },
    {
      "cell_type": "code",
      "metadata": {
        "id": "1F-3Mu7ZRAo6",
        "colab": {
          "base_uri": "https://localhost:8080/"
        },
        "outputId": "f179c6a3-ab47-423a-a0cc-3bef6291f291"
      },
      "source": [
        "A"
      ],
      "execution_count": 31,
      "outputs": [
        {
          "output_type": "execute_result",
          "data": {
            "text/plain": [
              "matrix([[ 1,  2,  3],\n",
              "        [ 4,  5,  6],\n",
              "        [ 7,  8, 10]])"
            ]
          },
          "metadata": {
            "tags": []
          },
          "execution_count": 31
        }
      ]
    },
    {
      "cell_type": "code",
      "metadata": {
        "id": "AON3_UVSWK4N",
        "colab": {
          "base_uri": "https://localhost:8080/"
        },
        "outputId": "c16a4c2f-b35a-41a1-b1ba-94fb96deac22"
      },
      "source": [
        "np.linalg.det(A)"
      ],
      "execution_count": 32,
      "outputs": [
        {
          "output_type": "execute_result",
          "data": {
            "text/plain": [
              "-2.9999999999999996"
            ]
          },
          "metadata": {
            "tags": []
          },
          "execution_count": 32
        }
      ]
    },
    {
      "cell_type": "code",
      "metadata": {
        "id": "i8GZ7DFpRGWw",
        "colab": {
          "base_uri": "https://localhost:8080/"
        },
        "outputId": "bd5c820f-58eb-4bf9-f75a-e0d03f011a09"
      },
      "source": [
        "np.linalg.det(A) == np.linalg.det(A.T)"
      ],
      "execution_count": 33,
      "outputs": [
        {
          "output_type": "execute_result",
          "data": {
            "text/plain": [
              "True"
            ]
          },
          "metadata": {
            "tags": []
          },
          "execution_count": 33
        }
      ]
    },
    {
      "cell_type": "markdown",
      "metadata": {
        "id": "nqCemSXyW87z"
      },
      "source": [
        "**Задача**\n",
        "\n",
        "![task1](https://github.com/ekalachev/skill_factory/blob/master/lessons/module_3/math/img/task1.png?raw=1)"
      ]
    },
    {
      "cell_type": "code",
      "metadata": {
        "id": "9cWCGFpbXGo5"
      },
      "source": [
        "v1 = np.array([1,2,3,1])\n",
        "v2 = np.array([4,5,6,1])\n",
        "v3 = np.array([7,8,9,1])\n",
        "A = np.array([v1,v2,v3]).T"
      ],
      "execution_count": 34,
      "outputs": []
    },
    {
      "cell_type": "code",
      "metadata": {
        "id": "o5Sz6k73XFlA",
        "outputId": "000cbbe3-f735-4999-bf0a-c913552e1d49",
        "colab": {
          "base_uri": "https://localhost:8080/"
        }
      },
      "source": [
        "A"
      ],
      "execution_count": 35,
      "outputs": [
        {
          "output_type": "execute_result",
          "data": {
            "text/plain": [
              "array([[1, 4, 7],\n",
              "       [2, 5, 8],\n",
              "       [3, 6, 9],\n",
              "       [1, 1, 1]])"
            ]
          },
          "metadata": {
            "tags": []
          },
          "execution_count": 35
        }
      ]
    },
    {
      "cell_type": "code",
      "metadata": {
        "id": "Pw7JuE65ZM-4",
        "outputId": "3354568c-9c80-40b1-e88f-527ef373f5cf",
        "colab": {
          "base_uri": "https://localhost:8080/"
        }
      },
      "source": [
        "np.linalg.matrix_rank(A)"
      ],
      "execution_count": 36,
      "outputs": [
        {
          "output_type": "execute_result",
          "data": {
            "text/plain": [
              "2"
            ]
          },
          "metadata": {
            "tags": []
          },
          "execution_count": 36
        }
      ]
    },
    {
      "cell_type": "markdown",
      "metadata": {
        "id": "_2K_xSAoZdEy"
      },
      "source": [
        "Мы видим, что ранг системы равен 2, а векторов в ней 3, значит, система линейно зависима. В качестве базиса можем взять любые два вектора.\n",
        "\n",
        "Свойства ранга\n",
        "1. Если  А — прямоугольная матрица размера m × k, то rk(A) ≤ min(m, k).\n",
        "2. Если rk(A) = min(m, k), то А —матрица максимального ранга.\n",
        "3. Квадратная матрица А размера n × n обратима, если:\n",
        "  - det(A) ≠ 0\n",
        "  - столбцы (или строки) матрицы А линейно независимы \n",
        "  - rk(A) = n\n",
        "4. Квадратная матрица А размера n × n вырождена, если:\n",
        "  - rk(A) < n\n",
        "  - Чем меньше rk(A), тем более вырождена A\n",
        "\n",
        "### ! Для успешного построения регрессий необходимо научиться избавляться от линейной зависимости"
      ]
    },
    {
      "cell_type": "markdown",
      "metadata": {
        "id": "PtAYubzMemqz"
      },
      "source": [
        "![task2](https://github.com/ekalachev/skill_factory/blob/master/lessons/module_3/math/img/task2.png?raw=1)"
      ]
    },
    {
      "cell_type": "code",
      "metadata": {
        "id": "OwqDVpuNd1cy"
      },
      "source": [
        "v1 = np.array([4,0])\n",
        "v2 = np.array([1,1])\n",
        "v3 = np.array([6,4])\n",
        "A = np.array([v1,v2,v3]).T"
      ],
      "execution_count": 49,
      "outputs": []
    },
    {
      "cell_type": "code",
      "metadata": {
        "id": "Y3K69vjmd_3E",
        "outputId": "0fab0a74-a849-4b80-d3e1-adcdf4282bfe",
        "colab": {
          "base_uri": "https://localhost:8080/"
        }
      },
      "source": [
        "A"
      ],
      "execution_count": 50,
      "outputs": [
        {
          "output_type": "execute_result",
          "data": {
            "text/plain": [
              "array([[4, 1, 6],\n",
              "       [0, 1, 4]])"
            ]
          },
          "metadata": {
            "tags": []
          },
          "execution_count": 50
        }
      ]
    },
    {
      "cell_type": "code",
      "metadata": {
        "id": "vHVD3n_XeAXx",
        "outputId": "c94dcac9-5e3e-4b2e-cdbc-dc4f4c9da4b0",
        "colab": {
          "base_uri": "https://localhost:8080/"
        }
      },
      "source": [
        "np.linalg.matrix_rank(A)"
      ],
      "execution_count": 51,
      "outputs": [
        {
          "output_type": "execute_result",
          "data": {
            "text/plain": [
              "2"
            ]
          },
          "metadata": {
            "tags": []
          },
          "execution_count": 51
        }
      ]
    },
    {
      "cell_type": "markdown",
      "metadata": {
        "id": "oYc7uRw4e1OM"
      },
      "source": [
        "Мы видим, что ранг системы равен 2, а векторов в ней 3, значит, система линейно зависима."
      ]
    },
    {
      "cell_type": "code",
      "metadata": {
        "id": "ZuSDg8a5eGWb",
        "outputId": "1e87a217-62e4-4b25-f910-63751f638b1c",
        "colab": {
          "base_uri": "https://localhost:8080/"
        }
      },
      "source": [
        "print(np.linalg.matrix_rank(np.array([v1,v2]).T))\n",
        "print(np.linalg.matrix_rank(np.array([v1,v3]).T))\n",
        "print(np.linalg.matrix_rank(np.array([v2,v3]).T))"
      ],
      "execution_count": 53,
      "outputs": [
        {
          "output_type": "stream",
          "text": [
            "2\n",
            "2\n",
            "2\n"
          ],
          "name": "stdout"
        }
      ]
    },
    {
      "cell_type": "markdown",
      "metadata": {
        "id": "RxG-xzPYfOxn"
      },
      "source": [
        "Ответ: Попарно линейно независимы (то есть каждая пара линейно независима)"
      ]
    },
    {
      "cell_type": "code",
      "metadata": {
        "id": "dY1drNTbfBY0"
      },
      "source": [
        ""
      ],
      "execution_count": null,
      "outputs": []
    }
  ]
}