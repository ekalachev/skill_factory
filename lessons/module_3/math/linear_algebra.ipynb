{
  "nbformat": 4,
  "nbformat_minor": 0,
  "metadata": {
    "kernelspec": {
      "display_name": "Python 3",
      "language": "python",
      "name": "python3"
    },
    "language_info": {
      "codemirror_mode": {
        "name": "ipython",
        "version": 3
      },
      "file_extension": ".py",
      "mimetype": "text/x-python",
      "name": "python",
      "nbconvert_exporter": "python",
      "pygments_lexer": "ipython3",
      "version": "3.6.12"
    },
    "colab": {
      "name": "linear_algebra.ipynb",
      "provenance": []
    }
  },
  "cells": [
    {
      "cell_type": "code",
      "metadata": {
        "id": "ms53jXUWRAou"
      },
      "source": [
        "import numpy as np\n",
        "import pandas as pd"
      ],
      "execution_count": 1,
      "outputs": []
    },
    {
      "cell_type": "markdown",
      "metadata": {
        "id": "TrZZZTDgRAoz"
      },
      "source": [
        "# Линейная комбинация векторов"
      ]
    },
    {
      "cell_type": "markdown",
      "metadata": {
        "id": "Iql4vP4WRAo0"
      },
      "source": [
        "![linear_comb.png](https://github.com/ekalachev/skill_factory/blob/master/lessons/module_3/math/img/linear_comb.png?raw=1)"
      ]
    },
    {
      "cell_type": "code",
      "metadata": {
        "id": "YWJIvdbPRAo0",
        "outputId": "f4e3bea3-bdf1-4638-956f-2ba8a6ebdcbe",
        "colab": {
          "base_uri": "https://localhost:8080/"
        }
      },
      "source": [
        "# решение задачи в коде\n",
        "p = np.array([2, 4, 5])\n",
        "v = np.array([8, 10, 2])\n",
        "s = np.array([0, 12, 7])\n",
        "\n",
        "p*500 + v*100 + s*0"
      ],
      "execution_count": 2,
      "outputs": [
        {
          "output_type": "execute_result",
          "data": {
            "text/plain": [
              "array([1800, 3000, 2700])"
            ]
          },
          "metadata": {
            "tags": []
          },
          "execution_count": 2
        }
      ]
    },
    {
      "cell_type": "markdown",
      "metadata": {
        "id": "OrRintlFRAo1"
      },
      "source": [
        "![null_linear_comb](https://github.com/ekalachev/skill_factory/blob/master/lessons/module_3/math/img/null_linear_comb.png?raw=1)"
      ]
    },
    {
      "cell_type": "markdown",
      "metadata": {
        "id": "M_pB7w9cRAo1"
      },
      "source": [
        "![nv](https://github.com/ekalachev/skill_factory/blob/master/lessons/module_3/math/img/nv.png?raw=1)"
      ]
    },
    {
      "cell_type": "markdown",
      "metadata": {
        "id": "JLts_XmORAo1"
      },
      "source": [
        "![nv2](https://github.com/ekalachev/skill_factory/blob/master/lessons/module_3/math/img/nv2.png?raw=1)"
      ]
    },
    {
      "cell_type": "markdown",
      "metadata": {
        "id": "cw16Ah64RAo2"
      },
      "source": [
        "### Задачи:"
      ]
    },
    {
      "cell_type": "markdown",
      "metadata": {
        "id": "tUycEBaARAo2"
      },
      "source": [
        "#### Юный предприниматель Вовочка мастерит ракеты на водном топливе и продает их. За 4 недели он смастерил 3, 4, 5 и 9 ракет, а продал 1, 5, 3 и 6 ракет соответственно.\n",
        "\n",
        "На изготовление одной ракеты он тратит  рублей, а продаёт их по  рублей за штуку.\n",
        "\n",
        "Найдите вектор прибыли Вовочки за эти 4 недели:"
      ]
    },
    {
      "cell_type": "code",
      "metadata": {
        "id": "9HKngBeARAo2",
        "outputId": "06a38516-3e56-4e31-e7f9-7e50e2da2e87",
        "colab": {
          "base_uri": "https://localhost:8080/"
        }
      },
      "source": [
        "made = np.array([3, 4, 5, 9])\n",
        "sold = np.array([1, 5, 3, 6])\n",
        "\n",
        "revenue = sold*400 - made*200\n",
        "\n",
        "print('Ответ:', ', '.join([str(r) for r in revenue]))"
      ],
      "execution_count": 3,
      "outputs": [
        {
          "output_type": "stream",
          "text": [
            "Ответ: -200, 1200, 200, 600\n"
          ],
          "name": "stdout"
        }
      ]
    },
    {
      "cell_type": "markdown",
      "metadata": {
        "id": "65dnwTCORAo2"
      },
      "source": [
        "#### Какие системы векторов являются линейно зависимыми?\n",
        "\n",
        "![lz](https://github.com/ekalachev/skill_factory/blob/master/lessons/module_3/math/img/lz.png?raw=1)"
      ]
    },
    {
      "cell_type": "markdown",
      "metadata": {
        "id": "jCOvx8m_RAo2"
      },
      "source": [
        "# Скалярное произведение векторов\n",
        "\n",
        "Всего есть четыре основных способа умножить векторы:\n",
        "\n",
        "- Скалярное произведение. Результат — число. \n",
        "- Векторное произведение. Результат — вектор.\n",
        "- Смешанное произведение. Результат — число. \n",
        "- Тензорное произведение. Результат — матрица.\n",
        "\n",
        "![sp](https://github.com/ekalachev/skill_factory/blob/master/lessons/module_3/math/img/sp.png?raw=1)"
      ]
    },
    {
      "cell_type": "markdown",
      "metadata": {
        "id": "aIA0pNhoRAo3"
      },
      "source": [
        "![sp2](https://github.com/ekalachev/skill_factory/blob/master/lessons/module_3/math/img/sp2.png?raw=1)"
      ]
    },
    {
      "cell_type": "code",
      "metadata": {
        "id": "JQ05-8dpRAo3",
        "outputId": "a6ec77d0-461e-45f0-e402-77bef428355d",
        "colab": {
          "base_uri": "https://localhost:8080/"
        }
      },
      "source": [
        "# решение задачи выше в коде\n",
        "a = np.array([65, 70, 120, 30])\n",
        "b = np.array([0.4, 0.4, 0.2, 0.8])\n",
        "\n",
        "np.dot(a, b)"
      ],
      "execution_count": 4,
      "outputs": [
        {
          "output_type": "execute_result",
          "data": {
            "text/plain": [
              "102.0"
            ]
          },
          "metadata": {
            "tags": []
          },
          "execution_count": 4
        }
      ]
    },
    {
      "cell_type": "markdown",
      "metadata": {
        "id": "pJfrb2_kRAo3"
      },
      "source": [
        "## Длина вектора\n",
        "\n",
        "![pv](https://github.com/ekalachev/skill_factory/blob/master/lessons/module_3/math/img/pv.png?raw=1)"
      ]
    },
    {
      "cell_type": "markdown",
      "metadata": {
        "id": "T3_60ZqxRAo3"
      },
      "source": [
        "## Свойство скалярного произведения векторов (линейность)\n",
        "\n",
        "![pvl](https://github.com/ekalachev/skill_factory/blob/master/lessons/module_3/math/img/pvl.png?raw=1)"
      ]
    },
    {
      "cell_type": "code",
      "metadata": {
        "id": "tjnGhobGRAo3",
        "outputId": "23c9e4c0-19f5-42ff-ff17-611e2fe9b6f3",
        "colab": {
          "base_uri": "https://localhost:8080/"
        }
      },
      "source": [
        "np.dot(np.array([4,5,-1]), np.array([2,0,1]))"
      ],
      "execution_count": 5,
      "outputs": [
        {
          "output_type": "execute_result",
          "data": {
            "text/plain": [
              "7"
            ]
          },
          "metadata": {
            "tags": []
          },
          "execution_count": 5
        }
      ]
    },
    {
      "cell_type": "code",
      "metadata": {
        "id": "xgP3_jpvRAo4"
      },
      "source": [
        ""
      ],
      "execution_count": 5,
      "outputs": []
    },
    {
      "cell_type": "code",
      "metadata": {
        "id": "eMFSOacYRAo4"
      },
      "source": [
        ""
      ],
      "execution_count": 5,
      "outputs": []
    },
    {
      "cell_type": "code",
      "metadata": {
        "id": "4GESclAdRAo4"
      },
      "source": [
        ""
      ],
      "execution_count": 5,
      "outputs": []
    },
    {
      "cell_type": "code",
      "metadata": {
        "id": "ZWbn2zzuRAo4"
      },
      "source": [
        ""
      ],
      "execution_count": 5,
      "outputs": []
    },
    {
      "cell_type": "markdown",
      "metadata": {
        "id": "L9p2xo-mRAo4"
      },
      "source": [
        "# Матрицы\n",
        "\n",
        "![matrix1](https://github.com/ekalachev/skill_factory/blob/master/lessons/module_3/math/img/matrix1.png?raw=1)\n",
        "![matrix2](https://github.com/ekalachev/skill_factory/blob/master/lessons/module_3/math/img/matrix2.png?raw=1)\n",
        "![matrix3](https://github.com/ekalachev/skill_factory/blob/master/lessons/module_3/math/img/matrix3.png?raw=1)\n",
        "![matrix4](https://github.com/ekalachev/skill_factory/blob/master/lessons/module_3/math/img/matrix4.png?raw=1)\n",
        "![matrix5](https://github.com/ekalachev/skill_factory/blob/master/lessons/module_3/math/img/matrix5.png?raw=1)\n",
        "![matrix6](https://github.com/ekalachev/skill_factory/blob/master/lessons/module_3/math/img/matrix6.png?raw=1)\n",
        "![matrix7](https://github.com/ekalachev/skill_factory/blob/master/lessons/module_3/math/img/matrix7.png?raw=1)\n",
        "![matrix8](https://github.com/ekalachev/skill_factory/blob/master/lessons/module_3/math/img/matrix8.png?raw=1)\n",
        "![matrix9](https://github.com/ekalachev/skill_factory/blob/master/lessons/module_3/math/img/matrix9.png?raw=1)\n",
        "![matrix10](https://github.com/ekalachev/skill_factory/blob/master/lessons/module_3/math/img/matrix10.png?raw=1)"
      ]
    },
    {
      "cell_type": "code",
      "metadata": {
        "id": "SOArxgqgRAo4",
        "outputId": "d3c0aa63-0b24-4d6e-fe94-f65580501136",
        "colab": {
          "base_uri": "https://localhost:8080/"
        }
      },
      "source": [
        "A = np.array([[1, -5, 3], [2, 2, 1], [0, 3, 1], [2, 4, 12]])\n",
        "A"
      ],
      "execution_count": 6,
      "outputs": [
        {
          "output_type": "execute_result",
          "data": {
            "text/plain": [
              "array([[ 1, -5,  3],\n",
              "       [ 2,  2,  1],\n",
              "       [ 0,  3,  1],\n",
              "       [ 2,  4, 12]])"
            ]
          },
          "metadata": {
            "tags": []
          },
          "execution_count": 6
        }
      ]
    },
    {
      "cell_type": "code",
      "metadata": {
        "id": "7R3tJGSgRAo5",
        "outputId": "eea62f68-5a5b-4658-9c9b-9da8acd9b756",
        "colab": {
          "base_uri": "https://localhost:8080/"
        }
      },
      "source": [
        "A2 = np.matrix(\"1,-5;2,2;0,3\")\n",
        "A2"
      ],
      "execution_count": 7,
      "outputs": [
        {
          "output_type": "execute_result",
          "data": {
            "text/plain": [
              "matrix([[ 1, -5],\n",
              "        [ 2,  2],\n",
              "        [ 0,  3]])"
            ]
          },
          "metadata": {
            "tags": []
          },
          "execution_count": 7
        }
      ]
    },
    {
      "cell_type": "markdown",
      "metadata": {
        "id": "OguuAWkfRAo5"
      },
      "source": [
        "## Транспонирование матрицы\n",
        "При транспонировании строки матрицы записываются в столбцы и матрица переворачивается."
      ]
    },
    {
      "cell_type": "code",
      "metadata": {
        "id": "He3qTEHLRAo5",
        "outputId": "c54a482a-d730-4a7f-eaac-7753d831e92d",
        "colab": {
          "base_uri": "https://localhost:8080/"
        }
      },
      "source": [
        "A2"
      ],
      "execution_count": 8,
      "outputs": [
        {
          "output_type": "execute_result",
          "data": {
            "text/plain": [
              "matrix([[ 1, -5],\n",
              "        [ 2,  2],\n",
              "        [ 0,  3]])"
            ]
          },
          "metadata": {
            "tags": []
          },
          "execution_count": 8
        }
      ]
    },
    {
      "cell_type": "code",
      "metadata": {
        "id": "kMR9g4mvRAo5",
        "outputId": "c9f885a2-0e21-4d22-ba17-ed0813fc4882",
        "colab": {
          "base_uri": "https://localhost:8080/"
        }
      },
      "source": [
        "A2.T"
      ],
      "execution_count": 9,
      "outputs": [
        {
          "output_type": "execute_result",
          "data": {
            "text/plain": [
              "matrix([[ 1,  2,  0],\n",
              "        [-5,  2,  3]])"
            ]
          },
          "metadata": {
            "tags": []
          },
          "execution_count": 9
        }
      ]
    },
    {
      "cell_type": "markdown",
      "metadata": {
        "id": "EFopuBFnRAo5"
      },
      "source": [
        "## Ранг матрицы\n",
        "\n",
        "![matrix10](https://github.com/ekalachev/skill_factory/blob/master/lessons/module_3/math/img/matrix_rang.png?raw=1)"
      ]
    },
    {
      "cell_type": "code",
      "metadata": {
        "id": "bxO6XsG_RAo5"
      },
      "source": [
        "A = np.matrix(\"1,2,3; 4,5,6; 7,8,10\")"
      ],
      "execution_count": 10,
      "outputs": []
    },
    {
      "cell_type": "code",
      "metadata": {
        "id": "1F-3Mu7ZRAo6",
        "outputId": "8818a4b6-137f-4ac5-86d7-fd86ca3bd57d",
        "colab": {
          "base_uri": "https://localhost:8080/"
        }
      },
      "source": [
        "A"
      ],
      "execution_count": 11,
      "outputs": [
        {
          "output_type": "execute_result",
          "data": {
            "text/plain": [
              "matrix([[ 1,  2,  3],\n",
              "        [ 4,  5,  6],\n",
              "        [ 7,  8, 10]])"
            ]
          },
          "metadata": {
            "tags": []
          },
          "execution_count": 11
        }
      ]
    },
    {
      "cell_type": "code",
      "metadata": {
        "id": "AON3_UVSWK4N",
        "outputId": "54302882-1559-475d-c6da-542612595f10",
        "colab": {
          "base_uri": "https://localhost:8080/"
        }
      },
      "source": [
        "np.linalg.det(A)"
      ],
      "execution_count": 20,
      "outputs": [
        {
          "output_type": "execute_result",
          "data": {
            "text/plain": [
              "-2.9999999999999996"
            ]
          },
          "metadata": {
            "tags": []
          },
          "execution_count": 20
        }
      ]
    },
    {
      "cell_type": "code",
      "metadata": {
        "id": "i8GZ7DFpRGWw",
        "outputId": "15978ca9-4576-4238-af33-2c6f117b00f6",
        "colab": {
          "base_uri": "https://localhost:8080/"
        }
      },
      "source": [
        "np.linalg.det(A) == np.linalg.det(A.T)"
      ],
      "execution_count": 12,
      "outputs": [
        {
          "output_type": "execute_result",
          "data": {
            "text/plain": [
              "True"
            ]
          },
          "metadata": {
            "tags": []
          },
          "execution_count": 12
        }
      ]
    },
    {
      "cell_type": "markdown",
      "metadata": {
        "id": "nqCemSXyW87z"
      },
      "source": [
        "**Задача**\n",
        "\n",
        "![task1](https://github.com/ekalachev/skill_factory/blob/master/lessons/module_3/math/img/task1.png?raw=1)"
      ]
    },
    {
      "cell_type": "code",
      "metadata": {
        "id": "9cWCGFpbXGo5"
      },
      "source": [
        "v1 = np.array([1,2,3,1])\n",
        "v2 = np.array([4,5,6,1])\n",
        "v3 = np.array([7,8,9,1])\n",
        "A = np.array([v1,v2,v3])"
      ],
      "execution_count": null,
      "outputs": []
    },
    {
      "cell_type": "code",
      "metadata": {
        "id": "o5Sz6k73XFlA"
      },
      "source": [
        ""
      ],
      "execution_count": null,
      "outputs": []
    }
  ]
}