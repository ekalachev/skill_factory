{
 "cells": [
  {
   "cell_type": "markdown",
   "metadata": {},
   "source": [
    "# Загрузка Pandas и очистка данных"
   ]
  },
  {
   "cell_type": "code",
   "execution_count": 26,
   "metadata": {},
   "outputs": [],
   "source": [
    "import pandas as pd\n",
    "import numpy as np\n",
    "import re\n",
    "import ast\n",
    "from datetime import datetime\n",
    "from collections import Counter\n",
    "\n",
    "import matplotlib.pyplot as plt\n",
    "import seaborn as sns \n",
    "%matplotlib inline\n",
    "\n",
    "from sklearn.preprocessing import MultiLabelBinarizer"
   ]
  },
  {
   "cell_type": "code",
   "execution_count": 2,
   "metadata": {},
   "outputs": [],
   "source": [
    "# всегда фиксируйте RANDOM_SEED, чтобы ваши эксперименты были воспроизводимы!\n",
    "RANDOM_SEED = 42"
   ]
  },
  {
   "cell_type": "code",
   "execution_count": 3,
   "metadata": {},
   "outputs": [],
   "source": [
    "def populate_none_values(df, column, new_vals):\n",
    "    '''\n",
    "    The method populates None values.\n",
    "\n",
    "    Parameters:\n",
    "    df (DataFrame).\n",
    "    column (str): A name of a column.\n",
    "    new_vals(Series or one common value): The new values for all None values.\n",
    "    '''\n",
    "\n",
    "    df.loc[df[column].isna(), column] = new_vals\n",
    "\n",
    "\n",
    "def count_reviews(reviews):\n",
    "    rs = re.findall(\"(?<=\\[\\[)(.*?)(?=\\],)\", reviews)\n",
    "    rs_count = 0\n",
    "    \n",
    "    for r in rs:\n",
    "        rs_count += len(r.split(', '))\n",
    "        \n",
    "    return np.uint16(rs_count)\n",
    "\n",
    "\n",
    "def get_last_review_date(reviews):\n",
    "    dates = re.findall(\"(\\d{1,2}\\/\\d{1,2}\\/\\d{4})\", reviews)\n",
    "    if len(dates) > 1:\n",
    "        dates = sorted([pd.to_datetime(date) for date in dates], reverse=True)\n",
    "        return dates[0] - dates[len(dates) - 1]\n",
    "    return None\n",
    "\n",
    "\n",
    "def get_price_range_type(price_type_str, price_ranges):\n",
    "    '''\n",
    "    Transforms string price range to number\n",
    "    \n",
    "    Parameters:\n",
    "    price_type_str(str): '$' or '$$ - $$$' or '$$$$'\n",
    "    price_ranges(dictionary): {'$': 1, '$$ - $$$': 2, '$$$$': 3}\n",
    "    '''\n",
    "    return np.uint8(price_ranges.get(price_type_str, price_ranges['$$ - $$$']))\n",
    "\n",
    "\n",
    "def iqr(df, column):\n",
    "    perc_25 = df[column].quantile(0.25, interpolation=\"midpoint\")\n",
    "    perc_75 = df[column].quantile(0.75, interpolation=\"midpoint\")\n",
    "    IQR = perc_75 - perc_25\n",
    "    print('Q1: {}'.format(perc_25), 'Q3: {}'.format(perc_75), 'IQR: {}'.format(IQR),\n",
    "          'Граница выбросов: [{a},{b}]'.format(a=perc_25 - 1.5*IQR, b=perc_75 + 1.5*IQR), sep='\\n')"
   ]
  },
  {
   "cell_type": "code",
   "execution_count": 4,
   "metadata": {},
   "outputs": [],
   "source": [
    "pd.set_option('display.max_columns', None)\n",
    "\n",
    "df = pd.read_csv('main_task.csv')"
   ]
  },
  {
   "cell_type": "code",
   "execution_count": 5,
   "metadata": {},
   "outputs": [
    {
     "name": "stdout",
     "output_type": "stream",
     "text": [
      "<class 'pandas.core.frame.DataFrame'>\n",
      "RangeIndex: 40000 entries, 0 to 39999\n",
      "Data columns (total 10 columns):\n",
      "Restaurant_id        40000 non-null object\n",
      "City                 40000 non-null object\n",
      "Cuisine Style        30717 non-null object\n",
      "Ranking              40000 non-null float64\n",
      "Rating               40000 non-null float64\n",
      "Price Range          26114 non-null object\n",
      "Number of Reviews    37457 non-null float64\n",
      "Reviews              40000 non-null object\n",
      "URL_TA               40000 non-null object\n",
      "ID_TA                40000 non-null object\n",
      "dtypes: float64(3), object(7)\n",
      "memory usage: 3.1+ MB\n"
     ]
    }
   ],
   "source": [
    "df.info()"
   ]
  },
  {
   "cell_type": "markdown",
   "metadata": {},
   "source": [
    "## Переименуем столбцы в удобный формат"
   ]
  },
  {
   "cell_type": "code",
   "execution_count": 6,
   "metadata": {},
   "outputs": [
    {
     "name": "stdout",
     "output_type": "stream",
     "text": [
      "<class 'pandas.core.frame.DataFrame'>\n",
      "RangeIndex: 40000 entries, 0 to 39999\n",
      "Data columns (total 10 columns):\n",
      "rest_id          40000 non-null object\n",
      "city             40000 non-null object\n",
      "cuisine_style    30717 non-null object\n",
      "ranking          40000 non-null float64\n",
      "rating           40000 non-null float64\n",
      "price_range      26114 non-null object\n",
      "number_of_rev    37457 non-null float64\n",
      "reviews          40000 non-null object\n",
      "url_ta           40000 non-null object\n",
      "id_ta            40000 non-null object\n",
      "dtypes: float64(3), object(7)\n",
      "memory usage: 3.1+ MB\n"
     ]
    }
   ],
   "source": [
    "df.rename(columns={'Restaurant_id': 'rest_id', 'City': 'city',\n",
    "                     'Cuisine Style': 'cuisine_style', 'Ranking': 'ranking',\n",
    "                     'Rating': 'rating', 'Price Range': 'price_range',\n",
    "                    'Number of Reviews': 'number_of_rev', 'Reviews': 'reviews',\n",
    "                    'URL_TA': 'url_ta', 'ID_TA': 'id_ta'}, inplace=True)\n",
    "\n",
    "df.info()"
   ]
  },
  {
   "cell_type": "markdown",
   "metadata": {},
   "source": [
    "## Number of Reviews and Reviews"
   ]
  },
  {
   "cell_type": "code",
   "execution_count": 7,
   "metadata": {},
   "outputs": [],
   "source": [
    "populate_none_values(df, 'number_of_rev', df[df['number_of_rev'].isna()]['reviews'].apply(count_reviews))"
   ]
  },
  {
   "cell_type": "markdown",
   "metadata": {},
   "source": [
    "## Cuisine Style"
   ]
  },
  {
   "cell_type": "code",
   "execution_count": 8,
   "metadata": {},
   "outputs": [],
   "source": [
    "df.loc[~df['cuisine_style'].isna(), 'cuisine_style'] = df.loc[~df['cuisine_style'].isna(), 'cuisine_style'].apply(\n",
    "    lambda x: ast.literal_eval(x)\n",
    ")"
   ]
  },
  {
   "cell_type": "code",
   "execution_count": 9,
   "metadata": {},
   "outputs": [
    {
     "data": {
      "text/plain": [
       "'Vegetarian Friendly'"
      ]
     },
     "execution_count": 9,
     "metadata": {},
     "output_type": "execute_result"
    }
   ],
   "source": [
    "cuisines_counter = Counter()\n",
    "\n",
    "for cuisines in df.loc[~df['cuisine_style'].isna(), 'cuisine_style']:\n",
    "    for cuisine in cuisines:\n",
    "        cuisines_counter[cuisine] += 1\n",
    "\n",
    "cuisine_most_common = cuisines_counter.most_common(1)[0][0]\n",
    "cuisine_most_common"
   ]
  },
  {
   "cell_type": "code",
   "execution_count": 10,
   "metadata": {},
   "outputs": [],
   "source": [
    "cuisine_prefix = 'cuisine_'"
   ]
  },
  {
   "cell_type": "code",
   "execution_count": 11,
   "metadata": {},
   "outputs": [],
   "source": [
    "for cuisine in cuisines_counter.keys():\n",
    "    df[f'{cuisine_prefix}{cuisine}'] = np.uint8(0)"
   ]
  },
  {
   "cell_type": "code",
   "execution_count": 12,
   "metadata": {},
   "outputs": [],
   "source": [
    "for i, row in df.iterrows():\n",
    "    if type(row['cuisine_style']) is not list or len(row['cuisine_style']) == 0:\n",
    "        df.at[i, f'{cuisine_prefix}{cuisine_most_common}'] = np.uint8(1)\n",
    "    else:\n",
    "        for cuisine in row['cuisine_style']:\n",
    "            df.at[i, f'{cuisine_prefix}{cuisine}'] = np.uint8(1)"
   ]
  },
  {
   "cell_type": "markdown",
   "metadata": {},
   "source": [
    "## City"
   ]
  },
  {
   "cell_type": "code",
   "execution_count": 13,
   "metadata": {},
   "outputs": [],
   "source": [
    "df = pd.get_dummies(df, columns=['city'], dummy_na=True)"
   ]
  },
  {
   "cell_type": "markdown",
   "metadata": {},
   "source": [
    "## Price Range"
   ]
  },
  {
   "cell_type": "code",
   "execution_count": 14,
   "metadata": {},
   "outputs": [
    {
     "data": {
      "text/plain": [
       "$$ - $$$    18412\n",
       "$            6279\n",
       "$$$$         1423\n",
       "Name: price_range, dtype: int64"
      ]
     },
     "execution_count": 14,
     "metadata": {},
     "output_type": "execute_result"
    }
   ],
   "source": [
    "df['price_range'].value_counts()"
   ]
  },
  {
   "cell_type": "code",
   "execution_count": 15,
   "metadata": {},
   "outputs": [],
   "source": [
    "price_ranges = { '$': 1, '$$ - $$$': 2, '$$$$': 3 }"
   ]
  },
  {
   "cell_type": "code",
   "execution_count": 16,
   "metadata": {},
   "outputs": [],
   "source": [
    "df['price_range'] = df['price_range'].apply(lambda x: get_price_range_type(x, price_ranges))"
   ]
  },
  {
   "cell_type": "markdown",
   "metadata": {},
   "source": [
    "## Training"
   ]
  },
  {
   "cell_type": "code",
   "execution_count": 17,
   "metadata": {},
   "outputs": [],
   "source": [
    "df.loc[:, 'rating'] = df.loc[:, 'rating'].apply(lambda x: round(x))"
   ]
  },
  {
   "cell_type": "code",
   "execution_count": 18,
   "metadata": {},
   "outputs": [],
   "source": [
    "df = df.drop(['id_ta', 'url_ta', 'rest_id', 'reviews', 'cuisine_style'], axis=1)"
   ]
  },
  {
   "cell_type": "code",
   "execution_count": 19,
   "metadata": {},
   "outputs": [
    {
     "name": "stdout",
     "output_type": "stream",
     "text": [
      "<class 'pandas.core.frame.DataFrame'>\n",
      "RangeIndex: 40000 entries, 0 to 39999\n",
      "Data columns (total 161 columns):\n",
      "ranking                        float64\n",
      "rating                         int64\n",
      "price_range                    int64\n",
      "number_of_rev                  float64\n",
      "cuisine_European               uint8\n",
      "cuisine_French                 uint8\n",
      "cuisine_International          uint8\n",
      "cuisine_Japanese               uint8\n",
      "cuisine_Sushi                  uint8\n",
      "cuisine_Asian                  uint8\n",
      "cuisine_Grill                  uint8\n",
      "cuisine_Vegetarian Friendly    uint8\n",
      "cuisine_Vegan Options          uint8\n",
      "cuisine_Gluten Free Options    uint8\n",
      "cuisine_German                 uint8\n",
      "cuisine_Central European       uint8\n",
      "cuisine_Italian                uint8\n",
      "cuisine_Pizza                  uint8\n",
      "cuisine_Fast Food              uint8\n",
      "cuisine_Mediterranean          uint8\n",
      "cuisine_Spanish                uint8\n",
      "cuisine_Healthy                uint8\n",
      "cuisine_Cafe                   uint8\n",
      "cuisine_Thai                   uint8\n",
      "cuisine_Vietnamese             uint8\n",
      "cuisine_Bar                    uint8\n",
      "cuisine_Pub                    uint8\n",
      "cuisine_Chinese                uint8\n",
      "cuisine_British                uint8\n",
      "cuisine_Polish                 uint8\n",
      "cuisine_Fusion                 uint8\n",
      "cuisine_Dutch                  uint8\n",
      "cuisine_Mexican                uint8\n",
      "cuisine_Venezuelan             uint8\n",
      "cuisine_South American         uint8\n",
      "cuisine_Soups                  uint8\n",
      "cuisine_Belgian                uint8\n",
      "cuisine_Steakhouse             uint8\n",
      "cuisine_Latin                  uint8\n",
      "cuisine_Barbecue               uint8\n",
      "cuisine_Argentinean            uint8\n",
      "cuisine_Irish                  uint8\n",
      "cuisine_Seafood                uint8\n",
      "cuisine_Swiss                  uint8\n",
      "cuisine_Portuguese             uint8\n",
      "cuisine_Contemporary           uint8\n",
      "cuisine_Wine Bar               uint8\n",
      "cuisine_Greek                  uint8\n",
      "cuisine_Central American       uint8\n",
      "cuisine_Indian                 uint8\n",
      "cuisine_Middle Eastern         uint8\n",
      "cuisine_Turkish                uint8\n",
      "cuisine_Hungarian              uint8\n",
      "cuisine_Pakistani              uint8\n",
      "cuisine_Peruvian               uint8\n",
      "cuisine_Delicatessen           uint8\n",
      "cuisine_Eastern European       uint8\n",
      "cuisine_Swedish                uint8\n",
      "cuisine_Scandinavian           uint8\n",
      "cuisine_Tibetan                uint8\n",
      "cuisine_Nepali                 uint8\n",
      "cuisine_Korean                 uint8\n",
      "cuisine_Southwestern           uint8\n",
      "cuisine_Czech                  uint8\n",
      "cuisine_American               uint8\n",
      "cuisine_Slovenian              uint8\n",
      "cuisine_Balti                  uint8\n",
      "cuisine_Street Food            uint8\n",
      "cuisine_Diner                  uint8\n",
      "cuisine_Brew Pub               uint8\n",
      "cuisine_Caribbean              uint8\n",
      "cuisine_Austrian               uint8\n",
      "cuisine_Moroccan               uint8\n",
      "cuisine_Halal                  uint8\n",
      "cuisine_Lebanese               uint8\n",
      "cuisine_Russian                uint8\n",
      "cuisine_African                uint8\n",
      "cuisine_Ethiopian              uint8\n",
      "cuisine_Egyptian               uint8\n",
      "cuisine_Danish                 uint8\n",
      "cuisine_Brazilian              uint8\n",
      "cuisine_Ecuadorean             uint8\n",
      "cuisine_Israeli                uint8\n",
      "cuisine_Kosher                 uint8\n",
      "cuisine_Gastropub              uint8\n",
      "cuisine_Australian             uint8\n",
      "cuisine_Singaporean            uint8\n",
      "cuisine_Malaysian              uint8\n",
      "cuisine_Minority Chinese       uint8\n",
      "cuisine_Scottish               uint8\n",
      "cuisine_Arabic                 uint8\n",
      "cuisine_Ukrainian              uint8\n",
      "cuisine_Chilean                uint8\n",
      "cuisine_Mongolian              uint8\n",
      "cuisine_Cuban                  uint8\n",
      "cuisine_Persian                uint8\n",
      "cuisine_Indonesian             uint8\n",
      "cuisine_Colombian              uint8\n",
      "cuisine_Jamaican               uint8\n",
      "cuisine_Norwegian              uint8\n",
      "cuisine_Hawaiian               uint8\n",
      "cuisine_Armenian               uint8\n",
      "cuisine_Taiwanese              uint8\n",
      "cuisine_Bangladeshi            uint8\n",
      "cuisine_Sri Lankan             uint8\n",
      "cuisine_Cambodian              uint8\n",
      "cuisine_Albanian               uint8\n",
      "cuisine_New Zealand            uint8\n",
      "cuisine_Croatian               uint8\n",
      "cuisine_Central Asian          uint8\n",
      "cuisine_Filipino               uint8\n",
      "cuisine_Tunisian               uint8\n",
      "cuisine_Cajun & Creole         uint8\n",
      "cuisine_Romanian               uint8\n",
      "cuisine_Georgian               uint8\n",
      "cuisine_Polynesian             uint8\n",
      "cuisine_Azerbaijani            uint8\n",
      "cuisine_Caucasian              uint8\n",
      "cuisine_Afghani                uint8\n",
      "cuisine_Uzbek                  uint8\n",
      "cuisine_Salvadoran             uint8\n",
      "cuisine_Yunnan                 uint8\n",
      "cuisine_Native American        uint8\n",
      "cuisine_Canadian               uint8\n",
      "cuisine_Xinjiang               uint8\n",
      "cuisine_Burmese                uint8\n",
      "cuisine_Fujian                 uint8\n",
      "cuisine_Welsh                  uint8\n",
      "cuisine_Latvian                uint8\n",
      "city_Amsterdam                 uint8\n",
      "city_Athens                    uint8\n",
      "city_Barcelona                 uint8\n",
      "city_Berlin                    uint8\n",
      "city_Bratislava                uint8\n",
      "city_Brussels                  uint8\n",
      "city_Budapest                  uint8\n",
      "city_Copenhagen                uint8\n",
      "city_Dublin                    uint8\n",
      "city_Edinburgh                 uint8\n",
      "city_Geneva                    uint8\n",
      "city_Hamburg                   uint8\n",
      "city_Helsinki                  uint8\n",
      "city_Krakow                    uint8\n",
      "city_Lisbon                    uint8\n",
      "city_Ljubljana                 uint8\n",
      "city_London                    uint8\n",
      "city_Luxembourg                uint8\n",
      "city_Lyon                      uint8\n",
      "city_Madrid                    uint8\n",
      "city_Milan                     uint8\n",
      "city_Munich                    uint8\n",
      "city_Oporto                    uint8\n",
      "city_Oslo                      uint8\n",
      "city_Paris                     uint8\n",
      "city_Prague                    uint8\n",
      "city_Rome                      uint8\n",
      "city_Stockholm                 uint8\n",
      "city_Vienna                    uint8\n",
      "city_Warsaw                    uint8\n",
      "city_Zurich                    uint8\n",
      "city_nan                       uint8\n",
      "dtypes: float64(2), int64(2), uint8(157)\n",
      "memory usage: 7.2 MB\n"
     ]
    }
   ],
   "source": [
    "df.info(verbose=True)"
   ]
  },
  {
   "cell_type": "markdown",
   "metadata": {},
   "source": [
    "# Разбиваем датафрейм на части, необходимые для обучения и тестирования модели"
   ]
  },
  {
   "cell_type": "code",
   "execution_count": 20,
   "metadata": {},
   "outputs": [],
   "source": [
    "# Х - данные с информацией о ресторанах, у - целевая переменная (рейтинги ресторанов)\n",
    "X = df.drop(['rating'], axis = 1)\n",
    "y = df['rating']"
   ]
  },
  {
   "cell_type": "code",
   "execution_count": 21,
   "metadata": {},
   "outputs": [],
   "source": [
    "# Загружаем специальный инструмент для разбивки:\n",
    "from sklearn.model_selection import train_test_split"
   ]
  },
  {
   "cell_type": "code",
   "execution_count": 22,
   "metadata": {},
   "outputs": [],
   "source": [
    "# Наборы данных с меткой \"train\" будут использоваться для обучения модели, \"test\" - для тестирования.\n",
    "# Для тестирования мы будем использовать 25% от исходного датасета.\n",
    "X_train, X_test, y_train, y_test = train_test_split(X, y, test_size=0.25, random_state=RANDOM_SEED)"
   ]
  },
  {
   "cell_type": "markdown",
   "metadata": {},
   "source": [
    "# Создаём, обучаем и тестируем модель"
   ]
  },
  {
   "cell_type": "code",
   "execution_count": 23,
   "metadata": {},
   "outputs": [],
   "source": [
    "# Импортируем необходимые библиотеки:\n",
    "from sklearn.ensemble import RandomForestRegressor # инструмент для создания и обучения модели\n",
    "from sklearn import metrics # инструменты для оценки точности модели"
   ]
  },
  {
   "cell_type": "code",
   "execution_count": 24,
   "metadata": {},
   "outputs": [],
   "source": [
    "# Создаём модель\n",
    "regr = RandomForestRegressor(n_estimators=100, random_state=RANDOM_SEED)\n",
    "\n",
    "# Обучаем модель на тестовом наборе данных\n",
    "regr.fit(X_train, y_train)\n",
    "\n",
    "# Используем обученную модель для предсказания рейтинга ресторанов в тестовой выборке.\n",
    "# Предсказанные значения записываем в переменную y_pred\n",
    "y_pred = regr.predict(X_test)"
   ]
  },
  {
   "cell_type": "code",
   "execution_count": 25,
   "metadata": {},
   "outputs": [
    {
     "name": "stdout",
     "output_type": "stream",
     "text": [
      "MAE: 0.14185699999999998\n"
     ]
    }
   ],
   "source": [
    "# Сравниваем предсказанные значения (y_pred) с реальными (y_test), и смотрим насколько они в среднем отличаются\n",
    "# Метрика называется Mean Absolute Error (MAE) и показывает среднее отклонение предсказанных значений от фактических.\n",
    "print('MAE:', metrics.mean_absolute_error(y_test, y_pred))"
   ]
  },
  {
   "cell_type": "code",
   "execution_count": 28,
   "metadata": {},
   "outputs": [
    {
     "data": {
      "text/plain": [
       "<matplotlib.axes._subplots.AxesSubplot at 0x7fbf193e2590>"
      ]
     },
     "execution_count": 28,
     "metadata": {},
     "output_type": "execute_result"
    },
    {
     "data": {
      "image/png": "[encoded data removed]",
      "text/plain": [
       "<Figure size 720x720 with 1 Axes>"
      ]
     },
     "metadata": {
      "needs_background": "light"
     },
     "output_type": "display_data"
    }
   ],
   "source": [
    "# в RandomForestRegressor есть возможность вывести самые важные признаки для модели\n",
    "plt.rcParams['figure.figsize'] = (10,10)\n",
    "feat_importances = pd.Series(regr.feature_importances_, index=X.columns)\n",
    "feat_importances.nlargest(15).plot(kind='barh')"
   ]
  },
  {
   "cell_type": "code",
   "execution_count": null,
   "metadata": {},
   "outputs": [],
   "source": []
  }
 ],
 "metadata": {
  "kernelspec": {
   "display_name": "Python 3",
   "language": "python",
   "name": "python3"
  },
  "language_info": {
   "codemirror_mode": {
    "name": "ipython",
    "version": 3
   },
   "file_extension": ".py",
   "mimetype": "text/x-python",
   "name": "python",
   "nbconvert_exporter": "python",
   "pygments_lexer": "ipython3",
   "version": "3.7.7"
  }
 },
 "nbformat": 4,
 "nbformat_minor": 2
}
