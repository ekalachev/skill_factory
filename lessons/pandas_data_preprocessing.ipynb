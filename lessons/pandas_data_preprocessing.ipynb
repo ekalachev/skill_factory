{
 "cells": [
  {
   "cell_type": "markdown",
   "metadata": {},
   "source": [
    "# Очистка данных "
   ]
  },
  {
   "cell_type": "code",
   "execution_count": 1,
   "metadata": {},
   "outputs": [],
   "source": [
    "import pandas as pd"
   ]
  },
  {
   "cell_type": "markdown",
   "metadata": {},
   "source": [
    "Мы приступаем к изучению темы предобработки данных. \n",
    "\n",
    "В текущем модуле мы поговорим о том, как работать с «сырыми» данными, сохраненными в неудобном формате, со странными кодировками и ошибками. В модулях мы будем применять на практике то, что вы знаете о Pandas.\n",
    "\n",
    "Изучать модули мы будем на базе сквозного кейса — анализа данных букмекерской конторы.\n",
    "\n",
    "Изучим: \n",
    "- read_csv с дополнительными параметрами\n",
    "- df.columns\n",
    "- df.column.unique()\n",
    "- df.info()\n",
    "- df[df.column > X]\n",
    "- df.query('X<A<Y & B==Z')\n",
    "- df[df.column.str.contains(\"string\")]\n",
    "- df[~df.column.str.contains(\"string\")]\n",
    "- df.apply(lambda x)\n",
    "- df.apply (func)\n",
    "- df['new_column'] = df.old_column.apply(func)"
   ]
  },
  {
   "cell_type": "code",
   "execution_count": null,
   "metadata": {},
   "outputs": [],
   "source": []
  }
 ],
 "metadata": {
  "kernelspec": {
   "display_name": "Python 3",
   "language": "python",
   "name": "python3"
  },
  "language_info": {
   "codemirror_mode": {
    "name": "ipython",
    "version": 3
   },
   "file_extension": ".py",
   "mimetype": "text/x-python",
   "name": "python",
   "nbconvert_exporter": "python",
   "pygments_lexer": "ipython3",
   "version": "3.8.3"
  }
 },
 "nbformat": 4,
 "nbformat_minor": 4
}
