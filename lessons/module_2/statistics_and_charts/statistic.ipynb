{
 "cells": [
  {
   "cell_type": "markdown",
   "metadata": {},
   "source": [
    "# Описательные статистики\n",
    "\n",
    "Можно сказать, что описательная статистика — *это формула, которая использует весь набор данных и дает нам ответ в виде одного числа.*\n",
    "\n",
    "Например, у нас есть такой набор чисел:\n",
    "    *23, 45, 23, 44, 34, 56, 54, 12, 11, 44, 44, 31, 4, 30, 20, 49, 38, 48, 38, 40, 36, 41, 33, 47, 32*\n",
    "\n",
    "Каждое число здесь показывает количество контрактов, заключенных в течение одного года одним менеджером по продажам.\n",
    "\n",
    "С первого взгляда сложно понять, о чём могут сказать эти разрозненные числа. Результаты, полученные для нашей выборки (некоторой группы объектов, которые мы исследуем) интересуют нас не по отдельности для каждого объекта — нас интересует какая-то обобщённая оценка. \n",
    "\n",
    "Нам необходимо как-то оценить, описать распределение интересующих нас признаков в обобщенном виде. Для этого в первую очередь нам нужно знать, какие значения являются наиболее типичными для этого признака, что для него наиболее характерно. Для этого мы будем вычислять меры центральной тенденции, или меры центра.\n",
    "\n",
    "Всего есть три меры центральной тенденции:\n",
    "\n",
    "- Среднее (среднее арифметическое всех значений).\n",
    "- Медиана (серединное значение).\n",
    "- Мода (наиболее частое наблюдение).\n",
    "\n",
    "Но найденная мера центральной тенденции не позволит нам полностью описать признак. Например, мы знаем, что средний чек в ресторане за неделю составил 1000 руб. Это значение может быть получено разными способами: например, все посетители потратили по 1000 руб. Ровно такое же среднее арифметическое будет в ситуации, когда половина посетителей потратила по 500 руб., а другая — по 1500 руб. Конечно, это будут совершенно разные ситуации.\n",
    "\n",
    "Поэтому ещё один вопрос, который необходимо задать: а **насколько сильно разбросаны друг относительно друга** значения?\n",
    "\n",
    "Для ответа на такой вопрос существуют **меры разброса**.\n",
    "\n",
    "Вот самые популярные меры разброса:\n",
    "\n",
    "- Дисперсия. \n",
    "- Стандартное отклонение.\n",
    "- Размах.\n",
    "- Межквартильный размах.\n",
    "\n",
    "## Важные термины\n",
    "\n",
    "Прежде чем мы перейдем к тому, как именно вычислять описательные статистики, поговорим немного о терминах. Они помогут нам быстро называть операции над данными и записывать их.\n",
    "\n",
    "- Случайная величина. Это то, с чем мы работаем. Случайной она называется потому, что когда мы выбираем какое-либо число из набора данных, мы не знаем, каким оно окажется. Обозначается большой буквой, например **X**.\n",
    "    - В нашем примере случайная величина — это количество контрактов, заключенных одним менеджером в течение года.\n",
    "\n",
    "\n",
    "- Наблюдение. Это конкретное значение случайной величины. Обозначается маленькой буквой, например **x**.\n",
    "    - **x<sub>5</sub> = 41** Означает, что пятый менеджер заключил **41** контракт.\n",
    "\n",
    "\n",
    "- Генеральная совокупность. Это все множество объектов, которое нас интересует. В нашем примере генеральная совокупность — это все менеджеры по продажам внутри большой международной компании. Обозначается большой буквой **N**.\n",
    "    - Например, *N = 1000*.\n",
    "\n",
    "\n",
    "- Выборка. Поскольку в реальной жизни, как правило, у нас нет информации обо всей генеральной совокупности, нам приходится работать с какой-то ее частью. Эта часть генеральной совокупности и называется выборкой. Обозначается маленькой буквой **n**.\n",
    "    - Например, *n = 25*.\n",
    "\t\n",
    "### Важно!\n",
    "Следует всегда помнить, с чем нам приходится работать — с выборкой или с генеральной совокупностью. Это повлияет на выбранный нами способ расчетов."
   ]
  },
  {
   "cell_type": "markdown",
   "metadata": {},
   "source": [
    "## СРЕДНЕЕ\n",
    "\n",
    "Самая интуитивно понятная мера центральной тенденции, которая сразу приходит на ум — это среднее арифметическое. Мы достаточно часто используем эту меру в повседневной жизни. К примеру, если мы хотим узнать об уровне обучения в какой-то школе, мы можем посмотреть средний балл ЕГЭ её выпускников и оценить, насколько качественные знания дают в этом учебном заведении. Или, представим, что мы хотим перекусить в кафе и хотим понять, хватит ли нам денег. В таком случае мы можем выбирать только те кафе, средний чек которых не слишком для нас высок.\n",
    "\n",
    "Среднее бывает *выборочным* и *истинным* — в зависимости от того, какой у нас есть набор данных (выборка или генеральная совокупность).\n",
    "\n",
    "*Выборочное среднее* — это просто среднее арифметическое всех наблюдений, то есть сумма наблюдений, поделенная на их количество. Обозначается  (x с вертикальной верхней чертой).\n",
    "\n",
    "![stat1](./../../../data/stat1.png)\n",
    "\n",
    "Считаем выборочное среднее по нашим данным:\n",
    "\n",
    "![stat1](./../../../data/stat2.png)\n",
    "\n",
    "*Истинное среднее* рассчитывается на основе всех значений генеральной совокупности. Обозначается греческой буквой «мю».\n",
    "\n",
    "![stat1](./../../../data/stat3.png)\n",
    "\n",
    "Однако у среднего арифметического как у меры центральной тенденции есть существенный минус. Эта мера чувствительна к выбросам. \n",
    "\n",
    "***А ЧТО ТАКОЕ ВЫБРОС?***\n",
    "\n",
    "Представим, что мы хотим вычислить среднюю зарплату и отобрали 10 сотрудников с зарплатой 30 000 и одного топ-менеджера с зарплатой 500 000. Вычислим среднюю зарплату для этих людей:\n",
    "\n",
    "![stat1](./../../../data/stat4.png)\n",
    "\n",
    "Мы можем видеть, что из-за большой зарплаты топ-менеджера средняя зарплата увеличилась и не отражает действительности.\n",
    "\n",
    "Или другой пример. Если мы возьмем группу людей со средним уровнем интеллекта, то человек с очень высоким уровнем интеллекта (к примеру Эйнштейн) будет выбросом. Человек с очень низким уровнем интеллекта (например, имеющий некие особенности развития) также будет выбросом.\n",
    "\n",
    "Есть несколько путей борьбы с этой проблемой. Во-первых, можно вычислять *усечённое среднее*. Для того, чтобы его найти, нужно отбросить самые маленькие и самые большие значения (например, по 5 % с каждой стороны) и вычислять среднее уже по такой урезанной выборке. Отсекая самые маленькие и самые большие значения, мы избавляемся от выбросов, и результат получается более релевантный. \n",
    "\n",
    "→ Также можно специально выбрать именно те значения, которые являются выбросами. Мы научимся делать это чуть позднее.\n",
    "\n",
    "Есть и другой путь: вычислять показатели, не чувствительные к выбросам (их называют **робастными**). Аналог среднего арифметического, который не чувствителен к выбросам, — это медиана ↓\n",
    "\n",
    "## МЕДИАНА\n",
    "\n",
    "Медиана — это значение, разделяющее набор данных на две половины: одна ниже медианы, другая выше.\n",
    "\n",
    "```\n",
    "    Как найти медиану?\n",
    "    \n",
    "    - Упорядочить все наблюдения по возрастанию.\n",
    "    - Найти середину.\n",
    "```\n",
    "\n",
    "Многое в нахождении медианы зависит от того, четное или нечетное количество наблюдений.\n",
    "\n",
    "Если n нечетное. Тут все просто: в середине окажется одно центральное значение. \n",
    "\n",
    "\\begin{equation*}\n",
    "k = \\frac{n + 1}{2} = 3\n",
    "\\end{equation*}\n",
    "\n",
    "медиана равна\n",
    "\n",
    "\\begin{equation*}\n",
    "x_3 = 34\n",
    "\\end{equation*}\n",
    "\n",
    "Если n четное. В середине оказывается два наблюдения. В таком случае мы находим среднее арифметическое этих двух значений.\n",
    "\n",
    "![stat1](./../../../data/stat5.png)\n",
    "\n",
    "## СРЕДНЕЕ VS МЕДИАНА\n",
    "\n",
    "Что лучше — среднее или медиана? Все зависит от того, есть ли в нашем наборе данных нетипичные наблюдения (выбросы). Допустим, если в набор данных о доходах затесались доходы миллионера, наше среднее будет говорить вовсе не о типичном значении.\n",
    "\n",
    "Посмотрим на слабые и сильные стороны среднего и медианы:\n",
    "\n",
    "![stat1](./../../../data/stat6.png)\n",
    "\n",
    "На практике одинаково часто используется и среднее, и медиана.\n",
    "\n",
    "## МОДА\n",
    "\n",
    "Есть и ещё одна мера центральной тенденции — это мода.\n",
    "\n",
    "Мода — это наиболее частое наблюдение в наборе данных. \n",
    "\n",
    "В нашем случае это 44, единственное наблюдение, которое встретилось три раза.\n",
    "\n",
    "Мода используется не так часто, но иногда это единственный способ оценить самые типичные значения. Например, если у нас есть города проживания для какого-то количества людей, то мы не можем найти среднее арифметическое для городов, не можем их проранжировать для поиска медианы, но зато мы можем найти самый часто встречающийся город — моду."
   ]
  },
  {
   "cell_type": "markdown",
   "metadata": {},
   "source": [
    "## КВАРТИЛИ\n",
    "\n",
    "Квартили — это такие значения, которые делят наш набор данных на четыре равные части (по 25 % в каждой).\n",
    "\n",
    "- Нижний квартиль  отделяет 25 % наблюдений с наименьшими значениями от остальных 75 %.\n",
    "- Верхний квартиль  отделяет 25 % наблюдений с наибольшими значениями от остальных 75 %.\n",
    "- Второй квартиль  — это медиана.\n",
    "\n",
    "### КАК НАХОДИТЬ КВАРТИЛИ?\n",
    "\n",
    "1. Упорядочить элементы набора данных по возрастанию.\n",
    "2. Найти медиану, разделить данные на две части относительно нее. В нашем наборе данных медиана = 38.\n",
    "3. Набор данных:\n",
    "![stat](./../../../data/stat7.png)\n",
    "\n",
    "Медиана = 37, потому что центральные числа 36 и 38. Находим их среднее арифметическое, получаем 37.\n",
    "\n",
    "4. Найти медиану в нижней части Q<sub>1</sub>. В нашем наборе данных это 26.5.\n",
    "![stat](./../../../data/stat8.png)\n",
    "\n",
    "5. Найти медиану в верхней части Q<sub>1</sub>. В нашем наборе данных это 44.5.\n",
    "![stat](./../../../data/stat9.png)\n",
    "\n",
    "```\n",
    "Мы здесь рассмотрели лишь один из способов поиска квартилей. Как это ни странно, квартили ищутся разными вариантами. В данном случае мы не использовали медиану при расчете квартилей — не брали её ни в первую половину ряда, ни во вторую. Такой метод подсчёта квартилей называется эксклюзивным (то есть исключающим медиану).\n",
    "```\n",
    "\n",
    "Если бы в примере выше мы бы вычисляли квартили инклюзивным методом, то тогда мы бы получили следующие значения:\n",
    "\n",
    "Q<sub>1</sub> = 30\n",
    "и\n",
    "Q<sub>3</sub> = 44\n",
    "\n",
    "(так как там было бы нечетное число элементов в каждой половине)\n",
    "\n",
    "Есть также и третий подход — компромисс между рассмотренными двумя. Он заключается в том, что в случае нечётного числа значений в наборе данных следует включить или исключить медиану, ориентируясь на то, чтобы оставшиеся половинки содержали нечётное число элементов. \n",
    "\n",
    "Например, если в выборке 9 элементов, медиану следует включить, а при 11 элементах — исключить. В обоих случаях половинки будут содержать по 5 элементов. Преимущество этого компромисса заключается в том, что в качестве значения квартиля всегда получается один из элементов набора данных (а не среднее значение двух соседних элементов).\n",
    "\n",
    "Итоги: что мы узнали с помощью мер центра?\n",
    "\n",
    "Давайте посмотрим, какие результаты нам дали меры центра на нашем наборе данных.\n",
    "- Среднее: 35\n",
    "- Медиана: 38\n",
    "- Мода: 44\n",
    "\n",
    "## ВЫЧИСЛЯЕМ КВАРТИЛИ В PYTHON\n",
    "\n",
    "Для вычисления квартилей в pandas используется функция quantile(). Она возвращает значение в заданном квартиле. Значение квартиля задается в диапазоне от [0,...1]. Например, для нижнего квартиля это значение равно Q<sub>1</sub> = 0.25, для верхнего — Q<sub>3</sub> = 0.75.\n",
    "\n",
    "Также у *quantile()*  существует необязательный параметр, который  указывает метод интерполяции, который нужно использовать, когда требуемый квантиль лежит между двумя точками данных. По умолчанию используется линейная интерполяция.\n",
    "\n",
    "```\n",
    "DataFrame.quantile(self, q=0.5, axis=0, numeric_only=True, interpolation='linear')\n",
    "```\n",
    "\n",
    "Чтобы вычислять квантиль как среднее между двумя точками в части данных, необходимо сменить вид интерполяции на следующий: \n",
    "\n",
    "```\n",
    "DataFrame.quantile(self, q=0.5, axis=0, numeric_only=True, interpolation='midpoint')\n",
    "```\n",
    "\n",
    "Более подробная информация о том, как работает параметр interpolation и какие еще виды интерполяции можно применить, есть в [официальной документации](https://pandas.pydata.org/pandas-docs/stable/reference/api/pandas.DataFrame.quantile.html).\n",
    "\n",
    "Задание:\n",
    "\n",
    "Найдите Q1 и Q3 для мужчин и женщин, используя Python (выпишите результат, округляя до 1 знака после точки-разделителя):"
   ]
  },
  {
   "cell_type": "code",
   "execution_count": 1,
   "metadata": {},
   "outputs": [],
   "source": [
    "import pandas as pd\n",
    "\n",
    "df = pd.DataFrame({\n",
    "    'mens': [80, 80.8, 57.5, 98, 50.5, 73.8, 77.4, 59.7, 77.9, 52.6],\n",
    "    'womens': [57.9, 57.3, 72.8, 48.2, 59.5, 48.3, 61.2, 53.9, 53.9, 70.7]\n",
    "})"
   ]
  },
  {
   "cell_type": "markdown",
   "metadata": {},
   "source": [
    "Q<sub>1</sub> для мужчин и женщин:"
   ]
  },
  {
   "cell_type": "code",
   "execution_count": 2,
   "metadata": {},
   "outputs": [
    {
     "data": {
      "text/plain": [
       "mens      58.6\n",
       "womens    53.9\n",
       "Name: 0.25, dtype: float64"
      ]
     },
     "execution_count": 2,
     "metadata": {},
     "output_type": "execute_result"
    }
   ],
   "source": [
    "df.quantile(q=0.25, axis=0, numeric_only=True, interpolation='midpoint')"
   ]
  },
  {
   "cell_type": "markdown",
   "metadata": {},
   "source": [
    "Q<sub>3</sub> для мужчин и женщин:"
   ]
  },
  {
   "cell_type": "code",
   "execution_count": 3,
   "metadata": {},
   "outputs": [
    {
     "data": {
      "text/plain": [
       "mens      78.95\n",
       "womens    60.35\n",
       "Name: 0.75, dtype: float64"
      ]
     },
     "execution_count": 3,
     "metadata": {},
     "output_type": "execute_result"
    }
   ],
   "source": [
    "df.quantile(q=0.75, axis=0, numeric_only=True, interpolation='midpoint')"
   ]
  },
  {
   "cell_type": "markdown",
   "metadata": {},
   "source": [
    "25% мужчин весят больше, чем 79 кг."
   ]
  },
  {
   "cell_type": "markdown",
   "metadata": {},
   "source": [
    "# Меры разброса\n",
    "\n",
    "## Размах\n",
    "Размах — это разность между максимальным и минимальным наблюдением.\n",
    "range = x<sub>max</sub> - x<sub>min</sub>\n",
    "\n",
    "В нашем наборе данных (для удобства мы упорядочили его по возрастанию) размах составляет 52\n",
    "\n",
    "![stat](./../../../data/stat7.png)\n",
    "\n",
    "range = 56 - 4 = 52\n",
    "\n",
    "## Межквартильный размах\n",
    "Теперь, когда мы знакомы с квартилями, можно поговорить о межквартильном размахе. Межквартильный размах **(InterquartileRange, IQR)** — *это разность между третьим и первым квартилем*.\n",
    "\n",
    "IQR = Q<sub>3</sub> - Q<sub>1</sub>\n",
    "\n",
    "В нашем наборе данных значение IQR составит 18.\n",
    "\n",
    "Q<sub>1</sub> = 26.5, Q<sub>3</sub> = 44.5\n",
    "IQR = Q<sub>3</sub> - Q<sub>1</sub> = 44.5 - 26.5 = 18\n",
    "\n",
    "## Стандартное отклонение\n",
    "Стандартное отклонение — это мера стандартного (типичного) отклонения от среднего.\n",
    "\n",
    "Бывает истинное и выборочное стандартное отклонение. Истинное считается на генеральной совокупности, а выборочное — на выборке. \n",
    "\n",
    "## Как посчитать стандартное отклонение?\n",
    "Истинное стандартное отклонение обозначается буквой «сигма» и считается так:\n",
    "\n",
    "![stat10](./../../../data/stat10.png)\n",
    "\n",
    "Формула выглядит пугающе, но в действительности она не так и сложна. Мы считаем разность между неким наблюдением и средним \n",
    "![stat11](./../../../data/stat11.png)\n",
    "У нас есть  таких наблюдений. Берем арифметическое среднее таких отклонений.\n",
    "![stat11](./../../../data/stat12.png)\n",
    "Если оставить формулу такой, как есть, мы в итоге получим 0. Чтобы так не случилось, можно брать модуль выражения или возвести его в квадрат. Чаще всего возводится в квадрат.\n",
    "\n",
    "Если оставить ответ как есть, мы получим значение **дисперсии** (это просто квадрат стандартного отклонения). Она дает нам ответ в квадратных единицах измерения.\n",
    "\n",
    "Чтобы привести ответ к нужному нам формату, извлекаем из полученного квадратный корень — и получаем значение истинного стандартного отклонения.\n",
    "\n",
    "## А что с выборочным стандартным отклонением?\n",
    "Когда у нас нет генеральной совокупности, мы считаем выборочное стандартное отклонение s. У нас нет значения истинного среднего, поэтому формула меняется:\n",
    "\n",
    "![stat11](./../../../data/stat13.png)\n",
    "\n",
    "Почему n - 1? Полный развернутый ответ выходит за рамки нашего курса, но вкратце можно отметить, что n - 1 позволяет получить несмещенную оценку.\n",
    "\n",
    "На нашем наборе данных значением выборочного стандартного отклонения будет 13.49. Это значит, что результат менеджера отличается от 35 контрактов в год в среднем на 13.5 контрактов. \n",
    "\n",
    "![stat11](./../../../data/stat14.png)\n",
    "\n",
    "Дисперсия и стандартные отклонения — это всегда не отрицательные числа.\n",
    "\n",
    "## Что рассказали меры разброса о наших данных?\n",
    "Давайте посмотрим, какие результаты нам дали меры разброса на нашем наборе данных.\n",
    "\n",
    "- Стандартное отклонение: 13.5\n",
    "- Размах: 52\n",
    "- Межквартильный размах. Он говорит о том, что 50 центральных наблюдений лежит между 26.5 и 44.5, то есть размах половины центральных наблюдений равен 18.\n",
    "\n",
    "\n",
    "\n",
    "#### Найдите размах и межквартильный размах для веса на выборке пациентов клиники.\n",
    "\n",
    "Для удобства вычисления размаха можете использовать стандартные функции `min()`, `max()` для серий в pandas. Также используйте знания о функции `quantile()` для вычисления межквартильного размаха. Используйте ранее приведенный параметр интерполяции для вычислени квартилей в pandas.\n",
    "\n",
    "Выпишите результат, округляя до 1 знака после точки-разделителя:"
   ]
  },
  {
   "cell_type": "code",
   "execution_count": 4,
   "metadata": {},
   "outputs": [],
   "source": [
    "import pandas as pd\n",
    "\n",
    "df = pd.DataFrame({\n",
    "    'mens': [80.2, 80.8, 57.5, 98, 50.5, 73.8, 77.4, 59.7, 77.9, 52.6],\n",
    "    'womens': [57.9, 57.3, 72.8, 48.2, 59.5, 48.3, 61.2, 53.9, 53.9, 70.7]\n",
    "})"
   ]
  },
  {
   "cell_type": "code",
   "execution_count": 5,
   "metadata": {},
   "outputs": [
    {
     "name": "stdout",
     "output_type": "stream",
     "text": [
      "Mens range: 47.5\n",
      "Mens IQR: 20.5\n"
     ]
    }
   ],
   "source": [
    "mens_range = round(df['mens'].max() - df['mens'].min(), 1)\n",
    "print('Mens range:', mens_range)\n",
    "\n",
    "mens_q1 = df['mens'].quantile(q=0.25, interpolation='midpoint')\n",
    "mens_q3 = df['mens'].quantile(q=0.75, interpolation='midpoint')\n",
    "mens_IQR = round(mens_q3 - mens_q1, 1)\n",
    "print('Mens IQR:', mens_IQR)"
   ]
  },
  {
   "cell_type": "code",
   "execution_count": 6,
   "metadata": {},
   "outputs": [
    {
     "name": "stdout",
     "output_type": "stream",
     "text": [
      "Womens range: 24.6\n",
      "Womens IQR: 6.5\n"
     ]
    }
   ],
   "source": [
    "womens_range = round(df['womens'].max() - df['womens'].min(), 1)\n",
    "print('Womens range:', womens_range)\n",
    "\n",
    "womens_q1 = df['womens'].quantile(q=0.25, interpolation='midpoint')\n",
    "womens_q3 = df['womens'].quantile(q=0.75, interpolation='midpoint')\n",
    "womens_IQR = round(womens_q3 - womens_q1, 1)\n",
    "print('Womens IQR:', womens_IQR)"
   ]
  },
  {
   "cell_type": "markdown",
   "metadata": {},
   "source": [
    "### Вычисляем стандартное отклонение в Python\n",
    "Для вычисления стандартного отклонения в выборке в Python используется функция `std()`. Единственным аргументом функции является диапазон данных. В данном случае диапазоном данных может выступать как серия pandas, так и весь датафрейм целиком. Aналогично для вычисления дисперсии используется функция `var()`.\n",
    "\n",
    "#### Задание: Найдите дисперсию и стандартное отклонение веса для выборки пациентов клиники. Выпишите результат, округляя до 1 знака после точки-разделителя:"
   ]
  },
  {
   "cell_type": "code",
   "execution_count": 7,
   "metadata": {},
   "outputs": [
    {
     "name": "stdout",
     "output_type": "stream",
     "text": [
      "Mens std: 15.2\n",
      "Mens dispersion: 230.5\n"
     ]
    }
   ],
   "source": [
    "mens_std = round(df['mens'].std(), 1)\n",
    "print('Mens std:', mens_std)\n",
    "\n",
    "mens_dispersion = round(df['mens'].var(), 1)\n",
    "print('Mens dispersion:', mens_dispersion)"
   ]
  },
  {
   "cell_type": "code",
   "execution_count": 8,
   "metadata": {},
   "outputs": [
    {
     "name": "stdout",
     "output_type": "stream",
     "text": [
      "Womens std: 8.3\n",
      "Womens dispersion: 68.4\n"
     ]
    }
   ],
   "source": [
    "womens_std = round(df['womens'].std(), 1)\n",
    "print('Womens std:', womens_std)\n",
    "\n",
    "womens_dispersion = round(df['womens'].var(), 1)\n",
    "print('Womens dispersion:', womens_dispersion)"
   ]
  },
  {
   "cell_type": "markdown",
   "metadata": {},
   "source": [
    "![stat15](./../../../data/stat15.png)"
   ]
  },
  {
   "cell_type": "markdown",
   "metadata": {},
   "source": [
    "# ТЕОРИЯ: ВЫБРОСЫ\n",
    "\n",
    "**Выброс** — это нетипичное наблюдение, то есть такое наблюдение, которое существенно отличается от остальных в выборке.\n",
    "\n",
    "Например, когда в данные о доходах попадает наблюдение о доходах миллионера, оно существенно повлияет на описательные статистики.\n",
    "\n",
    "### КАК ЖЕ ОПРЕДЕЛИТЬ, КОГДА НАБЛЮДЕНИЕ СЛИШКОМ ОТЛИЧАЕТСЯ ОТ ОСТАЛЬНЫХ?\n",
    "\n",
    "В этом нам помогут квартили и межквартильный размах. Мы считаем наблюдение выбросом в следующих случаях:\n",
    "\n",
    "- Если наблюдение меньше, чем значение нижнего квартиля Q<sub>1</sub> минус 1.5 межквартильного размаха. **x<sub>i</sub> < Q<sub>1</sub> - 1.5*IQR**\n",
    "- Если наблюдение больше, чем значение верхнего квартиля Q<sub>3</sub> плюс 1.5 межквартильного размаха. **x<sub>i</sub> < Q<sub>1</sub> + 1.5*IQR**\n",
    "\n",
    "**Что делать с выбросами?** Их можно удалить перед подсчетом описательных статистик и отдельно упомянуть в отчёте, что такие наблюдения были.\n",
    "\n",
    "Задание:\n",
    "Таблица показывает среднюю температуру в январе (в градусах по Цельсию) в одном российском городе за 2007-2018 годы:\n",
    "\n",
    "| 2007|\t2008|\t2009|\t2010|\t2011|\t2012|\t2013|\t2014|\t2015|\t2016|\t2017|\t2018|\n",
    "| --- | --- | --- | --- | --- | --- | --- | --- | --- | --- | --- | --- |\n",
    "|-4.7|\t-6.1|\t-5.5|\t-3.3|\t-7.1|\t-3.1|\t-5.2|\t-7.3|\t-12.1|\t-6.6|\t-5.9|\t-6.3|\n",
    "\n",
    "Используя Python, найдите описательные статистики средней январской температуры за 12 лет. Ответы округлите до 1 знака после точки-разделителя."
   ]
  },
  {
   "cell_type": "code",
   "execution_count": 9,
   "metadata": {},
   "outputs": [],
   "source": [
    "import pandas as pd\n",
    "df = pd.DataFrame({\n",
    "    'year': [2007, 2008, 2009, 2010, 2011, 2012, 2013, 2014, 2015, 2016, 2017, 2018],\n",
    "    'temp': [-4.7, -6.1, -5.5, -3.3, -7.1, -3.1, -5.2, -7.3, -12.1, -6.6, -5.9, -6.3]\n",
    "})"
   ]
  },
  {
   "cell_type": "code",
   "execution_count": 10,
   "metadata": {},
   "outputs": [
    {
     "name": "stdout",
     "output_type": "stream",
     "text": [
      "Temperature mean: -6.1\n",
      "Temperature median: -6.0\n",
      "Temperature std: 2.3\n",
      "Temperature range 9.0\n",
      "Temperature Q1: -6.85\n",
      "Temperature Q3: -4.95\n",
      "Temperature IQR: 1.9\n"
     ]
    }
   ],
   "source": [
    "temp_mean = round(df['temp'].mean(), 1)\n",
    "print('Temperature mean:', temp_mean)\n",
    "\n",
    "temp_median = round(df['temp'].median(), 1)\n",
    "print('Temperature median:', temp_median)\n",
    "\n",
    "temp_std = round(df['temp'].std(), 1)\n",
    "print('Temperature std:', temp_std)\n",
    "\n",
    "temp_min = df['temp'].min()\n",
    "temp_max = df['temp'].max()\n",
    "temp_range = round(temp_max - temp_min, 1)\n",
    "print('Temperature range', temp_range)\n",
    "\n",
    "temp_q1 = df['temp'].quantile(q=0.25, interpolation='midpoint')\n",
    "temp_q3 = df['temp'].quantile(q=0.75, interpolation='midpoint')\n",
    "temp_IQR = round(temp_q3 - temp_q1, 1)\n",
    "print('Temperature Q1:', temp_q1)\n",
    "print('Temperature Q3:', temp_q3)\n",
    "print('Temperature IQR:', temp_IQR)"
   ]
  },
  {
   "cell_type": "code",
   "execution_count": 11,
   "metadata": {},
   "outputs": [
    {
     "data": {
      "text/plain": [
       "[-12.1, -7.3, -7.1, -6.6, -6.3, -6.1, -5.9, -5.5, -5.2, -4.7, -3.3, -3.1]"
      ]
     },
     "execution_count": 11,
     "metadata": {},
     "output_type": "execute_result"
    }
   ],
   "source": [
    "sorted(df['temp'])"
   ]
  },
  {
   "cell_type": "code",
   "execution_count": 12,
   "metadata": {},
   "outputs": [
    {
     "name": "stdout",
     "output_type": "stream",
     "text": [
      "Линии выбросов. Верхняя: -9.7, Нижняя: -2.1000000000000005\n"
     ]
    }
   ],
   "source": [
    "v_min = -6.85 - 1.5 * 1.9\n",
    "v_max = -4.95 + 1.5 * 1.9\n",
    "\n",
    "print(f'Линии выбросов. Верхняя: {v_min}, Нижняя: {v_max}')"
   ]
  },
  {
   "cell_type": "markdown",
   "metadata": {},
   "source": [
    "![stat16](./../../../data/stat16.png)"
   ]
  },
  {
   "cell_type": "markdown",
   "metadata": {},
   "source": [
    "# Строим графики в Python\n",
    "\n",
    "Предположим, у нас есть данные о расходах на мобильную связь 20 пользователей в городе А и 20 пользователей в городе Б."
   ]
  },
  {
   "cell_type": "code",
   "execution_count": 13,
   "metadata": {},
   "outputs": [],
   "source": [
    "import pandas as pd\n",
    "\n",
    "df = pd.DataFrame({\n",
    "    'city_a': [240, 440, 455, 475, 475, 490, 490, 500, 500, 500, 530, 550, 578, 580, 620, 687, 694, 703, 859],\n",
    "    'city_b': [500, 564, 590, 600, 600, 600, 645, 650, 660, 667, 689, 692, 700, 700, 705, 735, 760, 764, 805]\n",
    "})"
   ]
  },
  {
   "cell_type": "markdown",
   "metadata": {},
   "source": [
    "Для каждого столбца в фрейме данных можно создать boxplots — [df.boxplot()](https://pandas.pydata.org/pandas-docs/stable/reference/api/pandas.DataFrame.boxplot.html), указав используемые столбцы:"
   ]
  },
  {
   "cell_type": "code",
   "execution_count": 14,
   "metadata": {},
   "outputs": [
    {
     "data": {
      "image/png": "[encoded data removed]",
      "text/plain": [
       "<Figure size 432x288 with 1 Axes>"
      ]
     },
     "metadata": {
      "needs_background": "light"
     },
     "output_type": "display_data"
    }
   ],
   "source": [
    "boxplot = df.boxplot(column=['city_a', 'city_b'])"
   ]
  },
  {
   "cell_type": "markdown",
   "metadata": {},
   "source": [
    "Графики строятся автоматически, нам не нужно ничего предварительно высчитывать. На графике визуально мы можем увидеть значения минимума, максимума (или границы простых значений, если есть выбросы) первого и третьего квартилей, медианы и выбросов (если таковые есть).\n",
    "\n",
    "График можно вывести или сохранить в файл. В графиках доступно дополнительное форматирование, например:\n",
    "- скрыть сетку grid (`grid=False`);\n",
    "- вращение меток по оси x (т. е. `rot=45`);\n",
    "- изменение размера шрифта (т. е. `fontsize=15`)."
   ]
  },
  {
   "cell_type": "markdown",
   "metadata": {},
   "source": [
    "Задание:\n",
    "#### В Python постройте boxplot на предложенном в предыдущей задаче наборе данных:"
   ]
  },
  {
   "cell_type": "code",
   "execution_count": 15,
   "metadata": {},
   "outputs": [],
   "source": [
    "data = pd.DataFrame({\n",
    "  'value': [48, 44, 42.5, 40.5, 40.5, 39, 39, 38, 38, 38, 35, 33, 30.2, 30, 26, 19.3, 27, 21]\n",
    "})"
   ]
  },
  {
   "cell_type": "code",
   "execution_count": 16,
   "metadata": {},
   "outputs": [
    {
     "data": {
      "text/plain": [
       "<matplotlib.axes._subplots.AxesSubplot at 0x206821e0310>"
      ]
     },
     "execution_count": 16,
     "metadata": {},
     "output_type": "execute_result"
    },
    {
     "data": {
      "image/png": "[encoded data removed]",
      "text/plain": [
       "<Figure size 432x288 with 1 Axes>"
      ]
     },
     "metadata": {
      "needs_background": "light"
     },
     "output_type": "display_data"
    }
   ],
   "source": [
    "data.boxplot()"
   ]
  },
  {
   "cell_type": "code",
   "execution_count": 17,
   "metadata": {},
   "outputs": [
    {
     "data": {
      "text/plain": [
       "value    38.0\n",
       "dtype: float64"
      ]
     },
     "execution_count": 17,
     "metadata": {},
     "output_type": "execute_result"
    }
   ],
   "source": [
    "data.median(axis=0)"
   ]
  },
  {
   "cell_type": "markdown",
   "metadata": {},
   "source": [
    "Задание:\n",
    "#### В таблице ниже приведены данные о двух группах пользователей определенного сервиса–помощника в администрировании. Данные соответствуют общему количеству времени, которое пользователи провели онлайн, используя соответствующее приложение (в часах за месяц).\n",
    "\n",
    "|     |     |     |     |     |     |     |     |     |     |     |     |     |     |     |     |     |     |     |     |\n",
    "| --- | --- | --- | --- | --- | --- | --- | --- | --- | --- | --- | --- | --- | --- | --- | --- | --- | --- | --- | --- |\n",
    "|Группа А|72|66|63.75|60.75|60.75|58.5|58.5|57|57|57|52.5|49.5|45.3|45|39|28.95|40.5|31.5|49|\n",
    "|Группа Б|71|72|60|50|57|77|81|58|62|61|73|74|76|65|66|67|67|67|69|"
   ]
  },
  {
   "cell_type": "code",
   "execution_count": 18,
   "metadata": {},
   "outputs": [],
   "source": [
    "import pandas as pd\n",
    "\n",
    "df = pd.DataFrame({\n",
    "    'group_a': [72, 66, 63.75, 60.75, 60.75, 58.5, 58.5, 57, 57, 57, 52.5, 49.5, 45.3, 45, 39, 28.95, 40.5, 31.5, 49],\n",
    "    'group_b': [71, 72, 60, 50, 57, 77, 81, 58, 62, 61, 73, 74, 76, 65, 66, 67, 67, 67, 69]\n",
    "})"
   ]
  },
  {
   "cell_type": "code",
   "execution_count": 19,
   "metadata": {},
   "outputs": [
    {
     "data": {
      "text/plain": [
       "<matplotlib.axes._subplots.AxesSubplot at 0x20682228190>"
      ]
     },
     "execution_count": 19,
     "metadata": {},
     "output_type": "execute_result"
    },
    {
     "data": {
      "image/png": "[encoded data removed]",
      "text/plain": [
       "<Figure size 432x288 with 1 Axes>"
      ]
     },
     "metadata": {
      "needs_background": "light"
     },
     "output_type": "display_data"
    }
   ],
   "source": [
    "df.boxplot(column=['group_a', 'group_b'])"
   ]
  },
  {
   "cell_type": "code",
   "execution_count": null,
   "metadata": {},
   "outputs": [],
   "source": []
  }
 ],
 "metadata": {
  "kernelspec": {
   "display_name": "Python 3",
   "language": "python",
   "name": "python3"
  },
  "language_info": {
   "codemirror_mode": {
    "name": "ipython",
    "version": 3
   },
   "file_extension": ".py",
   "mimetype": "text/x-python",
   "name": "python",
   "nbconvert_exporter": "python",
   "pygments_lexer": "ipython3",
   "version": "3.8.3"
  }
 },
 "nbformat": 4,
 "nbformat_minor": 4
}
