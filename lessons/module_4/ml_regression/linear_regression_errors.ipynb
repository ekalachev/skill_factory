{
 "cells": [
  {
   "cell_type": "markdown",
   "metadata": {},
   "source": [
    "# Ошибки в линейной регрессии\n",
    "\n",
    "![errors1](./img/errors1.png)\n",
    "![errors2](./img/errors2.png)"
   ]
  },
  {
   "cell_type": "code",
   "execution_count": 1,
   "metadata": {},
   "outputs": [],
   "source": [
    "import pandas as pd               # библиотека для работы с таблицами\n",
    "import numpy as np                # библиотека для работы с матрицами"
   ]
  },
  {
   "cell_type": "markdown",
   "metadata": {},
   "source": [
    "Рассмотрим очень простой пример. Предположим, что у нас есть показатели уровня счастья для пяти человек:"
   ]
  },
  {
   "cell_type": "code",
   "execution_count": 2,
   "metadata": {},
   "outputs": [],
   "source": [
    "y_happy = [4, 20, 110, 15, 23]"
   ]
  },
  {
   "cell_type": "markdown",
   "metadata": {},
   "source": [
    "Допустим, у нас есть показатели счастья для этих же пяти человек, но предсказанные некоторым алгоритмом:"
   ]
  },
  {
   "cell_type": "code",
   "execution_count": 3,
   "metadata": {},
   "outputs": [],
   "source": [
    "y_happy_pred = [5, 15, 100, 9, 21]"
   ]
  },
  {
   "cell_type": "markdown",
   "metadata": {},
   "source": [
    "Давайте вычислим метрики для этих данных!"
   ]
  },
  {
   "cell_type": "code",
   "execution_count": 4,
   "metadata": {},
   "outputs": [],
   "source": [
    "from sklearn import metrics  # подгружаем метрики"
   ]
  },
  {
   "cell_type": "code",
   "execution_count": 5,
   "metadata": {},
   "outputs": [
    {
     "name": "stdout",
     "output_type": "stream",
     "text": [
      "4.8\n"
     ]
    }
   ],
   "source": [
    "# Вычисляем MAE:\n",
    "\n",
    "MAE = metrics.mean_absolute_error(y_happy, y_happy_pred)\n",
    "print(MAE)"
   ]
  },
  {
   "cell_type": "code",
   "execution_count": 6,
   "metadata": {},
   "outputs": [
    {
     "name": "stdout",
     "output_type": "stream",
     "text": [
      "33.2\n"
     ]
    }
   ],
   "source": [
    "# Вычисляем MSE:\n",
    "\n",
    "MSE = metrics.mean_squared_error(y_happy, y_happy_pred)\n",
    "print(MSE)"
   ]
  },
  {
   "cell_type": "code",
   "execution_count": 7,
   "metadata": {},
   "outputs": [
    {
     "name": "stdout",
     "output_type": "stream",
     "text": [
      "0.9774247946472284\n"
     ]
    }
   ],
   "source": [
    "# Вычисляем коэффициент детерминации:\n",
    "\n",
    "R_2 = metrics.r2_score(y_happy, y_happy_pred)\n",
    "print(R_2)"
   ]
  },
  {
   "cell_type": "code",
   "execution_count": 8,
   "metadata": {},
   "outputs": [
    {
     "name": "stdout",
     "output_type": "stream",
     "text": [
      "2.75\n"
     ]
    }
   ],
   "source": [
    "MSE = metrics.mean_squared_error([1, 3, 2, 5], [2, 3, -1, 4])\n",
    "print(MSE)"
   ]
  },
  {
   "cell_type": "markdown",
   "metadata": {},
   "source": [
    "### Найдите следующий шаг градиентного спуска. Текущая модель: y = 2x.\n",
    "\n",
    "Обучающая выборка:\n",
    "\n",
    "$$\n",
    " \\begin{array}{c|c}\n",
    "  x & y \\\\\n",
    "  \\hline\n",
    "  1 & 2 \\\\\n",
    "  \\hline\n",
    "  2 & 5 \\\\\n",
    " \\end{array}\n",
    "$$\n",
    "\n",
    "Темп обучения (learning rate): $\\frac{1}{6}$\n",
    "\n",
    "Ответ будет выглядеть как **y = kx + b**, где **k** и **b** вы считаете самостоятельно.\n",
    "\n",
    "#### Решение:\n",
    "\n",
    "$y = \\beta_{1}x + \\beta_{2}$\n",
    "\n",
    "- Матрица признаков $X = \\begin{pmatrix} 1 \\\\ 2 \\end{pmatrix}$\n",
    "- Добавим к ней столбец единицу, чтобы учесть слагаемое $\\beta_{2}$, т.е.:\n",
    "    $$\n",
    "        X = \\begin{pmatrix}1 & 1 \\\\ 2 & 1 \\end{pmatrix}, \\beta = \\begin{pmatrix} \\beta_{1} \\\\ \\beta_{2} \\end{pmatrix}, y = \\begin{pmatrix} 2 \\\\ 5 \\end{pmatrix} \\implies X\\beta = y, \\begin{pmatrix}1 & 1 \\\\ 2 & 1\\end{pmatrix}\\begin{pmatrix}\\beta_{1} \\\\ \\beta_{2}\\end{pmatrix} = \\begin{pmatrix}2 \\\\ 5\\end{pmatrix} \\implies \\begin{pmatrix} 1*\\beta_{1} + 1*\\beta_{2} \\\\ 2*\\beta_{1} + 1*\\beta_{2} \\end{pmatrix} = \\begin{pmatrix} 2 \\\\ 5 \\end{pmatrix}\n",
    "    $$\n",
    "      \n",
    "- Формула обновления весов в случае квадратичной функции потерь L(X, $\\beta$):\n",
    "    $$\n",
    "        \\beta^{(k)} = \\beta^{(k-1)} - \\lambda * \\frac{1}{n} \\sum_{i=1}^{n}2x_{i}^{T} (x_{i}\\beta^{(k-1)}-y_{i})\n",
    "    $$\n",
    "\n",
    "    - где $\\beta^{k-1}$ - веткор весов на текущей итерации\n",
    "    - $\\beta^{(k)}$ - веткор весовна новой итерации\n",
    "    - $\\lambda$ - темп обучения"
   ]
  },
  {
   "cell_type": "code",
   "execution_count": 9,
   "metadata": {},
   "outputs": [
    {
     "name": "stdout",
     "output_type": "stream",
     "text": [
      "[2.33333333 0.16666667]\n"
     ]
    }
   ],
   "source": [
    "x = np.array([\n",
    "    [1, 1],\n",
    "    [2, 1]\n",
    "])\n",
    "\n",
    "y = np.array([2, 5])\n",
    "\n",
    "beta = np.array([2, 0])\n",
    "\n",
    "# learning rate\n",
    "alpha = 1/6\n",
    "\n",
    "n = 2\n",
    "\n",
    "beta_next = beta - alpha * (1/n) * (2 * x.T @ (x @ beta - y))\n",
    "\n",
    "print(beta_next)"
   ]
  },
  {
   "cell_type": "markdown",
   "metadata": {},
   "source": [
    "![task4](./img/task4.png)\n",
    "![task5](./img/task5.png)"
   ]
  },
  {
   "cell_type": "markdown",
   "metadata": {},
   "source": [
    "Чему равен коэффициент детерминации на этих данных? Укажите число с точностью до сотых:\n",
    "![task6](./img/task6.png)"
   ]
  },
  {
   "cell_type": "code",
   "execution_count": 10,
   "metadata": {},
   "outputs": [
    {
     "name": "stdout",
     "output_type": "stream",
     "text": [
      "Ответ: 0.21\n"
     ]
    }
   ],
   "source": [
    "f_pred = [1, 3, 2, 5]\n",
    "f_real = [2, 3, -1, 4]\n",
    "\n",
    "R_2 = metrics.r2_score(f_real, f_pred)\n",
    "print('Ответ:', np.round(R_2, 2))"
   ]
  },
  {
   "cell_type": "markdown",
   "metadata": {},
   "source": [
    "![task7](./img/task7.png)"
   ]
  },
  {
   "cell_type": "code",
   "execution_count": null,
   "metadata": {},
   "outputs": [],
   "source": []
  }
 ],
 "metadata": {
  "kernelspec": {
   "display_name": "Python 3",
   "language": "python",
   "name": "python3"
  },
  "language_info": {
   "codemirror_mode": {
    "name": "ipython",
    "version": 3
   },
   "file_extension": ".py",
   "mimetype": "text/x-python",
   "name": "python",
   "nbconvert_exporter": "python",
   "pygments_lexer": "ipython3",
   "version": "3.8.3"
  }
 },
 "nbformat": 4,
 "nbformat_minor": 4
}
