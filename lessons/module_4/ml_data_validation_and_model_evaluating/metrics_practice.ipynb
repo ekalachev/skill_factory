{
 "cells": [
  {
   "cell_type": "markdown",
   "metadata": {},
   "source": [
    "# Практика для метрик классификации\n",
    "\n",
    "## Практика 1 (бинарная классификация):\n",
    "\n",
    "Реализуем бинарную классификацию записей голосов (мужских и женских) на основе характеристик записей их разговоров.\n",
    "\n",
    "В предложенном датасете есть ряд свойств, определенных по аудиозаписям:\n",
    "\n",
    "- meanfreq: средняя частота голоса (в кГц)\n",
    "- sd: стандартное отклонение частоты голоса\n",
    "- median: медианная частота (в кГц)\n",
    "- Q25: значение в первом квартиле (в кГц)\n",
    "- Q75: значение в третьем квартиле (в кГц)\n",
    "- IQR: интерквартильный размах (в кГц)\n",
    "- skew: ассиметрия\n",
    "- kurt: эксцесс\n",
    "- sp.ent: спектральная энтропия\n",
    "- sfm: энтропия Винера\n",
    "- mode: мода частоты\n",
    "- centroid: частотный центроид\n",
    "- meanfun: средняя основная частота, измеренная по акустическому сигналу\n",
    "- minfun:  минимальная основная частота, измеренная по акустическому сигналу\n",
    "- maxfun: максимальная основная частота, измеренная в акустическом сигнале\n",
    "- meandom: среднее значение доминирующей частоты, измеренной по акустическому сигналу\n",
    "- mindom: минимум доминирующей частоты, измеренной в акустическом сигнале\n",
    "- maxdom: максимум доминирующей частоты, измеренной в акустическом сигнале\n",
    "- dfrange: диапазон доминантных частот, измеренное на звуковой сигнал\n",
    "- modindx: индекс модуляции голоса\n",
    "\n",
    "Прежде, чем проводить анализ, можно с помощью визуализации оценить, есть ли различия в частотах голосов мужчин и женщин. Можем построить распределения, например, средних частот:\n",
    "\n",
    "![voices](./img/classification_practice.png)\n",
    "\n",
    "Красному цвету соответствуют данные для женских голосов, голубому — для мужских. В целом можно отметить, что распределение частот женских голосов сдвинуто вправо относительно распределения мужских.\n",
    "\n",
    "Итак, характеристики для голосов различаются, попробуем теперь реализовать классификацию на их основе.\n",
    "\n",
    "\n",
    "## Задание\n",
    "\n",
    "Попробуйте построить модель, предсказывающую пол обладателя записи голоса.\n",
    "\n",
    "Для этого:\n",
    "\n",
    "Разделите выборку на обучающую и тренировочную с параметрами `test_size=0.3, random_state=42`.\n",
    "\n",
    "Нормализуйте признаки с помощью функции `StandardScaler()`. Учитывайте, что нормализация тестовой выборки производится по среднему и отклонению тренировочной, которую мы считаем репрезентативной относительно генеральной совокупности.\n",
    "\n",
    "Обучите модель логистической регрессии на подготовленных данных.\n",
    "\n",
    "### Пояснение\n",
    "Тестовые данные не должны влиять на параметры нормализации. Нужно использовать `SCALER.TRANSFORM` вместо `SCALER.FIT_TRANSFORM`, чтобы применять параметры нормализации, рассчитанные для тренировочных данных. Иначе данные в трейне и в тесте будут нормализованы по - разному."
   ]
  },
  {
   "cell_type": "code",
   "execution_count": 1,
   "metadata": {},
   "outputs": [],
   "source": [
    "from sklearn.metrics import accuracy_score\n",
    "from sklearn.metrics import recall_score \n",
    "from sklearn.metrics import precision_score\n",
    "from sklearn.metrics import f1_score\n",
    "from sklearn.metrics import balanced_accuracy_score \n",
    "from sklearn.metrics import cohen_kappa_score\n",
    "from sklearn.preprocessing import StandardScaler\n",
    "from sklearn.model_selection import train_test_split\n",
    "from sklearn.linear_model import LogisticRegression\n",
    "from sklearn.pipeline import Pipeline\n",
    "\n",
    "import pandas as pd\n",
    "import numpy as np"
   ]
  },
  {
   "cell_type": "code",
   "execution_count": 2,
   "metadata": {},
   "outputs": [],
   "source": [
    "voice_data = pd.read_csv('./data/voiceDataSet.csv')"
   ]
  },
  {
   "cell_type": "code",
   "execution_count": 3,
   "metadata": {},
   "outputs": [
    {
     "name": "stdout",
     "output_type": "stream",
     "text": [
      "<class 'pandas.core.frame.DataFrame'>\n",
      "RangeIndex: 3168 entries, 0 to 3167\n",
      "Data columns (total 21 columns):\n",
      " #   Column    Non-Null Count  Dtype  \n",
      "---  ------    --------------  -----  \n",
      " 0   meanfreq  3168 non-null   float64\n",
      " 1   sd        3168 non-null   float64\n",
      " 2   median    3168 non-null   float64\n",
      " 3   Q25       3168 non-null   float64\n",
      " 4   Q75       3168 non-null   float64\n",
      " 5   IQR       3168 non-null   float64\n",
      " 6   skew      3168 non-null   float64\n",
      " 7   kurt      3168 non-null   float64\n",
      " 8   sp.ent    3168 non-null   float64\n",
      " 9   sfm       3168 non-null   float64\n",
      " 10  mode      3168 non-null   float64\n",
      " 11  centroid  3168 non-null   float64\n",
      " 12  meanfun   3168 non-null   float64\n",
      " 13  minfun    3168 non-null   float64\n",
      " 14  maxfun    3168 non-null   float64\n",
      " 15  meandom   3168 non-null   float64\n",
      " 16  mindom    3168 non-null   float64\n",
      " 17  maxdom    3168 non-null   float64\n",
      " 18  dfrange   3168 non-null   float64\n",
      " 19  modindx   3168 non-null   float64\n",
      " 20  label     3168 non-null   object \n",
      "dtypes: float64(20), object(1)\n",
      "memory usage: 519.9+ KB\n"
     ]
    }
   ],
   "source": [
    "voice_data.info()"
   ]
  },
  {
   "cell_type": "code",
   "execution_count": 4,
   "metadata": {},
   "outputs": [
    {
     "data": {
      "text/plain": [
       "meanfreq    0\n",
       "sd          0\n",
       "median      0\n",
       "Q25         0\n",
       "Q75         0\n",
       "IQR         0\n",
       "skew        0\n",
       "kurt        0\n",
       "sp.ent      0\n",
       "sfm         0\n",
       "mode        0\n",
       "centroid    0\n",
       "meanfun     0\n",
       "minfun      0\n",
       "maxfun      0\n",
       "meandom     0\n",
       "mindom      0\n",
       "maxdom      0\n",
       "dfrange     0\n",
       "modindx     0\n",
       "label       0\n",
       "dtype: int64"
      ]
     },
     "execution_count": 4,
     "metadata": {},
     "output_type": "execute_result"
    }
   ],
   "source": [
    "voice_data.isna().sum()"
   ]
  },
  {
   "cell_type": "code",
   "execution_count": 5,
   "metadata": {},
   "outputs": [
    {
     "data": {
      "text/html": [
       "<div>\n",
       "<style scoped>\n",
       "    .dataframe tbody tr th:only-of-type {\n",
       "        vertical-align: middle;\n",
       "    }\n",
       "\n",
       "    .dataframe tbody tr th {\n",
       "        vertical-align: top;\n",
       "    }\n",
       "\n",
       "    .dataframe thead th {\n",
       "        text-align: right;\n",
       "    }\n",
       "</style>\n",
       "<table border=\"1\" class=\"dataframe\">\n",
       "  <thead>\n",
       "    <tr style=\"text-align: right;\">\n",
       "      <th></th>\n",
       "      <th>meanfreq</th>\n",
       "      <th>sd</th>\n",
       "      <th>median</th>\n",
       "      <th>Q25</th>\n",
       "      <th>Q75</th>\n",
       "      <th>IQR</th>\n",
       "      <th>skew</th>\n",
       "      <th>kurt</th>\n",
       "      <th>sp.ent</th>\n",
       "      <th>sfm</th>\n",
       "      <th>...</th>\n",
       "      <th>centroid</th>\n",
       "      <th>meanfun</th>\n",
       "      <th>minfun</th>\n",
       "      <th>maxfun</th>\n",
       "      <th>meandom</th>\n",
       "      <th>mindom</th>\n",
       "      <th>maxdom</th>\n",
       "      <th>dfrange</th>\n",
       "      <th>modindx</th>\n",
       "      <th>label</th>\n",
       "    </tr>\n",
       "  </thead>\n",
       "  <tbody>\n",
       "    <tr>\n",
       "      <th>850</th>\n",
       "      <td>0.178254</td>\n",
       "      <td>0.053752</td>\n",
       "      <td>0.190419</td>\n",
       "      <td>0.117253</td>\n",
       "      <td>0.219028</td>\n",
       "      <td>0.101776</td>\n",
       "      <td>1.912809</td>\n",
       "      <td>6.834770</td>\n",
       "      <td>0.891691</td>\n",
       "      <td>0.296863</td>\n",
       "      <td>...</td>\n",
       "      <td>0.178254</td>\n",
       "      <td>0.114361</td>\n",
       "      <td>0.047244</td>\n",
       "      <td>0.277457</td>\n",
       "      <td>1.104226</td>\n",
       "      <td>0.023438</td>\n",
       "      <td>5.671875</td>\n",
       "      <td>5.648438</td>\n",
       "      <td>0.110749</td>\n",
       "      <td>male</td>\n",
       "    </tr>\n",
       "    <tr>\n",
       "      <th>1896</th>\n",
       "      <td>0.192050</td>\n",
       "      <td>0.069854</td>\n",
       "      <td>0.216128</td>\n",
       "      <td>0.178150</td>\n",
       "      <td>0.241332</td>\n",
       "      <td>0.063181</td>\n",
       "      <td>1.762694</td>\n",
       "      <td>5.862619</td>\n",
       "      <td>0.922779</td>\n",
       "      <td>0.546754</td>\n",
       "      <td>...</td>\n",
       "      <td>0.192050</td>\n",
       "      <td>0.184095</td>\n",
       "      <td>0.016754</td>\n",
       "      <td>0.266667</td>\n",
       "      <td>0.316761</td>\n",
       "      <td>0.054688</td>\n",
       "      <td>0.781250</td>\n",
       "      <td>0.726562</td>\n",
       "      <td>0.391193</td>\n",
       "      <td>female</td>\n",
       "    </tr>\n",
       "    <tr>\n",
       "      <th>2844</th>\n",
       "      <td>0.224698</td>\n",
       "      <td>0.033298</td>\n",
       "      <td>0.226417</td>\n",
       "      <td>0.218011</td>\n",
       "      <td>0.237974</td>\n",
       "      <td>0.019962</td>\n",
       "      <td>3.128295</td>\n",
       "      <td>13.756715</td>\n",
       "      <td>0.791817</td>\n",
       "      <td>0.184991</td>\n",
       "      <td>...</td>\n",
       "      <td>0.224698</td>\n",
       "      <td>0.189976</td>\n",
       "      <td>0.054237</td>\n",
       "      <td>0.269663</td>\n",
       "      <td>1.580915</td>\n",
       "      <td>0.234375</td>\n",
       "      <td>8.484375</td>\n",
       "      <td>8.250000</td>\n",
       "      <td>0.135866</td>\n",
       "      <td>female</td>\n",
       "    </tr>\n",
       "    <tr>\n",
       "      <th>1938</th>\n",
       "      <td>0.166078</td>\n",
       "      <td>0.091112</td>\n",
       "      <td>0.207214</td>\n",
       "      <td>0.074179</td>\n",
       "      <td>0.236816</td>\n",
       "      <td>0.162637</td>\n",
       "      <td>4.237644</td>\n",
       "      <td>41.155866</td>\n",
       "      <td>0.908195</td>\n",
       "      <td>0.499168</td>\n",
       "      <td>...</td>\n",
       "      <td>0.166078</td>\n",
       "      <td>0.188951</td>\n",
       "      <td>0.027634</td>\n",
       "      <td>0.275862</td>\n",
       "      <td>0.182566</td>\n",
       "      <td>0.007812</td>\n",
       "      <td>0.695312</td>\n",
       "      <td>0.687500</td>\n",
       "      <td>0.339394</td>\n",
       "      <td>female</td>\n",
       "    </tr>\n",
       "    <tr>\n",
       "      <th>2717</th>\n",
       "      <td>0.196093</td>\n",
       "      <td>0.045943</td>\n",
       "      <td>0.202180</td>\n",
       "      <td>0.166703</td>\n",
       "      <td>0.224305</td>\n",
       "      <td>0.057602</td>\n",
       "      <td>1.457014</td>\n",
       "      <td>5.147233</td>\n",
       "      <td>0.909567</td>\n",
       "      <td>0.324592</td>\n",
       "      <td>...</td>\n",
       "      <td>0.196093</td>\n",
       "      <td>0.175814</td>\n",
       "      <td>0.047809</td>\n",
       "      <td>0.279070</td>\n",
       "      <td>1.394231</td>\n",
       "      <td>0.023438</td>\n",
       "      <td>8.812500</td>\n",
       "      <td>8.789062</td>\n",
       "      <td>0.114753</td>\n",
       "      <td>female</td>\n",
       "    </tr>\n",
       "  </tbody>\n",
       "</table>\n",
       "<p>5 rows × 21 columns</p>\n",
       "</div>"
      ],
      "text/plain": [
       "      meanfreq        sd    median       Q25       Q75       IQR      skew  \\\n",
       "850   0.178254  0.053752  0.190419  0.117253  0.219028  0.101776  1.912809   \n",
       "1896  0.192050  0.069854  0.216128  0.178150  0.241332  0.063181  1.762694   \n",
       "2844  0.224698  0.033298  0.226417  0.218011  0.237974  0.019962  3.128295   \n",
       "1938  0.166078  0.091112  0.207214  0.074179  0.236816  0.162637  4.237644   \n",
       "2717  0.196093  0.045943  0.202180  0.166703  0.224305  0.057602  1.457014   \n",
       "\n",
       "           kurt    sp.ent       sfm  ...  centroid   meanfun    minfun  \\\n",
       "850    6.834770  0.891691  0.296863  ...  0.178254  0.114361  0.047244   \n",
       "1896   5.862619  0.922779  0.546754  ...  0.192050  0.184095  0.016754   \n",
       "2844  13.756715  0.791817  0.184991  ...  0.224698  0.189976  0.054237   \n",
       "1938  41.155866  0.908195  0.499168  ...  0.166078  0.188951  0.027634   \n",
       "2717   5.147233  0.909567  0.324592  ...  0.196093  0.175814  0.047809   \n",
       "\n",
       "        maxfun   meandom    mindom    maxdom   dfrange   modindx   label  \n",
       "850   0.277457  1.104226  0.023438  5.671875  5.648438  0.110749    male  \n",
       "1896  0.266667  0.316761  0.054688  0.781250  0.726562  0.391193  female  \n",
       "2844  0.269663  1.580915  0.234375  8.484375  8.250000  0.135866  female  \n",
       "1938  0.275862  0.182566  0.007812  0.695312  0.687500  0.339394  female  \n",
       "2717  0.279070  1.394231  0.023438  8.812500  8.789062  0.114753  female  \n",
       "\n",
       "[5 rows x 21 columns]"
      ]
     },
     "execution_count": 5,
     "metadata": {},
     "output_type": "execute_result"
    }
   ],
   "source": [
    "voice_data.sample(5)"
   ]
  },
  {
   "cell_type": "code",
   "execution_count": 6,
   "metadata": {},
   "outputs": [],
   "source": [
    "voice_data['label'] = voice_data['label'].apply(lambda x: 1 if x == 'male' else 0)"
   ]
  },
  {
   "cell_type": "code",
   "execution_count": 7,
   "metadata": {},
   "outputs": [],
   "source": [
    "X = voice_data.drop(columns=['label'])\n",
    "y = voice_data['label']"
   ]
  },
  {
   "cell_type": "code",
   "execution_count": 8,
   "metadata": {},
   "outputs": [],
   "source": [
    "X_train, X_test, y_train, y_test = train_test_split(\n",
    "    X, y, test_size=0.3, random_state=42)"
   ]
  },
  {
   "cell_type": "code",
   "execution_count": 9,
   "metadata": {},
   "outputs": [],
   "source": [
    "# scaler = StandardScaler()\n",
    "\n",
    "# X_train = scaler.fit_transform(X_train)\n",
    "# X_test = scaler.transform(X_test)"
   ]
  },
  {
   "cell_type": "code",
   "execution_count": 10,
   "metadata": {},
   "outputs": [],
   "source": [
    "pipe = Pipeline([\n",
    "    ('scaling', StandardScaler()),\n",
    "    ('regression', LogisticRegression())\n",
    "])"
   ]
  },
  {
   "cell_type": "code",
   "execution_count": 11,
   "metadata": {},
   "outputs": [
    {
     "data": {
      "text/plain": [
       "0.973"
      ]
     },
     "execution_count": 11,
     "metadata": {},
     "output_type": "execute_result"
    }
   ],
   "source": [
    "model = pipe.fit(X_train, y_train)\n",
    "\n",
    "y_pred = model.predict(X_test)\n",
    "\n",
    "np.round(accuracy_score(y_test, y_pred), 3)"
   ]
  },
  {
   "cell_type": "code",
   "execution_count": null,
   "metadata": {},
   "outputs": [],
   "source": []
  },
  {
   "cell_type": "markdown",
   "metadata": {},
   "source": [
    "## Практика 2 (алгоритм kNN (метод ближайших соседей)):\n",
    "\n",
    "Теперь познакомимся с новым алгоритмом классификации, а также снова потренируемся делить выборку и осуществлять кросс-валидацию. Кроме того, посмотрим, как можно оценить качество классификации для случая, когда наша классификация не бинарная, т.е. у нас несколько классов.\n",
    "\n",
    "В этом кейсе мы попробуем определять типы стекла по его характеристикам.\n",
    "\n",
    "Откроем данные и увидим, что в первых столбцах показатели содержания различных веществ в стекле, а в последнем (Type) — непосредственно тип стекла."
   ]
  },
  {
   "cell_type": "code",
   "execution_count": 12,
   "metadata": {},
   "outputs": [],
   "source": [
    "glass_data = pd.read_csv('./data/glass.csv')"
   ]
  },
  {
   "cell_type": "code",
   "execution_count": 13,
   "metadata": {},
   "outputs": [
    {
     "name": "stdout",
     "output_type": "stream",
     "text": [
      "<class 'pandas.core.frame.DataFrame'>\n",
      "RangeIndex: 214 entries, 0 to 213\n",
      "Data columns (total 10 columns):\n",
      " #   Column  Non-Null Count  Dtype  \n",
      "---  ------  --------------  -----  \n",
      " 0   RI      214 non-null    float64\n",
      " 1   Na      214 non-null    float64\n",
      " 2   Mg      214 non-null    float64\n",
      " 3   Al      214 non-null    float64\n",
      " 4   Si      214 non-null    float64\n",
      " 5   K       214 non-null    float64\n",
      " 6   Ca      214 non-null    float64\n",
      " 7   Ba      214 non-null    float64\n",
      " 8   Fe      214 non-null    float64\n",
      " 9   Type    214 non-null    int64  \n",
      "dtypes: float64(9), int64(1)\n",
      "memory usage: 16.8 KB\n"
     ]
    }
   ],
   "source": [
    "glass_data.info()"
   ]
  },
  {
   "cell_type": "code",
   "execution_count": 14,
   "metadata": {},
   "outputs": [
    {
     "data": {
      "text/html": [
       "<div>\n",
       "<style scoped>\n",
       "    .dataframe tbody tr th:only-of-type {\n",
       "        vertical-align: middle;\n",
       "    }\n",
       "\n",
       "    .dataframe tbody tr th {\n",
       "        vertical-align: top;\n",
       "    }\n",
       "\n",
       "    .dataframe thead th {\n",
       "        text-align: right;\n",
       "    }\n",
       "</style>\n",
       "<table border=\"1\" class=\"dataframe\">\n",
       "  <thead>\n",
       "    <tr style=\"text-align: right;\">\n",
       "      <th></th>\n",
       "      <th>RI</th>\n",
       "      <th>Na</th>\n",
       "      <th>Mg</th>\n",
       "      <th>Al</th>\n",
       "      <th>Si</th>\n",
       "      <th>K</th>\n",
       "      <th>Ca</th>\n",
       "      <th>Ba</th>\n",
       "      <th>Fe</th>\n",
       "      <th>Type</th>\n",
       "    </tr>\n",
       "  </thead>\n",
       "  <tbody>\n",
       "    <tr>\n",
       "      <th>175</th>\n",
       "      <td>1.52119</td>\n",
       "      <td>12.97</td>\n",
       "      <td>0.33</td>\n",
       "      <td>1.51</td>\n",
       "      <td>73.39</td>\n",
       "      <td>0.13</td>\n",
       "      <td>11.27</td>\n",
       "      <td>0.00</td>\n",
       "      <td>0.28</td>\n",
       "      <td>5</td>\n",
       "    </tr>\n",
       "    <tr>\n",
       "      <th>189</th>\n",
       "      <td>1.52365</td>\n",
       "      <td>15.79</td>\n",
       "      <td>1.83</td>\n",
       "      <td>1.31</td>\n",
       "      <td>70.43</td>\n",
       "      <td>0.31</td>\n",
       "      <td>8.61</td>\n",
       "      <td>1.68</td>\n",
       "      <td>0.00</td>\n",
       "      <td>7</td>\n",
       "    </tr>\n",
       "    <tr>\n",
       "      <th>153</th>\n",
       "      <td>1.51610</td>\n",
       "      <td>13.42</td>\n",
       "      <td>3.40</td>\n",
       "      <td>1.22</td>\n",
       "      <td>72.69</td>\n",
       "      <td>0.59</td>\n",
       "      <td>8.32</td>\n",
       "      <td>0.00</td>\n",
       "      <td>0.00</td>\n",
       "      <td>3</td>\n",
       "    </tr>\n",
       "    <tr>\n",
       "      <th>52</th>\n",
       "      <td>1.51808</td>\n",
       "      <td>13.43</td>\n",
       "      <td>2.87</td>\n",
       "      <td>1.19</td>\n",
       "      <td>72.84</td>\n",
       "      <td>0.55</td>\n",
       "      <td>9.03</td>\n",
       "      <td>0.00</td>\n",
       "      <td>0.00</td>\n",
       "      <td>1</td>\n",
       "    </tr>\n",
       "    <tr>\n",
       "      <th>80</th>\n",
       "      <td>1.51592</td>\n",
       "      <td>12.86</td>\n",
       "      <td>3.52</td>\n",
       "      <td>2.12</td>\n",
       "      <td>72.66</td>\n",
       "      <td>0.69</td>\n",
       "      <td>7.97</td>\n",
       "      <td>0.00</td>\n",
       "      <td>0.00</td>\n",
       "      <td>2</td>\n",
       "    </tr>\n",
       "  </tbody>\n",
       "</table>\n",
       "</div>"
      ],
      "text/plain": [
       "          RI     Na    Mg    Al     Si     K     Ca    Ba    Fe  Type\n",
       "175  1.52119  12.97  0.33  1.51  73.39  0.13  11.27  0.00  0.28     5\n",
       "189  1.52365  15.79  1.83  1.31  70.43  0.31   8.61  1.68  0.00     7\n",
       "153  1.51610  13.42  3.40  1.22  72.69  0.59   8.32  0.00  0.00     3\n",
       "52   1.51808  13.43  2.87  1.19  72.84  0.55   9.03  0.00  0.00     1\n",
       "80   1.51592  12.86  3.52  2.12  72.66  0.69   7.97  0.00  0.00     2"
      ]
     },
     "execution_count": 14,
     "metadata": {},
     "output_type": "execute_result"
    }
   ],
   "source": [
    "glass_data.sample(5)"
   ]
  },
  {
   "cell_type": "markdown",
   "metadata": {},
   "source": [
    "Наша классификация мультиклассовая, поэтому мы должны посмотреть, сколько у нас классов. Если вы вообще ничего не знаете о задаче в плане количества классов, обязательно начинайте с этого, поскольку это повлияет на ход решения. Особенно важно понять, бинарная классификация или нет.\n",
    "\n",
    "Сколько классов стекла представлено в этой задаче?"
   ]
  },
  {
   "cell_type": "code",
   "execution_count": 15,
   "metadata": {},
   "outputs": [
    {
     "data": {
      "text/plain": [
       "6"
      ]
     },
     "execution_count": 15,
     "metadata": {},
     "output_type": "execute_result"
    }
   ],
   "source": [
    "len(glass_data['Type'].unique())"
   ]
  },
  {
   "cell_type": "markdown",
   "metadata": {},
   "source": [
    "Итак, мы выяснили, сколько у нас классов и узнали, что в этот раз у нас будет не бинарная классификация. А значит, мы не сможем использовать некоторые метрики качества (например, **precision** и **recall**).\n",
    "\n",
    "Приступим непосредственно к построению модели. На примере этой задачи мы узнаем новый алгоритм **kNN (метод ближайших соседей)**. Это один из простейших методов классификации. \n",
    "\n",
    "Его называют ленивым классификатором, потому что во время обучения модели он ничего не делает, просто считывает и сохраняет тренировочные данные. Сама классификация для него начинается тогда, когда ему дают тестовые данные. Тогда kNN проходит два базовых шага:\n",
    "\n",
    "1. Сначала он ищет k ближайших размеченных точек данных – эти точки и называют k ближайшими соседями.\n",
    "2. Затем, используя классы соседей, kNN решает, как лучше классифицировать новые данные.\n",
    "\n",
    "> #### Пример\n",
    "Предположим, что алгоритм хочет классифицировать вас по профессии. Он видит, что люди, рядом с которыми вы находитесь (родители, друзья), — врачи. Тогда он решает, что вы — тоже скорее всего врач. Грубо говоря, он основывается на принципе, что подобное находится рядом с подобным.\n",
    "\n",
    "А что делать, если ближайшие соседи не принадлежат одному классу? Можно решать по принципу большинства или дать каждому соседу вес (в зависимости от удаленности), с которым он будет вносить вклад в решение.\n",
    "\n",
    "Например, попробуем классифицировать зеленый кружочек. На этом примере мы видим, что выбор числа соседей (это настраиваемый параметр) очень важен.\n",
    "\n",
    "![kNN](./img/kNN.png)\n",
    "\n",
    "Если мы будем рассматривать трех соседей, то кружочек будет причислен к классу треугольников. А если пять соседей — к классу квадратов.\n",
    "\n",
    "> Важно! Количество соседей должно быть нечетное во избежание спорной ситуации.\n",
    "\n",
    "Итак, мы разобрались с новым алгоритмом. Теперь воспользуемся `k-fold` валидацией на пяти разбиениях и обучим модель:"
   ]
  },
  {
   "cell_type": "code",
   "execution_count": 16,
   "metadata": {},
   "outputs": [],
   "source": [
    "X = glass_data.drop(columns=['Type'])\n",
    "y = glass_data['Type']"
   ]
  },
  {
   "cell_type": "code",
   "execution_count": 17,
   "metadata": {},
   "outputs": [
    {
     "data": {
      "text/plain": [
       "array([0.44186047, 0.65116279, 0.3255814 , 0.34883721, 0.07142857])"
      ]
     },
     "execution_count": 17,
     "metadata": {},
     "output_type": "execute_result"
    }
   ],
   "source": [
    "from sklearn.neighbors import KNeighborsClassifier\n",
    "from sklearn.model_selection import cross_val_score, KFold\n",
    "\n",
    "model = KNeighborsClassifier(n_neighbors=3)\n",
    "kf = KFold(n_splits=5)\n",
    "cross_val_score(model, X, y, cv=kf, scoring=\"accuracy\")"
   ]
  },
  {
   "cell_type": "markdown",
   "metadata": {},
   "source": [
    "Если мы посмотрим на результаты классификации, то увидим достаточно большой разброс значений точности, а также в целом невысокие значения.\n",
    "\n",
    "Это произошло в силу очень маленькой выборки в условиях большого количества классов (6 классов и около 200 наблюдений — крайне мало для получения высокого качества модели). Также плохой результат возможен по причине использования довольно простого алгоритма.\n",
    "\n",
    "### Задание\n",
    "\n",
    "> Измените количество разбиений на 10. Вычислите среднее значение метрики **accuracy** по 10 разбиениям и введите ниже, округлите до сотых."
   ]
  },
  {
   "cell_type": "code",
   "execution_count": 18,
   "metadata": {},
   "outputs": [
    {
     "data": {
      "text/plain": [
       "0.53"
      ]
     },
     "execution_count": 18,
     "metadata": {},
     "output_type": "execute_result"
    }
   ],
   "source": [
    "model = KNeighborsClassifier(n_neighbors=3)\n",
    "kf = KFold(n_splits=10)\n",
    "np.round(cross_val_score(model, X, y, cv=kf, scoring=\"accuracy\").mean(), 2)"
   ]
  },
  {
   "cell_type": "markdown",
   "metadata": {},
   "source": [
    "## Практика 3\n",
    "\n",
    "В следующей задаче мы будем **диагностировать болезни сердца** по различным медицинским параметрам пациентов.\n",
    "\n",
    "Избавьтесь от выбросов, чтобы они не ухудшили качество нашей модели. Для того, чтобы избавиться от выбросов, уберите все данные, значения признаков которых отстают от первого или третьего квартиля более, чем на 1.5 межквартильного размаха."
   ]
  },
  {
   "cell_type": "code",
   "execution_count": 19,
   "metadata": {},
   "outputs": [],
   "source": [
    "heart_fin_data = pd.read_csv('./data/heart_fin1.csv', sep=';')"
   ]
  },
  {
   "cell_type": "code",
   "execution_count": 20,
   "metadata": {},
   "outputs": [
    {
     "name": "stdout",
     "output_type": "stream",
     "text": [
      "<class 'pandas.core.frame.DataFrame'>\n",
      "RangeIndex: 303 entries, 0 to 302\n",
      "Data columns (total 10 columns):\n",
      " #   Column    Non-Null Count  Dtype  \n",
      "---  ------    --------------  -----  \n",
      " 0   age       303 non-null    int64  \n",
      " 1   sex       303 non-null    int64  \n",
      " 2   cp        303 non-null    int64  \n",
      " 3   trestbps  303 non-null    int64  \n",
      " 4   chol      303 non-null    int64  \n",
      " 5   restecg   303 non-null    int64  \n",
      " 6   thalach   303 non-null    int64  \n",
      " 7   exang     303 non-null    int64  \n",
      " 8   oldpeak   303 non-null    float64\n",
      " 9   target    303 non-null    int64  \n",
      "dtypes: float64(1), int64(9)\n",
      "memory usage: 23.8 KB\n"
     ]
    }
   ],
   "source": [
    "heart_fin_data.info()"
   ]
  },
  {
   "cell_type": "code",
   "execution_count": 21,
   "metadata": {},
   "outputs": [
    {
     "data": {
      "text/plain": [
       "age         0\n",
       "sex         0\n",
       "cp          0\n",
       "trestbps    0\n",
       "chol        0\n",
       "restecg     0\n",
       "thalach     0\n",
       "exang       0\n",
       "oldpeak     0\n",
       "target      0\n",
       "dtype: int64"
      ]
     },
     "execution_count": 21,
     "metadata": {},
     "output_type": "execute_result"
    }
   ],
   "source": [
    "heart_fin_data.isna().sum()"
   ]
  },
  {
   "cell_type": "code",
   "execution_count": 22,
   "metadata": {},
   "outputs": [],
   "source": [
    "def get_statistical_borders(df, column):\n",
    "    perc25 = df[column].quantile(q=0.25, interpolation='midpoint')\n",
    "    perc75 = df[column].quantile(q=0.75, interpolation='midpoint')\n",
    "    IQR = perc75 - perc25\n",
    "\n",
    "    take_from = perc25 - 1.5*IQR\n",
    "    take_to = perc75 + 1.5*IQR\n",
    "\n",
    "    return take_from, take_to"
   ]
  },
  {
   "cell_type": "code",
   "execution_count": 23,
   "metadata": {},
   "outputs": [],
   "source": [
    "for column in heart_fin_data.columns:\n",
    "    take_from, take_to = get_statistical_borders(heart_fin_data, column)\n",
    "    heart_fin_data = heart_fin_data[(heart_fin_data[column] >= take_from) & (heart_fin_data[column] <= take_to)]"
   ]
  },
  {
   "cell_type": "markdown",
   "metadata": {},
   "source": [
    "Сколько наблюдений осталось после удаления выбросов?"
   ]
  },
  {
   "cell_type": "code",
   "execution_count": 24,
   "metadata": {},
   "outputs": [
    {
     "data": {
      "text/plain": [
       "284"
      ]
     },
     "execution_count": 24,
     "metadata": {},
     "output_type": "execute_result"
    }
   ],
   "source": [
    "len(heart_fin_data)"
   ]
  },
  {
   "cell_type": "markdown",
   "metadata": {},
   "source": [
    "Теперь разбейте выборку на тестовую и обучающую с параметрами `test_size=0.15, random_state=5`.\n",
    "\n",
    "Обучите модели логистической регрессии (c параметром `max_iter=1000`) и KNN (с количеством соседей, равным 3) на этих данных. Вычислите метрики качества.\n",
    "\n",
    "У какой модели выше значение ROC AUC?"
   ]
  },
  {
   "cell_type": "code",
   "execution_count": 25,
   "metadata": {},
   "outputs": [],
   "source": [
    "X = heart_fin_data.drop(columns=['target'])\n",
    "y = heart_fin_data['target']"
   ]
  },
  {
   "cell_type": "code",
   "execution_count": 26,
   "metadata": {},
   "outputs": [],
   "source": [
    "X_train, X_test, y_train, y_test = train_test_split(\n",
    "    X, y, test_size=0.15, random_state=5)"
   ]
  },
  {
   "cell_type": "code",
   "execution_count": 27,
   "metadata": {},
   "outputs": [
    {
     "data": {
      "text/plain": [
       "LogisticRegression(max_iter=1000)"
      ]
     },
     "execution_count": 27,
     "metadata": {},
     "output_type": "execute_result"
    }
   ],
   "source": [
    "log_model = LogisticRegression(max_iter=1000)\n",
    "log_model.fit(X_train, y_train)"
   ]
  },
  {
   "cell_type": "code",
   "execution_count": 28,
   "metadata": {},
   "outputs": [
    {
     "data": {
      "text/plain": [
       "KNeighborsClassifier(n_neighbors=3)"
      ]
     },
     "execution_count": 28,
     "metadata": {},
     "output_type": "execute_result"
    }
   ],
   "source": [
    "kneighbors_model = KNeighborsClassifier(n_neighbors=3)\n",
    "kneighbors_model.fit(X_train, y_train)"
   ]
  },
  {
   "cell_type": "code",
   "execution_count": 29,
   "metadata": {},
   "outputs": [],
   "source": [
    "from sklearn.metrics import roc_auc_score"
   ]
  },
  {
   "cell_type": "markdown",
   "metadata": {},
   "source": [
    "**ROC AUC** считается не по меткам предсказанным вероятностям. Для этого используйте predict_proba() (нужен второй столбец)"
   ]
  },
  {
   "cell_type": "code",
   "execution_count": 30,
   "metadata": {},
   "outputs": [
    {
     "name": "stdout",
     "output_type": "stream",
     "text": [
      "Logistic Regression: 0.82\n",
      "KNeighbors: 0.65\n"
     ]
    }
   ],
   "source": [
    "log_y_pred_proba = log_model.predict_proba(X_test)\n",
    "\n",
    "kneighbors_y_pred_proba = kneighbors_model.predict_proba(X_test)\n",
    "\n",
    "print('Logistic Regression: {}\\nKNeighbors: {}'.format(\n",
    "    np.round(roc_auc_score(y_test, log_y_pred_proba[:, 1]), 2),\n",
    "    np.round(roc_auc_score(y_test, kneighbors_y_pred_proba[:, 1]), 2)\n",
    "))"
   ]
  }
 ],
 "metadata": {
  "kernelspec": {
   "display_name": "Python 3",
   "language": "python",
   "name": "python3"
  },
  "language_info": {
   "codemirror_mode": {
    "name": "ipython",
    "version": 3
   },
   "file_extension": ".py",
   "mimetype": "text/x-python",
   "name": "python",
   "nbconvert_exporter": "python",
   "pygments_lexer": "ipython3",
   "version": "3.8.3"
  }
 },
 "nbformat": 4,
 "nbformat_minor": 4
}
