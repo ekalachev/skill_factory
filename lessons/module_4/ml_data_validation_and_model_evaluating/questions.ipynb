{
 "cells": [
  {
   "cell_type": "markdown",
   "metadata": {},
   "source": [
    "# Вопросы на собеседованиях\n",
    "\n",
    "![question1](./img/question1.png)\n",
    "![question2](./img/question2.png)\n",
    "![question3](./img/question3.png)\n",
    "![question4](./img/question4.png)\n",
    "![question5](./img/question5.png)"
   ]
  }
 ],
 "metadata": {
  "kernelspec": {
   "display_name": "Python 3",
   "language": "python",
   "name": "python3"
  },
  "language_info": {
   "codemirror_mode": {
    "name": "ipython",
    "version": 3
   },
   "file_extension": ".py",
   "mimetype": "text/x-python",
   "name": "python",
   "nbconvert_exporter": "python",
   "pygments_lexer": "ipython3",
   "version": "3.8.3"
  }
 },
 "nbformat": 4,
 "nbformat_minor": 4
}
