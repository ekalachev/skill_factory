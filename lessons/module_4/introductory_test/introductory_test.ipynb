{
 "cells": [
  {
   "cell_type": "code",
   "execution_count": 1,
   "metadata": {},
   "outputs": [],
   "source": [
    "import pandas as pd\n",
    "import numpy as np\n",
    "\n",
    "import matplotlib.pyplot as plt\n",
    "import seaborn as sns\n",
    "\n",
    "%matplotlib inline"
   ]
  },
  {
   "cell_type": "code",
   "execution_count": 2,
   "metadata": {},
   "outputs": [],
   "source": [
    "import warnings\n",
    "warnings.filterwarnings(\"ignore\")"
   ]
  },
  {
   "cell_type": "markdown",
   "metadata": {},
   "source": [
    "## Посмотрим на данные:\n",
    "\n",
    "<div style=\"margin-top: 30px;\">\n",
    "<table style=\"width: 80%; font-size: 16px; padding: 0.3em; border-collapse: collapse; margin: 0px auto; border: 1px solid #b3b3b3;\">\n",
    "<tbody>\n",
    "<tr>\n",
    "<td style=\"width: 34.3096%; border: 1px solid #b3b3b3; padding: 0.3em;\">client_id</td>\n",
    "<td style=\"width: 65.5509%; border: 1px solid #b3b3b3; padding: 0.3em;\">идентификатор клиента</td>\n",
    "</tr>\n",
    "<tr>\n",
    "<td style=\"width: 34.3096%; border: 1px solid #b3b3b3; padding: 0.3em;\">education</td>\n",
    "<td style=\"width: 65.5509%; border: 1px solid #b3b3b3; padding: 0.3em;\">уровень образования</td>\n",
    "</tr>\n",
    "<tr>\n",
    "<td style=\"width: 34.3096%; border: 1px solid #b3b3b3; padding: 0.3em;\">sex</td>\n",
    "<td style=\"width: 65.5509%; border: 1px solid #b3b3b3; padding: 0.3em;\">пол заёмщика</td>\n",
    "</tr>\n",
    "<tr>\n",
    "<td style=\"width: 34.3096%; border: 1px solid #b3b3b3; padding: 0.3em;\">age</td>\n",
    "<td style=\"width: 65.5509%; border: 1px solid #b3b3b3; padding: 0.3em;\">возраст заёмщика</td>\n",
    "</tr>\n",
    "<tr>\n",
    "<td style=\"width: 34.3096%; border: 1px solid #b3b3b3; padding: 0.3em;\">car</td>\n",
    "<td style=\"width: 65.5509%; border: 1px solid #b3b3b3; padding: 0.3em;\">флаг наличия автомобиля</td>\n",
    "</tr>\n",
    "<tr>\n",
    "<td style=\"width: 34.3096%; border: 1px solid #b3b3b3; padding: 0.3em;\">car_type</td>\n",
    "<td style=\"width: 65.5509%; border: 1px solid #b3b3b3; padding: 0.3em;\">флаг автомобиля-иномарки</td>\n",
    "</tr>\n",
    "<tr>\n",
    "<td style=\"width: 34.3096%; border: 1px solid #b3b3b3; padding: 0.3em;\">decline_app_cnt</td>\n",
    "<td style=\"width: 65.5509%; border: 1px solid #b3b3b3; padding: 0.3em;\">количество отказанных прошлых заявок</td>\n",
    "</tr>\n",
    "<tr>\n",
    "<td style=\"width: 34.3096%; border: 1px solid #b3b3b3; padding: 0.3em;\">good_work</td>\n",
    "<td style=\"width: 65.5509%; border: 1px solid #b3b3b3; padding: 0.3em;\">флаг наличия «хорошей» работы</td>\n",
    "</tr>\n",
    "<tr>\n",
    "<td style=\"width: 34.3096%; border: 1px solid #b3b3b3; padding: 0.3em;\">bki_request_cnt</td>\n",
    "<td style=\"width: 65.5509%; border: 1px solid #b3b3b3; padding: 0.3em;\">количество запросов в БКИ</td>\n",
    "</tr>\n",
    "<tr>\n",
    "<td style=\"width: 34.3096%; border: 1px solid #b3b3b3; padding: 0.3em;\">home_address</td>\n",
    "<td style=\"width: 65.5509%; border: 1px solid #b3b3b3; padding: 0.3em;\">категоризатор домашнего адреса</td>\n",
    "</tr>\n",
    "<tr>\n",
    "<td style=\"width: 34.3096%; border: 1px solid #b3b3b3; padding: 0.3em;\">work_address</td>\n",
    "<td style=\"width: 65.5509%; border: 1px solid #b3b3b3; padding: 0.3em;\">категоризатор рабочего адреса</td>\n",
    "</tr>\n",
    "<tr>\n",
    "<td style=\"width: 34.3096%; border: 1px solid #b3b3b3; padding: 0.3em;\">income</td>\n",
    "<td style=\"width: 65.5509%; border: 1px solid #b3b3b3; padding: 0.3em;\">доход заёмщика</td>\n",
    "</tr>\n",
    "<tr>\n",
    "<td style=\"width: 34.3096%; border: 1px solid #b3b3b3; padding: 0.3em;\">foreign_passport</td>\n",
    "<td style=\"width: 65.5509%; border: 1px solid #b3b3b3; padding: 0.3em;\">наличие загранпаспорта</td>\n",
    "</tr>\n",
    "<tr>\n",
    "<td style=\"width: 34.3096%; border: 1px solid #b3b3b3; padding: 0.3em;\">default</td>\n",
    "<td style=\"width: 65.5509%; border: 1px solid #b3b3b3; padding: 0.3em;\">наличие дефолта</td>\n",
    "</tr>\n",
    "</tbody>\n",
    "</table>\n",
    "</div>"
   ]
  },
  {
   "cell_type": "code",
   "execution_count": 3,
   "metadata": {},
   "outputs": [],
   "source": [
    "df = pd.read_csv(\n",
    "        \"./data/train.csv\", encoding='ISO-8859-1', low_memory=False)"
   ]
  },
  {
   "cell_type": "code",
   "execution_count": 4,
   "metadata": {},
   "outputs": [],
   "source": [
    "from sklearn.feature_selection import f_classif, mutual_info_classif\n",
    "from sklearn.preprocessing import LabelEncoder, OneHotEncoder, StandardScaler\n",
    "\n",
    "from sklearn.model_selection import train_test_split\n",
    "from sklearn.linear_model import LogisticRegression\n",
    "\n",
    "\n",
    "from sklearn.metrics import confusion_matrix\n",
    "from sklearn.metrics import auc, roc_auc_score, roc_curve"
   ]
  },
  {
   "cell_type": "markdown",
   "metadata": {},
   "source": [
    "Постройте диаграмму для переменной default. Каких клиентов у банка больше?"
   ]
  },
  {
   "cell_type": "code",
   "execution_count": 5,
   "metadata": {},
   "outputs": [
    {
     "data": {
      "text/plain": [
       "<AxesSubplot:xlabel='default', ylabel='count'>"
      ]
     },
     "execution_count": 5,
     "metadata": {},
     "output_type": "execute_result"
    },
    {
     "data": {
      "image/png": "[encoded data removed]",
      "text/plain": [
       "<Figure size 432x288 with 1 Axes>"
      ]
     },
     "metadata": {
      "needs_background": "light"
     },
     "output_type": "display_data"
    }
   ],
   "source": [
    "sns.countplot(x='default', data=df)"
   ]
  },
  {
   "cell_type": "code",
   "execution_count": 6,
   "metadata": {},
   "outputs": [
    {
     "name": "stdout",
     "output_type": "stream",
     "text": [
      "<class 'pandas.core.frame.DataFrame'>\n",
      "RangeIndex: 73799 entries, 0 to 73798\n",
      "Data columns (total 14 columns):\n",
      " #   Column            Non-Null Count  Dtype \n",
      "---  ------            --------------  ----- \n",
      " 0   client_id         73799 non-null  int64 \n",
      " 1   education         73492 non-null  object\n",
      " 2   sex               73799 non-null  object\n",
      " 3   age               73799 non-null  int64 \n",
      " 4   car               73799 non-null  object\n",
      " 5   car_type          73799 non-null  object\n",
      " 6   decline_app_cnt   73799 non-null  int64 \n",
      " 7   good_work         73799 non-null  int64 \n",
      " 8   bki_request_cnt   73799 non-null  int64 \n",
      " 9   home_address      73799 non-null  int64 \n",
      " 10  work_address      73799 non-null  int64 \n",
      " 11  income            73799 non-null  int64 \n",
      " 12  foreign_passport  73799 non-null  object\n",
      " 13  default           73799 non-null  int64 \n",
      "dtypes: int64(9), object(5)\n",
      "memory usage: 7.9+ MB\n"
     ]
    }
   ],
   "source": [
    "df.info()"
   ]
  },
  {
   "cell_type": "markdown",
   "metadata": {},
   "source": [
    "Посмотрим на количество пропусков:"
   ]
  },
  {
   "cell_type": "code",
   "execution_count": 7,
   "metadata": {},
   "outputs": [
    {
     "data": {
      "text/plain": [
       "client_id             0\n",
       "education           307\n",
       "sex                   0\n",
       "age                   0\n",
       "car                   0\n",
       "car_type              0\n",
       "decline_app_cnt       0\n",
       "good_work             0\n",
       "bki_request_cnt       0\n",
       "home_address          0\n",
       "work_address          0\n",
       "income                0\n",
       "foreign_passport      0\n",
       "default               0\n",
       "dtype: int64"
      ]
     },
     "execution_count": 7,
     "metadata": {},
     "output_type": "execute_result"
    }
   ],
   "source": [
    "df.isna().sum()"
   ]
  },
  {
   "cell_type": "markdown",
   "metadata": {},
   "source": [
    "В данных о клиентах присутствуют переменные всех типов, не все имеют числовую запись, а также есть пропущенные значения. Значит, нам необходима предварительная очистка данных.\n",
    "\n",
    "Как мы видим, пропуски встречаются только в информации об образовании клиентов. Посмотрим на признак ближе:"
   ]
  },
  {
   "cell_type": "code",
   "execution_count": 8,
   "metadata": {},
   "outputs": [
    {
     "data": {
      "text/plain": [
       "<AxesSubplot:>"
      ]
     },
     "execution_count": 8,
     "metadata": {},
     "output_type": "execute_result"
    },
    {
     "data": {
      "image/png": "[encoded data removed]",
      "text/plain": [
       "<Figure size 432x288 with 1 Axes>"
      ]
     },
     "metadata": {
      "needs_background": "light"
     },
     "output_type": "display_data"
    }
   ],
   "source": [
    "df['education'].value_counts().plot.barh()"
   ]
  },
  {
   "cell_type": "markdown",
   "metadata": {},
   "source": [
    "А теперь самостоятельно заполните пропуски в поле 'education' любыми известными вам методами."
   ]
  },
  {
   "cell_type": "code",
   "execution_count": 9,
   "metadata": {},
   "outputs": [],
   "source": [
    "df['education'].fillna('SCH', inplace=True)"
   ]
  },
  {
   "cell_type": "markdown",
   "metadata": {},
   "source": [
    "Полученные признаки сгруппируем в три категории по типу их обработки (категориальные, бинарные и числовые) для дальнейшего удобного анализа. Разнесите недостающие признаки в соответствующие категории."
   ]
  },
  {
   "cell_type": "code",
   "execution_count": 10,
   "metadata": {},
   "outputs": [],
   "source": [
    "# бинарные переменные\n",
    "bin_cols = ['sex', 'car', 'car_type', 'foreign_passport', 'good_work']\n",
    "\n",
    "# категориальные переменные\n",
    "cat_cols = ['education', 'home_address', 'work_address']\n",
    "\n",
    "# числовые переменные\n",
    "num_cols = ['age', 'decline_app_cnt', 'income', 'bki_request_cnt']"
   ]
  },
  {
   "cell_type": "code",
   "execution_count": 11,
   "metadata": {},
   "outputs": [],
   "source": [
    "# n = len(num_cols)\n",
    "# rows = int(np.round(n / 2))\n",
    "\n",
    "# fig, axes = plt.subplots(rows, 2, figsize=(15, 10), sharex=True, sharey=True)\n",
    "\n",
    "# for i in range(0, n):\n",
    "#     ax_index = np.unravel_index(i, (rows, 2))    \n",
    "#     col = num_cols[i]\n",
    "#     axes[ax_index].set_title(col)\n",
    "#     sns.histplot(data=df, y=col, ax=axes[ax_index], bins=30)\n"
   ]
  },
  {
   "cell_type": "code",
   "execution_count": 12,
   "metadata": {},
   "outputs": [
    {
     "data": {
      "image/png": "[encoded data removed]",
      "text/plain": [
       "<Figure size 432x288 with 1 Axes>"
      ]
     },
     "metadata": {
      "needs_background": "light"
     },
     "output_type": "display_data"
    },
    {
     "data": {
      "image/png": "[encoded data removed]",
      "text/plain": [
       "<Figure size 432x288 with 1 Axes>"
      ]
     },
     "metadata": {
      "needs_background": "light"
     },
     "output_type": "display_data"
    },
    {
     "data": {
      "image/png": "[encoded data removed]",
      "text/plain": [
       "<Figure size 432x288 with 1 Axes>"
      ]
     },
     "metadata": {
      "needs_background": "light"
     },
     "output_type": "display_data"
    },
    {
     "data": {
      "image/png": "[encoded data removed]",
      "text/plain": [
       "<Figure size 432x288 with 1 Axes>"
      ]
     },
     "metadata": {
      "needs_background": "light"
     },
     "output_type": "display_data"
    }
   ],
   "source": [
    "for i in num_cols:\n",
    "    plt.figure()\n",
    "    sns.distplot(df[i][df[i] > 0].dropna(), kde=False, rug=False)\n",
    "    plt.title(i)\n",
    "    plt.show()"
   ]
  },
  {
   "cell_type": "markdown",
   "metadata": {},
   "source": [
    "> Идея на заметку! Некоторые переменные стали менее смещёнными. Такой принцип можно применить перед построением модели и сравнить значение метрики."
   ]
  },
  {
   "cell_type": "code",
   "execution_count": 13,
   "metadata": {},
   "outputs": [
    {
     "data": {
      "image/png": "[encoded data removed]",
      "text/plain": [
       "<Figure size 432x288 with 1 Axes>"
      ]
     },
     "metadata": {
      "needs_background": "light"
     },
     "output_type": "display_data"
    },
    {
     "data": {
      "image/png": "[encoded data removed]",
      "text/plain": [
       "<Figure size 432x288 with 1 Axes>"
      ]
     },
     "metadata": {
      "needs_background": "light"
     },
     "output_type": "display_data"
    },
    {
     "data": {
      "image/png": "[encoded data removed]",
      "text/plain": [
       "<Figure size 432x288 with 1 Axes>"
      ]
     },
     "metadata": {
      "needs_background": "light"
     },
     "output_type": "display_data"
    },
    {
     "data": {
      "image/png": "[encoded data removed]",
      "text/plain": [
       "<Figure size 432x288 with 1 Axes>"
      ]
     },
     "metadata": {
      "needs_background": "light"
     },
     "output_type": "display_data"
    }
   ],
   "source": [
    "for i in num_cols:\n",
    "    plt.figure()\n",
    "    sns.boxplot(df[i])\n",
    "    plt.title(i)\n",
    "    plt.show()"
   ]
  },
  {
   "cell_type": "markdown",
   "metadata": {},
   "source": [
    "#  Оценка корреляций\n",
    "\n",
    "Вы помните, что сильная корреляция между переменными вредна для линейных моделей из-за неустойчивости полученных оценок.\n",
    "\n",
    "Как работать с корреляцией? \n",
    "\n",
    "- Способ 1. Отобрать низко коррелируемые признаки .\n",
    "\n",
    "- Способ 2. Использовать регуляризацию, чтобы в процессе обучения штрафовать модель за сложность, выраженную в величине весов, при этом задавая величину штрафа. Изменяя эту величину, я смогу контролировать переобучение и устойчивость модели. \n",
    "\n",
    "Но начнём с простого...\n",
    "\n",
    "Оценим корреляцию Пирсона для непрерывных переменных по формуле:\n",
    "\n",
    "$$\n",
    "r_{xy} = \\frac{\\sum (x_{i} - \\overline{x}) * (y_{i} - \\overline{y})}{\\sqrt{\\sum (x_{i} - \\overline{x})^{2} * \\sum (y_{i} - \\overline{y})^{2}}}\n",
    "$$"
   ]
  },
  {
   "cell_type": "code",
   "execution_count": 14,
   "metadata": {},
   "outputs": [
    {
     "data": {
      "text/plain": [
       "<AxesSubplot:>"
      ]
     },
     "execution_count": 14,
     "metadata": {},
     "output_type": "execute_result"
    },
    {
     "data": {
      "image/png": "[encoded data removed]",
      "text/plain": [
       "<Figure size 1152x1008 with 2 Axes>"
      ]
     },
     "metadata": {
      "needs_background": "light"
     },
     "output_type": "display_data"
    }
   ],
   "source": [
    "plt.figure(figsize=(16, 14))\n",
    "sns.heatmap(df[num_cols].corr().abs(), vmin=0, vmax=1, annot=True)"
   ]
  },
  {
   "cell_type": "markdown",
   "metadata": {},
   "source": [
    "Как мы видим, взаимосвязь пар числовых признаков по Пирсону слабая. Максимальный коэффициент -0.127734 и 0.125163. Это очень здорово для нашей линейной модели!"
   ]
  },
  {
   "cell_type": "markdown",
   "metadata": {},
   "source": [
    "# Значимость непрерывных переменных\n",
    "\n",
    "Для оценки значимости числовых переменных будем использовать функцию [f_classif](https://scikit-learn.org/stable/modules/generated/sklearn.feature_selection.f_classif.html) из библиотеки sklearn. \n",
    "\n",
    "Возможности модуля [sklearn.feature_selection](https://scikit-learn.org/stable/modules/classes.html#module-sklearn.feature_selection) могут быть использованы не только для выбора важных признаков, но и для уменьшения размерности, улучшения предсказательной силы моделей, либо для повышения их производительности на очень многомерных наборах данных.\n",
    "\n",
    "В основе метода оценки значимости переменных лежит [однофакторный дисперсионный анализ](https://lit-review.ru/biostatistika/dispersionnyjj-analiz-anova/) (ANOVA). Основу процедуры составляет обобщение результатов двух выборочных t-тестов для независимых выборок (2-sample t). \n",
    "\n",
    "В качестве меры значимости мы будем использовать значение f-статистики. Чем значение статистики выше, тем меньше вероятность того, что средние значения не отличаются, и тем важнее данный признак для нашей линейной модели."
   ]
  },
  {
   "cell_type": "code",
   "execution_count": 15,
   "metadata": {},
   "outputs": [
    {
     "data": {
      "text/plain": [
       "<AxesSubplot:>"
      ]
     },
     "execution_count": 15,
     "metadata": {},
     "output_type": "execute_result"
    },
    {
     "data": {
      "image/png": "[encoded data removed]",
      "text/plain": [
       "<Figure size 432x288 with 1 Axes>"
      ]
     },
     "metadata": {
      "needs_background": "light"
     },
     "output_type": "display_data"
    }
   ],
   "source": [
    "imp_num = pd.Series(f_classif(df[num_cols], df['default'])[0], index=num_cols)\n",
    "imp_num.sort_values(inplace=True)\n",
    "imp_num.plot(kind='barh')"
   ]
  },
  {
   "cell_type": "markdown",
   "metadata": {},
   "source": [
    "# Категориальные переменные\n",
    "\n",
    "Самый простой способ — отобразить каждое значение категории в уникальное число. Например, в поле `sex` значение `sex = female` преобразовать в `0`, а `sex = male` — в `1`. Эту простую операцию приходится делать достаточно часто, поэтому в модуле [sklearn.preprocessing](https://scikit-learn.org/stable/modules/classes.html#module-sklearn.preprocessing) именно для этой задачи реализован класс [LabelEncoder](https://scikit-learn.org/stable/modules/generated/sklearn.preprocessing.LabelEncoder.html#sklearn.preprocessing.LabelEncoder).\n",
    "\n",
    "Метод `fit` этого класса находит все уникальные значения и строит таблицу для соответствия каждой категории некоторому числу, а метод `transform` непосредственно преобразует значения в числа. После `fit` у `label_encoder` будет доступно поле `classes_`, содержащее все уникальные значения. Можно их пронумеровать и убедиться, что преобразование выполнено верно."
   ]
  },
  {
   "cell_type": "code",
   "execution_count": 16,
   "metadata": {},
   "outputs": [
    {
     "name": "stdout",
     "output_type": "stream",
     "text": [
      "{0: 'F', 1: 'M'}\n"
     ]
    }
   ],
   "source": [
    "label_encoder = LabelEncoder()\n",
    "\n",
    "mapped_sex = pd.Series(label_encoder.fit_transform(df['sex']))\n",
    "print(dict(enumerate(label_encoder.classes_)))"
   ]
  },
  {
   "cell_type": "code",
   "execution_count": 17,
   "metadata": {},
   "outputs": [],
   "source": [
    "for column in bin_cols:\n",
    "    df[column] = label_encoder.fit_transform(df[column])"
   ]
  },
  {
   "cell_type": "markdown",
   "metadata": {},
   "source": [
    "Сработало! Теперь всегда можно обратиться к `classes_` , если забыли, что закодировали. Применим `LabelEncoder` ко всему набору бинарных переменных."
   ]
  },
  {
   "cell_type": "markdown",
   "metadata": {},
   "source": [
    "Почему мы применили метод только к бинарным переменным? Единственным минусом использования кодирования при помощи LabelEncoder() является то, что при использовании этого подхода мы должны быть уверены, что признак не может принимать неизвестных ранее значений. \n",
    "\n",
    "→ Что произойдет, если у нас появятся данные с другими категориями? LabelEncoder будет ругаться, что не знает новую категорию. \n",
    "\n",
    "Например, если у нас появится новый пол (помимо женского и мужского), признак sex придется обрабатывать по-другому.\n",
    "\n",
    "Исходя из описания, наши признаки строго бинарные (принимают только два значения) и сюрпризов (новых неизвестных значений) быть не должно."
   ]
  },
  {
   "cell_type": "markdown",
   "metadata": {},
   "source": [
    "## ЗНАЧИМОСТЬ КАТЕГОРИАЛЬНЫХ ПРИЗНАКОВ\n",
    "\n",
    "Для оценки значимости категориальных и бинарных переменных будем использовать функцию mutual_info_classif из библиотеки sklearn. Данная функция опирается на непараметрические методы, основанные на оценке энтропии в группах категориальных переменных."
   ]
  },
  {
   "cell_type": "code",
   "execution_count": 18,
   "metadata": {},
   "outputs": [
    {
     "data": {
      "text/plain": [
       "<AxesSubplot:>"
      ]
     },
     "execution_count": 18,
     "metadata": {},
     "output_type": "execute_result"
    },
    {
     "data": {
      "image/png": "[encoded data removed]",
      "text/plain": [
       "<Figure size 432x288 with 1 Axes>"
      ]
     },
     "metadata": {
      "needs_background": "light"
     },
     "output_type": "display_data"
    }
   ],
   "source": [
    "from sklearn.feature_selection import mutual_info_classif\n",
    "\n",
    "cat_cols_without_education = [c for c in cat_cols if c != 'education']\n",
    "\n",
    "imp_cat = pd.Series(mutual_info_classif(\n",
    "    df[bin_cols + cat_cols_without_education],\n",
    "    df['default'],\n",
    "    discrete_features=True\n",
    "), index=bin_cols + cat_cols_without_education)\n",
    "\n",
    "imp_cat.sort_values(inplace=True)\n",
    "imp_cat.plot(kind='barh')"
   ]
  },
  {
   "cell_type": "markdown",
   "metadata": {},
   "source": [
    "# Подготовка данных к машинному обучению\n",
    "\n",
    "Перед обучением регрессии нам следует стандартизировать числовые признаки, а также воспользоваться dummy-кодированием для категориальных переменных, то есть создать отдельную бинарную переменную для каждой категории.\n",
    "\n",
    "Как вы уже поняли, LabelEncoder не совсем подходит для признаков с двумя и большим количеством категорий. Для того, чтобы мы смогли применять линейные модели на таких данных, нам необходим другой метод, который называется One-Hot Encoding. Смысл его точно такой же, как у dummy-кодирования.\n",
    "\n",
    "Предположим, что некоторый признак может принимать пять разных значений. В этом случае One Hot Encoding подразумевает создание пяти новых признаков, все из которых равны нулю, за исключением одного. На позицию, соответствующую численному значению признака, мы помещаем 1.\n",
    "\n",
    "Эта техника реализована в sklearn.preprocessing в классе OneHotEncoder. По умолчанию OneHotEncoder преобразует данные в разреженную матрицу, чтобы не расходовать память на хранение многочисленных нулей.\n",
    "\n",
    "## Стандартизируем числовые переменные:"
   ]
  },
  {
   "cell_type": "code",
   "execution_count": 19,
   "metadata": {},
   "outputs": [],
   "source": [
    "X_num = StandardScaler().fit_transform(df[num_cols].values)"
   ]
  },
  {
   "cell_type": "markdown",
   "metadata": {},
   "source": [
    "## Стандартизируем категориальные переменные:"
   ]
  },
  {
   "cell_type": "code",
   "execution_count": 20,
   "metadata": {},
   "outputs": [],
   "source": [
    "X_cat = OneHotEncoder(sparse = False).fit_transform(df[cat_cols].values)"
   ]
  },
  {
   "cell_type": "code",
   "execution_count": 21,
   "metadata": {},
   "outputs": [
    {
     "data": {
      "text/plain": [
       "array([0., 0., 0., 1., 0., 1., 0., 0., 0., 1., 0.])"
      ]
     },
     "execution_count": 21,
     "metadata": {},
     "output_type": "execute_result"
    }
   ],
   "source": [
    "X_cat[0]"
   ]
  },
  {
   "cell_type": "markdown",
   "metadata": {},
   "source": [
    "И объединим стандартизованные числовые, бинарные и закодированные категориальные переменные в одно признаковое пространство, разделив при этом признаки и целевую переменную."
   ]
  },
  {
   "cell_type": "code",
   "execution_count": 22,
   "metadata": {},
   "outputs": [],
   "source": [
    "X = np.hstack([X_num, df[bin_cols].values, X_cat])\n",
    "Y = df['default'].values"
   ]
  },
  {
   "cell_type": "markdown",
   "metadata": {},
   "source": [
    "Подготовка признаков для модели завершена.\n",
    "\n",
    "Разделим данные для обучения следующим образом:"
   ]
  },
  {
   "cell_type": "code",
   "execution_count": 23,
   "metadata": {},
   "outputs": [],
   "source": [
    "X_train, X_test, y_train, y_test = train_test_split(\n",
    "    X, Y, test_size=0.20, random_state=42)"
   ]
  },
  {
   "cell_type": "markdown",
   "metadata": {},
   "source": [
    "Обучите модель на стандартных настройках [логистической регрессии](https://scikit-learn.org/stable/modules/generated/sklearn.linear_model.LogisticRegression.html)."
   ]
  },
  {
   "cell_type": "code",
   "execution_count": 24,
   "metadata": {},
   "outputs": [
    {
     "data": {
      "text/plain": [
       "LogisticRegression()"
      ]
     },
     "execution_count": 24,
     "metadata": {},
     "output_type": "execute_result"
    }
   ],
   "source": [
    "model = LogisticRegression()\n",
    "\n",
    "model.fit(X_train, y_train)"
   ]
  },
  {
   "cell_type": "markdown",
   "metadata": {},
   "source": [
    "# Оценка качества модели\n",
    "\n",
    "В качестве методов оценки прогностической способности модели вы решаете использовать ROC-анализ.\n",
    "\n",
    "Вы прекрасно помните из модуля по Классификации, что классификатор имеет параметр порог отсечения. Изменяя его значение, мы получаем то или иное разбиение на два класса — класс с положительными исходами и класс с отрицательными исходами.\n",
    "\n",
    "![dst_score](./img/dst-score.png)\n",
    "\n",
    "В нашем примере положительным исходом будет наличие дефолта у заемщика, отрицательным — отсутствие дефолта.\n",
    "\n",
    "<div style=\"margin: 20px 0px;\">\n",
    "<table style=\"width: 60%; font-size: 16px; padding: 0.3em; border-collapse: collapse; margin: 0px auto; border: 1px solid #b0b0b0;\">\n",
    "<tbody>\n",
    "<tr>\n",
    "<td rowspan=\"2\" style=\"width: 28.9473%; text-align: center; background-color: #ffffff; border: 1px solid #b0b0b0; padding: 0.3em;\">Спрогнозировано моделью</td>\n",
    "<td colspan=\"2\" style=\"width: 71.0527%; vertical-align: middle; text-align: center; background-color: #efefef; border: 1px solid #b0b0b0; padding: 0.3em;\">Фактически</td>\n",
    "</tr>\n",
    "<tr>\n",
    "<td style=\"width: 42.1053%; text-align: center; vertical-align: middle; background-color: #fac51c; border: 1px solid #b0b0b0; padding: 0.3em;\">Дефолт</td>\n",
    "<td style=\"width: 28.9473%; text-align: center; vertical-align: middle; background-color: #cccccc; border: 1px solid #b0b0b0; padding: 0.3em;\">Не-дефолт</td>\n",
    "</tr>\n",
    "<tr>\n",
    "<td style=\"width: 28.9473%; vertical-align: middle; text-align: center; background-color: #f7da64; border: 1px solid #b0b0b0; padding: 0.3em;\">Дефолт</td>\n",
    "<td style=\"width: 42.1053%; vertical-align: top; border: 1px solid #b0b0b0; padding: 0.3em;\">\n",
    "<div style=\"text-align: center;\"><span style=\"font-weight: bold;\"><span style=\"font-size: 1.2em; text-transform: uppercase; color: #696969;\">TP</span></span></div>\n",
    "<div style=\"text-align: center;\">истинно положительные&nbsp;</div>\n",
    "<div style=\"text-align: center;\">(<span style=\"font-weight: bold; color: #00b43f;\">дефолт&nbsp;</span>классифицирован как <span style=\"font-weight: bold; color: #00b43f;\">дефолт</span>)</div>\n",
    "<p></p>\n",
    "<p><span class=\"MathJax_Preview\" style=\"color: inherit;\">Sensitivity</span><div class=\"MathJax_SVG_Display\" style=\"text-align: center;\"><span class=\"MathJax_SVG\" id=\"MathJax-Element-7-Frame\" tabindex=\"0\" role=\"application\" aria-label=\"collapsed product with 11 factors\" style=\"font-size: 100%; display: inline-block;\" haslabel=\"true\"><svg xmlns:xlink=\"http://www.w3.org/1999/xlink\" class=\"mjx-svg-math\" width=\"11.438ex\" height=\"2.577ex\" viewBox=\"0 -806.1 4924.5 1109.7\" role=\"img\" focusable=\"false\" style=\"vertical-align: -0.705ex;\"><g stroke=\"currentColor\" fill=\"currentColor\" stroke-width=\"0\" transform=\"matrix(1 0 0 -1 0 0)\"><g cursor=\"pointer\" id=\"MJX-Collapse-1\" class=\"mjx-svg-maction\" data-semantic-complexity=\"2\"><rect width=\"4924.5\" height=\"912\" y=\"-206\" fill=\"none\" pointer-events=\"all\"></rect><g class=\"mjx-svg-mrow\" data-semantic-complexity=\"42\" data-semantic-content=\"11,12,13,14,15,16,17,18,19,20\" data-semantic-children=\"0,1,2,3,4,5,6,7,8,9,10\" data-semantic-id=\"21\" data-semantic-role=\"implicit\" data-semantic-type=\"infixop\"><g class=\"mjx-svg-mrow\"><g class=\"mjx-svg-mi\" data-semantic-type=\"identifier\" data-semantic-role=\"latinletter\" data-semantic-font=\"italic\" data-semantic-id=\"0\" data-semantic-parent=\"21\" data-semantic-complexity=\"1\"><use xlink:href=\"#MJMATHI-53\"></use></g><g class=\"mjx-svg-mo\" data-semantic-type=\"operator\" data-semantic-role=\"multiplication\" data-semantic-id=\"11\" data-semantic-parent=\"21\" data-semantic-added=\"true\" data-semantic-operator=\"infixop,⁢\" data-semantic-complexity=\"1\"></g><g class=\"mjx-svg-mi\" data-semantic-type=\"identifier\" data-semantic-role=\"latinletter\" data-semantic-font=\"italic\" data-semantic-id=\"1\" data-semantic-parent=\"21\" data-semantic-complexity=\"1\" transform=\"translate(645,0)\"><use xlink:href=\"#MJMATHI-65\"></use></g><g class=\"mjx-svg-mo\" data-semantic-type=\"operator\" data-semantic-role=\"multiplication\" data-semantic-id=\"12\" data-semantic-parent=\"21\" data-semantic-added=\"true\" data-semantic-operator=\"infixop,⁢\" data-semantic-complexity=\"1\"></g><g class=\"mjx-svg-mi\" data-semantic-type=\"identifier\" data-semantic-role=\"latinletter\" data-semantic-font=\"italic\" data-semantic-id=\"2\" data-semantic-parent=\"21\" data-semantic-complexity=\"1\" transform=\"translate(1112,0)\"><use xlink:href=\"#MJMATHI-6E\"></use></g><g class=\"mjx-svg-mo\" data-semantic-type=\"operator\" data-semantic-role=\"multiplication\" data-semantic-id=\"13\" data-semantic-parent=\"21\" data-semantic-added=\"true\" data-semantic-operator=\"infixop,⁢\" data-semantic-complexity=\"1\"></g><g class=\"mjx-svg-mi\" data-semantic-type=\"identifier\" data-semantic-role=\"latinletter\" data-semantic-font=\"italic\" data-semantic-id=\"3\" data-semantic-parent=\"21\" data-semantic-complexity=\"1\" transform=\"translate(1712,0)\"><use xlink:href=\"#MJMATHI-73\"></use></g><g class=\"mjx-svg-mo\" data-semantic-type=\"operator\" data-semantic-role=\"multiplication\" data-semantic-id=\"14\" data-semantic-parent=\"21\" data-semantic-added=\"true\" data-semantic-operator=\"infixop,⁢\" data-semantic-complexity=\"1\"></g><g class=\"mjx-svg-mi\" data-semantic-type=\"identifier\" data-semantic-role=\"latinletter\" data-semantic-font=\"italic\" data-semantic-id=\"4\" data-semantic-parent=\"21\" data-semantic-complexity=\"1\" transform=\"translate(2182,0)\"><use xlink:href=\"#MJMATHI-69\"></use></g><g class=\"mjx-svg-mo\" data-semantic-type=\"operator\" data-semantic-role=\"multiplication\" data-semantic-id=\"15\" data-semantic-parent=\"21\" data-semantic-added=\"true\" data-semantic-operator=\"infixop,⁢\" data-semantic-complexity=\"1\"></g><g class=\"mjx-svg-mi\" data-semantic-type=\"identifier\" data-semantic-role=\"latinletter\" data-semantic-font=\"italic\" data-semantic-id=\"5\" data-semantic-parent=\"21\" data-semantic-complexity=\"1\" transform=\"translate(2527,0)\"><use xlink:href=\"#MJMATHI-74\"></use></g><g class=\"mjx-svg-mo\" data-semantic-type=\"operator\" data-semantic-role=\"multiplication\" data-semantic-id=\"16\" data-semantic-parent=\"21\" data-semantic-added=\"true\" data-semantic-operator=\"infixop,⁢\" data-semantic-complexity=\"1\"></g><g class=\"mjx-svg-mi\" data-semantic-type=\"identifier\" data-semantic-role=\"latinletter\" data-semantic-font=\"italic\" data-semantic-id=\"6\" data-semantic-parent=\"21\" data-semantic-complexity=\"1\" transform=\"translate(2889,0)\"><use xlink:href=\"#MJMATHI-69\"></use></g><g class=\"mjx-svg-mo\" data-semantic-type=\"operator\" data-semantic-role=\"multiplication\" data-semantic-id=\"17\" data-semantic-parent=\"21\" data-semantic-added=\"true\" data-semantic-operator=\"infixop,⁢\" data-semantic-complexity=\"1\"></g><g class=\"mjx-svg-mi\" data-semantic-type=\"identifier\" data-semantic-role=\"latinletter\" data-semantic-font=\"italic\" data-semantic-id=\"7\" data-semantic-parent=\"21\" data-semantic-complexity=\"1\" transform=\"translate(3234,0)\"><use xlink:href=\"#MJMATHI-76\"></use></g><g class=\"mjx-svg-mo\" data-semantic-type=\"operator\" data-semantic-role=\"multiplication\" data-semantic-id=\"18\" data-semantic-parent=\"21\" data-semantic-added=\"true\" data-semantic-operator=\"infixop,⁢\" data-semantic-complexity=\"1\"></g><g class=\"mjx-svg-mi\" data-semantic-type=\"identifier\" data-semantic-role=\"latinletter\" data-semantic-font=\"italic\" data-semantic-id=\"8\" data-semantic-parent=\"21\" data-semantic-complexity=\"1\" transform=\"translate(3720,0)\"><use xlink:href=\"#MJMATHI-69\"></use></g><g class=\"mjx-svg-mo\" data-semantic-type=\"operator\" data-semantic-role=\"multiplication\" data-semantic-id=\"19\" data-semantic-parent=\"21\" data-semantic-added=\"true\" data-semantic-operator=\"infixop,⁢\" data-semantic-complexity=\"1\"></g><g class=\"mjx-svg-mi\" data-semantic-type=\"identifier\" data-semantic-role=\"latinletter\" data-semantic-font=\"italic\" data-semantic-id=\"9\" data-semantic-parent=\"21\" data-semantic-complexity=\"1\" transform=\"translate(4065,0)\"><use xlink:href=\"#MJMATHI-74\"></use></g><g class=\"mjx-svg-mo\" data-semantic-type=\"operator\" data-semantic-role=\"multiplication\" data-semantic-id=\"20\" data-semantic-parent=\"21\" data-semantic-added=\"true\" data-semantic-operator=\"infixop,⁢\" data-semantic-complexity=\"1\"></g><g class=\"mjx-svg-mi\" data-semantic-type=\"identifier\" data-semantic-role=\"latinletter\" data-semantic-font=\"italic\" data-semantic-id=\"10\" data-semantic-parent=\"21\" data-semantic-complexity=\"1\" transform=\"translate(4427,0)\"><use xlink:href=\"#MJMATHI-79\"></use></g></g></g></g></g></svg></span></div><script type=\"math/tex; mode=display\" id=\"MathJax-Element-7\">Sensitivity</script></p>\n",
    "</td>\n",
    "<td style=\"width: 28.9473%; vertical-align: top; border: 1px solid #b0b0b0; padding: 0.3em;\">\n",
    "<div style=\"text-align: center;\"><span style=\"font-weight: bold;\"><span style=\"font-size: 1.2em; text-transform: uppercase; color: #696969;\">FP</span></span></div>\n",
    "лолжно положительные<br>(<span style=\"font-weight: bold; color: #696969;\">не-дефолт</span> классифицирован как <span style=\"font-weight: bold; color: #00b43f;\">дефолт</span>)<br><br><em>ОШИБКА II РОДА</em></td>\n",
    "</tr>\n",
    "<tr>\n",
    "<td style=\"width: 28.9473%; vertical-align: middle; text-align: center; background-color: #efefef; border: 1px solid #b0b0b0; padding: 0.3em;\">Не-дефолт</td>\n",
    "<td style=\"width: 42.1053%; vertical-align: top; border: 1px solid #b0b0b0; padding: 0.3em;\">\n",
    "<div style=\"text-align: center;\"><span style=\"font-weight: bold;\"><span style=\"font-size: 1.2em; text-transform: uppercase; color: #696969;\">FN</span></span></div>\n",
    "<div style=\"text-align: center;\">ложно отрицательные</div>\n",
    "<div style=\"text-align: center;\">(<span style=\"font-weight: bold; color: #00b43f;\">дефолт&nbsp;</span>классифицирован как <span style=\"font-weight: bold; color: #696969;\">не-дефолт</span>)</div>\n",
    "<br>\n",
    "<div style=\"text-align: center;\"><em>ОШИБКА I РОДА</em></div>\n",
    "</td>\n",
    "<td style=\"width: 28.9473%; vertical-align: top; border: 1px solid #b0b0b0; padding: 0.3em;\">\n",
    "<div style=\"text-align: center;\"><span style=\"font-weight: bold; color: #696969;\">TN</span></div>\n",
    "<div style=\"text-align: center;\">истинно отрицательные</div>\n",
    "<div style=\"text-align: center;\">(<span style=\"font-weight: bold; color: #696969;\">не-дефолт</span> классифицирован как <span style=\"font-weight: bold; color: #696969;\">не-дефолт</span>)</div>\n",
    "<div style=\"text-align: center;\"></div>\n",
    "<div style=\"text-align: center;\"><span class=\"MathJax_Preview\" style=\"color: inherit;\">Specificity</span><div class=\"MathJax_SVG_Display\" style=\"text-align: center;\"><span class=\"MathJax_SVG\" id=\"MathJax-Element-8-Frame\" tabindex=\"0\" role=\"application\" aria-label=\"collapsed product with 11 factors\" style=\"font-size: 100%; display: inline-block;\" haslabel=\"true\"><svg xmlns:xlink=\"http://www.w3.org/1999/xlink\" class=\"mjx-svg-math\" width=\"11.447ex\" height=\"2.582ex\" viewBox=\"0 -807.7 4928.5 1111.9\" role=\"img\" focusable=\"false\" style=\"vertical-align: -0.706ex;\"><g stroke=\"currentColor\" fill=\"currentColor\" stroke-width=\"0\" transform=\"matrix(1 0 0 -1 0 0)\"><g cursor=\"pointer\" id=\"MJX-Collapse-2\" class=\"mjx-svg-maction\" data-semantic-complexity=\"2\"><rect width=\"4928.5\" height=\"912\" y=\"-206\" fill=\"none\" pointer-events=\"all\"></rect><g class=\"mjx-svg-mrow\" data-semantic-complexity=\"42\" data-semantic-content=\"11,12,13,14,15,16,17,18,19,20\" data-semantic-children=\"0,1,2,3,4,5,6,7,8,9,10\" data-semantic-id=\"21\" data-semantic-role=\"implicit\" data-semantic-type=\"infixop\"><g class=\"mjx-svg-mrow\"><g class=\"mjx-svg-mi\" data-semantic-type=\"identifier\" data-semantic-role=\"latinletter\" data-semantic-font=\"italic\" data-semantic-id=\"0\" data-semantic-parent=\"21\" data-semantic-complexity=\"1\"><use xlink:href=\"#MJMATHI-53\"></use></g><g class=\"mjx-svg-mo\" data-semantic-type=\"operator\" data-semantic-role=\"multiplication\" data-semantic-id=\"11\" data-semantic-parent=\"21\" data-semantic-added=\"true\" data-semantic-operator=\"infixop,⁢\" data-semantic-complexity=\"1\"></g><g class=\"mjx-svg-mi\" data-semantic-type=\"identifier\" data-semantic-role=\"latinletter\" data-semantic-font=\"italic\" data-semantic-id=\"1\" data-semantic-parent=\"21\" data-semantic-complexity=\"1\" transform=\"translate(645,0)\"><use xlink:href=\"#MJMATHI-70\"></use></g><g class=\"mjx-svg-mo\" data-semantic-type=\"operator\" data-semantic-role=\"multiplication\" data-semantic-id=\"12\" data-semantic-parent=\"21\" data-semantic-added=\"true\" data-semantic-operator=\"infixop,⁢\" data-semantic-complexity=\"1\"></g><g class=\"mjx-svg-mi\" data-semantic-type=\"identifier\" data-semantic-role=\"latinletter\" data-semantic-font=\"italic\" data-semantic-id=\"2\" data-semantic-parent=\"21\" data-semantic-complexity=\"1\" transform=\"translate(1149,0)\"><use xlink:href=\"#MJMATHI-65\"></use></g><g class=\"mjx-svg-mo\" data-semantic-type=\"operator\" data-semantic-role=\"multiplication\" data-semantic-id=\"13\" data-semantic-parent=\"21\" data-semantic-added=\"true\" data-semantic-operator=\"infixop,⁢\" data-semantic-complexity=\"1\"></g><g class=\"mjx-svg-mi\" data-semantic-type=\"identifier\" data-semantic-role=\"latinletter\" data-semantic-font=\"italic\" data-semantic-id=\"3\" data-semantic-parent=\"21\" data-semantic-complexity=\"1\" transform=\"translate(1615,0)\"><use xlink:href=\"#MJMATHI-63\"></use></g><g class=\"mjx-svg-mo\" data-semantic-type=\"operator\" data-semantic-role=\"multiplication\" data-semantic-id=\"14\" data-semantic-parent=\"21\" data-semantic-added=\"true\" data-semantic-operator=\"infixop,⁢\" data-semantic-complexity=\"1\"></g><g class=\"mjx-svg-mi\" data-semantic-type=\"identifier\" data-semantic-role=\"latinletter\" data-semantic-font=\"italic\" data-semantic-id=\"4\" data-semantic-parent=\"21\" data-semantic-complexity=\"1\" transform=\"translate(2049,0)\"><use xlink:href=\"#MJMATHI-69\"></use></g><g class=\"mjx-svg-mo\" data-semantic-type=\"operator\" data-semantic-role=\"multiplication\" data-semantic-id=\"15\" data-semantic-parent=\"21\" data-semantic-added=\"true\" data-semantic-operator=\"infixop,⁢\" data-semantic-complexity=\"1\"></g><g class=\"mjx-svg-mi\" data-semantic-type=\"identifier\" data-semantic-role=\"latinletter\" data-semantic-font=\"italic\" data-semantic-id=\"5\" data-semantic-parent=\"21\" data-semantic-complexity=\"1\" transform=\"translate(2394,0)\"><use xlink:href=\"#MJMATHI-66\"></use></g><g class=\"mjx-svg-mo\" data-semantic-type=\"operator\" data-semantic-role=\"multiplication\" data-semantic-id=\"16\" data-semantic-parent=\"21\" data-semantic-added=\"true\" data-semantic-operator=\"infixop,⁢\" data-semantic-complexity=\"1\"></g><g class=\"mjx-svg-mi\" data-semantic-type=\"identifier\" data-semantic-role=\"latinletter\" data-semantic-font=\"italic\" data-semantic-id=\"6\" data-semantic-parent=\"21\" data-semantic-complexity=\"1\" transform=\"translate(2945,0)\"><use xlink:href=\"#MJMATHI-69\"></use></g><g class=\"mjx-svg-mo\" data-semantic-type=\"operator\" data-semantic-role=\"multiplication\" data-semantic-id=\"17\" data-semantic-parent=\"21\" data-semantic-added=\"true\" data-semantic-operator=\"infixop,⁢\" data-semantic-complexity=\"1\"></g><g class=\"mjx-svg-mi\" data-semantic-type=\"identifier\" data-semantic-role=\"latinletter\" data-semantic-font=\"italic\" data-semantic-id=\"7\" data-semantic-parent=\"21\" data-semantic-complexity=\"1\" transform=\"translate(3290,0)\"><use xlink:href=\"#MJMATHI-63\"></use></g><g class=\"mjx-svg-mo\" data-semantic-type=\"operator\" data-semantic-role=\"multiplication\" data-semantic-id=\"18\" data-semantic-parent=\"21\" data-semantic-added=\"true\" data-semantic-operator=\"infixop,⁢\" data-semantic-complexity=\"1\"></g><g class=\"mjx-svg-mi\" data-semantic-type=\"identifier\" data-semantic-role=\"latinletter\" data-semantic-font=\"italic\" data-semantic-id=\"8\" data-semantic-parent=\"21\" data-semantic-complexity=\"1\" transform=\"translate(3724,0)\"><use xlink:href=\"#MJMATHI-69\"></use></g><g class=\"mjx-svg-mo\" data-semantic-type=\"operator\" data-semantic-role=\"multiplication\" data-semantic-id=\"19\" data-semantic-parent=\"21\" data-semantic-added=\"true\" data-semantic-operator=\"infixop,⁢\" data-semantic-complexity=\"1\"></g><g class=\"mjx-svg-mi\" data-semantic-type=\"identifier\" data-semantic-role=\"latinletter\" data-semantic-font=\"italic\" data-semantic-id=\"9\" data-semantic-parent=\"21\" data-semantic-complexity=\"1\" transform=\"translate(4069,0)\"><use xlink:href=\"#MJMATHI-74\"></use></g><g class=\"mjx-svg-mo\" data-semantic-type=\"operator\" data-semantic-role=\"multiplication\" data-semantic-id=\"20\" data-semantic-parent=\"21\" data-semantic-added=\"true\" data-semantic-operator=\"infixop,⁢\" data-semantic-complexity=\"1\"></g><g class=\"mjx-svg-mi\" data-semantic-type=\"identifier\" data-semantic-role=\"latinletter\" data-semantic-font=\"italic\" data-semantic-id=\"10\" data-semantic-parent=\"21\" data-semantic-complexity=\"1\" transform=\"translate(4431,0)\"><use xlink:href=\"#MJMATHI-79\"></use></g></g></g></g></g></svg></span></div></div>\n",
    "</td>\n",
    "</tr>\n",
    "</tbody>\n",
    "</table>\n",
    "</div>\n",
    "\n",
    "> Доля положительных результатов у «плохих» заемщиков (истинно положительных результатов) — это чувствительность модели (Sensitivity), то есть способность модели правильно определять «плохих» заемщиков и минимизировать убытки, связанные с выдачей кредита «плохому» клиенту. \n",
    "\n",
    "> Доля отрицательных результатов у «хороших» заемщиков (истинно отрицательных результатов) — это специфичность модели (Specificity). Здесь речь уже идёт о способности модели правильно определять «хороших» заемщиков и минимизировать убытки, связанные с отказом в выдаче кредита добросовестному клиенту. \n",
    "\n",
    "![dst_score](./img/dst-score2.png)\n",
    "\n",
    "Написав код для построения ROC AUС, вы получили значение метрики 0.672:"
   ]
  },
  {
   "cell_type": "code",
   "execution_count": 25,
   "metadata": {},
   "outputs": [
    {
     "data": {
      "image/png": "[encoded data removed]",
      "text/plain": [
       "<Figure size 432x288 with 1 Axes>"
      ]
     },
     "metadata": {
      "needs_background": "light"
     },
     "output_type": "display_data"
    }
   ],
   "source": [
    "probs = model.predict_proba(X_test)\n",
    "probs = probs[:,1]\n",
    "\n",
    "\n",
    "fpr, tpr, threshold = roc_curve(y_test, probs)\n",
    "roc_auc = roc_auc_score(y_test, probs)\n",
    "\n",
    "plt.figure()\n",
    "plt.plot([0, 1], label='Baseline', linestyle='--')\n",
    "plt.plot(fpr, tpr, label = 'Regression')\n",
    "plt.title('Logistic Regression ROC AUC = %0.3f' % roc_auc)\n",
    "plt.ylabel('True Positive Rate')\n",
    "plt.xlabel('False Positive Rate')\n",
    "plt.legend(loc = 'lower right')\n",
    "plt.show()"
   ]
  },
  {
   "cell_type": "markdown",
   "metadata": {},
   "source": [
    "**Гиперпараметры** — это внешние параметры для классификатора, которые не могут быть изучены самим классификатором и чаще всего задаются вручную. Логистическая регрессия, например, не способна сама выучить наилучшее значение для, например, параметра С.  В scikit-learn они передаются в качестве аргументов конструктору класса. Найдя оптимальные параметры, мы можем улучшить предсказательную силу нашей логистической регрессии.\n",
    "\n",
    "Давайте найдем оптимальное значение параметра регуляризации для [логистической регрессии](https://scikit-learn.org/stable/modules/generated/sklearn.linear_model.LogisticRegression.html). \n",
    "\n",
    "В scikit-learn есть два общих подхода к поиску: с помощью [GridSearchCV](https://scikit-learn.org/stable/modules/generated/sklearn.model_selection.GridSearchCV.html)  и [RandomizedSearchCV](https://scikit-learn.org/stable/modules/generated/sklearn.model_selection.RandomizedSearchCV.html#sklearn.model_selection.RandomizedSearchCV). \n",
    "\n",
    "В этом примере мы рассмотрим поиск гиперпараметров GridSearchCV при помощи перебора параметров по сетке с последующей кросс-валидацией. "
   ]
  },
  {
   "cell_type": "code",
   "execution_count": 27,
   "metadata": {},
   "outputs": [
    {
     "name": "stdout",
     "output_type": "stream",
     "text": [
      "Лучшее Penalty: l2\n",
      "Лучшее C: 1.0\n"
     ]
    }
   ],
   "source": [
    "from sklearn.model_selection import GridSearchCV\n",
    "\n",
    "# Добавим типы регуляризации\n",
    "penalty = ['l1', 'l2']\n",
    "\n",
    "# Зададим ограничения для параметра регуляризации\n",
    "C = np.logspace(0, 4, 10)\n",
    "\n",
    "# Создадим гиперпараметры\n",
    "hyperparameters = dict(C=C, penalty=penalty)\n",
    "\n",
    "model = LogisticRegression()\n",
    "model.fit(X_train, y_train)\n",
    "\n",
    "# Создаем сетку поиска с использованием 5-кратной перекрестной проверки\n",
    "clf = GridSearchCV(model, hyperparameters, cv=5, verbose=0)\n",
    "\n",
    "best_model = clf.fit(X_train, y_train)\n",
    "\n",
    "# View best hyperparameters\n",
    "print('Лучшее Penalty:', best_model.best_estimator_.get_params()['penalty'])\n",
    "print('Лучшее C:', best_model.best_estimator_.get_params()['C'])"
   ]
  },
  {
   "cell_type": "code",
   "execution_count": null,
   "metadata": {},
   "outputs": [],
   "source": []
  }
 ],
 "metadata": {
  "kernelspec": {
   "display_name": "Python 3",
   "language": "python",
   "name": "python3"
  },
  "language_info": {
   "codemirror_mode": {
    "name": "ipython",
    "version": 3
   },
   "file_extension": ".py",
   "mimetype": "text/x-python",
   "name": "python",
   "nbconvert_exporter": "python",
   "pygments_lexer": "ipython3",
   "version": "3.8.3"
  }
 },
 "nbformat": 4,
 "nbformat_minor": 4
}
